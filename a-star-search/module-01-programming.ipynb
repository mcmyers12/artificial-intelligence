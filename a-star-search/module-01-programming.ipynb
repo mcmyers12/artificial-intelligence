{
 "cells": [
  {
   "cell_type": "markdown",
   "metadata": {},
   "source": [
    "# Module 1 - Programming Assignment\n",
    "\n",
    "## Directions\n",
    "\n",
    "There are general instructions on Blackboard and in the Syllabus for Programming Assignments. This Notebook also has instructions specific to this assignment. Read all the instructions carefully and make sure you understand them. Please ask questions on the discussion boards or email me at `EN605.445@gmail.com` if you do not understand something.\n",
    "\n",
    "<div style=\"background: mistyrose; color: firebrick; border: 2px solid darkred; padding: 5px; margin: 10px;\">\n",
    "You must follow the directions *exactly* or you will get a 0 on the assignment.\n",
    "</div>\n",
    "\n",
    "You must submit a zip file of your assignment and associated files (if there are any) to Blackboard. The zip file will be named after you JHED ID: `<jhed_id>.zip`. It will not include any other information. Inside this zip file should be the following directory structure:\n",
    "\n",
    "```\n",
    "<jhed_id>\n",
    "    |\n",
    "    +--module-01-programming.ipynb\n",
    "    +--module-01-programming.html\n",
    "    +--(any other files)\n",
    "```\n",
    "\n",
    "For example, do not name  your directory `programming_assignment_01` and do not name your directory `smith122_pr1` or any else. It must be only your JHED ID. Make sure you submit both an .ipynb and .html version of your *completed* notebook. You can generate the HTML version using:\n",
    "\n",
    "> ipython nbconvert [notebookname].ipynb\n",
    "\n",
    "or use the File menu."
   ]
  },
  {
   "cell_type": "markdown",
   "metadata": {},
   "source": [
    "Add any additional standard library imports you need here:"
   ]
  },
  {
   "cell_type": "code",
   "execution_count": null,
   "metadata": {
    "collapsed": true
   },
   "outputs": [],
   "source": []
  },
  {
   "cell_type": "markdown",
   "metadata": {},
   "source": [
    "# State Space Search with A* Search\n",
    "\n",
    "You are going to implement the A\\* Search algorithm for navigation problems.\n",
    "\n",
    "\n",
    "## Motivation\n",
    "\n",
    "Search is often used for path-finding in video games. Although the characters in a video game often move in continuous spaces,\n",
    "it is trivial to layout a \"waypoint\" system as a kind of navigation grid over the continuous space. Then if the character needs\n",
    "to get from Point A to Point B, it does a line of sight (LOS) scan to find the nearest waypoint (let's call it Waypoint A) and\n",
    "finds the nearest, LOS waypoint to Point B (let's call it Waypoint B). The agent then does a A* search for Waypoint B from Waypoint A to find the shortest path. The entire path is thus Point A to Waypoint A to Waypoint B to Point B.\n",
    "\n",
    "We're going to simplify the problem by working in a grid world. The symbols that form the grid have a special meaning as they\n",
    "specify the type of the terrain and the cost to enter a grid cell with that type of terrain:\n",
    "\n",
    "```\n",
    "token   terrain    cost \n",
    ".       plains     1\n",
    "*       forest     3\n",
    "#       hills      5\n",
    "~       swamp      7\n",
    "x       mountains  impassible\n",
    "```\n",
    "\n",
    "We can think of the raw format of the map as being something like:\n",
    "\n",
    "```\n",
    "....*..\n",
    "...***.\n",
    ".###...\n",
    "..##...\n",
    "..#..**\n",
    "....***\n",
    ".......\n",
    "```"
   ]
  },
  {
   "cell_type": "markdown",
   "metadata": {},
   "source": [
    "## The World\n",
    "\n",
    "Given a map like the one above, we can easily represent each row as a `List` and the entire map as `List of Lists`:"
   ]
  },
  {
   "cell_type": "code",
   "execution_count": 251,
   "metadata": {
    "collapsed": false
   },
   "outputs": [],
   "source": [
    "full_world = [\n",
    "  ['.', '.', '.', '.', '.', '*', '*', '*', '*', '*', '*', '*', '*', '*', '*', '.', '.', '.', '.', '.', '.', '.', '.', '.', '.', '.', '.'], \n",
    "  ['.', '.', '.', '.', '.', '.', '.', '*', '*', '*', '*', '*', '*', '*', '*', '*', '.', '.', 'x', 'x', 'x', 'x', 'x', 'x', 'x', '.', '.'], \n",
    "  ['.', '.', '.', '.', 'x', 'x', '*', '*', '*', '*', '*', '*', '*', '*', '*', '*', '*', 'x', 'x', 'x', '#', '#', '#', 'x', 'x', '#', '#'], \n",
    "  ['.', '.', '.', '.', '#', 'x', 'x', 'x', '*', '*', '*', '*', '~', '~', '*', '*', '*', '*', '*', '.', '.', '#', '#', 'x', 'x', '#', '.'], \n",
    "  ['.', '.', '.', '#', '#', 'x', 'x', '*', '*', '.', '.', '~', '~', '~', '~', '*', '*', '*', '.', '.', '.', '#', 'x', 'x', 'x', '#', '.'], \n",
    "  ['.', '#', '#', '#', 'x', 'x', '#', '#', '.', '.', '.', '.', '~', '~', '~', '~', '~', '.', '.', '.', '.', '.', '#', 'x', '#', '.', '.'], \n",
    "  ['.', '#', '#', 'x', 'x', '#', '#', '.', '.', '.', '.', '#', 'x', 'x', 'x', '~', '~', '~', '.', '.', '.', '.', '.', '#', '.', '.', '.'], \n",
    "  ['.', '.', '#', '#', '#', '#', '#', '.', '.', '.', '.', '.', '.', '#', 'x', 'x', 'x', '~', '~', '~', '.', '.', '#', '#', '#', '.', '.'], \n",
    "  ['.', '.', '.', '#', '#', '#', '.', '.', '.', '.', '.', '.', '#', '#', 'x', 'x', '.', '~', '~', '.', '.', '#', '#', '#', '.', '.', '.'], \n",
    "  ['.', '.', '.', '~', '~', '~', '.', '.', '#', '#', '#', 'x', 'x', 'x', 'x', '.', '.', '.', '~', '.', '#', '#', '#', '.', '.', '.', '.'], \n",
    "  ['.', '.', '~', '~', '~', '~', '~', '.', '#', '#', 'x', 'x', 'x', '#', '.', '.', '.', '.', '.', '#', 'x', 'x', 'x', '#', '.', '.', '.'], \n",
    "  ['.', '~', '~', '~', '~', '~', '.', '.', '#', 'x', 'x', '#', '.', '.', '.', '.', '~', '~', '.', '.', '#', 'x', 'x', '#', '.', '.', '.'], \n",
    "  ['~', '~', '~', '~', '~', '.', '.', '#', '#', 'x', 'x', '#', '.', '~', '~', '~', '~', '.', '.', '.', '#', 'x', '#', '.', '.', '.', '.'], \n",
    "  ['.', '~', '~', '~', '~', '.', '.', '#', '*', '*', '#', '.', '.', '.', '.', '~', '~', '~', '~', '.', '.', '#', '.', '.', '.', '.', '.'], \n",
    "  ['.', '.', '.', '.', 'x', '.', '.', '*', '*', '*', '*', '#', '#', '#', '#', '.', '~', '~', '~', '.', '.', '#', 'x', '#', '.', '.', '.'], \n",
    "  ['.', '.', '.', 'x', 'x', 'x', '*', '*', '*', '*', '*', '*', 'x', 'x', 'x', '#', '#', '.', '~', '.', '#', 'x', 'x', '#', '.', '.', '.'], \n",
    "  ['.', '.', 'x', 'x', '*', '*', '*', '*', '*', '*', '*', '*', '*', '*', 'x', 'x', 'x', '.', '.', 'x', 'x', 'x', '.', '.', '.', '.', '.'], \n",
    "  ['.', '.', '.', 'x', 'x', '*', '*', '*', '*', '*', '*', '*', '*', '*', '*', '*', 'x', 'x', 'x', 'x', '.', '.', '.', '.', '.', '.', '.'], \n",
    "  ['.', '.', '.', 'x', 'x', 'x', '*', '*', '*', '*', '*', '*', '*', '*', '.', '.', '.', '#', '#', '.', '.', '.', '.', '.', '.', '.', '.'], \n",
    "  ['.', '.', '.', '.', 'x', 'x', 'x', '*', '*', '*', '*', '*', '*', '.', '.', '.', '.', '.', '.', '.', '.', '.', '.', '~', '~', '~', '~'], \n",
    "  ['.', '.', '#', '#', '#', '#', 'x', 'x', '*', '*', '*', '*', '*', '.', 'x', '.', '.', '.', '.', '.', '~', '~', '~', '~', '~', '~', '~'], \n",
    "  ['.', '.', '.', '.', '#', '#', '#', 'x', 'x', 'x', '*', '*', 'x', 'x', '.', '.', '.', '.', '.', '.', '~', '~', '~', '~', '~', '~', '~'], \n",
    "  ['.', '.', '.', '.', '.', '.', '#', '#', '#', 'x', 'x', 'x', 'x', '.', '.', '.', '.', '#', '#', '.', '.', '~', '~', '~', '~', '~', '~'], \n",
    "  ['.', '#', '#', '.', '.', '#', '#', '#', '#', '#', '.', '.', '.', '.', '.', '#', '#', 'x', 'x', '#', '#', '.', '~', '~', '~', '~', '~'], \n",
    "  ['#', 'x', '#', '#', '#', '#', '.', '.', '.', '.', '.', 'x', 'x', 'x', '#', '#', 'x', 'x', '.', 'x', 'x', '#', '#', '~', '~', '~', '~'], \n",
    "  ['#', 'x', 'x', 'x', '#', '.', '.', '.', '.', '.', '#', '#', 'x', 'x', 'x', 'x', '#', '#', '#', '#', 'x', 'x', 'x', '~', '~', '~', '~'], \n",
    "  ['#', '#', '.', '.', '.', '.', '.', '.', '.', '.', '.', '.', '#', '#', '#', '#', '#', '.', '.', '.', '.', '#', '#', '#', '.', '.', '.']]"
   ]
  },
  {
   "cell_type": "markdown",
   "metadata": {},
   "source": [
    "<div style=\"background: khaki; color: darkgoldenrod; border: 2px solid goldenrod; padding: 5px; margin: 10px;\">\n",
    "<strong>Warning</strong>\n",
    "</div>\n",
    "\n",
    "One implication of this representation is that (x, y) is world[ y][ x] so that (3, 2) is world[ 2][ 3] and world[ 7][ 9] is (9, 7).\n",
    "\n",
    "It is often easier to begin your programming by operating on test input that has an obvious solution. If we had a small 7x7 world with the following characteristics, what do you expect the policy (plan or path to the goal) would be?"
   ]
  },
  {
   "cell_type": "code",
   "execution_count": 252,
   "metadata": {
    "collapsed": false
   },
   "outputs": [],
   "source": [
    "test_world = [\n",
    "  ['.', '*', '*', '*', '*', '*', '*'],\n",
    "  ['.', '*', 'x', '*', '*', '*', '*'],\n",
    "  ['.', '*', '*', '*', '*', '*', '*'],\n",
    "  ['.', '.', '.', '.', '.', '.', '.'],\n",
    "  ['*', '*', '*', '*', '*', '*', '.'],\n",
    "  ['*', '*', '*', '*', '*', '*', '.'],\n",
    "  ['*', '*', '*', '*', '*', '*', '.'],\n",
    "]"
   ]
  },
  {
   "cell_type": "markdown",
   "metadata": {},
   "source": [
    "## States and State Representation\n",
    "\n",
    "The canonical pieces of a State Space Search problem are the States, Actions, Transitions and Costs. \n",
    "\n",
    "We'll start with the state representation. For the navigation problem, a state is the current position of the agent, `(x,y)`. The entire set of possible states is implicitly represented by the world map."
   ]
  },
  {
   "cell_type": "markdown",
   "metadata": {},
   "source": [
    "## Actions and Transitions\n",
    "\n",
    "Next we need to specify the actions. In general, there are a number of different possible action sets in such a world. The agent might be constrained to move north/south/east/west or diagonal moves might be permitted as well (or really anything). When combined with the set of States, the *permissible* actions forms the Transition set.\n",
    "\n",
    "Rather than enumerate the Transition set directly, for this problem it's easier to calculate the available actions and transitions on the fly. This can be done by specifying a *movement model* as offsets to the current state and then checking to see which of the potential successor states are actually permitted. This can be done in the successor function mentioned in the pseudocode.\n",
    "\n",
    "One such example of a movement model is shown below.  Moves: the legal movement model expressed in offsets."
   ]
  },
  {
   "cell_type": "code",
   "execution_count": 253,
   "metadata": {
    "collapsed": true
   },
   "outputs": [],
   "source": [
    "cardinal_moves = [(0,-1), (1,0), (0,1), (-1,0)]"
   ]
  },
  {
   "cell_type": "markdown",
   "metadata": {},
   "source": [
    "## Costs\n",
    "\n",
    "We can encode the costs described above in a `Dict`:"
   ]
  },
  {
   "cell_type": "code",
   "execution_count": 254,
   "metadata": {
    "collapsed": false
   },
   "outputs": [],
   "source": [
    "costs = { '.': 1, '*': 3, '#': 5, '~': 7}"
   ]
  },
  {
   "cell_type": "markdown",
   "metadata": {},
   "source": [
    "## A\\* Search Implementation\n",
    "\n",
    "As Python is an interpreted language, you're going to need to insert all of your helper functions *before* the actual `a_star_search` function implementation. Put those implementations here, along with their documentation. There should be one Markdown cell for the documentation, followed by one Codecell for the implementation. I've included two to get you started.\n",
    "\n",
    "-----"
   ]
  },
  {
   "cell_type": "markdown",
   "metadata": {},
   "source": [
    "### Helper Methods"
   ]
  },
  {
   "cell_type": "markdown",
   "metadata": {},
   "source": [
    "state[0] = x,y coordinates\n",
    "\n",
    "state[1] = f(n)\n",
    "\n",
    "state[2] = cost so far\n",
    "\n",
    "states = {\n",
    "    (x,y): [f(n), cost so far]\n",
    "}"
   ]
  },
  {
   "cell_type": "markdown",
   "metadata": {},
   "source": [
    "-----\n",
    "**Heuristic function**\n",
    "\n",
    "This heuristic function finds the manhattan distance from the given state to the goal state, assuming a cost of 1.  I assume a cost of 1, to ensure the heuristic is admissible, e.g. does not overestimate the cost to reach the goal."
   ]
  },
  {
   "cell_type": "code",
   "execution_count": 255,
   "metadata": {
    "collapsed": false
   },
   "outputs": [],
   "source": [
    "# heuristic function TODO this goes at the bottom\n",
    "def heuristic(state, goal):\n",
    "    x = state[0]\n",
    "    y = state[1]\n",
    "    \n",
    "    xDifference = abs(x - goal[0])\n",
    "    yDifference = abs(y - goal[1])\n",
    "    return xDifference + yDifference"
   ]
  },
  {
   "cell_type": "markdown",
   "metadata": {},
   "source": [
    "-----\n",
    "**Get the cost of a state**\n",
    "\n",
    "Stuff"
   ]
  },
  {
   "cell_type": "code",
   "execution_count": 256,
   "metadata": {
    "collapsed": true
   },
   "outputs": [],
   "source": [
    "def get_cost(state, world):\n",
    "    x = state[0]\n",
    "    y = state[1]\n",
    "    state_type = world[x][y]\n",
    "    \n",
    "    cost = costs[state_type]\n",
    "    \n",
    "    return cost"
   ]
  },
  {
   "cell_type": "markdown",
   "metadata": {},
   "source": [
    "**Get the cost so far**\n",
    "\n",
    "To calculate the cost of a state, find its state type by looking at its location in the world.  Use that state type to look up the cost in the costs dictionary.  Add the state's cost to the cost so far of its parent state."
   ]
  },
  {
   "cell_type": "code",
   "execution_count": 257,
   "metadata": {
    "collapsed": true
   },
   "outputs": [],
   "source": [
    "def get_cost_so_far(state, previous_state, world, states):\n",
    "    if previous_state == None:\n",
    "        previous_cost = 0\n",
    "    else:\n",
    "        previous_cost = states[previous_state][1]\n",
    "    \n",
    "    #cost is the cost of state plus the cost so far of the previous state\n",
    "    cost = get_cost(state, world) + previous_cost\n",
    "    \n",
    "    return cost\n",
    "    "
   ]
  },
  {
   "cell_type": "markdown",
   "metadata": {},
   "source": [
    "-----\n",
    "**Get f(n)**\n",
    "\n",
    "Get f(n), which will determine the ordering of our priority queue\n"
   ]
  },
  {
   "cell_type": "code",
   "execution_count": 258,
   "metadata": {
    "collapsed": true
   },
   "outputs": [],
   "source": [
    "def get_fn(heuristic, state, previous_state, world, goal, states):\n",
    "    return get_cost_so_far(state, previous_state, world, states) + heuristic(state, goal)\n",
    "    "
   ]
  },
  {
   "cell_type": "markdown",
   "metadata": {},
   "source": [
    "-----\n",
    "**Insert an item into the frontier list**\n",
    "\n",
    "The frontier is a priority queue, ordered by f(n)."
   ]
  },
  {
   "cell_type": "code",
   "execution_count": 259,
   "metadata": {
    "collapsed": false
   },
   "outputs": [
    {
     "data": {
      "text/plain": [
       "'    for f in frontier:\\n        print f\\n    print\\n\\nfrontier = []\\ns1 = [(0,0), 5, 1]  \\ns2 = [(0,1), 4, 3]\\ns3 = [(0,2), 4, 3]  \\ninsert_into_frontier(heuristic, s1, None, test_world, (3,3), frontier)\\ninsert_into_frontier(heuristic, s2, s1, test_world, (3,3), frontier)\\ninsert_into_frontier(heuristic, s3, s2, test_world, (3,3), frontier)'"
      ]
     },
     "execution_count": 259,
     "metadata": {},
     "output_type": "execute_result"
    }
   ],
   "source": [
    "def insert_into_frontier(heuristic, state, previous_state, world, goal, frontier, states):\n",
    "    fn = get_fn(heuristic, state, previous_state, world, goal, states)\n",
    "    \n",
    "    if state in frontier:\n",
    "        existing_fn = states[state][0]\n",
    "        if existing_fn < fn:\n",
    "            return\n",
    "        else:\n",
    "            #TODO what to do...\n",
    "            pass\n",
    "    \n",
    "    inserted = False\n",
    "    \n",
    "    for i in range(len(frontier)):\n",
    "        existing_state = frontier[i]\n",
    "        existing_fn = states[existing_state][0]\n",
    "        \n",
    "        if fn < existing_fn:\n",
    "            frontier.insert(i, state)\n",
    "            inserted = True\n",
    "    \n",
    "    if not inserted:\n",
    "        frontier.append(state)\n",
    "        \n",
    "    cost_so_far = get_cost_so_far(state, previous_state, world, states)\n",
    "    states[state] = [fn, cost_so_far]\n",
    "    \n",
    "    #print 'states: ', states\n",
    "        \n",
    "'''    for f in frontier:\n",
    "        print f\n",
    "    print\n",
    "\n",
    "frontier = []\n",
    "s1 = [(0,0), 5, 1]  \n",
    "s2 = [(0,1), 4, 3]\n",
    "s3 = [(0,2), 4, 3]  \n",
    "insert_into_frontier(heuristic, s1, None, test_world, (3,3), frontier)\n",
    "insert_into_frontier(heuristic, s2, s1, test_world, (3,3), frontier)\n",
    "insert_into_frontier(heuristic, s3, s2, test_world, (3,3), frontier)'''"
   ]
  },
  {
   "cell_type": "markdown",
   "metadata": {},
   "source": [
    "-----\n",
    "**Get the next item from the frontier list**\n",
    "\n",
    "Get the item with the lowest f(n)"
   ]
  },
  {
   "cell_type": "code",
   "execution_count": 260,
   "metadata": {
    "collapsed": true
   },
   "outputs": [],
   "source": [
    "def get_next_state(frontier):\n",
    "    return frontier[0]"
   ]
  },
  {
   "cell_type": "markdown",
   "metadata": {},
   "source": [
    "-----\n",
    "**Determine whether a state is valid**\n",
    "\n",
    "Determine whether the state is valid given the world****\n"
   ]
  },
  {
   "cell_type": "code",
   "execution_count": 261,
   "metadata": {
    "collapsed": true
   },
   "outputs": [],
   "source": [
    "def is_valid(state, world):\n",
    "    x = state[0]\n",
    "    y = state[1]\n",
    "    \n",
    "    world_depth = len(world)\n",
    "    world_width = len(world[0])\n",
    "    \n",
    "    if world[x][y] == 'x':\n",
    "        return False\n",
    "    \n",
    "    if x >= 0 and y >= 0 and x < world_depth and y < world_width:\n",
    "        return True"
   ]
  },
  {
   "cell_type": "markdown",
   "metadata": {},
   "source": [
    "-----\n",
    "**Get the next moves available**\n",
    "\n",
    "Given a state and a world, get the moves based on the given movement model"
   ]
  },
  {
   "cell_type": "code",
   "execution_count": 262,
   "metadata": {
    "collapsed": false
   },
   "outputs": [],
   "source": [
    "def get_successors(state, world, moves):\n",
    "    next_moves = []\n",
    "        \n",
    "    for move in moves:\n",
    "        x = state[0] + move[0]\n",
    "        y = state[1] + move[1]\n",
    "        \n",
    "        new_state = (x,y)\n",
    "        \n",
    "        if is_valid(new_state, world):\n",
    "            next_moves.append(new_state)\n",
    "    \n",
    "    return next_moves\n",
    "        "
   ]
  },
  {
   "cell_type": "markdown",
   "metadata": {},
   "source": [
    "\n",
    "\n",
    "-----"
   ]
  },
  {
   "cell_type": "markdown",
   "metadata": {},
   "source": [
    "**a_star_search**\n",
    "\n",
    "The `a_star_search` function uses the A\\* Search algorithm to solve a navigational problem for an agent in a grid world. It calculates a path from the start state to the goal state and returns the actions required to get from the start to the goal.\n",
    "\n",
    "* **world** is the starting state representation for a navigation problem.\n",
    "* **start** is the starting location, `(x, y)`.\n",
    "* **goal** is the desired end position, `(x, y)`.\n",
    "* **costs** is a `Dict` of costs for each type of terrain.\n",
    "* **moves** is the legal movement model expressed in offsets.\n",
    "* **heuristic** is a heuristic function that returns an estimate of the total cost $f(x)$ from the start to the goal through the current node, $x$. The heuristic function might change with the movement model.\n",
    "\n",
    "\n",
    "The function returns the offsets needed to get from start state to the goal as a `List`. For example, for the test world:\n",
    "\n",
    "```\n",
    "  ['.', '*', '*', '*', '*', '*', '*'],\n",
    "  ['.', '*', '*', '*', '*', '*', '*'],\n",
    "  ['.', '*', '*', '*', '*', '*', '*'],\n",
    "  ['.', '.', '.', '.', '.', '.', '.'],\n",
    "  ['*', '*', '*', '*', '*', '*', '.'],\n",
    "  ['*', '*', '*', '*', '*', '*', '.'],\n",
    "  ['*', '*', '*', '*', '*', '*', '.'],\n",
    "\n",
    "```\n",
    "\n",
    "it would return:\n",
    "\n",
    "`[(0,1), (0,1), (0,1), (1,0), (1,0), (1,0), (1,0), (1,0), (1,0), (0,1), (0,1), (0,1)]`\n",
    "\n",
    "Do not make unwarranted assumptions. For example, do not assume the starting point is always `(0, 0)` or that the goal is always in the lower right hand corner. Do not make any assumptions about the movement model beyond the requirement that they be offsets (it could be offets of 2!)."
   ]
  },
  {
   "cell_type": "code",
   "execution_count": 263,
   "metadata": {
    "collapsed": true
   },
   "outputs": [],
   "source": [
    "costs2 = { '.': 1, '*': 3, '#': 5, '~': 7}"
   ]
  },
  {
   "cell_type": "code",
   "execution_count": 265,
   "metadata": {
    "collapsed": false
   },
   "outputs": [
    {
     "name": "stdout",
     "output_type": "stream",
     "text": [
      "goal:  (2, 2)\n",
      "explored:  [(0, 0), (1, 0), (2, 0), (0, 1), (1, 1), (3, 0), (2, 1), (3, 1), (3, 1), (3, 2), (3, 2), (3, 2), (3, 2), (3, 2), (3, 2), (3, 2), (3, 2), (3, 2), (0, 2)]\n"
     ]
    },
    {
     "data": {
      "text/plain": [
       "[]"
      ]
     },
     "execution_count": 265,
     "metadata": {},
     "output_type": "execute_result"
    }
   ],
   "source": [
    "def a_star_search( world, start, goal, costs, moves, heuristic):\n",
    "    frontier = []\n",
    "    explored = []\n",
    "    path = []\n",
    "    states = {start: [0, 0]}\n",
    "    \n",
    "    frontier.append(start)\n",
    "\n",
    "    while frontier:        \n",
    "        current_state = frontier.pop(0)  \n",
    "        if current_state == goal:\n",
    "            print 'goal: ', goal\n",
    "            print 'explored: ', explored\n",
    "            return path\n",
    "        \n",
    "        children = get_successors(current_state, world, moves)\n",
    "                \n",
    "        for child in children:\n",
    "            if child not in explored:\n",
    "                insert_into_frontier(heuristic, child, current_state, world, goal, frontier, states)  #this needs to check if already in frontier\n",
    "        \n",
    "        explored.append(current_state)\n",
    "    \n",
    "    return []\n",
    "\n",
    "a_star_search(test_world, (0,0), (2,2), costs, cardinal_moves, heuristic)"
   ]
  },
  {
   "cell_type": "markdown",
   "metadata": {},
   "source": [
    "**pretty_print_solution**\n",
    "\n",
    "The `pretty_print_solution` function prints an ASCII representation of the solution generated by the `a_star_search`. For example, for the test world, it would take the `world` and `path` and print:\n",
    "\n",
    "```\n",
    "v******\n",
    "v******\n",
    "v******\n",
    ">>>>>>v\n",
    "******v\n",
    "******v\n",
    "******G\n",
    "```\n",
    "\n",
    "using `v`, `^`, `>`, `<` to represent actions and `G` to represent the goal. (Note the format of the output...there are no spaces, commas, or extraneous characters).\n"
   ]
  },
  {
   "cell_type": "code",
   "execution_count": null,
   "metadata": {
    "collapsed": false
   },
   "outputs": [],
   "source": [
    "def pretty_print_solution( world, path, start):\n",
    "    ### YOUR SOLUTION HERE ###\n",
    "    ### YOUR SOLUTION HERE ###\n",
    "    return None"
   ]
  },
  {
   "cell_type": "markdown",
   "metadata": {},
   "source": [
    "Execute `a_star_search` and `print_path` for the `test_world` and the `real_world`."
   ]
  },
  {
   "cell_type": "markdown",
   "metadata": {},
   "source": [
    "*Describe and define your heuristic function here. You can change the arguments to whatever you use in your `a_star_search` implementation.*"
   ]
  },
  {
   "cell_type": "code",
   "execution_count": null,
   "metadata": {
    "collapsed": true
   },
   "outputs": [],
   "source": [
    "# heuristic function\n",
    "def heuristic():\n",
    "    pass"
   ]
  },
  {
   "cell_type": "code",
   "execution_count": null,
   "metadata": {
    "collapsed": false
   },
   "outputs": [],
   "source": [
    "test_path = a_star_search( test_world, (0, 0), (6, 6), costs, cardinal_moves, heuristic)\n",
    "print test_path"
   ]
  },
  {
   "cell_type": "code",
   "execution_count": null,
   "metadata": {
    "collapsed": true
   },
   "outputs": [],
   "source": [
    "pretty_print_solution( test_world, test_path, (0, 0))"
   ]
  },
  {
   "cell_type": "code",
   "execution_count": null,
   "metadata": {
    "collapsed": false
   },
   "outputs": [],
   "source": [
    "full_path = a_star_search( full_world, (0, 0), (26, 26), costs, cardinal_moves, heuristic)\n",
    "print full_path"
   ]
  },
  {
   "cell_type": "code",
   "execution_count": null,
   "metadata": {
    "collapsed": true
   },
   "outputs": [],
   "source": [
    "pretty_print_solution( full_world, full_path, (0, 0))"
   ]
  },
  {
   "cell_type": "markdown",
   "metadata": {},
   "source": [
    "# Advanced/Future Work"
   ]
  },
  {
   "cell_type": "markdown",
   "metadata": {},
   "source": [
    "*This section is not required but it is well worth your time to think about the task*\n",
    "\n",
    "Write a *general* `state_space_search` function that could solve any state space search problem using Depth First Search. One possible implementation would be to write `state_space_search` as a general higher order function that took problem specific functions for `is_goal`, `successors` and `path`. You would need a general way of dealing with states, perhaps as a `Tuple` representing the raw state and metadata: `(<state>, <metadata>)`."
   ]
  },
  {
   "cell_type": "code",
   "execution_count": null,
   "metadata": {
    "collapsed": true
   },
   "outputs": [],
   "source": []
  }
 ],
 "metadata": {
  "kernelspec": {
   "display_name": "Python 2",
   "language": "python",
   "name": "python2"
  },
  "language_info": {
   "codemirror_mode": {
    "name": "ipython",
    "version": 2
   },
   "file_extension": ".py",
   "mimetype": "text/x-python",
   "name": "python",
   "nbconvert_exporter": "python",
   "pygments_lexer": "ipython2",
   "version": "2.7.13"
  }
 },
 "nbformat": 4,
 "nbformat_minor": 0
}
