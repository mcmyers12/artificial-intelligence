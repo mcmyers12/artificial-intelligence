{
 "cells": [
  {
   "cell_type": "markdown",
   "metadata": {},
   "source": [
    "# Module 1 - Programming Assignment\n"
   ]
  },
  {
   "cell_type": "code",
   "execution_count": 356,
   "metadata": {
    "collapsed": false
   },
   "outputs": [],
   "source": [
    "import copy\n",
    "import sys"
   ]
  },
  {
   "cell_type": "markdown",
   "metadata": {},
   "source": [
    "# State Space Search with A* Search\n",
    "\n",
    "This program is an implementation of the A\\* Search algorithm for navigation problems.\n",
    "\n",
    "\n",
    "## Motivation\n",
    "\n",
    "Search is often used for path-finding in video games. Although the characters in a video game often move in continuous spaces,\n",
    "it is trivial to layout a \"waypoint\" system as a kind of navigation grid over the continuous space. Then if the character needs\n",
    "to get from Point A to Point B, it does a line of sight (LOS) scan to find the nearest waypoint (let's call it Waypoint A) and\n",
    "finds the nearest, LOS waypoint to Point B (let's call it Waypoint B). The agent then does a A* search for Waypoint B from Waypoint A to find the shortest path. The entire path is thus Point A to Waypoint A to Waypoint B to Point B.\n",
    "\n",
    "We're going to simplify the problem by working in a grid world. The symbols that form the grid have a special meaning as they\n",
    "specify the type of the terrain and the cost to enter a grid cell with that type of terrain:\n",
    "\n",
    "```\n",
    "token   terrain    cost \n",
    ".       plains     1\n",
    "*       forest     3\n",
    "#       hills      5\n",
    "~       swamp      7\n",
    "x       mountains  impassible\n",
    "```\n",
    "\n",
    "We can think of the raw format of the map as being something like:\n",
    "\n",
    "```\n",
    "....*..\n",
    "...***.\n",
    ".###...\n",
    "..##...\n",
    "..#..**\n",
    "....***\n",
    ".......\n",
    "```"
   ]
  },
  {
   "cell_type": "markdown",
   "metadata": {},
   "source": [
    "## The World\n",
    "\n",
    "Given a map like the one above, we can easily represent each row as a `List` and the entire map as `List of Lists`:"
   ]
  },
  {
   "cell_type": "code",
   "execution_count": 357,
   "metadata": {
    "collapsed": false
   },
   "outputs": [],
   "source": [
    "full_world = [\n",
    "  ['.', '.', '.', '.', '.', '*', '*', '*', '*', '*', '*', '*', '*', '*', '*', '.', '.', '.', '.', '.', '.', '.', '.', '.', '.', '.', '.'], \n",
    "  ['.', '.', '.', '.', '.', '.', '.', '*', '*', '*', '*', '*', '*', '*', '*', '*', '.', '.', 'x', 'x', 'x', 'x', 'x', 'x', 'x', '.', '.'], \n",
    "  ['.', '.', '.', '.', 'x', 'x', '*', '*', '*', '*', '*', '*', '*', '*', '*', '*', '*', 'x', 'x', 'x', '#', '#', '#', 'x', 'x', '#', '#'], \n",
    "  ['.', '.', '.', '.', '#', 'x', 'x', 'x', '*', '*', '*', '*', '~', '~', '*', '*', '*', '*', '*', '.', '.', '#', '#', 'x', 'x', '#', '.'], \n",
    "  ['.', '.', '.', '#', '#', 'x', 'x', '*', '*', '.', '.', '~', '~', '~', '~', '*', '*', '*', '.', '.', '.', '#', 'x', 'x', 'x', '#', '.'], \n",
    "  ['.', '#', '#', '#', 'x', 'x', '#', '#', '.', '.', '.', '.', '~', '~', '~', '~', '~', '.', '.', '.', '.', '.', '#', 'x', '#', '.', '.'], \n",
    "  ['.', '#', '#', 'x', 'x', '#', '#', '.', '.', '.', '.', '#', 'x', 'x', 'x', '~', '~', '~', '.', '.', '.', '.', '.', '#', '.', '.', '.'], \n",
    "  ['.', '.', '#', '#', '#', '#', '#', '.', '.', '.', '.', '.', '.', '#', 'x', 'x', 'x', '~', '~', '~', '.', '.', '#', '#', '#', '.', '.'], \n",
    "  ['.', '.', '.', '#', '#', '#', '.', '.', '.', '.', '.', '.', '#', '#', 'x', 'x', '.', '~', '~', '.', '.', '#', '#', '#', '.', '.', '.'], \n",
    "  ['.', '.', '.', '~', '~', '~', '.', '.', '#', '#', '#', 'x', 'x', 'x', 'x', '.', '.', '.', '~', '.', '#', '#', '#', '.', '.', '.', '.'], \n",
    "  ['.', '.', '~', '~', '~', '~', '~', '.', '#', '#', 'x', 'x', 'x', '#', '.', '.', '.', '.', '.', '#', 'x', 'x', 'x', '#', '.', '.', '.'], \n",
    "  ['.', '~', '~', '~', '~', '~', '.', '.', '#', 'x', 'x', '#', '.', '.', '.', '.', '~', '~', '.', '.', '#', 'x', 'x', '#', '.', '.', '.'], \n",
    "  ['~', '~', '~', '~', '~', '.', '.', '#', '#', 'x', 'x', '#', '.', '~', '~', '~', '~', '.', '.', '.', '#', 'x', '#', '.', '.', '.', '.'], \n",
    "  ['.', '~', '~', '~', '~', '.', '.', '#', '*', '*', '#', '.', '.', '.', '.', '~', '~', '~', '~', '.', '.', '#', '.', '.', '.', '.', '.'], \n",
    "  ['.', '.', '.', '.', 'x', '.', '.', '*', '*', '*', '*', '#', '#', '#', '#', '.', '~', '~', '~', '.', '.', '#', 'x', '#', '.', '.', '.'], \n",
    "  ['.', '.', '.', 'x', 'x', 'x', '*', '*', '*', '*', '*', '*', 'x', 'x', 'x', '#', '#', '.', '~', '.', '#', 'x', 'x', '#', '.', '.', '.'], \n",
    "  ['.', '.', 'x', 'x', '*', '*', '*', '*', '*', '*', '*', '*', '*', '*', 'x', 'x', 'x', '.', '.', 'x', 'x', 'x', '.', '.', '.', '.', '.'], \n",
    "  ['.', '.', '.', 'x', 'x', '*', '*', '*', '*', '*', '*', '*', '*', '*', '*', '*', 'x', 'x', 'x', 'x', '.', '.', '.', '.', '.', '.', '.'], \n",
    "  ['.', '.', '.', 'x', 'x', 'x', '*', '*', '*', '*', '*', '*', '*', '*', '.', '.', '.', '#', '#', '.', '.', '.', '.', '.', '.', '.', '.'], \n",
    "  ['.', '.', '.', '.', 'x', 'x', 'x', '*', '*', '*', '*', '*', '*', '.', '.', '.', '.', '.', '.', '.', '.', '.', '.', '~', '~', '~', '~'], \n",
    "  ['.', '.', '#', '#', '#', '#', 'x', 'x', '*', '*', '*', '*', '*', '.', 'x', '.', '.', '.', '.', '.', '~', '~', '~', '~', '~', '~', '~'], \n",
    "  ['.', '.', '.', '.', '#', '#', '#', 'x', 'x', 'x', '*', '*', 'x', 'x', '.', '.', '.', '.', '.', '.', '~', '~', '~', '~', '~', '~', '~'], \n",
    "  ['.', '.', '.', '.', '.', '.', '#', '#', '#', 'x', 'x', 'x', 'x', '.', '.', '.', '.', '#', '#', '.', '.', '~', '~', '~', '~', '~', '~'], \n",
    "  ['.', '#', '#', '.', '.', '#', '#', '#', '#', '#', '.', '.', '.', '.', '.', '#', '#', 'x', 'x', '#', '#', '.', '~', '~', '~', '~', '~'], \n",
    "  ['#', 'x', '#', '#', '#', '#', '.', '.', '.', '.', '.', 'x', 'x', 'x', '#', '#', 'x', 'x', '.', 'x', 'x', '#', '#', '~', '~', '~', '~'], \n",
    "  ['#', 'x', 'x', 'x', '#', '.', '.', '.', '.', '.', '#', '#', 'x', 'x', 'x', 'x', '#', '#', '#', '#', 'x', 'x', 'x', '~', '~', '~', '~'], \n",
    "  ['#', '#', '.', '.', '.', '.', '.', '.', '.', '.', '.', '.', '#', '#', '#', '#', '#', '.', '.', '.', '.', '#', '#', '#', '.', '.', '.']]"
   ]
  },
  {
   "cell_type": "markdown",
   "metadata": {},
   "source": [
    "<div style=\"background: khaki; color: darkgoldenrod; border: 2px solid goldenrod; padding: 5px; margin: 10px;\">\n",
    "<strong>Warning</strong>\n",
    "</div>\n",
    "\n",
    "One implication of this representation is that (x, y) is world[ y][ x] so that (3, 2) is world[ 2][ 3] and world[ 7][ 9] is (9, 7).\n",
    "\n",
    "It is often easier to begin your programming by operating on test input that has an obvious solution. If we had a small 7x7 world with the following characteristics, what do you expect the policy (plan or path to the goal) would be?"
   ]
  },
  {
   "cell_type": "code",
   "execution_count": 358,
   "metadata": {
    "collapsed": false
   },
   "outputs": [],
   "source": [
    "test_world = [\n",
    "  ['.', '*', '*', '*', '*', '*', '*'],\n",
    "  ['.', '*', '*', '*', '*', '*', '*'],\n",
    "  ['.', '*', '*', '*', '*', '*', '*'],\n",
    "  ['.', '.', '.', '.', '.', '.', '.'],\n",
    "  ['*', '*', '*', '*', '*', '*', '.'],\n",
    "  ['*', '*', '*', '*', '*', '*', '.'],\n",
    "  ['*', '*', '*', '*', '*', '*', '.'],\n",
    "]"
   ]
  },
  {
   "cell_type": "markdown",
   "metadata": {},
   "source": [
    "## States and State Representation\n",
    "\n",
    "The canonical pieces of a State Space Search problem are the States, Actions, Transitions and Costs. \n",
    "\n",
    "We'll start with the state representation. For the navigation problem, a state is the current position of the agent, `(x,y)`. The entire set of possible states is implicitly represented by the world map."
   ]
  },
  {
   "cell_type": "markdown",
   "metadata": {},
   "source": [
    "## Actions and Transitions\n",
    "\n",
    "Next we need to specify the actions. In general, there are a number of different possible action sets in such a world. The agent might be constrained to move north/south/east/west or diagonal moves might be permitted as well (or really anything). When combined with the set of States, the *permissible* actions forms the Transition set.\n",
    "\n",
    "Rather than enumerate the Transition set directly, for this problem it's easier to calculate the available actions and transitions on the fly. This can be done by specifying a *movement model* as offsets to the current state and then checking to see which of the potential successor states are actually permitted. This can be done in the successor function mentioned in the pseudocode.\n",
    "\n",
    "One such example of a movement model is shown below.  Moves: the legal movement model expressed in offsets."
   ]
  },
  {
   "cell_type": "code",
   "execution_count": 359,
   "metadata": {
    "collapsed": true
   },
   "outputs": [],
   "source": [
    "cardinal_moves = [(0,-1), (1,0), (0,1), (-1,0)]"
   ]
  },
  {
   "cell_type": "markdown",
   "metadata": {},
   "source": [
    "## Costs\n",
    "\n",
    "We can encode the costs described above in a `Dict`:"
   ]
  },
  {
   "cell_type": "code",
   "execution_count": 360,
   "metadata": {
    "collapsed": false
   },
   "outputs": [],
   "source": [
    "costs = { '.': 1, '*': 3, '#': 5, '~': 7}"
   ]
  },
  {
   "cell_type": "markdown",
   "metadata": {},
   "source": [
    "## A\\* Search Implementation"
   ]
  },
  {
   "cell_type": "markdown",
   "metadata": {},
   "source": [
    "### Helper Methods"
   ]
  },
  {
   "cell_type": "markdown",
   "metadata": {},
   "source": [
    "-----\n",
    "**Get the cost of a state**\n",
    "\n",
    "Getting the cost of each move to a new state is essential for the A\\* algorithm.  The get_cost function takes a state ((x,y) tuple) and a world (list of lists). It finds the location in the world in order to determine the terrain at that location. The costs `Dict` is then used to determine the cost of that terrain, which is returned."
   ]
  },
  {
   "cell_type": "code",
   "execution_count": 361,
   "metadata": {
    "collapsed": true
   },
   "outputs": [],
   "source": [
    "def get_cost(state, world):\n",
    "    x = state[0]\n",
    "    y = state[1]\n",
    "    state_type = world[x][y]\n",
    "    \n",
    "    cost = costs[state_type]\n",
    "    \n",
    "    return cost"
   ]
  },
  {
   "cell_type": "markdown",
   "metadata": {},
   "source": [
    "-----\n",
    "**Get the cost so far for a state**\n",
    "\n",
    "The A\\* algorithm requires keeping track of the cost so far of each state along the path in order to calculate f(n) = g(n) + h(n), where g(n) is the cost so far, and h(n) is the heuristic.  To calculate the cost so far of a state, get the cost to enter that state using the get_cost function. Then add the state's cost to the cost so far of its parent state.  A dictionary of states is used to keep track of (x,y): [f(n), cost so far, parent state] for each state.  This way information can be easily looked up about each state."
   ]
  },
  {
   "cell_type": "code",
   "execution_count": 362,
   "metadata": {
    "collapsed": true
   },
   "outputs": [],
   "source": [
    "def get_cost_so_far(state, previous_state, world, states):\n",
    "    if previous_state == None:\n",
    "        previous_cost = 0\n",
    "    else:\n",
    "        previous_cost = states[previous_state][1]\n",
    "    \n",
    "    cost = get_cost(state, world) + previous_cost\n",
    "    \n",
    "    return cost\n",
    "    "
   ]
  },
  {
   "cell_type": "markdown",
   "metadata": {},
   "source": [
    "-----\n",
    "**Get f(n)**\n",
    "\n",
    "As stated above, f(n) is essential for the A\\* algorithm, and determines the ordering of our priority queue that keeps track of the frontier as we move through the world.  The get_fn function gets the cost so far of the given state, using the get_cost_so_far function.  It adds this value to the output of the heuristic function, giving an estimate of the total cost from the start to the goal through the current node.\n"
   ]
  },
  {
   "cell_type": "code",
   "execution_count": 363,
   "metadata": {
    "collapsed": true
   },
   "outputs": [],
   "source": [
    "def get_fn(heuristic, state, previous_state, world, goal, states):\n",
    "    return get_cost_so_far(state, previous_state, world, states) + heuristic(state, goal)"
   ]
  },
  {
   "cell_type": "markdown",
   "metadata": {},
   "source": [
    "-----\n",
    "**Insert an item into the frontier**\n",
    "\n",
    "The frontier is a priority queue, ordered by f(n).  We use the heuristic function, state, previous state, world, goal, and states dictionary to get f(n) using the get_fn function, as described above.  We then interate over the frontier to find the correct placement of the state in the frontier.  If the current state is already in the frontier with a higher f(n), the state's location is updated with the new f(n).  This function also updates cost so far and parent state in the states dictionary."
   ]
  },
  {
   "cell_type": "code",
   "execution_count": 364,
   "metadata": {
    "collapsed": false
   },
   "outputs": [],
   "source": [
    "def insert_into_frontier(heuristic, state, previous_state, world, goal, frontier, states):\n",
    "    fn = get_fn(heuristic, state, previous_state, world, goal, states)\n",
    "    \n",
    "    if state in frontier:\n",
    "        existing_fn = states[state][0]\n",
    "        if existing_fn < fn:\n",
    "            return\n",
    "        else: \n",
    "            frontier.remove(state)\n",
    "    \n",
    "    for i in range(len(frontier)):\n",
    "        existing_state = frontier[i]\n",
    "        existing_fn = states[existing_state][0]\n",
    "        \n",
    "        if fn < existing_fn and state not in frontier:\n",
    "            frontier.insert(i, state)\n",
    "    \n",
    "    if state not in frontier:\n",
    "        frontier.append(state)\n",
    "        \n",
    "    cost_so_far = get_cost_so_far(state, previous_state, world, states)\n",
    "    states[state] = [fn, cost_so_far, previous_state]"
   ]
  },
  {
   "cell_type": "markdown",
   "metadata": {},
   "source": [
    "-----\n",
    "**Determine whether a state is valid**\n",
    "\n",
    "The function is_valid determine whether the state is valid to be moved to by the agent in given the world.  A state is valid if it is within the bounds of the world, so, the its x, y coordinates are not outside the indices of the list of lists that makes up the world.  A state is not valid to be moved to if it is mountains terrain, specifically if it is the character 'x'. This function is necessary so that at each step through the world, the algorithm can determine which steps it can take next.\n"
   ]
  },
  {
   "cell_type": "code",
   "execution_count": 365,
   "metadata": {
    "collapsed": true
   },
   "outputs": [],
   "source": [
    "def is_valid(state, world):\n",
    "    x = state[0]\n",
    "    y = state[1]\n",
    "    \n",
    "    world_depth = len(world)\n",
    "    if x < 0 or x >= world_depth:\n",
    "        return False\n",
    "        \n",
    "    world_width = len(world[x])\n",
    "    if y < 0 or y >= world_width:\n",
    "        return False\n",
    "    \n",
    "    if world[x][y] == 'x':\n",
    "        return False\n",
    "    \n",
    "    return True\n"
   ]
  },
  {
   "cell_type": "markdown",
   "metadata": {},
   "source": [
    "-----\n",
    "**Get the next moves available**\n",
    "\n",
    "The function get_successors is given a state and a world and gets the next available moves based on the given movement model.  It uses the possible moves to find all coordinates that would result from those moves.  It then checks each of the coordinates to make sure they are valid moves using the is_valid function."
   ]
  },
  {
   "cell_type": "code",
   "execution_count": 366,
   "metadata": {
    "collapsed": false
   },
   "outputs": [],
   "source": [
    "def get_successors(state, world, moves):\n",
    "    next_moves = []\n",
    "        \n",
    "    for move in moves:\n",
    "        x = state[0] + move[1]\n",
    "        y = state[1] + move[0]\n",
    "        \n",
    "        new_state = (x,y)\n",
    "        \n",
    "        if is_valid(new_state, world):\n",
    "            next_moves.append(new_state)\n",
    "    \n",
    "    return next_moves"
   ]
  },
  {
   "cell_type": "markdown",
   "metadata": {},
   "source": [
    "-----\n",
    "**Construct the path**\n",
    "\n",
    "This function finds the path taken by the agent to get from the start to the goal.  Given the goal and the list of states that were visited in finding the optimal path, construct_path starts at the goal and works backward using the previous state stored for each state in the states dictionary.  Previous state is at index 2 in the list that each (x,y) key points to in the dictionary.  The function first finds a list of the path coordinates, then uses these coordinates to construct the path to be returned.  This path is the offsets needed to get from start state to the goal as a list.  The function uses the difference in x and y coordinates between each step to get these offsets."
   ]
  },
  {
   "cell_type": "code",
   "execution_count": 367,
   "metadata": {
    "collapsed": true
   },
   "outputs": [],
   "source": [
    "def construct_path(goal, states):\n",
    "    path_coordinates = []\n",
    "    path = []\n",
    "    current = goal\n",
    "    \n",
    "    while current:\n",
    "        path_coordinates.insert(0, current)\n",
    "        current = states[current][2]\n",
    "\n",
    "    num_steps = len(path_coordinates)\n",
    "    for i in range(num_steps):\n",
    "        current_point = path_coordinates[i]\n",
    "        \n",
    "        if i < num_steps - 1:\n",
    "            next_point = path_coordinates[i + 1]\n",
    "        \n",
    "            xDiff = next_point[1] - current_point[1]\n",
    "            yDiff = next_point[0] - current_point[0]\n",
    "        \n",
    "            path.append((xDiff, yDiff))   \n",
    "           \n",
    "    return path"
   ]
  },
  {
   "cell_type": "markdown",
   "metadata": {},
   "source": [
    "-----\n",
    "**Print the world**\n",
    "\n",
    "This function prints the world as a grid with no spaces or extra characters.  It is used to pretty print the final solution as a path through the world using characters '>', '<', '^', 'v' to show the directions that the agent traveled."
   ]
  },
  {
   "cell_type": "code",
   "execution_count": 368,
   "metadata": {
    "collapsed": true
   },
   "outputs": [],
   "source": [
    "def print_world(world):\n",
    "    for row in world:\n",
    "        for col in row:\n",
    "            sys.stdout.write(col)\n",
    "        print"
   ]
  },
  {
   "cell_type": "markdown",
   "metadata": {},
   "source": [
    "-----\n",
    "**Get the symbol that represents movement in the world**\n",
    "\n",
    "As described above, characters '>', '<', '^', 'v' represent the directions the agent traveled in the world.  Given a step from the path list that contains the offsets needed to get from start state to the goal, this function returns the character that indicates which direction was taken."
   ]
  },
  {
   "cell_type": "code",
   "execution_count": 369,
   "metadata": {
    "collapsed": true
   },
   "outputs": [],
   "source": [
    "def get_path_symbol(step):\n",
    "    if step[0] > 0:\n",
    "        return '>'\n",
    "    \n",
    "    if step[0] < 0:\n",
    "        return '<'\n",
    "    \n",
    "    if step[1] > 0:\n",
    "        return 'v'\n",
    "        \n",
    "    if step[1] < 0:\n",
    "        return '^'    "
   ]
  },
  {
   "cell_type": "markdown",
   "metadata": {},
   "source": [
    "\n",
    "\n",
    "-----"
   ]
  },
  {
   "cell_type": "markdown",
   "metadata": {},
   "source": [
    "**a_star_search**\n",
    "\n",
    "The `a_star_search` function uses the A\\* Search algorithm to solve a navigational problem for an agent in a grid world. It calculates a path from the start state to the goal state and returns the actions required to get from the start to the goal.\n",
    "\n",
    "* **world** is the starting state representation for a navigation problem.\n",
    "* **start** is the starting location, `(x, y)`.\n",
    "* **goal** is the desired end position, `(x, y)`.\n",
    "* **costs** is a `Dict` of costs for each type of terrain.\n",
    "* **moves** is the legal movement model expressed in offsets.\n",
    "* **heuristic** is a heuristic function that returns an estimate of the total cost $f(x)$ from the start to the goal through the current node, $x$. The heuristic function might change with the movement model.\n",
    "\n",
    "\n",
    "The function returns the offsets needed to get from start state to the goal as a `List`. For example, for the test world:\n",
    "\n",
    "```\n",
    "  ['.', '*', '*', '*', '*', '*', '*'],\n",
    "  ['.', '*', '*', '*', '*', '*', '*'],\n",
    "  ['.', '*', '*', '*', '*', '*', '*'],\n",
    "  ['.', '.', '.', '.', '.', '.', '.'],\n",
    "  ['*', '*', '*', '*', '*', '*', '.'],\n",
    "  ['*', '*', '*', '*', '*', '*', '.'],\n",
    "  ['*', '*', '*', '*', '*', '*', '.'],\n",
    "\n",
    "```\n",
    "\n",
    "it would return:\n",
    "\n",
    "`[(0,1), (0,1), (0,1), (1,0), (1,0), (1,0), (1,0), (1,0), (1,0), (0,1), (0,1), (0,1)]`\n",
    "\n",
    "Do not make unwarranted assumptions. For example, do not assume the starting point is always `(0, 0)` or that the goal is always in the lower right hand corner. Do not make any assumptions about the movement model beyond the requirement that they be offsets (it could be offets of 2!)."
   ]
  },
  {
   "cell_type": "code",
   "execution_count": 370,
   "metadata": {
    "collapsed": false
   },
   "outputs": [],
   "source": [
    "def a_star_search(world, start, goal, costs, moves, heuristic):\n",
    "    frontier = []\n",
    "    explored = []\n",
    "    path = []\n",
    "    start = (start[1], start[0])\n",
    "    goal = (goal[1], goal[0])\n",
    "    states = { start: [0, heuristic(start, goal), None] }\n",
    "    \n",
    "    frontier.append(start)\n",
    "\n",
    "    while frontier: \n",
    "        current_state = frontier.pop(0) \n",
    "        if current_state == goal:\n",
    "            return construct_path(current_state, states)\n",
    "        \n",
    "        children = get_successors(current_state, world, moves)\n",
    "        for child in children:\n",
    "            if child not in explored:\n",
    "                insert_into_frontier(heuristic, child, current_state, world, goal, frontier, states)  #this needs to check if already in frontier\n",
    "        \n",
    "        explored.append(current_state)\n",
    "    \n",
    "    return []"
   ]
  },
  {
   "cell_type": "markdown",
   "metadata": {},
   "source": [
    "**pretty_print_solution**\n",
    "\n",
    "The `pretty_print_solution` function prints an ASCII representation of the solution generated by the `a_star_search`. For example, for the test world, it would take the `world` and `path` and print:\n",
    "\n",
    "```\n",
    "v******\n",
    "v******\n",
    "v******\n",
    ">>>>>>v\n",
    "******v\n",
    "******v\n",
    "******G\n",
    "```\n",
    "\n",
    "using `v`, `^`, `>`, `<` to represent actions and `G` to represent the goal. (Note the format of the output...there are no spaces, commas, or extraneous characters).\n"
   ]
  },
  {
   "cell_type": "code",
   "execution_count": 371,
   "metadata": {
    "collapsed": false
   },
   "outputs": [],
   "source": [
    "def pretty_print_solution(world, path, start):\n",
    "    start = (start[1], start[0])\n",
    "    world_copy = copy.deepcopy(world)\n",
    "    world_copy[start[0]]\n",
    "    current_location = start\n",
    "    \n",
    "    for step in path:\n",
    "        symbol = get_path_symbol(step)\n",
    "        \n",
    "        world_copy[current_location[0]][current_location[1]] = symbol\n",
    "        \n",
    "        current_location0 = current_location[0] + step[1]\n",
    "        current_location1 = current_location[1] + step[0]\n",
    "        \n",
    "        current_location = (current_location0, current_location1)\n",
    "        \n",
    "    world_copy[current_location[0]][current_location[1]] = 'G'   \n",
    "    print_world(world_copy)"
   ]
  },
  {
   "cell_type": "markdown",
   "metadata": {},
   "source": [
    "Execute `a_star_search` and `print_path` for the `test_world` and the `real_world`."
   ]
  },
  {
   "cell_type": "markdown",
   "metadata": {},
   "source": [
    "**Heuristic function**\n",
    "\n",
    "This heuristic function finds the manhattan distance from the given state to the goal state, assuming a cost of 1.  I assume a cost of 1, to ensure the heuristic is admissible, e.g. does not overestimate the cost to reach the goal."
   ]
  },
  {
   "cell_type": "code",
   "execution_count": 372,
   "metadata": {
    "collapsed": true
   },
   "outputs": [],
   "source": [
    "# heuristic function\n",
    "def heuristic(state, goal):\n",
    "    x = state[0]\n",
    "    y = state[1]\n",
    "    \n",
    "    xDifference = abs(x - goal[0])\n",
    "    yDifference = abs(y - goal[1])\n",
    "    return xDifference + yDifference"
   ]
  },
  {
   "cell_type": "code",
   "execution_count": 373,
   "metadata": {
    "collapsed": false
   },
   "outputs": [
    {
     "name": "stdout",
     "output_type": "stream",
     "text": [
      "[(0, 1), (0, 1), (0, 1), (1, 0), (1, 0), (1, 0), (1, 0), (1, 0), (1, 0), (0, 1), (0, 1), (0, 1)]\n"
     ]
    }
   ],
   "source": [
    "test_path = a_star_search( test_world, (0, 0), (6, 6), costs, cardinal_moves, heuristic)\n",
    "print test_path"
   ]
  },
  {
   "cell_type": "code",
   "execution_count": 374,
   "metadata": {
    "collapsed": false
   },
   "outputs": [
    {
     "name": "stdout",
     "output_type": "stream",
     "text": [
      "v******\n",
      "v******\n",
      "v******\n",
      ">>>>>>v\n",
      "******v\n",
      "******v\n",
      "******G\n"
     ]
    }
   ],
   "source": [
    "pretty_print_solution( test_world, test_path, (0, 0))"
   ]
  },
  {
   "cell_type": "code",
   "execution_count": 375,
   "metadata": {
    "collapsed": false
   },
   "outputs": [
    {
     "name": "stdout",
     "output_type": "stream",
     "text": [
      "[(0, 1), (0, 1), (0, 1), (0, 1), (0, 1), (0, 1), (0, 1), (0, 1), (0, 1), (0, 1), (0, 1), (0, 1), (0, 1), (0, 1), (0, 1), (0, 1), (0, 1), (0, 1), (0, 1), (0, 1), (0, 1), (0, 1), (1, 0), (1, 0), (1, 0), (0, 1), (1, 0), (0, 1), (0, 1), (0, 1), (1, 0), (1, 0), (1, 0), (1, 0), (1, 0), (1, 0), (1, 0), (1, 0), (1, 0), (1, 0), (1, 0), (1, 0), (1, 0), (1, 0), (1, 0), (1, 0), (1, 0), (1, 0), (1, 0), (1, 0), (1, 0), (1, 0)]\n"
     ]
    }
   ],
   "source": [
    "full_path = a_star_search( full_world, (0, 0), (26, 26), costs, cardinal_moves, heuristic)\n",
    "print full_path"
   ]
  },
  {
   "cell_type": "code",
   "execution_count": 376,
   "metadata": {
    "collapsed": false
   },
   "outputs": [
    {
     "name": "stdout",
     "output_type": "stream",
     "text": [
      "v....**********............\n",
      "v......*********..xxxxxxx..\n",
      "v...xx***********xxx###xx##\n",
      "v...#xxx****~~*****..##xx#.\n",
      "v..##xx**..~~~~***...#xxx#.\n",
      "v###xx##....~~~~~.....#x#..\n",
      "v##xx##....#xxx~~~.....#...\n",
      "v.#####......#xxx~~~..###..\n",
      "v..###......##xx.~~..###...\n",
      "v..~~~..###xxxx...~.###....\n",
      "v.~~~~~.##xxx#.....#xxx#...\n",
      "v~~~~~..#xx#....~~..#xx#...\n",
      "v~~~~..##xx#.~~~~...#x#....\n",
      "v~~~~..#**#....~~~~..#.....\n",
      "v...x..****####.~~~..#x#...\n",
      "v..xxx******xxx##.~.#xx#...\n",
      "v.xx**********xxx..xxx.....\n",
      "v..xx***********xxxx.......\n",
      "v..xxx********...##........\n",
      "v...xxx******..........~~~~\n",
      "v.####xx*****.x.....~~~~~~~\n",
      "v...###xxx**xx......~~~~~~~\n",
      ">>>v..###xxxx....##..~~~~~~\n",
      ".##>v#####.....##xx##.~~~~~\n",
      "#x##v#.....xxx##xx.xx##~~~~\n",
      "#xxxv.....##xxxx####xxx~~~~\n",
      "##..>>>>>>>>>>>>>>>>>>>>>>G\n"
     ]
    }
   ],
   "source": [
    "pretty_print_solution( full_world, full_path, (0, 0))"
   ]
  }
 ],
 "metadata": {
  "kernelspec": {
   "display_name": "Python 2",
   "language": "python",
   "name": "python2"
  },
  "language_info": {
   "codemirror_mode": {
    "name": "ipython",
    "version": 2
   },
   "file_extension": ".py",
   "mimetype": "text/x-python",
   "name": "python",
   "nbconvert_exporter": "python",
   "pygments_lexer": "ipython2",
   "version": "2.7.13"
  }
 },
 "nbformat": 4,
 "nbformat_minor": 0
}
