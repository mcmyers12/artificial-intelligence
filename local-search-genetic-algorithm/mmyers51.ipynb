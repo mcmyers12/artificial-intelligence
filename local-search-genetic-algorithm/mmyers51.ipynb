{
 "cells": [
  {
   "cell_type": "markdown",
   "metadata": {},
   "source": [
    "# Module 5 - Programming Assignment"
   ]
  },
  {
   "cell_type": "code",
   "execution_count": 2,
   "metadata": {
    "collapsed": true
   },
   "outputs": [],
   "source": [
    "from IPython.core.display import *\n",
    "from StringIO import StringIO\n",
    "from random import gauss, random\n",
    "Rimport copy"
   ]
  },
  {
   "cell_type": "markdown",
   "metadata": {},
   "source": [
    "## Local Search - Genetic Algorithm\n",
    "\n",
    "This program uses the Genetic Algorithm to find the solution to a shifted Sphere Function in 10 dimensions, $x$, where the range of $x_i$ in each dimension is (-5.12 to 5.12). Here a \"solution\" means the vector $x$ that minimizes the function. The Sphere Function is:\n",
    "\n",
    "$$f(x)=\\sum x^2_i$$\n",
    "\n",
    "We are going to shift it over 0.5 in every dimension:\n",
    "\n",
    "$$f(x) = \\sum (x_i - 0.5)^2$$\n",
    "\n",
    "where $n = 10$.\n",
    "\n",
    "As this *is* a minimization problem you'll the program uses the trick described in the lecture to turn the shifted Sphere Function into an appropriate fitness function (which is always looking for a *maximum* value)."
   ]
  },
  {
   "cell_type": "markdown",
   "metadata": {},
   "source": [
    "## Binary GA\n",
    "\n",
    "The problem is solved in two different ways. First, using the traditional (or \"Canonical\") Genetic Algorithm that encodes numeric values as binary strings (represented as lists of only 0 or 1).\n",
    "\n",
    "There are many different ways to affect this encoding. This program uses a 10 bit binary encoding for each $x_i$. This gives each $x_i$ a potential value of 0 to 1024 which is be mapped to (-5.12, 5.12) by subtracting 512 and dividing by 100.\n",
    "\n",
    "All the GA operators are as described in the lecture.\n",
    "\n",
    "**Important**\n",
    "\n",
    "There is a difference between the *genotype* and the *phenotype*. The GA operates on the *genotype* (the encoding) and does not respect the boundaries of the phenotype (the decoding). So, for example, do **not** use a List of Lists to represent an individual. It should be a *single* List of 10 x 10 or 100 bits. In general, crossover and mutation have no idea what those bits represent."
   ]
  },
  {
   "cell_type": "markdown",
   "metadata": {},
   "source": [
    "## Real Valued GA\n",
    "\n",
    "For the real valued GA, each $x_i$ is represented as a float in the range (-5.12, 5.12) and the mutation operator applies gaussian noise. Python's random number generator for the normal distribution is called `gauss` and is found in the random module:\n",
    "\n",
    "```\n",
    "from random import gauss, random\n",
    "```\n",
    "\n",
    "You may need to experiment a bit with the standard deviation of the noise but the mean will be 0.0."
   ]
  },
  {
   "cell_type": "markdown",
   "metadata": {},
   "source": [
    "## GA\n",
    "\n",
    "The Genetic Algorithm itself will have the same basic structure in each case: create a population, evaluate it, select parents, apply crossover and mutation, repeat until the number of desired generations have been generated. The easiest way to accomplish this in \"Functional\" Python would be to use Higher Order Functions.\n",
    "\n",
    "\n",
    "\n",
    "Your code should print out the best individual of each generation including the generation number, genotype (the representation), phenotype (the actual value), the fitness (based on your fitness function transformation) and the function value (for the shifted sphere) if passed a DEBUG=True flag.\n",
    "\n",
    "The GA has a lot of parameters: mutation rate, crossover rate, population size, dimensions (given for this problem), number of generations.  You can put all of those and your fitness function in a `Dict` in which case you need to implement:\n",
    "\n",
    "```python\n",
    "def binary_ga( parameters):\n",
    "  pass\n",
    "```\n",
    "\n",
    "and\n",
    "\n",
    "```python\n",
    "def real_ga( parameters):\n",
    "  pass\n",
    "```\n",
    "\n",
    "Remember that you need to transform the sphere function into a legit fitness function. Since you also need the sphere function, I would suggest that your parameters Dict includes something like:\n",
    "\n",
    "```python\n",
    "parameters = {\n",
    "   \"f\": lambda xs: sphere( 0.5, xs),\n",
    "   \"minimization\": True\n",
    "   # put other parameters in here.\n",
    "}\n",
    "```\n",
    "\n",
    "and then have your code check for \"minimization\" and create an entry for \"fitness\" that is appropriate."
   ]
  },
  {
   "cell_type": "code",
   "execution_count": 10,
   "metadata": {
    "collapsed": false
   },
   "outputs": [],
   "source": [
    "def sphere( shift, xs):\n",
    "    return sum( [(x - shift)**2 for x in xs])"
   ]
  },
  {
   "cell_type": "code",
   "execution_count": 12,
   "metadata": {
    "collapsed": false
   },
   "outputs": [
    {
     "data": {
      "text/plain": [
       "113.42720000000001"
      ]
     },
     "execution_count": 12,
     "metadata": {},
     "output_type": "execute_result"
    }
   ],
   "source": [
    "sphere( 0.5, [1.0, 2.0, -3.4, 5.0, -1.2, 3.23, 2.87, -4.23, 3.82, -4.61])"
   ]
  },
  {
   "cell_type": "markdown",
   "metadata": {},
   "source": [
    "\n",
    "-----"
   ]
  },
  {
   "cell_type": "markdown",
   "metadata": {},
   "source": [
    "&nbsp;\n",
    "\n",
    "**Minimization fitness**\n",
    "\n",
    "minimization_fitness transforms the value returned from the sphere into an appropriate fitness function, since shifted Sphere Function is a minimization problem, and the fitness function is looking for a maximum."
   ]
  },
  {
   "cell_type": "code",
   "execution_count": 8,
   "metadata": {
    "collapsed": true
   },
   "outputs": [],
   "source": [
    "def minimization_fitness(fitness_score):\n",
    "    return 1 / (1 + fitness_score)"
   ]
  },
  {
   "cell_type": "markdown",
   "metadata": {},
   "source": [
    "&nbsp;\n",
    "\n",
    "**Initialize phenotype**\n",
    "\n",
    "initialize_phenotype initializes a random phenotype for an individual.  It takes the given dimensions (10 for this problem) and initializes a list of 10 random numbers between -5.12 and 5.12.  This function is used to initialize the entire population."
   ]
  },
  {
   "cell_type": "code",
   "execution_count": null,
   "metadata": {
    "collapsed": true
   },
   "outputs": [],
   "source": [
    "def initialize_phenotype(dimensions):\n",
    "    phenotype = []\n",
    "    for i in range(dimensions):\n",
    "        phenotype.append(round(random.uniform(-5.12, 5.12), 2))\n",
    "    return phenotype"
   ]
  },
  {
   "cell_type": "markdown",
   "metadata": {},
   "source": [
    "&nbsp;\n",
    "\n",
    "**Binary GA phenotype to genotype**\n",
    "\n",
    "It is necessary to be able to convert from phenotype to genotype for the binary GA.  This is used when the population is initialized.  Each genotype is initialized by converting the created phenotype to the corresponding genotype using the 10 bit binary encoding for each $x_i$. This gives each $x_i$ a potential value of 0 to 1024 which is be mapped to (-5.12, 5.12) by subtracting 512 and dividing by 100.  The genotype is represented as a list of 0s and 1s."
   ]
  },
  {
   "cell_type": "code",
   "execution_count": null,
   "metadata": {
    "collapsed": true
   },
   "outputs": [],
   "source": [
    "def binary_ga_phenotye_to_genotype(phenotype):\n",
    "    genotype = []\n",
    "    for decimal_representation in phenotype:\n",
    "        decimal_representation = int((decimal_representation * 100) + 512)\n",
    "        binary_representation = [int(x) for x in bin(decimal_representation)[2:]]\n",
    "        for bit in binary_representation:\n",
    "            genotype.append(bit)\n",
    "    return genotype"
   ]
  },
  {
   "cell_type": "markdown",
   "metadata": {},
   "source": [
    "&nbsp;\n",
    "\n",
    "**Binary GA genotype to phenotype**\n",
    "\n",
    "It is necessary to be able to convert from genotype to phenotype for the binary GA.  This is used in the binary GA crossover function, each time a new genotype is created using crossover to store the corresponding phenotype.  binary_ga_genotype_to_phenotype converts the binary representation of each dimension to the decimal representation, then subtracts 512 and divides by 100 to account for the binary encoding procedure described above.  "
   ]
  },
  {
   "cell_type": "code",
   "execution_count": null,
   "metadata": {
    "collapsed": true
   },
   "outputs": [],
   "source": [
    "def binary_ga_genotype_to_phenotype(genotype):\n",
    "    split_genotype = [genotype[i:i + 10] for i in xrange(0, len(genotype), 10)]\n",
    "    phenotype = []\n",
    "    for binary_representation in split_genotype:\n",
    "        decimal_representation = int(\"\".join(str(x) for x in binary_representation), 2)\n",
    "        decimal_representation = (decimal_representation - 512.0) / 100\n",
    "        phenotype.append(decimal_representation)\n",
    "    return phenotype"
   ]
  },
  {
   "cell_type": "markdown",
   "metadata": {},
   "source": [
    "&nbsp;\n",
    "\n",
    "**Binary GA initialize population**\n",
    "\n",
    "This function initializes the population for the binary GA with N random individuals of M dimensions, where N and M are defined as \"population_size\" and \"dimensions\" in the parameters dict passed to the genetic algorithm.  This function uses intialize_phenotype for each individual's phenotype, and binary_ga_phenotye_to_genotype to create its genotype.  The population is a list of dictionaries representing individuals.  Each dictionary contains key \"phenotype\" and \"genotype\", and this dictionary later includes key \"fitness\"."
   ]
  },
  {
   "cell_type": "code",
   "execution_count": 1,
   "metadata": {
    "collapsed": true
   },
   "outputs": [],
   "source": [
    "def binary_ga_initialize_population(population_size, dimensions):\n",
    "    population = []\n",
    "    for i in range(population_size):\n",
    "        individual = {}\n",
    "        phenotype = initialize_phenotype(dimensions)\n",
    "        individual[\"phenotype\"] = phenotype\n",
    "        individual[\"genotype\"] = binary_ga_phenotye_to_genotype(phenotype)\n",
    "        population.append(individual)\n",
    "\n",
    "    return population"
   ]
  },
  {
   "cell_type": "markdown",
   "metadata": {},
   "source": [
    "&nbsp;\n",
    "\n",
    "**Real GA initialize population**\n",
    "\n",
    "This function initializes the population for the real GA with N random individuals of M dimensions, where N and M are defined as \"population_size\" and \"dimensions\" in the parameters dict passed to the genetic algorithm.  This function uses intialize_phenotype for each individual's phenotype, and and copies this value to create its genotype.  The population is a list of dictionaries representing individuals.  Each dictionary contains key \"phenotype\" and \"genotype\", and this dictionary later includes key \"fitness\"."
   ]
  },
  {
   "cell_type": "code",
   "execution_count": null,
   "metadata": {
    "collapsed": true
   },
   "outputs": [],
   "source": [
    "def real_ga_initialize_population(population_size, dimensions):\n",
    "    population = []\n",
    "    for i in range(population_size):\n",
    "        individual = {}\n",
    "        phenotype = initialize_phenotype(dimensions)\n",
    "        individual[\"phenotype\"] = phenotype\n",
    "        individual[\"genotype\"] = copy.deepcopy(phenotype)\n",
    "        population.append(individual)\n",
    "\n",
    "    return population"
   ]
  },
  {
   "cell_type": "markdown",
   "metadata": {},
   "source": [
    "&nbsp;\n",
    "\n",
    "**Calculate fitness**\n",
    "\n",
    "This function calculates and returns the fitness of an individual, given the dict representing the individual as described above and a flag that is True if this is a minimization problem, false otherwise.  The calculation is done on the phenotype of the individual.  If this is not a minimization problem, the sphere function is used as the fitness function.  If it is a minimization function, the minimization_fitness function is run on the value produced by the sphere function.  calculate_fitness is used to evaluate the entire population."
   ]
  },
  {
   "cell_type": "code",
   "execution_count": 2,
   "metadata": {
    "collapsed": true
   },
   "outputs": [],
   "source": [
    "def calculate_fitness(individual, minimization):\n",
    "    phenotype = individual[\"phenotype\"]\n",
    "    fitness = sphere(0.5, phenotype)\n",
    "    \n",
    "    if minimization:\n",
    "        fitness = minimization_fitness(fitness)\n",
    "    \n",
    "    individual[\"fitness\"] = fitness\n"
   ]
  },
  {
   "cell_type": "markdown",
   "metadata": {},
   "source": [
    "&nbsp;\n",
    "\n",
    "**Evaluate population**\n",
    "\n",
    "This function "
   ]
  },
  {
   "cell_type": "code",
   "execution_count": null,
   "metadata": {
    "collapsed": true
   },
   "outputs": [],
   "source": [
    "# each individual should contain at least fields for its genome and fitness score\n",
    "# evaluate applies the fitness function to each individual (make sure to transform fitness score)\n",
    "def evaluate_population(population, minimization):\n",
    "    best_fitness = float(\"-inf\")\n",
    "    best_individual = None\n",
    "    for individual in population:\n",
    "        calculate_fitness(individual, minimization)\n",
    "        fitness = individual[\"fitness\"]\n",
    "        if fitness > best_fitness:\n",
    "            best_individual = individual\n",
    "            best_fitness = fitness\n",
    "\n",
    "    return best_individual"
   ]
  },
  {
   "cell_type": "markdown",
   "metadata": {},
   "source": [
    "-----"
   ]
  },
  {
   "cell_type": "code",
   "execution_count": 15,
   "metadata": {
    "collapsed": true
   },
   "outputs": [],
   "source": [
    "## Traditional GA\n",
    "## binary_ga( parameters)"
   ]
  },
  {
   "cell_type": "code",
   "execution_count": 16,
   "metadata": {
    "collapsed": true
   },
   "outputs": [],
   "source": [
    "## Real Valued GA\n",
    "## real_ga( parameters)"
   ]
  }
 ],
 "metadata": {
  "kernelspec": {
   "display_name": "Python 2",
   "language": "python",
   "name": "python2"
  },
  "language_info": {
   "codemirror_mode": {
    "name": "ipython",
    "version": 2
   },
   "file_extension": ".py",
   "mimetype": "text/x-python",
   "name": "python",
   "nbconvert_exporter": "python",
   "pygments_lexer": "ipython2",
   "version": "2.7.13"
  }
 },
 "nbformat": 4,
 "nbformat_minor": 0
}
