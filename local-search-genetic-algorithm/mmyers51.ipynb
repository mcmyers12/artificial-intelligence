{
 "cells": [
  {
   "cell_type": "markdown",
   "metadata": {},
   "source": [
    "# Module 5 - Programming Assignment"
   ]
  },
  {
   "cell_type": "code",
   "execution_count": 1,
   "metadata": {
    "collapsed": false
   },
   "outputs": [],
   "source": [
    "from IPython.core.display import *\n",
    "from StringIO import StringIO\n",
    "import random\n",
    "from random import gauss\n",
    "import copy"
   ]
  },
  {
   "cell_type": "markdown",
   "metadata": {},
   "source": [
    "## Local Search - Genetic Algorithm\n",
    "\n",
    "This program uses the Genetic Algorithm to find the solution to a shifted Sphere Function in 10 dimensions, $x$, where the range of $x_i$ in each dimension is (-5.12 to 5.12). Here a \"solution\" means the vector $x$ that minimizes the function. The Sphere Function is:\n",
    "\n",
    "$$f(x)=\\sum x^2_i$$\n",
    "\n",
    "We are going to shift it over 0.5 in every dimension:\n",
    "\n",
    "$$f(x) = \\sum (x_i - 0.5)^2$$\n",
    "\n",
    "where $n = 10$.\n",
    "\n",
    "As this *is* a minimization problem you'll the program uses the trick described in the lecture to turn the shifted Sphere Function into an appropriate fitness function (which is always looking for a *maximum* value)."
   ]
  },
  {
   "cell_type": "markdown",
   "metadata": {},
   "source": [
    "## Binary GA\n",
    "\n",
    "The problem is solved in two different ways. First, using the traditional (or \"Canonical\") Genetic Algorithm that encodes numeric values as binary strings (represented as lists of only 0 or 1).\n",
    "\n",
    "There are many different ways to affect this encoding. This program uses a 10 bit binary encoding for each $x_i$. This gives each $x_i$ a potential value of 0 to 1024 which is be mapped to (-5.12, 5.12) by subtracting 512 and dividing by 100.\n",
    "\n",
    "All the GA operators are as described in the lecture.\n",
    "\n",
    "**Important**\n",
    "\n",
    "There is a difference between the *genotype* and the *phenotype*. The GA operates on the *genotype* (the encoding) and does not respect the boundaries of the phenotype (the decoding). So, for example, do **not** use a List of Lists to represent an individual. It should be a *single* List of 10 x 10 or 100 bits. In general, crossover and mutation have no idea what those bits represent."
   ]
  },
  {
   "cell_type": "markdown",
   "metadata": {},
   "source": [
    "## Real Valued GA\n",
    "\n",
    "For the real valued GA, each $x_i$ is represented as a float in the range (-5.12, 5.12) and the mutation operator applies gaussian noise. Python's random number generator for the normal distribution is called `gauss` and is found in the random module:\n",
    "\n",
    "```\n",
    "from random import gauss, random\n",
    "```\n",
    "\n",
    "You may need to experiment a bit with the standard deviation of the noise but the mean will be 0.0."
   ]
  },
  {
   "cell_type": "markdown",
   "metadata": {},
   "source": [
    "## GA\n",
    "\n",
    "The Genetic Algorithm itself will have the same basic structure in each case: create a population, evaluate it, select parents, apply crossover and mutation, repeat until the number of desired generations have been generated. The easiest way to accomplish this in \"Functional\" Python would be to use Higher Order Functions.\n",
    "\n",
    "\n",
    "\n",
    "Your code should print out the best individual of each generation including the generation number, genotype (the representation), phenotype (the actual value), the fitness (based on your fitness function transformation) and the function value (for the shifted sphere) if passed a DEBUG=True flag.\n",
    "\n",
    "The GA has a lot of parameters: mutation rate, crossover rate, population size, dimensions (given for this problem), number of generations.  You can put all of those and your fitness function in a `Dict` in which case you need to implement:\n",
    "\n",
    "```python\n",
    "def binary_ga( parameters):\n",
    "  pass\n",
    "```\n",
    "\n",
    "and\n",
    "\n",
    "```python\n",
    "def real_ga( parameters):\n",
    "  pass\n",
    "```\n",
    "\n",
    "Remember that you need to transform the sphere function into a legit fitness function. Since you also need the sphere function, I would suggest that your parameters Dict includes something like:\n",
    "\n",
    "```python\n",
    "parameters = {\n",
    "   \"f\": lambda xs: sphere( 0.5, xs),\n",
    "   \"minimization\": True\n",
    "   # put other parameters in here.\n",
    "}\n",
    "```\n",
    "\n",
    "and then have your code check for \"minimization\" and create an entry for \"fitness\" that is appropriate."
   ]
  },
  {
   "cell_type": "code",
   "execution_count": 2,
   "metadata": {
    "collapsed": false
   },
   "outputs": [],
   "source": [
    "def sphere( shift, xs):\n",
    "    return sum( [(x - shift)**2 for x in xs])"
   ]
  },
  {
   "cell_type": "code",
   "execution_count": 3,
   "metadata": {
    "collapsed": false
   },
   "outputs": [
    {
     "data": {
      "text/plain": [
       "113.42720000000001"
      ]
     },
     "execution_count": 3,
     "metadata": {},
     "output_type": "execute_result"
    }
   ],
   "source": [
    "sphere( 0.5, [1.0, 2.0, -3.4, 5.0, -1.2, 3.23, 2.87, -4.23, 3.82, -4.61])"
   ]
  },
  {
   "cell_type": "markdown",
   "metadata": {},
   "source": [
    "\n",
    "-----"
   ]
  },
  {
   "cell_type": "markdown",
   "metadata": {},
   "source": [
    "## Helper Functions"
   ]
  },
  {
   "cell_type": "markdown",
   "metadata": {},
   "source": [
    "&nbsp;\n",
    "\n",
    "**Minimization fitness**\n",
    "\n",
    "minimization_fitness transforms the value returned from the sphere into an appropriate fitness function, since shifted Sphere Function is a minimization problem, and the fitness function is looking for a maximum."
   ]
  },
  {
   "cell_type": "code",
   "execution_count": 4,
   "metadata": {
    "collapsed": true
   },
   "outputs": [],
   "source": [
    "def minimization_fitness(fitness_score):\n",
    "    return 1 / (1 + fitness_score)"
   ]
  },
  {
   "cell_type": "markdown",
   "metadata": {},
   "source": [
    "&nbsp;\n",
    "\n",
    "**Initialize phenotype**\n",
    "\n",
    "initialize_phenotype initializes a random phenotype for an individual.  It takes the given dimensions (10 for this problem) and initializes a list of 10 random numbers between -5.12 and 5.12.  This function is used to initialize the entire population."
   ]
  },
  {
   "cell_type": "code",
   "execution_count": 5,
   "metadata": {
    "collapsed": true
   },
   "outputs": [],
   "source": [
    "def initialize_phenotype(dimensions):\n",
    "    phenotype = []\n",
    "    for i in range(dimensions):\n",
    "        phenotype.append(round(random.uniform(-5.12, 5.12), 2))\n",
    "    return phenotype"
   ]
  },
  {
   "cell_type": "markdown",
   "metadata": {},
   "source": [
    "&nbsp;\n",
    "\n",
    "**Binary GA phenotype to genotype**\n",
    "\n",
    "It is necessary to be able to convert from phenotype to genotype for the binary GA.  This is used when the population is initialized.  Each genotype is initialized by converting the created phenotype to the corresponding genotype using the 10 bit binary encoding for each $x_i$. This gives each $x_i$ a potential value of 0 to 1024 which is be mapped to (-5.12, 5.12) by subtracting 512 and dividing by 100.  The genotype is represented as a list of 0s and 1s."
   ]
  },
  {
   "cell_type": "code",
   "execution_count": 6,
   "metadata": {
    "collapsed": true
   },
   "outputs": [],
   "source": [
    "def binary_ga_phenotye_to_genotype(phenotype):\n",
    "    genotype = []\n",
    "    for decimal_representation in phenotype:\n",
    "        decimal_representation = int((decimal_representation * 100) + 512)\n",
    "        binary_representation = [int(x) for x in bin(decimal_representation)[2:]]\n",
    "        for bit in binary_representation:\n",
    "            genotype.append(bit)\n",
    "    return genotype"
   ]
  },
  {
   "cell_type": "markdown",
   "metadata": {},
   "source": [
    "&nbsp;\n",
    "\n",
    "**Binary GA genotype to phenotype**\n",
    "\n",
    "It is necessary to be able to convert from genotype to phenotype for the binary GA.  This is used in the binary GA crossover function, each time a new genotype is created using crossover to store the corresponding phenotype.  binary_ga_genotype_to_phenotype converts the binary representation of each dimension to the decimal representation, then subtracts 512 and divides by 100 to account for the binary encoding procedure described above.  "
   ]
  },
  {
   "cell_type": "code",
   "execution_count": 7,
   "metadata": {
    "collapsed": true
   },
   "outputs": [],
   "source": [
    "def binary_ga_genotype_to_phenotype(genotype):\n",
    "    split_genotype = [genotype[i:i + 10] for i in xrange(0, len(genotype), 10)]\n",
    "    phenotype = []\n",
    "    for binary_representation in split_genotype:\n",
    "        decimal_representation = int(\"\".join(str(x) for x in binary_representation), 2)\n",
    "        decimal_representation = (decimal_representation - 512.0) / 100\n",
    "        phenotype.append(decimal_representation)\n",
    "    return phenotype"
   ]
  },
  {
   "cell_type": "markdown",
   "metadata": {},
   "source": [
    "&nbsp;\n",
    "\n",
    "**Binary GA initialize population**\n",
    "\n",
    "This function initializes the population for the binary GA with N random individuals of M dimensions, where N and M are defined as \"population_size\" and \"dimensions\" in the parameters dict passed to the genetic algorithm.  This function uses intialize_phenotype for each individual's phenotype, and binary_ga_phenotye_to_genotype to create its genotype.  The population is a list of dictionaries representing individuals.  Each dictionary contains key \"phenotype\" and \"genotype\", and this dictionary later includes key \"fitness\"."
   ]
  },
  {
   "cell_type": "code",
   "execution_count": 8,
   "metadata": {
    "collapsed": true
   },
   "outputs": [],
   "source": [
    "def binary_ga_initialize_population(population_size, dimensions):\n",
    "    population = []\n",
    "    for i in range(population_size):\n",
    "        individual = {}\n",
    "        phenotype = initialize_phenotype(dimensions)\n",
    "        individual[\"phenotype\"] = phenotype\n",
    "        individual[\"genotype\"] = binary_ga_phenotye_to_genotype(phenotype)\n",
    "        population.append(individual)\n",
    "\n",
    "    return population"
   ]
  },
  {
   "cell_type": "markdown",
   "metadata": {},
   "source": [
    "&nbsp;\n",
    "\n",
    "**Real GA initialize population**\n",
    "\n",
    "This function initializes the population for the real GA with N random individuals of M dimensions, where N and M are defined as \"population_size\" and \"dimensions\" in the parameters dict passed to the genetic algorithm.  This function uses intialize_phenotype for each individual's phenotype, and and copies this value to create its genotype.  The population is a list of dictionaries representing individuals.  Each dictionary contains key \"phenotype\" and \"genotype\", and this dictionary later includes key \"fitness\"."
   ]
  },
  {
   "cell_type": "code",
   "execution_count": 9,
   "metadata": {
    "collapsed": true
   },
   "outputs": [],
   "source": [
    "def real_ga_initialize_population(population_size, dimensions):\n",
    "    population = []\n",
    "    for i in range(population_size):\n",
    "        individual = {}\n",
    "        phenotype = initialize_phenotype(dimensions)\n",
    "        individual[\"phenotype\"] = phenotype\n",
    "        individual[\"genotype\"] = copy.deepcopy(phenotype)\n",
    "        population.append(individual)\n",
    "\n",
    "    return population"
   ]
  },
  {
   "cell_type": "markdown",
   "metadata": {},
   "source": [
    "&nbsp;\n",
    "\n",
    "**Calculate fitness**\n",
    "\n",
    "This function calculates and returns the fitness of an individual, given the dict representing the individual as described above and a flag that is True if this is a minimization problem, false otherwise.  The calculation is done on the phenotype of the individual.  If this is not a minimization problem, the sphere function is used as the fitness function.  If it is a minimization function, the minimization_fitness function is run on the value produced by the sphere function.  calculate_fitness is used to evaluate the entire population."
   ]
  },
  {
   "cell_type": "code",
   "execution_count": 10,
   "metadata": {
    "collapsed": true
   },
   "outputs": [],
   "source": [
    "def calculate_fitness(individual, minimization):\n",
    "    phenotype = individual[\"phenotype\"]\n",
    "    fitness = sphere(0.5, phenotype)\n",
    "    \n",
    "    if minimization:\n",
    "        fitness = minimization_fitness(fitness)\n",
    "    \n",
    "    individual[\"fitness\"] = fitness\n"
   ]
  },
  {
   "cell_type": "markdown",
   "metadata": {},
   "source": [
    "&nbsp;\n",
    "\n",
    "**Evaluate population**\n",
    "\n",
    "This function applies the fitnss function to each individual in a given population, and returns the best individual in terms of fitness from that population.  It adds a new field \"fitness\" to the dictionary representing the individual.  It also takes a minimization flag to pass to the calculate_fitness function.  This is used in the main genetic algorithm to evaluate the population's fitness before parents are selected, and to allow the main algorithm to keep track of the best individual overall."
   ]
  },
  {
   "cell_type": "code",
   "execution_count": 11,
   "metadata": {
    "collapsed": true
   },
   "outputs": [],
   "source": [
    "def evaluate_population(population, minimization):\n",
    "    best_fitness = float(\"-inf\")\n",
    "    best_individual = None\n",
    "    for individual in population:\n",
    "        calculate_fitness(individual, minimization)\n",
    "        fitness = individual[\"fitness\"]\n",
    "        if fitness > best_fitness:\n",
    "            best_individual = individual\n",
    "            best_fitness = fitness\n",
    "\n",
    "    return best_individual"
   ]
  },
  {
   "cell_type": "markdown",
   "metadata": {},
   "source": [
    "&nbsp;\n",
    "\n",
    "**Select parent**\n",
    "\n",
    "Given a random selection of individuals from a population, select_parent finds the individual in that list with the best fitness and returns that individual.  This is a helper function for the tournament selection algorithm for selecting two parents from a population."
   ]
  },
  {
   "cell_type": "code",
   "execution_count": 12,
   "metadata": {
    "collapsed": true
   },
   "outputs": [],
   "source": [
    "def select_parent(random_selection):\n",
    "    max_fitness = float(\"-inf\")\n",
    "    for individual in random_selection:\n",
    "        fitness = individual[\"fitness\"]\n",
    "        if fitness > max_fitness:\n",
    "            max_fitness = fitness\n",
    "            max_parent = individual\n",
    "\n",
    "    return max_parent"
   ]
  },
  {
   "cell_type": "markdown",
   "metadata": {},
   "source": [
    "&nbsp;\n",
    "\n",
    "**Get random indices**\n",
    "\n",
    "Given a population and a parameter tournament_selection_number representing the number of individuals to select for the tournament selection algorithm, get_random_indices selects tournament_selection_number of random indices in the population that will be used by the tournament selection algorithm to select random individuals from the population."
   ]
  },
  {
   "cell_type": "code",
   "execution_count": 13,
   "metadata": {
    "collapsed": true
   },
   "outputs": [],
   "source": [
    "def get_random_indices(population, tournament_selection_number):\n",
    "    random_indices = []\n",
    "    while len(random_indices) < tournament_selection_number:\n",
    "        random_index = random.randint(0, (len(population) - 1))\n",
    "        if random_index not in random_indices:\n",
    "            random_indices.append(random_index)\n",
    "            \n",
    "    return random_indices"
   ]
  },
  {
   "cell_type": "markdown",
   "metadata": {},
   "source": [
    "&nbsp;\n",
    "\n",
    "**Select parents - tournament selection**\n",
    "\n",
    "Given a population, select_parents_tournament_selection selects some given number of individuals at random, then selects the one with the highest fitness.  It does so using the get_random_indices function, then selects those individuals from the population and picks the one with the best fitness.  It ensures that parent1 and parent2 are not the same by, if parent1 is in the random individuals list for parent2 selection, removing it."
   ]
  },
  {
   "cell_type": "code",
   "execution_count": 14,
   "metadata": {
    "collapsed": true
   },
   "outputs": [],
   "source": [
    "def select_parents_tournament_selection(population, tournament_selection_number):\n",
    "    random_indices = get_random_indices(population, tournament_selection_number)\n",
    "     \n",
    "    random_individuals = []       \n",
    "    for index in random_indices:\n",
    "        random_individuals.append(population[index])\n",
    "    \n",
    "    parent1 = select_parent(random_individuals)\n",
    "    \n",
    "    random_indices = get_random_indices(population, tournament_selection_number)\n",
    "     \n",
    "    random_individuals = []       \n",
    "    for index in random_indices:\n",
    "        random_individuals.append(population[index])\n",
    "\n",
    "    if parent1 in random_individuals:\n",
    "        random_individuals.remove(parent1)\n",
    "    parent2 = select_parent(random_individuals)\n",
    "\n",
    "    return parent1, parent2"
   ]
  },
  {
   "cell_type": "markdown",
   "metadata": {},
   "source": [
    "&nbsp;\n",
    "\n",
    "**Binary GA crossover**\n",
    "\n",
    "Given two individuals representing parents, binary_ga_crossover implements crossover for the binary GA.  It gets a random crossover index by selecting a random integer between 0 and the length - 1 of a parent genotype. Child 1's genotype is built using 0:crossover_index + crossover_index:end of parent 1's genotype.  Child 2's genotype is built using 0:crossover_index + crossover_index:end of parent 2's genotype.  Both childrens' phenotypes are set using the binary_ga_genotype_to_phenotype function. The function returns child1, child2, and is used in the reproduce function in the binary GA."
   ]
  },
  {
   "cell_type": "code",
   "execution_count": 15,
   "metadata": {
    "collapsed": true
   },
   "outputs": [],
   "source": [
    "def binary_ga_crossover(parent1, parent2):\n",
    "    child1 = {}\n",
    "    child2 = {}\n",
    "\n",
    "    parent1_genotype = parent1[\"genotype\"]\n",
    "    parent2_genotype = parent2[\"genotype\"]\n",
    "\n",
    "    crossover_index = random.randint(0, len(parent1_genotype) - 1)\n",
    "\n",
    "    child1_genotype = parent1_genotype[:crossover_index] + parent2_genotype[crossover_index:]\n",
    "    child2_genotype = parent2_genotype[:crossover_index] + parent1_genotype[crossover_index:]\n",
    "\n",
    "    child1[\"genotype\"] = child1_genotype\n",
    "    child2[\"genotype\"] = child2_genotype\n",
    "\n",
    "    child1[\"phenotype\"] = binary_ga_genotype_to_phenotype(child1_genotype)\n",
    "    child2[\"phenotype\"] = binary_ga_genotype_to_phenotype(child2_genotype)\n",
    "\n",
    "    return child1, child2"
   ]
  },
  {
   "cell_type": "markdown",
   "metadata": {},
   "source": [
    "&nbsp;\n",
    "\n",
    "**Real GA crossover**\n",
    "\n",
    "Given two individuals representing parents, real_ga_crossover implements crossover for the real GA.  It gets a random crossover index by selecting a random integer between 0 and the length - 1 of a parent genotype. Child 1's genotype is built using 0:crossover_index + crossover_index:end of parent 1's genotype.  Child 2's genotype is built using 0:crossover_index + crossover_index:end of parent 2's genotype.  In this case, the phenotype is the same as the genotype, a list of floats between -5.12 and 5.12.  So, the phenotype of each child is set as the genotype just created. The function returns child1, child2, and is used in the reproduce function in the real GA."
   ]
  },
  {
   "cell_type": "code",
   "execution_count": 16,
   "metadata": {
    "collapsed": true
   },
   "outputs": [],
   "source": [
    "def real_ga_crossover(parent1, parent2):\n",
    "    child1 = {}\n",
    "    child2 = {}\n",
    "\n",
    "    parent1_genotype = parent1[\"genotype\"]\n",
    "    parent2_genotype = parent2[\"genotype\"]\n",
    "\n",
    "    crossover_index = random.randint(0, len(parent1_genotype) - 1)\n",
    "\n",
    "    child1_genotype = parent1_genotype[:crossover_index] + parent2_genotype[crossover_index:]\n",
    "    child2_genotype = parent2_genotype[:crossover_index] + parent1_genotype[crossover_index:]\n",
    "\n",
    "    child1[\"genotype\"] = child1_genotype\n",
    "    child2[\"genotype\"] = child2_genotype\n",
    "\n",
    "    child1[\"phenotype\"] = child1_genotype\n",
    "    child2[\"phenotype\"] = child2_genotype\n",
    "\n",
    "    return child1, child2"
   ]
  },
  {
   "cell_type": "markdown",
   "metadata": {},
   "source": [
    "&nbsp;\n",
    "\n",
    "**Binary GA mutate**\n",
    "\n",
    "Given an individual representing a child, binary_ga_mutate performs a mutation on that child.  It does so by finding a random location in the child's genotype, selecting a random value between 0 and 1, and inserting that value into the random location. This is used in the reproduce function of the binary GA."
   ]
  },
  {
   "cell_type": "code",
   "execution_count": 17,
   "metadata": {
    "collapsed": true
   },
   "outputs": [],
   "source": [
    "def binary_ga_mutate(child, parameters):\n",
    "    genotype = child[\"genotype\"]\n",
    "    mutation_site = random.randint(0, len(genotype) - 1)\n",
    "    mutation = random.randint(0, 1)\n",
    "    genotype[mutation_site] = mutation"
   ]
  },
  {
   "cell_type": "markdown",
   "metadata": {},
   "source": [
    "&nbsp;\n",
    "\n",
    "**Real GA mutate**\n",
    "\n",
    "Given an individual representing a child, real_ga_mutate performs a mutation on that child.  It does so by first finding a random location in the child's genotype.  Then, it uses gaussian noise to produce a mutation with a mean of zero and standard deviation selected from the parameters dict.  I have set 1.7 as the standard deviation, since this is 5.12 / 3, so the majority of the values (99.7%) are within the desired range of -5.12 to 5.12.  If ever a mutation is selected outside this range, real_ga_mutate tries again until a valid value is found.  Once a mutation value is selected, it is inserted into the randomly generated location in the individual's genotype.  This is used in the reproduce function of the Real GA."
   ]
  },
  {
   "cell_type": "code",
   "execution_count": 18,
   "metadata": {
    "collapsed": true
   },
   "outputs": [],
   "source": [
    "def real_ga_mutate(child, parameters):\n",
    "    genotype = child[\"genotype\"]\n",
    "    mutation_site = random.randint(0, len(genotype) - 1)\n",
    "    mutation = gauss(0, parameters[\"sigma\"])\n",
    "    while mutation > 5.12 or mutation < -5.12:\n",
    "        mutation = gauss(0, parameters[\"sigma\"])\n",
    "    genotype[mutation_site] = mutation"
   ]
  },
  {
   "cell_type": "markdown",
   "metadata": {},
   "source": [
    "&nbsp;\n",
    "\n",
    "**Reproduce**\n",
    "\n",
    "Given two parents, the parameters dict, and crossover and mutate functions, reproduce performs reproduction as it is defined for the genetic algorithm.  The probability of crossover and mutation are part of the parameters dict.\n",
    "\n",
    "1. Pick a random number, crossover_chance\n",
    "2. If crossover_chance is less than the probability of crossover, return parent1, parent2\n",
    "3. Otherwise, perform crossover\n",
    "4. Pick a random number mutation_chance\n",
    "5. If mutation chance is less than the probability of mutation, do not mutate, otherwise mutate\n",
    "6. Repeat 4. and 5. for child two\n",
    "7. Return child1, child2"
   ]
  },
  {
   "cell_type": "code",
   "execution_count": 19,
   "metadata": {
    "collapsed": true
   },
   "outputs": [],
   "source": [
    "def reproduce(parent1, parent2, parameters, crossover, mutate):\n",
    "    crossover_chance = random.uniform(0, 1)\n",
    "    crossover_rate = parameters[\"crossover_rate\"]\n",
    "    mutation_rate = parameters[\"mutation_rate\"]\n",
    "    if crossover_chance > crossover_rate:\n",
    "        return parent1, parent2\n",
    "\n",
    "    child1, child2 = crossover(parent1, parent2)\n",
    "\n",
    "    child1_mutation_chance = random.uniform(0, 1)\n",
    "    if child1_mutation_chance < mutation_rate:\n",
    "        mutate(child1, parameters)\n",
    "\n",
    "    child2_mutation_chance = random.uniform(0, 1)\n",
    "    if child2_mutation_chance < mutation_rate:\n",
    "        mutate(child2, parameters)\n",
    "\n",
    "    return child1, child2"
   ]
  },
  {
   "cell_type": "markdown",
   "metadata": {},
   "source": [
    "---\n",
    "## Genetic Algorithm\n",
    "\n",
    "The Genetic Algorithm has the structure: create a population, evaluate it, select parents, apply crossover and mutation, repeat until the number of desired generations have been generated. This is accomplished using Higher Order Functions initialize_population, crossover, mutate.\n",
    "\n",
    "The best individual of each generation is printed including the generation number, genotype (the representation), phenotype (the actual value), the fitness (based on the fitness function transformation) and the function value (for the shifted sphere) if passed a DEBUG=True flag.\n",
    "\n",
    "As the GA has a lot of parameters: mutation rate, crossover rate, population size, dimensions (given for this problem), number of generations, so all are stored in a `Dict` parameters, which is passed to the algorithm in addition to the functions listed above.\n",
    "\n",
    "The GA returns the best individual, in terms of fitness, ever encountered.\n",
    "\n",
    "Real GA and Binary GA simply call the genetic algorithm with the appropriate parameters and functions."
   ]
  },
  {
   "cell_type": "code",
   "execution_count": 20,
   "metadata": {
    "collapsed": true
   },
   "outputs": [],
   "source": [
    "# Print out the best individual of each generation including the generation number,\n",
    "    # genotype (the representation), phenotype (the actual value), the fitness (based on your fitness function transformation)\n",
    "    # and the function value (for the shifted sphere) if passed a DEBUG=True flag.\n",
    "# Keep the tracing limited - print the best individual of the population every i generations (e.g. every 10)\n",
    "    # should see about 50 lines of tracing to show the best individual and their fitness\n",
    "def genetic_algorithm(parameters, initialize_population, crossover, mutate):\n",
    "    population_size = parameters[\"population_size\"]\n",
    "    population = initialize_population(population_size, parameters[\"dimensions\"])\n",
    "\n",
    "    best_individual = { \"fitness\": float(\"-inf\") }  # TODO may not need to initialize this\n",
    "\n",
    "    generations = 0\n",
    "    while generations < parameters[\"number_of_generations\"]:\n",
    "        print 'generations', generations\n",
    "        candidate_best_individual = evaluate_population(population, parameters[\"minimization\"])  # each individual gets a fitness score before we go to pick parents\n",
    "\n",
    "        if candidate_best_individual[\"fitness\"] > best_individual[\"fitness\"]:\n",
    "            best_individual = candidate_best_individual\n",
    "            print 'fitness', best_individual[\"fitness\"]\n",
    "\n",
    "        next_population = []\n",
    "        for i in range(population_size / 2):\n",
    "            parent1, parent2 = select_parents_tournament_selection(population, parameters[\"tournament_selection_number\"])\n",
    "            child1, child2 = reproduce(parent1, parent2, parameters, crossover, mutate)\n",
    "\n",
    "            next_population.append(child1)\n",
    "            next_population.append(child2)\n",
    "\n",
    "        population = next_population  # always replace the entire population with a new population\n",
    "        generations += 1\n",
    "\n",
    "    # return the best individual ever encountered (and all their data including genotype, phenotype, fitness, and actual objective function value)\n",
    "    print '\\n\\n\\nBest Individual:\\n', best_individual\n",
    "    return best_individual"
   ]
  },
  {
   "cell_type": "code",
   "execution_count": 21,
   "metadata": {
    "collapsed": true
   },
   "outputs": [],
   "source": [
    "def binary_ga(parameters):\n",
    "    genetic_algorithm(parameters, binary_ga_initialize_population, binary_ga_crossover, binary_ga_mutate)"
   ]
  },
  {
   "cell_type": "code",
   "execution_count": 22,
   "metadata": {
    "collapsed": true
   },
   "outputs": [],
   "source": [
    "def real_ga(parameters):\n",
    "    genetic_algorithm(parameters, real_ga_initialize_population, real_ga_crossover, real_ga_mutate)"
   ]
  },
  {
   "cell_type": "markdown",
   "metadata": {},
   "source": [
    "---\n",
    "## Test Binary GA"
   ]
  },
  {
   "cell_type": "code",
   "execution_count": 23,
   "metadata": {
    "collapsed": false
   },
   "outputs": [
    {
     "name": "stdout",
     "output_type": "stream",
     "text": [
      "generations 0\n",
      "fitness 0.0625101579007\n",
      "generations 1\n",
      "fitness 0.0721974745323\n",
      "generations 2\n",
      "fitness 0.0976839143898\n",
      "generations 3\n",
      "fitness 0.424502271087\n",
      "generations 4\n",
      "fitness 0.455103991262\n",
      "generations 5\n",
      "fitness 0.479846449136\n",
      "generations 6\n",
      "fitness 0.636334712059\n",
      "generations 7\n",
      "fitness 0.703927917781\n",
      "generations 8\n",
      "fitness 0.770297334771\n",
      "generations 9\n",
      "fitness 0.841042893188\n",
      "generations 10\n",
      "fitness 0.957212596918\n",
      "generations 11\n",
      "fitness 0.965344145188\n",
      "generations 12\n",
      "fitness 0.966183574879\n",
      "generations 13\n",
      "fitness 0.975895384015\n",
      "generations 14\n",
      "fitness 0.979527867568\n",
      "generations 15\n",
      "fitness 0.984833563128\n",
      "generations 16\n",
      "fitness 0.989511181476\n",
      "generations 17\n",
      "fitness 0.993443274389\n",
      "generations 18\n",
      "fitness 0.994727941908\n",
      "generations 19\n",
      "fitness 0.995817566222\n",
      "generations 20\n",
      "fitness 0.998302885095\n",
      "generations 21\n",
      "fitness 0.99890120867\n",
      "generations 22\n",
      "fitness 0.999200639488\n",
      "generations 23\n",
      "fitness 0.999500249875\n",
      "generations 24\n",
      "fitness 0.999700089973\n",
      "generations 25\n",
      "generations 26\n",
      "fitness 0.999800039992\n",
      "generations 27\n",
      "fitness 0.999900009999\n",
      "generations 28\n",
      "generations 29\n",
      "fitness 1.0\n",
      "generations 30\n",
      "generations 31\n",
      "generations 32\n",
      "generations 33\n",
      "generations 34\n",
      "generations 35\n",
      "generations 36\n",
      "generations 37\n",
      "generations 38\n",
      "generations 39\n",
      "generations 40\n",
      "generations 41\n",
      "generations 42\n",
      "generations 43\n",
      "generations 44\n",
      "generations 45\n",
      "generations 46\n",
      "generations 47\n",
      "generations 48\n",
      "generations 49\n",
      "generations 50\n",
      "generations 51\n",
      "generations 52\n",
      "generations 53\n",
      "generations 54\n",
      "generations 55\n",
      "generations 56\n",
      "generations 57\n",
      "generations 58\n",
      "generations 59\n",
      "generations 60\n",
      "generations 61\n",
      "generations 62\n",
      "generations 63\n",
      "generations 64\n",
      "generations 65\n",
      "generations 66\n",
      "generations 67\n",
      "generations 68\n",
      "generations 69\n",
      "generations 70\n",
      "generations 71\n",
      "generations 72\n",
      "generations 73\n",
      "generations 74\n",
      "\n",
      "\n",
      "\n",
      "Best Individual:\n",
      "{'fitness': 1.0, 'genotype': [1, 0, 0, 0, 1, 1, 0, 0, 1, 0, 1, 0, 0, 0, 1, 1, 0, 0, 1, 0, 1, 0, 0, 0, 1, 1, 0, 0, 1, 0, 1, 0, 0, 0, 1, 1, 0, 0, 1, 0, 1, 0, 0, 0, 1, 1, 0, 0, 1, 0, 1, 0, 0, 0, 1, 1, 0, 0, 1, 0, 1, 0, 0, 0, 1, 1, 0, 0, 1, 0, 1, 0, 0, 0, 1, 1, 0, 0, 1, 0, 1, 0, 0, 0, 1, 1, 0, 0, 1, 0], 'phenotype': [0.5, 0.5, 0.5, 0.5, 0.5, 0.5, 0.5, 0.5, 0.5]}\n"
     ]
    }
   ],
   "source": [
    "binary_ga_parameters = {\n",
    "    \"f\": lambda xs: sphere(0.5, xs),\n",
    "    \"minimization\": True,  \n",
    "    \"mutation_rate\": .05,\n",
    "    \"crossover_rate\": .9,\n",
    "    \"population_size\": 10000,  # 50-500s of individuals\n",
    "    \"dimensions\": 10,  # (given for this problem),\n",
    "    \"number_of_generations\": 75,  \n",
    "    \"tournament_selection_number\": 7\n",
    "}\n",
    "binary_ga(binary_ga_parameters)"
   ]
  },
  {
   "cell_type": "markdown",
   "metadata": {},
   "source": [
    "## Test Real GA"
   ]
  },
  {
   "cell_type": "code",
   "execution_count": 24,
   "metadata": {
    "collapsed": false
   },
   "outputs": [
    {
     "name": "stdout",
     "output_type": "stream",
     "text": [
      "generations 0\n",
      "fitness 0.0516286249748\n",
      "generations 1\n",
      "fitness 0.0811510464427\n",
      "generations 2\n",
      "fitness 0.166552855549\n",
      "generations 3\n",
      "fitness 0.320965464116\n",
      "generations 4\n",
      "fitness 0.44014084507\n",
      "generations 5\n",
      "fitness 0.578168362627\n",
      "generations 6\n",
      "fitness 0.671276095858\n",
      "generations 7\n",
      "fitness 0.756143667297\n",
      "generations 8\n",
      "fitness 0.876885303402\n",
      "generations 9\n",
      "fitness 0.933445346775\n",
      "generations 10\n",
      "fitness 0.934754159656\n",
      "generations 11\n",
      "fitness 0.948226815854\n",
      "generations 12\n",
      "fitness 0.955109837631\n",
      "generations 13\n",
      "fitness 0.956205775483\n",
      "generations 14\n",
      "fitness 0.970037633383\n",
      "generations 15\n",
      "fitness 0.977135040063\n",
      "generations 16\n",
      "fitness 0.977803852547\n",
      "generations 17\n",
      "fitness 0.981618686006\n",
      "generations 18\n",
      "fitness 0.985887900318\n",
      "generations 19\n",
      "fitness 0.990073999712\n",
      "generations 20\n",
      "fitness 0.9914482497\n",
      "generations 21\n",
      "fitness 0.99154582408\n",
      "generations 22\n",
      "fitness 0.992332978977\n",
      "generations 23\n",
      "fitness 0.99348242654\n",
      "generations 24\n",
      "fitness 0.995126648146\n",
      "generations 25\n",
      "fitness 0.995919500974\n",
      "generations 26\n",
      "fitness 0.997078901158\n",
      "generations 27\n",
      "fitness 0.997102585597\n",
      "generations 28\n",
      "fitness 0.997176795134\n",
      "generations 29\n",
      "fitness 0.997667923417\n",
      "generations 30\n",
      "fitness 0.997765933095\n",
      "generations 31\n",
      "fitness 0.998305684582\n",
      "generations 32\n",
      "generations 33\n",
      "fitness 0.998780798979\n",
      "generations 34\n",
      "fitness 0.9990357227\n",
      "generations 35\n",
      "fitness 0.99908355434\n",
      "generations 36\n",
      "generations 37\n",
      "fitness 0.999338632652\n",
      "generations 38\n",
      "fitness 0.999636067304\n",
      "generations 39\n",
      "generations 40\n",
      "fitness 0.999733595825\n",
      "generations 41\n",
      "fitness 0.999737753622\n",
      "generations 42\n",
      "generations 43\n",
      "generations 44\n",
      "generations 45\n",
      "fitness 0.999787938319\n",
      "generations 46\n",
      "generations 47\n",
      "fitness 0.999818152456\n",
      "generations 48\n",
      "generations 49\n",
      "generations 50\n",
      "generations 51\n",
      "generations 52\n",
      "generations 53\n",
      "generations 54\n",
      "generations 55\n",
      "generations 56\n",
      "fitness 0.999886886225\n",
      "generations 57\n",
      "generations 58\n",
      "generations 59\n",
      "generations 60\n",
      "generations 61\n",
      "generations 62\n",
      "generations 63\n",
      "generations 64\n",
      "generations 65\n",
      "generations 66\n",
      "generations 67\n",
      "generations 68\n",
      "fitness 0.99988786417\n",
      "generations 69\n",
      "generations 70\n",
      "fitness 0.999901177666\n",
      "generations 71\n",
      "fitness 0.999902155639\n",
      "generations 72\n",
      "generations 73\n",
      "generations 74\n",
      "fitness 0.99991553765\n",
      "generations 75\n",
      "fitness 0.999916515651\n",
      "generations 76\n",
      "generations 77\n",
      "fitness 0.999918723962\n",
      "generations 78\n",
      "fitness 0.999927641488\n",
      "generations 79\n",
      "fitness 0.999942002232\n",
      "generations 80\n",
      "fitness 0.999952580652\n",
      "generations 81\n",
      "fitness 0.999966942112\n",
      "generations 82\n",
      "fitness 0.999969150647\n",
      "generations 83\n",
      "generations 84\n",
      "generations 85\n",
      "generations 86\n",
      "generations 87\n",
      "generations 88\n",
      "fitness 0.999976568153\n",
      "generations 89\n",
      "generations 90\n",
      "generations 91\n",
      "generations 92\n",
      "generations 93\n",
      "generations 94\n",
      "generations 95\n",
      "generations 96\n",
      "generations 97\n",
      "generations 98\n",
      "generations 99\n",
      "generations 100\n",
      "fitness 0.999979902797\n",
      "generations 101\n",
      "generations 102\n",
      "generations 103\n",
      "generations 104\n",
      "generations 105\n",
      "generations 106\n",
      "generations 107\n",
      "generations 108\n",
      "generations 109\n",
      "generations 110\n",
      "generations 111\n",
      "generations 112\n",
      "generations 113\n",
      "generations 114\n",
      "generations 115\n",
      "generations 116\n",
      "generations 117\n",
      "generations 118\n",
      "generations 119\n",
      "generations 120\n",
      "generations 121\n",
      "generations 122\n",
      "generations 123\n",
      "generations 124\n",
      "generations 125\n",
      "generations 126\n",
      "generations 127\n",
      "generations 128\n",
      "generations 129\n",
      "generations 130\n",
      "generations 131\n",
      "generations 132\n",
      "generations 133\n",
      "generations 134\n",
      "generations 135\n",
      "generations 136\n",
      "generations 137\n",
      "generations 138\n",
      "generations 139\n",
      "generations 140\n",
      "generations 141\n",
      "generations 142\n",
      "generations 143\n",
      "generations 144\n",
      "generations 145\n",
      "generations 146\n",
      "generations 147\n",
      "generations 148\n",
      "generations 149\n",
      "generations 150\n",
      "generations 151\n",
      "generations 152\n",
      "generations 153\n",
      "generations 154\n",
      "generations 155\n",
      "generations 156\n",
      "generations 157\n",
      "generations 158\n",
      "generations 159\n",
      "generations 160\n",
      "generations 161\n",
      "generations 162\n",
      "generations 163\n",
      "generations 164\n",
      "generations 165\n",
      "generations 166\n",
      "generations 167\n",
      "generations 168\n",
      "generations 169\n",
      "generations 170\n",
      "generations 171\n",
      "generations 172\n",
      "generations 173\n",
      "generations 174\n",
      "generations 175\n",
      "fitness 0.999981954466\n",
      "generations 176\n",
      "generations 177\n",
      "generations 178\n",
      "fitness 0.999982883265\n",
      "generations 179\n",
      "fitness 0.99998309204\n",
      "generations 180\n",
      "fitness 0.999985143722\n",
      "generations 181\n",
      "generations 182\n",
      "generations 183\n",
      "fitness 0.999986042094\n",
      "generations 184\n",
      "fitness 0.999986250871\n",
      "generations 185\n",
      "generations 186\n",
      "generations 187\n",
      "generations 188\n",
      "generations 189\n",
      "generations 190\n",
      "generations 191\n",
      "generations 192\n",
      "generations 193\n",
      "generations 194\n",
      "generations 195\n",
      "generations 196\n",
      "generations 197\n",
      "generations 198\n",
      "generations 199\n",
      "\n",
      "\n",
      "\n",
      "Best Individual:\n",
      "{'fitness': 0.999986250870685, 'genotype': [0.49979568271491076, 0.5004486622163171, 0.4998471915300238, 0.4998521361807581, 0.5021750233827003, 0.5027557968926782, 0.5, 0.5010417358945378, 0.4998436689290923, 0.5001620634889754], 'phenotype': [0.49979568271491076, 0.5004486622163171, 0.4998471915300238, 0.4998521361807581, 0.5021750233827003, 0.5027557968926782, 0.5, 0.5010417358945378, 0.4998436689290923, 0.5001620634889754]}\n"
     ]
    }
   ],
   "source": [
    "real_ga_parameters = {\n",
    "    \"f\": lambda xs: sphere(0.5, xs),\n",
    "    \"minimization\": True,  \n",
    "    \"mutation_rate\": .05,\n",
    "    \"crossover_rate\": .9,\n",
    "    \"population_size\": 5000,  # 50-500s of individuals\n",
    "    \"dimensions\": 10,  # (given for this problem),\n",
    "    \"number_of_generations\": 200,  \n",
    "    \"tournament_selection_number\": 7,\n",
    "    \"sigma\": 1.7\n",
    "}\n",
    "real_ga(real_ga_parameters)"
   ]
  }
 ],
 "metadata": {
  "kernelspec": {
   "display_name": "Python 2",
   "language": "python",
   "name": "python2"
  },
  "language_info": {
   "codemirror_mode": {
    "name": "ipython",
    "version": 2
   },
   "file_extension": ".py",
   "mimetype": "text/x-python",
   "name": "python",
   "nbconvert_exporter": "python",
   "pygments_lexer": "ipython2",
   "version": "2.7.13"
  }
 },
 "nbformat": 4,
 "nbformat_minor": 0
}
