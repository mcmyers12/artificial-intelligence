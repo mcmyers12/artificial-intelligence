{
 "cells": [
  {
   "cell_type": "markdown",
   "metadata": {},
   "source": [
    "# Module 7 - Programming Assignment\n",
    "\n"
   ]
  },
  {
   "cell_type": "code",
   "execution_count": null,
   "metadata": {
    "collapsed": true
   },
   "outputs": [],
   "source": []
  },
  {
   "cell_type": "markdown",
   "metadata": {},
   "source": [
    "# Forward Planner\n",
    "\n",
    "## Unify\n",
    "\n",
    "Use the accompanying `unification.py` file for unification. For this assignment, you're almost certainly going to want to be able to:\n",
    "\n",
    "1. specify the problem in terms of S-expressions.\n",
    "2. parse them.\n",
    "3. work with the parsed versions.\n",
    "\n",
    "`parse` and `unification` work exactly like the programming assignment for last time."
   ]
  },
  {
   "cell_type": "code",
   "execution_count": null,
   "metadata": {
    "collapsed": false
   },
   "outputs": [],
   "source": [
    "from unification import parse, unification"
   ]
  },
  {
   "cell_type": "markdown",
   "metadata": {},
   "source": [
    "## Forward Planner\n",
    "\n",
    "In this assigment, you're going to implement a Forward Planner. What does that mean? If you look in your book, you will not find pseudocode for a forward planner. It just says \"use state space search\" but this is less than helpful and it's a bit more complicated than that. **(but please please do not try to implement STRIPS or GraphPlan...that is wrong).**\n",
    "\n",
    "At a high level, a forward planner takes the current state of the world $S_0$ and attempts to derive a plan, basically by Depth First Search. We have all the ingredients we said we would need in Module 1: states, actions, a transition function and a goal test. We have a set of predicates that describe a state (and therefore all possible states), we have actions and we have, at least, an implicit transition function: applying an action in a state causes the state to change as described by the add and delete lists.\n",
    "\n",
    "Let's say we have a drill that's an item, two places such as home and store, and we know that I'm at home and the drill is at the store and I want to go buy a drill (have it be at home). We might represent that as:\n",
    "\n",
    "<code>\n",
    "start_state = [\n",
    "    \"(item Drill)\",\n",
    "    \"(place Home)\",\n",
    "    \"(place Store)\",\n",
    "    \"(agent Me)\",\n",
    "    \"(at Me Home)\",\n",
    "    \"(at Drill Store)\"\n",
    "]\n",
    "</code>\n",
    "\n",
    "And we have a goal state:\n",
    "\n",
    "<code>\n",
    "goal = [\n",
    "    \"(item Drill)\",\n",
    "    \"(place Home)\",\n",
    "    \"(place Store)\",\n",
    "    \"(agent Me)\",\n",
    "    \"(at Me Home)\",\n",
    "    \"(at Drill Me)\"\n",
    "]\n",
    "</code>\n",
    "\n",
    "The actions/operators are:\n",
    "\n",
    "<code>\n",
    "actions = {\n",
    "    \"drive\": {\n",
    "        \"action\": \"(drive ?agent ?from ?to)\",\n",
    "        \"conditions\": [\n",
    "            \"(agent ?agent)\",\n",
    "            \"(place ?from)\",\n",
    "            \"(place ?to)\",\n",
    "            \"(at ?agent ?from)\"\n",
    "        ],\n",
    "        \"add\": [\n",
    "            \"(at ?agent ?to)\"\n",
    "        ],\n",
    "        \"delete\": [\n",
    "            \"(at ?agent ?from)\"\n",
    "        ]\n",
    "    },\n",
    "    \"buy\": {\n",
    "        \"action\": \"(buy ?purchaser ?seller ?item)\",\n",
    "        \"conditions\": [\n",
    "            \"(item ?item)\",\n",
    "            \"(place ?seller)\",\n",
    "            \"(agent ?purchaser)\",\n",
    "            \"(at ?item ?seller)\",\n",
    "            \"(at ?purchaser ?seller)\"\n",
    "        ],\n",
    "        \"add\": [\n",
    "            \"(at ?item ?purchaser)\"\n",
    "        ],\n",
    "        \"delete\": [\n",
    "            \"(at ?item ?seller)\"\n",
    "        ]\n",
    "    }\n",
    "}\n",
    "</code>\n",
    "\n",
    "These will all need to be parsed from s-expressions to the underlying Python representation before you can use them. You might as well do it at the start of your algorithm, once. The order of the conditions is *not* arbitrary. It is much, much better for the unification and backtracking if you have the \"type\" predicates (item, place, agent) before the more complex ones. Trust me on this.\n",
    "\n",
    "As for the algorithm itself, there is going to be an *outer* level of search and an *inner* level of search.\n",
    "\n",
    "The *outer* level of search that is exactly what I describe here: you have a state, you generate successor states by applying actions to the current state, you examine those successor states as we did at the first week of the semester and if one is the goal you stop, if you see a repeat state, you put it on the explored list (you should implement graph search not tree search). What could be simpler?\n",
    "\n",
    "It turns out the Devil is in the details. There is an *inner* level of search hidden in \"you generate successor states by applying actions to the current state\". Where?\n",
    "\n",
    "How do you know if an action applies in a state? Only if the preconditions successfully unify with the current state. That seems easy enough...you check each predicate in the conditions to see if it unifies with the current state and if it does, you use the substitution list on the action, the add and delete lists and create the successor state based on them.\n",
    "\n",
    "Except for one small problem...there may be more than one way to unify an action with the current state. You must essentially search for all successful unifications of the candidate action and the current state. This is where my question through the semester applies, \"how would you modify state space search to return all the paths to the goal?\"\n",
    "\n",
    "Unification can be seen as state space search by trying to unify the first precondition with the current state, progressively working your way through the precondition list. If you fail at any point, you may need to backtrack because there might have been another unification of that predicate that would succeed. Similarly, as already mentioned, there may be more than one.\n",
    "\n",
    "So...by using unification and a properly defined <code>successors</code> function, you should be able to apply graph based search to the problem and return a \"path\" through the states from the initial state to the goal. You'll definitely want to use graph-based search since <code>( drive Me Store), (drive Me Home), (drive Me Store), (drive Me Home), (drive Me Store), (buy Me Store Drill), (drive Me Home)</code> is a valid plan.\n",
    "\n",
    "Your function should return the plan...but if you pass an extra debug=True parameter, it should also return the intermediate *states* as well as the actions.\n",
    "\n",
    "-----"
   ]
  },
  {
   "cell_type": "markdown",
   "metadata": {},
   "source": [
    "comment #1"
   ]
  },
  {
   "cell_type": "code",
   "execution_count": null,
   "metadata": {
    "collapsed": false
   },
   "outputs": [],
   "source": [
    "def helper1():\n",
    "    pass"
   ]
  },
  {
   "cell_type": "markdown",
   "metadata": {},
   "source": [
    "(you can just overwrite that one and add as many others as you need). Remember to follow the **Guidelines**.\n",
    "\n",
    "\n",
    "-----\n",
    "\n",
    "So you need to implement `forward_planner` as described above. `start_state`, `goal` and `actions` should all have the layout above and be s-expressions.\n",
    "\n",
    "Your implementation should return the plan as a **List of instantiated actions**. If `debug=True`, you should print out the intermediate states of the plan as well."
   ]
  },
  {
   "cell_type": "code",
   "execution_count": null,
   "metadata": {
    "collapsed": false
   },
   "outputs": [],
   "source": [
    "def forward_planner( start_state, goal, actions, debug=False):\n",
    "    return []"
   ]
  },
  {
   "cell_type": "markdown",
   "metadata": {},
   "source": [
    "You will be solving the problem from above. Here is the start state:"
   ]
  },
  {
   "cell_type": "code",
   "execution_count": null,
   "metadata": {
    "collapsed": false
   },
   "outputs": [],
   "source": [
    "start_state = [\n",
    "    \"(item Drill)\",\n",
    "    \"(place Home)\",\n",
    "    \"(place Store)\",\n",
    "    \"(agent Me)\",\n",
    "    \"(at Me Home)\",\n",
    "    \"(at Drill Store)\"\n",
    "]"
   ]
  },
  {
   "cell_type": "markdown",
   "metadata": {},
   "source": [
    "The goal state:"
   ]
  },
  {
   "cell_type": "code",
   "execution_count": null,
   "metadata": {
    "collapsed": true
   },
   "outputs": [],
   "source": [
    "goal = [\n",
    "    \"(item Drill)\",\n",
    "    \"(place Home)\",\n",
    "    \"(place Store)\",\n",
    "    \"(agent Me)\",\n",
    "    \"(at Me Home)\",\n",
    "    \"(at Drill Me)\"\n",
    "]"
   ]
  },
  {
   "cell_type": "markdown",
   "metadata": {},
   "source": [
    "and the actions/operators:"
   ]
  },
  {
   "cell_type": "code",
   "execution_count": null,
   "metadata": {
    "collapsed": false
   },
   "outputs": [],
   "source": [
    "actions = {\n",
    "    \"drive\": {\n",
    "        \"action\": \"(drive ?agent ?from ?to)\",\n",
    "        \"conditions\": [\n",
    "            \"(agent ?agent)\",\n",
    "            \"(place ?from)\",\n",
    "            \"(place ?to)\",\n",
    "            \"(at ?agent ?from)\"\n",
    "        ],\n",
    "        \"add\": [\n",
    "            \"(at ?agent ?to)\"\n",
    "        ],\n",
    "        \"delete\": [\n",
    "            \"(at ?agent ?from)\"\n",
    "        ]\n",
    "    },\n",
    "    \"buy\": {\n",
    "        \"action\": \"(buy ?purchaser ?seller ?item)\",\n",
    "        \"conditions\": [\n",
    "            \"(item ?item)\",\n",
    "            \"(place ?seller)\",\n",
    "            \"(agent ?purchaser)\",\n",
    "            \"(at ?item ?seller)\",\n",
    "            \"(at ?purchaser ?seller)\"\n",
    "        ],\n",
    "        \"add\": [\n",
    "            \"(at ?item ?purchaser)\"\n",
    "        ],\n",
    "        \"delete\": [\n",
    "            \"(at ?item ?seller)\"\n",
    "        ]\n",
    "    }\n",
    "}"
   ]
  },
  {
   "cell_type": "code",
   "execution_count": null,
   "metadata": {
    "collapsed": false
   },
   "outputs": [],
   "source": [
    "plan = forward_planner( start_state, goal, actions)\n",
    "print plan"
   ]
  },
  {
   "cell_type": "code",
   "execution_count": null,
   "metadata": {
    "collapsed": true
   },
   "outputs": [],
   "source": [
    "plan_with_states = forward_planner( start_state, goal, actions, debug=True)\n",
    "print plan_with_states"
   ]
  }
 ],
 "metadata": {
  "kernelspec": {
   "display_name": "Python 2",
   "language": "python",
   "name": "python2"
  },
  "language_info": {
   "codemirror_mode": {
    "name": "ipython",
    "version": 2
   },
   "file_extension": ".py",
   "mimetype": "text/x-python",
   "name": "python",
   "nbconvert_exporter": "python",
   "pygments_lexer": "ipython2",
   "version": "2.7.13"
  }
 },
 "nbformat": 4,
 "nbformat_minor": 0
}
