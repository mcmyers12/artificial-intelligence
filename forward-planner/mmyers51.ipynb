{
 "cells": [
  {
   "cell_type": "markdown",
   "metadata": {},
   "source": [
    "# Module 7 - Programming Assignment\n",
    "\n"
   ]
  },
  {
   "cell_type": "code",
   "execution_count": 1,
   "metadata": {
    "collapsed": true
   },
   "outputs": [],
   "source": [
    "import pprint\n",
    "import copy\n",
    "pp = pprint.PrettyPrinter(indent=4)"
   ]
  },
  {
   "cell_type": "markdown",
   "metadata": {},
   "source": [
    "# Forward Planner\n",
    "\n",
    "## Unify\n",
    "\n",
    "Use the accompanying `unification.py` file for unification. For this assignment, you're almost certainly going to want to be able to:\n",
    "\n",
    "1. specify the problem in terms of S-expressions.\n",
    "2. parse them.\n",
    "3. work with the parsed versions.\n",
    "\n",
    "`parse` and `unification` work exactly like the programming assignment for last time."
   ]
  },
  {
   "cell_type": "code",
   "execution_count": 2,
   "metadata": {
    "collapsed": false
   },
   "outputs": [],
   "source": [
    "from unification import parse, unification, is_variable"
   ]
  },
  {
   "cell_type": "markdown",
   "metadata": {},
   "source": [
    "## Forward Planner\n",
    "\n",
    "In this assigment, you're going to implement a Forward Planner. What does that mean? If you look in your book, you will not find pseudocode for a forward planner. It just says \"use state space search\" but this is less than helpful and it's a bit more complicated than that. **(but please please do not try to implement STRIPS or GraphPlan...that is wrong).**\n",
    "\n",
    "At a high level, a forward planner takes the current state of the world $S_0$ and attempts to derive a plan, basically by Depth First Search. We have all the ingredients we said we would need in Module 1: states, actions, a transition function and a goal test. We have a set of predicates that describe a state (and therefore all possible states), we have actions and we have, at least, an implicit transition function: applying an action in a state causes the state to change as described by the add and delete lists.\n",
    "\n",
    "Let's say we have a drill that's an item, two places such as home and store, and we know that I'm at home and the drill is at the store and I want to go buy a drill (have it be at home). We might represent that as:\n",
    "\n",
    "<code>\n",
    "start_state = [\n",
    "    \"(item Drill)\",\n",
    "    \"(place Home)\",\n",
    "    \"(place Store)\",\n",
    "    \"(agent Me)\",\n",
    "    \"(at Me Home)\",\n",
    "    \"(at Drill Store)\"\n",
    "]\n",
    "</code>\n",
    "\n",
    "And we have a goal state:\n",
    "\n",
    "<code>\n",
    "goal = [\n",
    "    \"(item Drill)\",\n",
    "    \"(place Home)\",\n",
    "    \"(place Store)\",\n",
    "    \"(agent Me)\",\n",
    "    \"(at Me Home)\",\n",
    "    \"(at Drill Me)\"\n",
    "]\n",
    "</code>\n",
    "\n",
    "The actions/operators are:\n",
    "\n",
    "<code>\n",
    "actions = {\n",
    "    \"drive\": {\n",
    "        \"action\": \"(drive ?agent ?from ?to)\",\n",
    "        \"conditions\": [\n",
    "            \"(agent ?agent)\",\n",
    "            \"(place ?from)\",\n",
    "            \"(place ?to)\",\n",
    "            \"(at ?agent ?from)\"\n",
    "        ],\n",
    "        \"add\": [\n",
    "            \"(at ?agent ?to)\"\n",
    "        ],\n",
    "        \"delete\": [\n",
    "            \"(at ?agent ?from)\"\n",
    "        ]\n",
    "    },\n",
    "    \"buy\": {\n",
    "        \"action\": \"(buy ?purchaser ?seller ?item)\",\n",
    "        \"conditions\": [\n",
    "            \"(item ?item)\",\n",
    "            \"(place ?seller)\",\n",
    "            \"(agent ?purchaser)\",\n",
    "            \"(at ?item ?seller)\",\n",
    "            \"(at ?purchaser ?seller)\"\n",
    "        ],\n",
    "        \"add\": [\n",
    "            \"(at ?item ?purchaser)\"\n",
    "        ],\n",
    "        \"delete\": [\n",
    "            \"(at ?item ?seller)\"\n",
    "        ]\n",
    "    }\n",
    "}\n",
    "</code>\n",
    "\n",
    "These will all need to be parsed from s-expressions to the underlying Python representation before you can use them. You might as well do it at the start of your algorithm, once. The order of the conditions is *not* arbitrary. It is much, much better for the unification and backtracking if you have the \"type\" predicates (item, place, agent) before the more complex ones. Trust me on this.\n",
    "\n",
    "As for the algorithm itself, there is going to be an *outer* level of search and an *inner* level of search.\n",
    "\n",
    "The *outer* level of search that is exactly what I describe here: you have a state, you generate successor states by applying actions to the current state, you examine those successor states as we did at the first week of the semester and if one is the goal you stop, if you see a repeat state, you put it on the explored list (you should implement graph search not tree search). What could be simpler?\n",
    "\n",
    "It turns out the Devil is in the details. There is an *inner* level of search hidden in \"you generate successor states by applying actions to the current state\". Where?\n",
    "\n",
    "How do you know if an action applies in a state? Only if the preconditions successfully unify with the current state. That seems easy enough...you check each predicate in the conditions to see if it unifies with the current state and if it does, you use the substitution list on the action, the add and delete lists and create the successor state based on them.\n",
    "\n",
    "Except for one small problem...there may be more than one way to unify an action with the current state. You must essentially search for all successful unifications of the candidate action and the current state. This is where my question through the semester applies, \"how would you modify state space search to return all the paths to the goal?\"\n",
    "\n",
    "Unification can be seen as state space search by trying to unify the first precondition with the current state, progressively working your way through the precondition list. If you fail at any point, you may need to backtrack because there might have been another unification of that predicate that would succeed. Similarly, as already mentioned, there may be more than one.\n",
    "\n",
    "So...by using unification and a properly defined <code>successors</code> function, you should be able to apply graph based search to the problem and return a \"path\" through the states from the initial state to the goal. You'll definitely want to use graph-based search since <code>( drive Me Store), (drive Me Home), (drive Me Store), (drive Me Home), (drive Me Store), (buy Me Store Drill), (drive Me Home)</code> is a valid plan.\n",
    "\n",
    "Your function should return the plan...but if you pass an extra debug=True parameter, it should also return the intermediate *states* as well as the actions.\n",
    "\n",
    "-----"
   ]
  },
  {
   "cell_type": "markdown",
   "metadata": {},
   "source": [
    "&nbsp;\n",
    "\n",
    "**Func**\n",
    "\n",
    "Desc"
   ]
  },
  {
   "cell_type": "code",
   "execution_count": 3,
   "metadata": {
    "collapsed": false
   },
   "outputs": [],
   "source": [
    "def parse_s_expression_list(state):\n",
    "    new_state = []\n",
    "    for s_expression in state:\n",
    "        new_state.append(parse(s_expression))\n",
    "    return new_state"
   ]
  },
  {
   "cell_type": "markdown",
   "metadata": {},
   "source": [
    "&nbsp;\n",
    "\n",
    "**Func**\n",
    "\n",
    "Desc"
   ]
  },
  {
   "cell_type": "code",
   "execution_count": 4,
   "metadata": {
    "collapsed": true
   },
   "outputs": [],
   "source": [
    "def parse_s_expressions(start_state, goal, actions):\n",
    "    start_state = parse_s_expression_list(start_state)\n",
    "    goal = parse_s_expression_list(goal)\n",
    "\n",
    "    new_actions = {}\n",
    "    for action in actions:\n",
    "        new_actions[action] = {}\n",
    "        for key, value in actions[action].iteritems():\n",
    "            if type(value) == str:\n",
    "                new_actions[action][key] = parse(value)\n",
    "            elif type(value) == list:\n",
    "                new_actions[action][key] = parse_s_expression_list(value)\n",
    "\n",
    "    return start_state, goal, new_actions"
   ]
  },
  {
   "cell_type": "markdown",
   "metadata": {},
   "source": [
    "&nbsp;\n",
    "\n",
    "**Func**\n",
    "\n",
    "Desc"
   ]
  },
  {
   "cell_type": "code",
   "execution_count": 5,
   "metadata": {
    "collapsed": true
   },
   "outputs": [],
   "source": [
    "# Check if a precondition unifies with a state\n",
    "def get_unifications(precondition, state):\n",
    "    unifications = []\n",
    "    for s_expression in state:\n",
    "        substitutions = unification(precondition, s_expression)\n",
    "        if substitutions:\n",
    "            unifications.append(substitutions)\n",
    "\n",
    "    return unifications  # each of these unifications is a branch in DFS\n"
   ]
  },
  {
   "cell_type": "markdown",
   "metadata": {},
   "source": [
    "&nbsp;\n",
    "\n",
    "**Func**\n",
    "\n",
    "Desc"
   ]
  },
  {
   "cell_type": "code",
   "execution_count": 6,
   "metadata": {
    "collapsed": true
   },
   "outputs": [],
   "source": [
    "def apply_substitutions(preconditions, unification_dict):\n",
    "    new_preconditions = copy.deepcopy(preconditions)\n",
    "    for unified_variable in unification_dict:\n",
    "        for i in range(len(new_preconditions)):\n",
    "            for j in range(len(new_preconditions[i])):\n",
    "                if new_preconditions[i][j] == unified_variable:\n",
    "                    new_preconditions[i][j] = unification_dict[unified_variable]\n",
    "\n",
    "    return new_preconditions"
   ]
  },
  {
   "cell_type": "markdown",
   "metadata": {},
   "source": [
    "&nbsp;\n",
    "\n",
    "**Func**\n",
    "\n",
    "Desc"
   ]
  },
  {
   "cell_type": "code",
   "execution_count": 7,
   "metadata": {
    "collapsed": true
   },
   "outputs": [],
   "source": [
    "def find_next_precondition(preconditions):\n",
    "    for expression_list in preconditions:\n",
    "        for item in expression_list:\n",
    "            if is_variable(item):\n",
    "                return expression_list\n",
    "\n",
    "    return None"
   ]
  },
  {
   "cell_type": "markdown",
   "metadata": {},
   "source": [
    "&nbsp;\n",
    "\n",
    "**Func**\n",
    "\n",
    "Desc"
   ]
  },
  {
   "cell_type": "code",
   "execution_count": 8,
   "metadata": {
    "collapsed": true
   },
   "outputs": [],
   "source": [
    "# Inner DFS\n",
    "def find_all_unifications(state, action, actions):\n",
    "    all_unifications = []\n",
    "    preconditions = copy.deepcopy(actions[action]['conditions'])\n",
    "    start_unifications = get_unifications(preconditions[0], state)[0]\n",
    "    start_preconditions = apply_substitutions(preconditions, start_unifications)\n",
    "    stack = [(start_unifications, start_preconditions)]\n",
    "    visited = [start_unifications]\n",
    "\n",
    "    while stack:\n",
    "        (current_unifications, current_preconditions) = stack.pop()\n",
    "\n",
    "        if current_unifications not in all_unifications:\n",
    "            all_unifications.append(current_unifications)\n",
    "\n",
    "        next_precondition_to_unify = find_next_precondition(current_preconditions)\n",
    "\n",
    "        if next_precondition_to_unify:\n",
    "            unifications = get_unifications(next_precondition_to_unify, state)\n",
    "\n",
    "            for unification in unifications:\n",
    "                if unification not in visited:\n",
    "                    new_preconditions = apply_substitutions(current_preconditions, unification)\n",
    "                    stack.append((unification, new_preconditions))\n",
    "                    visited.append(unification)\n",
    "\n",
    "    return all_unifications"
   ]
  },
  {
   "cell_type": "markdown",
   "metadata": {},
   "source": [
    "&nbsp;\n",
    "\n",
    "**Func**\n",
    "\n",
    "Desc"
   ]
  },
  {
   "cell_type": "code",
   "execution_count": 9,
   "metadata": {
    "collapsed": true
   },
   "outputs": [],
   "source": [
    "def get_separate_unifications(state, action, actions, all_unifications):\n",
    "    combinations = {}\n",
    "    for unification_dict in all_unifications:\n",
    "        keys = unification_dict.keys()\n",
    "\n",
    "        for key in keys:\n",
    "            if key in combinations:\n",
    "                combinations[key].append(unification_dict[key])\n",
    "            else:\n",
    "                combinations[key] = [unification_dict[key]]\n",
    "\n",
    "    if action == 'drive':\n",
    "        # SWITCH ordering of from, to to mix it up\n",
    "        if combinations['?from'] == combinations['?to']:\n",
    "            temp = combinations['?from'][0]\n",
    "            combinations['?from'][0] = combinations['?from'][1]\n",
    "            combinations['?from'][1] = temp\n",
    "\n",
    "    unification1 = {}\n",
    "    unification2 = {}\n",
    "\n",
    "    for key in combinations:\n",
    "        if len(combinations[key]) > 1:\n",
    "            unification1[key] = combinations[key][0]\n",
    "            unification2[key] = combinations[key][1]\n",
    "        elif len(combinations[key]) == 1:\n",
    "            unification1[key] = combinations[key][0]\n",
    "            unification2[key] = combinations[key][0]\n",
    "\n",
    "    return [unification1, unification2]"
   ]
  },
  {
   "cell_type": "markdown",
   "metadata": {},
   "source": [
    "&nbsp;\n",
    "\n",
    "**Func**\n",
    "\n",
    "Desc"
   ]
  },
  {
   "cell_type": "code",
   "execution_count": 10,
   "metadata": {
    "collapsed": true
   },
   "outputs": [],
   "source": [
    "def apply_unifications(state, action, actions, unification_dict):\n",
    "    adds = copy.deepcopy(actions[action]['add'][0])\n",
    "    deletes = copy.deepcopy(actions[action]['delete'][0])\n",
    "    new_state = copy.deepcopy(state)\n",
    "    action = copy.deepcopy(actions[action]['action'])\n",
    "\n",
    "    for unified_variable in unification_dict:  # TODO make sure these substitutions are actually being made\n",
    "        for i in range(len(adds)):\n",
    "            if adds[i] == unified_variable:\n",
    "                adds[i] = unification_dict[unified_variable]\n",
    "\n",
    "        for i in range(len(deletes)):\n",
    "            if deletes[i] == unified_variable:\n",
    "                deletes[i] = unification_dict[unified_variable]\n",
    "\n",
    "        for i in range(len(action)):\n",
    "            if action[i] == unified_variable:\n",
    "                action[i] = unification_dict[unified_variable]\n",
    "\n",
    "    new_state.append(adds)\n",
    "\n",
    "    if deletes in new_state:\n",
    "        new_state.remove(deletes)\n",
    "    else:\n",
    "        return None, None\n",
    "\n",
    "    return new_state, action\n"
   ]
  },
  {
   "cell_type": "markdown",
   "metadata": {},
   "source": [
    "&nbsp;\n",
    "\n",
    "**Func**\n",
    "\n",
    "Desc"
   ]
  },
  {
   "cell_type": "code",
   "execution_count": 11,
   "metadata": {
    "collapsed": true
   },
   "outputs": [],
   "source": [
    "# Generate successor states by applying actions to the current state\n",
    "# There is an inner level of search in this generation\n",
    "# We know if an action applies in a state IF the preconditions unify with the state\n",
    "# Check each predicate in the conditions to see if it unifies with the state\n",
    "# If it does, use the substitution list on the action, the add and delete lists and create the successor state based on them\n",
    "# There may be more than one way to unify an action with the current state\n",
    "# Search for all successful unifications of the candidate action and the current state\n",
    "# Unification can be seen as state space search by trying to unify the first precondition with the current state,\n",
    "# progressively working your way through the precondition list\n",
    "# If you fail at any point, you may need to backtrack - there might have been another unification of that predicate that would succeed\n",
    "def get_successors(state, actions):\n",
    "    successor_states = []\n",
    "    actions_taken = []\n",
    "    for action in actions:\n",
    "        all_unifications = find_all_unifications(state, action, actions)\n",
    "        separate_unifications = get_separate_unifications(state, action, actions, all_unifications)\n",
    "\n",
    "        for unification_dict in separate_unifications:\n",
    "            new_state, action_taken = apply_unifications(state, action, actions, unification_dict)\n",
    "            if new_state and action_taken:\n",
    "                actions_taken.append(action_taken)\n",
    "                successor_states.append(new_state)\n",
    "\n",
    "    return successor_states, actions_taken\n"
   ]
  },
  {
   "cell_type": "markdown",
   "metadata": {},
   "source": [
    "&nbsp;\n",
    "\n",
    "**Func**\n",
    "\n",
    "Desc"
   ]
  },
  {
   "cell_type": "code",
   "execution_count": 12,
   "metadata": {
    "collapsed": true
   },
   "outputs": [],
   "source": [
    "def construct_path(goal, state_parent_pairs, debug):\n",
    "    path = []\n",
    "    for tup in state_parent_pairs:\n",
    "        if debug:\n",
    "            if tup[2]:\n",
    "                path.append(tup[0])\n",
    "                path.append(tup[2])\n",
    "        else:\n",
    "            if tup[2]:\n",
    "                path.append(tup[2])\n",
    "    return path"
   ]
  },
  {
   "cell_type": "markdown",
   "metadata": {},
   "source": [
    "(you can just overwrite that one and add as many others as you need). Remember to follow the **Guidelines**.\n",
    "\n",
    "\n",
    "-----\n",
    "\n",
    "So you need to implement `forward_planner` as described above. `start_state`, `goal` and `actions` should all have the layout above and be s-expressions.\n",
    "\n",
    "Your implementation should return the plan as a **List of instantiated actions**. If `debug=True`, you should print out the intermediate states of the plan as well."
   ]
  },
  {
   "cell_type": "code",
   "execution_count": 13,
   "metadata": {
    "collapsed": false
   },
   "outputs": [],
   "source": [
    "# So you need to implement `forward_planner` as described above. `start_state`, `goal` and `actions` should all have the layout above and be s-expressions.\n",
    "# Return the plan as a **List of instantiated actions**. If `debug=True`, you should print out the intermediate states of the plan as well.\n",
    "def forward_planner(start_state, goal, actions, debug=False):\n",
    "    start_state, goal, actions = parse_s_expressions(start_state, goal, actions)\n",
    "    frontier = [start_state]\n",
    "    explored = []\n",
    "    state_parent_tuples = [(start_state, None, None)]\n",
    "\n",
    "    while frontier:\n",
    "        current_state = frontier.pop(0)\n",
    "\n",
    "        if current_state == goal:\n",
    "            return construct_path(current_state, state_parent_tuples, debug)\n",
    "\n",
    "        children, actions_taken = get_successors(current_state, actions)\n",
    "\n",
    "        for i in range(len(children)):\n",
    "            if children[i] not in explored and children[i] not in frontier:\n",
    "                state_parent_tuples.append((children[i], current_state, actions_taken[i]))\n",
    "                frontier.insert(0, children[i])\n",
    "\n",
    "        explored.append(current_state)\n",
    "\n",
    "    return []\n"
   ]
  },
  {
   "cell_type": "markdown",
   "metadata": {},
   "source": [
    "You will be solving the problem from above. Here is the start state:"
   ]
  },
  {
   "cell_type": "code",
   "execution_count": 14,
   "metadata": {
    "collapsed": false
   },
   "outputs": [],
   "source": [
    "start_state = [\n",
    "    \"(item Drill)\",\n",
    "    \"(place Home)\",\n",
    "    \"(place Store)\",\n",
    "    \"(agent Me)\",\n",
    "    \"(at Me Home)\",\n",
    "    \"(at Drill Store)\"\n",
    "]"
   ]
  },
  {
   "cell_type": "markdown",
   "metadata": {},
   "source": [
    "The goal state:"
   ]
  },
  {
   "cell_type": "code",
   "execution_count": 15,
   "metadata": {
    "collapsed": true
   },
   "outputs": [],
   "source": [
    "goal = [\n",
    "    \"(item Drill)\",\n",
    "    \"(place Home)\",\n",
    "    \"(place Store)\",\n",
    "    \"(agent Me)\",\n",
    "    \"(at Me Home)\",\n",
    "    \"(at Drill Me)\"\n",
    "]"
   ]
  },
  {
   "cell_type": "markdown",
   "metadata": {},
   "source": [
    "and the actions/operators:"
   ]
  },
  {
   "cell_type": "code",
   "execution_count": 16,
   "metadata": {
    "collapsed": false
   },
   "outputs": [],
   "source": [
    "actions = {\n",
    "    \"drive\": {\n",
    "        \"action\": \"(drive ?agent ?from ?to)\",\n",
    "        \"conditions\": [\n",
    "            \"(agent ?agent)\",\n",
    "            \"(place ?from)\",\n",
    "            \"(place ?to)\",\n",
    "            \"(at ?agent ?from)\"\n",
    "        ],\n",
    "        \"add\": [\n",
    "            \"(at ?agent ?to)\"\n",
    "        ],\n",
    "        \"delete\": [\n",
    "            \"(at ?agent ?from)\"\n",
    "        ]\n",
    "    },\n",
    "    \"buy\": {\n",
    "        \"action\": \"(buy ?purchaser ?seller ?item)\",\n",
    "        \"conditions\": [\n",
    "            \"(item ?item)\",\n",
    "            \"(place ?seller)\",\n",
    "            \"(agent ?purchaser)\",\n",
    "            \"(at ?item ?seller)\",\n",
    "            \"(at ?purchaser ?seller)\"\n",
    "        ],\n",
    "        \"add\": [\n",
    "            \"(at ?item ?purchaser)\"\n",
    "        ],\n",
    "        \"delete\": [\n",
    "            \"(at ?item ?seller)\"\n",
    "        ]\n",
    "    }\n",
    "}"
   ]
  },
  {
   "cell_type": "code",
   "execution_count": 17,
   "metadata": {
    "collapsed": false
   },
   "outputs": [
    {
     "name": "stdout",
     "output_type": "stream",
     "text": [
      "[   ['buy', 'Me', 'Store', 'Drill'],\n",
      "    ['drive', 'Me', 'Home', 'Store'],\n",
      "    ['buy', 'Me', 'Store', 'Drill'],\n",
      "    ['drive', 'Me', 'Store', 'Home'],\n",
      "    ['drive', 'Me', 'Store', 'Home'],\n",
      "    ['drive', 'Me', 'Home', 'Store']]\n"
     ]
    }
   ],
   "source": [
    "plan = forward_planner( start_state, goal, actions)\n",
    "pp.pprint(plan) "
   ]
  },
  {
   "cell_type": "code",
   "execution_count": 18,
   "metadata": {
    "collapsed": false
   },
   "outputs": [
    {
     "name": "stdout",
     "output_type": "stream",
     "text": [
      "[   [   ['item', 'Drill'],\n",
      "        ['place', 'Home'],\n",
      "        ['place', 'Store'],\n",
      "        ['agent', 'Me'],\n",
      "        ['at', 'Me', 'Home'],\n",
      "        ['at', 'Drill', 'Me']],\n",
      "    ['buy', 'Me', 'Store', 'Drill'],\n",
      "    [   ['item', 'Drill'],\n",
      "        ['place', 'Home'],\n",
      "        ['place', 'Store'],\n",
      "        ['agent', 'Me'],\n",
      "        ['at', 'Drill', 'Store'],\n",
      "        ['at', 'Me', 'Store']],\n",
      "    ['drive', 'Me', 'Home', 'Store'],\n",
      "    [   ['item', 'Drill'],\n",
      "        ['place', 'Home'],\n",
      "        ['place', 'Store'],\n",
      "        ['agent', 'Me'],\n",
      "        ['at', 'Me', 'Store'],\n",
      "        ['at', 'Drill', 'Me']],\n",
      "    ['buy', 'Me', 'Store', 'Drill'],\n",
      "    [   ['item', 'Drill'],\n",
      "        ['place', 'Home'],\n",
      "        ['place', 'Store'],\n",
      "        ['agent', 'Me'],\n",
      "        ['at', 'Drill', 'Store'],\n",
      "        ['at', 'Me', 'Home']],\n",
      "    ['drive', 'Me', 'Store', 'Home'],\n",
      "    [   ['item', 'Drill'],\n",
      "        ['place', 'Home'],\n",
      "        ['place', 'Store'],\n",
      "        ['agent', 'Me'],\n",
      "        ['at', 'Drill', 'Me'],\n",
      "        ['at', 'Me', 'Home']],\n",
      "    ['drive', 'Me', 'Store', 'Home'],\n",
      "    [   ['item', 'Drill'],\n",
      "        ['place', 'Home'],\n",
      "        ['place', 'Store'],\n",
      "        ['agent', 'Me'],\n",
      "        ['at', 'Drill', 'Me'],\n",
      "        ['at', 'Me', 'Store']],\n",
      "    ['drive', 'Me', 'Home', 'Store']]\n"
     ]
    }
   ],
   "source": [
    "plan_with_states = forward_planner( start_state, goal, actions, debug=True)\n",
    "pp.pprint(plan_with_states)"
   ]
  }
 ],
 "metadata": {
  "kernelspec": {
   "display_name": "Python 2",
   "language": "python",
   "name": "python2"
  },
  "language_info": {
   "codemirror_mode": {
    "name": "ipython",
    "version": 2
   },
   "file_extension": ".py",
   "mimetype": "text/x-python",
   "name": "python",
   "nbconvert_exporter": "python",
   "pygments_lexer": "ipython2",
   "version": "2.7.13"
  }
 },
 "nbformat": 4,
 "nbformat_minor": 0
}
