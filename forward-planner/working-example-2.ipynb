{
 "cells": [
  {
   "cell_type": "markdown",
   "metadata": {},
   "source": [
    "# Module 7 - Programming Assignment\n",
    "\n",
    "## Directions\n",
    "\n",
    "There are general instructions on Blackboard and in the Syllabus for Programming Assignments. This Notebook also has instructions specific to this assignment. Read all the instructions carefully and make sure you understand them. Please ask questions on the discussion boards or email me at `EN605.445@gmail.com` if you do not understand something.\n",
    "\n",
    "<div style=\"background: mistyrose; color: firebrick; border: 2px solid darkred; padding: 5px; margin: 10px;\">\n",
    "You must follow the directions *exactly* or you will get a 0 on the assignment.\n",
    "</div>\n",
    "\n",
    "You must submit a zip file of your assignment and associated files (if there are any) to Blackboard. The zip file will be named after you JHED ID: `<jhed_id>.zip`. It will not include any other information. Inside this zip file should be the following directory structure:\n",
    "\n",
    "```\n",
    "<jhed_id>\n",
    "    |\n",
    "    +--module-01-programming.ipynb\n",
    "    +--module-01-programming.html\n",
    "    +--(any other files)\n",
    "```\n",
    "\n",
    "For example, do not name  your directory `programming_assignment_01` and do not name your directory `smith122_pr1` or any else. It must be only your JHED ID.\n",
    "\n",
    "Imports here if needed."
   ]
  },
  {
   "cell_type": "code",
   "execution_count": 1,
   "metadata": {
    "collapsed": false
   },
   "outputs": [],
   "source": [
    "import copy"
   ]
  },
  {
   "cell_type": "markdown",
   "metadata": {},
   "source": [
    "# Forward Planner\n",
    "\n",
    "## Unify\n",
    "\n",
    "Use the accompanying `unification.py` file for unification. For this assignment, you're almost certainly going to want to be able to:\n",
    "\n",
    "1. specify the problem in terms of S-expressions.\n",
    "2. parse them.\n",
    "3. work with the parsed versions.\n",
    "\n",
    "`parse` and `unification` work exactly like the programming assignment for last time."
   ]
  },
  {
   "cell_type": "code",
   "execution_count": 2,
   "metadata": {
    "collapsed": false
   },
   "outputs": [],
   "source": [
    "from unification import parse, unification"
   ]
  },
  {
   "cell_type": "markdown",
   "metadata": {},
   "source": [
    "## Forward Planner\n",
    "\n",
    "In this assigment, you're going to implement a Forward Planner. What does that mean? If you look in your book, you will not find pseudocode for a forward planner. It just says \"use state space search\" but this is less than helpful and it's a bit more complicated than that. **(but please please do not try to implement STRIPS or GraphPlan...that is wrong).**\n",
    "\n",
    "At a high level, a forward planner takes the current state of the world $S_0$ and attempts to derive a plan, basically by Depth First Search. We have all the ingredients we said we would need in Module 1: states, actions, a transition function and a goal test. We have a set of predicates that describe a state (and therefore all possible states), we have actions and we have, at least, an implicit transition function: applying an action in a state causes the state to change as described by the add and delete lists.\n",
    "\n",
    "Let's say we have a drill that's an item, two places such as home and store, and we know that I'm at home and the drill is at the store and I want to go buy a drill (have it be at home). We might represent that as:\n",
    "\n",
    "<code>\n",
    "start_state = [\n",
    "    \"(item Drill)\",\n",
    "    \"(place Home)\",\n",
    "    \"(place Store)\",\n",
    "    \"(agent Me)\",\n",
    "    \"(at Me Home)\",\n",
    "    \"(at Drill Store)\"\n",
    "]\n",
    "</code>\n",
    "\n",
    "And we have a goal state:\n",
    "\n",
    "<code>\n",
    "goal = [\n",
    "    \"(item Drill)\",\n",
    "    \"(place Home)\",\n",
    "    \"(place Store)\",\n",
    "    \"(agent Me)\",\n",
    "    \"(at Me Home)\",\n",
    "    \"(at Drill Me)\"\n",
    "]\n",
    "</code>\n",
    "\n",
    "The actions/operators are:\n",
    "\n",
    "<code>\n",
    "actions = {\n",
    "    \"drive\": {\n",
    "        \"action\": \"(drive ?agent ?from ?to)\",\n",
    "        \"conditions\": [\n",
    "            \"(agent ?agent)\",\n",
    "            \"(place ?from)\",\n",
    "            \"(place ?to)\",\n",
    "            \"(at ?agent ?from)\"\n",
    "        ],\n",
    "        \"add\": [\n",
    "            \"(at ?agent ?to)\"\n",
    "        ],\n",
    "        \"delete\": [\n",
    "            \"(at ?agent ?from)\"\n",
    "        ]\n",
    "    },\n",
    "    \"buy\": {\n",
    "        \"action\": \"(buy ?purchaser ?seller ?item)\",\n",
    "        \"conditions\": [\n",
    "            \"(item ?item)\",\n",
    "            \"(place ?seller)\",\n",
    "            \"(agent ?purchaser)\",\n",
    "            \"(at ?item ?seller)\",\n",
    "            \"(at ?purchaser ?seller)\"\n",
    "        ],\n",
    "        \"add\": [\n",
    "            \"(at ?item ?purchaser)\"\n",
    "        ],\n",
    "        \"delete\": [\n",
    "            \"(at ?item ?seller)\"\n",
    "        ]\n",
    "    }\n",
    "}\n",
    "</code>\n",
    "\n",
    "These will all need to be parsed from s-expressions to the underlying Python representation before you can use them. You might as well do it at the start of your algorithm, once. The order of the conditions is *not* arbitrary. It is much, much better for the unification and backtracking if you have the \"type\" predicates (item, place, agent) before the more complex ones. Trust me on this.\n",
    "\n",
    "As for the algorithm itself, there is going to be an *outer* level of search and an *inner* level of search.\n",
    "\n",
    "The *outer* level of search that is exactly what I describe here: you have a state, you generate successor states by applying actions to the current state, you examine those successor states as we did at the first week of the semester and if one is the goal you stop, if you see a repeat state, you put it on the explored list (you should implement graph search not tree search). What could be simpler?\n",
    "\n",
    "It turns out the Devil is in the details. There is an *inner* level of search hidden in \"you generate successor states by applying actions to the current state\". Where?\n",
    "\n",
    "How do you know if an action applies in a state? Only if the preconditions successfully unify with the current state. That seems easy enough...you check each predicate in the conditions to see if it unifies with the current state and if it does, you use the substitution list on the action, the add and delete lists and create the successor state based on them.\n",
    "\n",
    "Except for one small problem...there may be more than one way to unify an action with the current state. You must essentially search for all successful unifications of the candidate action and the current state. This is where my question through the semester appliesm, \"how would you modify state space search to return all the paths to the goal?\"\n",
    "\n",
    "Unification can be seen as state space search by trying to unify the first precondition with the current state, progressively working your way through the precondition list. If you fail at any point, you may need to backtrack because there might have been another unification of that predicate that would succeed. Similarly, as already mentioned, there may be more than one.\n",
    "\n",
    "So...by using unification and a properly defined <code>successors</code> function, you should be able to apply graph based search to the problem and return a \"path\" through the states from the initial state to the goal. You'll definitely want to use graph-based search since <code>( drive Me Store), (drive Me Home), (drive Me Store), (drive Me Home), (drive Me Store), (buy Me Store Drill), (drive Me Home)</code> is a valid plan.\n",
    "\n",
    "Your function should return the plan...but if you pass an extra debug=True parameter, it should also return the intermediate *states* as well as the actions.\n",
    "\n",
    "-----"
   ]
  },
  {
   "cell_type": "markdown",
   "metadata": {},
   "source": [
    "**pretty_print**\n",
    "\n",
    "Print the plan line-by-line."
   ]
  },
  {
   "cell_type": "code",
   "execution_count": 3,
   "metadata": {
    "collapsed": true
   },
   "outputs": [],
   "source": [
    "def pretty_print( plan):\n",
    "    for line in plan:\n",
    "        print line"
   ]
  },
  {
   "cell_type": "markdown",
   "metadata": {},
   "source": [
    "**parse_collection**\n",
    "\n",
    "This function takes in any kind of S-expression, whether in string, dictionary, or list form (or nested dictionary/list) and modifies it in-place to python syntax. If the given collection is a list, it iterates through the list and recursively calls itself on the elements of the list. If it is a dictionary, it recursively calls itself on each value and stores the result in the key. If it is a string (the base case), it is sent to the parse function to be converted."
   ]
  },
  {
   "cell_type": "code",
   "execution_count": 4,
   "metadata": {
    "collapsed": false
   },
   "outputs": [],
   "source": [
    "def parse_collection( coll):\n",
    "    if type( coll) == list:\n",
    "        for index in range(len( coll)):\n",
    "            coll[index] = parse_collection( coll[index])\n",
    "    elif type( coll) == dict:\n",
    "        for key in coll:\n",
    "            coll[key] = parse_collection( coll[key])\n",
    "    elif type( coll) == str:\n",
    "        coll = parse( coll)\n",
    "    return coll"
   ]
  },
  {
   "cell_type": "markdown",
   "metadata": {},
   "source": [
    "**initialize**\n",
    "\n",
    "Creates the data structures used by the forward planner. The start, goal, and actions structures are converted to python syntax (copies are created to leave the originals intact). The plan is initialized (just the actions if no DEBUG flag, otherwise the states are included too and initialized to be the starting state). Finally, the frontier (stack) is initialized to a tuple containing the starting state and initial plan. All of the members are returned."
   ]
  },
  {
   "cell_type": "code",
   "execution_count": 5,
   "metadata": {
    "collapsed": true
   },
   "outputs": [],
   "source": [
    "def initialize( start_state, goal_state, actions, DEBUG):\n",
    "    start = parse_collection( copy.deepcopy( start_state))\n",
    "    goal = parse_collection( copy.deepcopy( goal_state))\n",
    "    moves = parse_collection( copy.deepcopy( actions))\n",
    "    if DEBUG:\n",
    "        plan = [start]\n",
    "    else:\n",
    "        plan = []\n",
    "    return start, goal, moves, [], [(start, plan)]"
   ]
  },
  {
   "cell_type": "markdown",
   "metadata": {},
   "source": [
    "**substitute**\n",
    "\n",
    "This function takes an action dictionary and substitution list dictionary and performs any necessary substitutions. It replaces any instance of the keys from the substitution list with their corresponding values in any of the members of the action dictionary. The original is left intact, and a new, modified copy is returned."
   ]
  },
  {
   "cell_type": "code",
   "execution_count": 6,
   "metadata": {
    "collapsed": true
   },
   "outputs": [],
   "source": [
    "def substitute( action, substitution_list):\n",
    "    new_action = copy.deepcopy(action)\n",
    "    for key in substitution_list:\n",
    "        new_action[\"action\"] = [x.replace( key, substitution_list[key]) for x in new_action[\"action\"]]\n",
    "        for index in range( len( new_action[\"add\"])):\n",
    "            new_action[\"add\"][index] = [x.replace( key, substitution_list[key]) for x in new_action[\"add\"][index]]\n",
    "        for index in range( len( new_action[\"delete\"])):\n",
    "            new_action[\"delete\"][index] = [x.replace( key, substitution_list[key]) for x in new_action[\"delete\"][index]]\n",
    "        for index in range( len( new_action[\"conditions\"])):\n",
    "            new_action[\"conditions\"][index] = [x.replace( key, substitution_list[key]) for x in new_action[\"conditions\"][index]]\n",
    "    return new_action"
   ]
  },
  {
   "cell_type": "markdown",
   "metadata": {},
   "source": [
    "**is_valid_action**\n",
    "\n",
    "Determines whether an action's prerequisites are satisfied by the given state. Every prerequisite must be satisfied for an action to be valid. A condition is considered valid if there exists at least one predicate in the state that successfully unifies with the condition. If a condition is not satisfied, the function immediately returns false. True is returned when the final condition is determined to be satisfied."
   ]
  },
  {
   "cell_type": "code",
   "execution_count": 7,
   "metadata": {
    "collapsed": true
   },
   "outputs": [],
   "source": [
    "def is_valid_action( state, action):\n",
    "    for condition in action[\"conditions\"]:\n",
    "        condition_satisfied = False\n",
    "        for predicate in state:\n",
    "            if unification( predicate, condition) != False:\n",
    "                condition_satisfied = True\n",
    "                break\n",
    "        if condition_satisfied == False:\n",
    "            return False\n",
    "    return True"
   ]
  },
  {
   "cell_type": "markdown",
   "metadata": {},
   "source": [
    "**exists**\n",
    "\n",
    "Helper function to determine whether or not an action already exists in the given list. It does this by comparing the members after lexigraphically sorting them, to avoid cases where the lists contain the same expressions in different order."
   ]
  },
  {
   "cell_type": "code",
   "execution_count": 8,
   "metadata": {
    "collapsed": true
   },
   "outputs": [],
   "source": [
    "def exists( action, container):\n",
    "    for existing in container:\n",
    "        if sorted(action[\"action\"]) == sorted(existing[\"action\"]):\n",
    "            return True\n",
    "    return False"
   ]
  },
  {
   "cell_type": "markdown",
   "metadata": {},
   "source": [
    "**valid_actions**\n",
    "\n",
    "This function is the inner search for forward planning. The goal of this function is to return a list of all valid actions that can be created from the current state and action. It does this using depth-first search. The stack is initialized to the starting action, and an empty explored list is created. While the stack has data, the top action is popped off. Every condition is unified with every predicate in the state. For any that successfully unify, the substitution list is applied to the current action and the new action is pushed onto the stack (if it's new). This does not affect the current action, as it gets unified with every predicate without being modified.\n",
    "\n",
    "If every condition is compared to every predicate in the state and yields an empty substitution list each time, we know all of the variables have been substituted. At this point, it is checked for compatibility with the state. If it works with the current state, it is a possible action and is stored off. At the end of the function, all possible valid actions based on all possible unifications are returned."
   ]
  },
  {
   "cell_type": "code",
   "execution_count": 9,
   "metadata": {
    "collapsed": false
   },
   "outputs": [],
   "source": [
    "def valid_actions( state, action):\n",
    "    all_possible_actions = []\n",
    "    stack = [action]\n",
    "    explored = []\n",
    "    \n",
    "    while len(stack) > 0:\n",
    "        curr_action = stack.pop()\n",
    "        unified = True\n",
    "        for conditionIndex in range( len( curr_action[\"conditions\"])):\n",
    "            condition = curr_action[\"conditions\"][conditionIndex]\n",
    "            for pred in state:\n",
    "                substitution_list = unification( pred, condition)\n",
    "                if substitution_list != False:\n",
    "                    if len( substitution_list) > 0:\n",
    "                        unified = False\n",
    "                    new_action = substitute( curr_action, substitution_list)\n",
    "                    if not exists( new_action, stack) and not exists( new_action, explored):\n",
    "                        stack.append( new_action)\n",
    "        if unified:\n",
    "            if not exists( curr_action, all_possible_actions):\n",
    "                if is_valid_action( state, curr_action):\n",
    "                    all_possible_actions.append( curr_action)\n",
    "        explored.append( curr_action)\n",
    "    return all_possible_actions"
   ]
  },
  {
   "cell_type": "markdown",
   "metadata": {},
   "source": [
    "**next_state**\n",
    "\n",
    "Applies an action to a state and returns the new state that is generated. A copy is made so as to not modify the old state. All states in the action's delete list are removed from the state's predicate list. All states in the action's add list are then added to the predicate list and the new state is returned."
   ]
  },
  {
   "cell_type": "code",
   "execution_count": 10,
   "metadata": {
    "collapsed": false
   },
   "outputs": [],
   "source": [
    "def next_state( old_state, action):\n",
    "    new_state = copy.deepcopy(old_state)\n",
    "    for delete in action[\"delete\"]:\n",
    "        new_state.remove(delete)\n",
    "    for add in action[\"add\"]:\n",
    "        new_state.append(add)\n",
    "    return new_state"
   ]
  },
  {
   "cell_type": "markdown",
   "metadata": {},
   "source": [
    "**successors**\n",
    "\n",
    "This function returns a list of all successor states from the current state. It first gets a list of possible action instantiations from the current state using each action type. Each of these actions are applied to generate a new destination state. If the state changes (to avoid redundant actions from A to A), the action taken is added to a new copy of the plan and stored along with the successor. This list of state-plan tuples are returned."
   ]
  },
  {
   "cell_type": "code",
   "execution_count": 11,
   "metadata": {
    "collapsed": false
   },
   "outputs": [],
   "source": [
    "def successors( state, actions, plan, DEBUG):\n",
    "    successors = []\n",
    "    for actionKey in actions:\n",
    "        action = actions[actionKey]\n",
    "        new_actions = valid_actions( state, action)\n",
    "        for new_action in new_actions:\n",
    "            new_state = next_state( state, new_action)\n",
    "            if sorted(new_state) != sorted(state):\n",
    "                new_plan = copy.deepcopy( plan)\n",
    "                new_plan.append( new_action[\"action\"])\n",
    "                if DEBUG:\n",
    "                    new_plan.append( new_state)\n",
    "                successors.append( (new_state, new_plan))\n",
    "    return successors"
   ]
  },
  {
   "cell_type": "markdown",
   "metadata": {},
   "source": [
    "(you can just overwrite that one and add as many others as you need). Remember to follow the **Guidelines**.\n",
    "\n",
    "\n",
    "-----\n",
    "\n",
    "So you need to implement `forward_planner` as described above. `start_state`, `goal` and `actions` should all have the layout above and be s-expressions.\n",
    "\n",
    "Your implementation should return the plan as a **List of instantiated actions**. If `debug=True`, you should print out the intermediate states of the plan as well."
   ]
  },
  {
   "cell_type": "code",
   "execution_count": 12,
   "metadata": {
    "collapsed": false
   },
   "outputs": [],
   "source": [
    "def forward_planner( start_state, goal, actions, debug=False):\n",
    "    start, end, moves, explored, stack = initialize( start_state, goal, actions, debug)\n",
    "    while len( stack) > 0:\n",
    "        curr_state, curr_plan = stack.pop()\n",
    "        if sorted(curr_state) == sorted(end):\n",
    "            return curr_plan\n",
    "        for successor, curr_plan in successors( curr_state, moves, copy.deepcopy(curr_plan), debug):\n",
    "            if successor not in explored and successor not in stack:\n",
    "                stack.append( (successor, curr_plan))\n",
    "        explored.append( curr_state)\n",
    "    return []"
   ]
  },
  {
   "cell_type": "markdown",
   "metadata": {},
   "source": [
    "You will be solving the problem from above. Here is the start state:"
   ]
  },
  {
   "cell_type": "code",
   "execution_count": 13,
   "metadata": {
    "collapsed": false
   },
   "outputs": [],
   "source": [
    "start_state = [\n",
    "    \"(item Drill)\",\n",
    "    \"(place Home)\",\n",
    "    \"(place Store)\",\n",
    "    \"(agent Me)\",\n",
    "    \"(at Me Home)\",\n",
    "    \"(at Drill Store)\"\n",
    "]"
   ]
  },
  {
   "cell_type": "markdown",
   "metadata": {},
   "source": [
    "The goal state:"
   ]
  },
  {
   "cell_type": "code",
   "execution_count": 14,
   "metadata": {
    "collapsed": true
   },
   "outputs": [],
   "source": [
    "goal = [\n",
    "    \"(item Drill)\",\n",
    "    \"(place Home)\",\n",
    "    \"(place Store)\",\n",
    "    \"(agent Me)\",\n",
    "    \"(at Me Home)\",\n",
    "    \"(at Drill Me)\"\n",
    "]"
   ]
  },
  {
   "cell_type": "markdown",
   "metadata": {},
   "source": [
    "and the actions/operators:"
   ]
  },
  {
   "cell_type": "code",
   "execution_count": 15,
   "metadata": {
    "collapsed": false
   },
   "outputs": [],
   "source": [
    "actions = {\n",
    "    \"drive\": {\n",
    "        \"action\": \"(drive ?agent ?from ?to)\",\n",
    "        \"conditions\": [\n",
    "            \"(agent ?agent)\",\n",
    "            \"(place ?from)\",\n",
    "            \"(place ?to)\",\n",
    "            \"(at ?agent ?from)\"\n",
    "        ],\n",
    "        \"add\": [\n",
    "            \"(at ?agent ?to)\"\n",
    "        ],\n",
    "        \"delete\": [\n",
    "            \"(at ?agent ?from)\"\n",
    "        ]\n",
    "    },\n",
    "    \"buy\": {\n",
    "        \"action\": \"(buy ?purchaser ?seller ?item)\",\n",
    "        \"conditions\": [\n",
    "            \"(item ?item)\",\n",
    "            \"(place ?seller)\",\n",
    "            \"(agent ?purchaser)\",\n",
    "            \"(at ?item ?seller)\",\n",
    "            \"(at ?purchaser ?seller)\"\n",
    "        ],\n",
    "        \"add\": [\n",
    "            \"(at ?item ?purchaser)\"\n",
    "        ],\n",
    "        \"delete\": [\n",
    "            \"(at ?item ?seller)\"\n",
    "        ]\n",
    "    }\n",
    "}"
   ]
  },
  {
   "cell_type": "code",
   "execution_count": 16,
   "metadata": {
    "collapsed": false
   },
   "outputs": [
    {
     "name": "stdout",
     "output_type": "stream",
     "text": [
      "['drive', 'Me', 'Home', 'Store']\n",
      "['buy', 'Me', 'Store', 'Drill']\n",
      "['drive', 'Me', 'Store', 'Home']\n"
     ]
    }
   ],
   "source": [
    "plan = forward_planner( start_state, goal, actions)\n",
    "pretty_print( plan)"
   ]
  },
  {
   "cell_type": "code",
   "execution_count": 17,
   "metadata": {
    "collapsed": false
   },
   "outputs": [
    {
     "name": "stdout",
     "output_type": "stream",
     "text": [
      "[['item', 'Drill'], ['place', 'Home'], ['place', 'Store'], ['agent', 'Me'], ['at', 'Me', 'Home'], ['at', 'Drill', 'Store']]\n",
      "['drive', 'Me', 'Home', 'Store']\n",
      "[['item', 'Drill'], ['place', 'Home'], ['place', 'Store'], ['agent', 'Me'], ['at', 'Drill', 'Store'], ['at', 'Me', 'Store']]\n",
      "['buy', 'Me', 'Store', 'Drill']\n",
      "[['item', 'Drill'], ['place', 'Home'], ['place', 'Store'], ['agent', 'Me'], ['at', 'Me', 'Store'], ['at', 'Drill', 'Me']]\n",
      "['drive', 'Me', 'Store', 'Home']\n",
      "[['item', 'Drill'], ['place', 'Home'], ['place', 'Store'], ['agent', 'Me'], ['at', 'Drill', 'Me'], ['at', 'Me', 'Home']]\n"
     ]
    }
   ],
   "source": [
    "plan_with_states = forward_planner( start_state, goal, actions, debug=True)\n",
    "pretty_print( plan_with_states)"
   ]
  }
 ],
 "metadata": {
  "kernelspec": {
   "display_name": "Python 2",
   "language": "python",
   "name": "python2"
  },
  "language_info": {
   "codemirror_mode": {
    "name": "ipython",
    "version": 2
   },
   "file_extension": ".py",
   "mimetype": "text/x-python",
   "name": "python",
   "nbconvert_exporter": "python",
   "pygments_lexer": "ipython2",
   "version": "2.7.13"
  }
 },
 "nbformat": 4,
 "nbformat_minor": 0
}
