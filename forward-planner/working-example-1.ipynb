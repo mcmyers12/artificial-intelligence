{
 "cells": [
  {
   "cell_type": "markdown",
   "metadata": {},
   "source": [
    "# Module 7 - Programming Assignment\n",
    "\n",
    "## Directions\n",
    "\n",
    "There are general instructions on Blackboard and in the Syllabus for Programming Assignments. This Notebook also has instructions specific to this assignment. Read all the instructions carefully and make sure you understand them. Please ask questions on the discussion boards or email me at `EN605.445@gmail.com` if you do not understand something.\n",
    "\n",
    "<div style=\"background: mistyrose; color: firebrick; border: 2px solid darkred; padding: 5px; margin: 10px;\">\n",
    "You must follow the directions *exactly* or you will get a 0 on the assignment.\n",
    "</div>\n",
    "\n",
    "You must submit a zip file of your assignment and associated files (if there are any) to Blackboard. The zip file will be named after you JHED ID: `<jhed_id>.zip`. It will not include any other information. Inside this zip file should be the following directory structure:\n",
    "\n",
    "```\n",
    "<jhed_id>\n",
    "    |\n",
    "    +--module-01-programming.ipynb\n",
    "    +--module-01-programming.html\n",
    "    +--(any other files)\n",
    "```\n",
    "\n",
    "For example, do not name  your directory `programming_assignment_01` and do not name your directory `smith122_pr1` or any else. It must be only your JHED ID.\n",
    "\n",
    "Imports here if needed."
   ]
  },
  {
   "cell_type": "code",
   "execution_count": 1,
   "metadata": {
    "collapsed": true
   },
   "outputs": [],
   "source": [
    "import copy"
   ]
  },
  {
   "cell_type": "markdown",
   "metadata": {},
   "source": [
    "# Forward Planner\n",
    "\n",
    "## Unify\n",
    "\n",
    "Use the accompanying `unification.py` file for unification. For this assignment, you're almost certainly going to want to be able to:\n",
    "\n",
    "1. specify the problem in terms of S-expressions.\n",
    "2. parse them.\n",
    "3. work with the parsed versions.\n",
    "\n",
    "`parse` and `unification` work exactly like the programming assignment for last time."
   ]
  },
  {
   "cell_type": "code",
   "execution_count": 2,
   "metadata": {},
   "outputs": [],
   "source": [
    "from unification import parse, unification"
   ]
  },
  {
   "cell_type": "markdown",
   "metadata": {},
   "source": [
    "## Forward Planner\n",
    "\n",
    "In this assigment, you're going to implement a Forward Planner. What does that mean? If you look in your book, you will not find pseudocode for a forward planner. It just says \"use state space search\" but this is less than helpful and it's a bit more complicated than that. **(but please please do not try to implement STRIPS or GraphPlan...that is wrong).**\n",
    "\n",
    "At a high level, a forward planner takes the current state of the world $S_0$ and attempts to derive a plan, basically by Depth First Search. We have all the ingredients we said we would need in Module 1: states, actions, a transition function and a goal test. We have a set of predicates that describe a state (and therefore all possible states), we have actions and we have, at least, an implicit transition function: applying an action in a state causes the state to change as described by the add and delete lists.\n",
    "\n",
    "Let's say we have a drill that's an item, two places such as home and store, and we know that I'm at home and the drill is at the store and I want to go buy a drill (have it be at home). We might represent that as:\n",
    "\n",
    "<code>\n",
    "start_state = [\n",
    "    \"(item Drill)\",\n",
    "    \"(place Home)\",\n",
    "    \"(place Store)\",\n",
    "    \"(agent Me)\",\n",
    "    \"(at Me Home)\",\n",
    "    \"(at Drill Store)\"\n",
    "]\n",
    "</code>\n",
    "\n",
    "And we have a goal state:\n",
    "\n",
    "<code>\n",
    "goal = [\n",
    "    \"(item Drill)\",\n",
    "    \"(place Home)\",\n",
    "    \"(place Store)\",\n",
    "    \"(agent Me)\",\n",
    "    \"(at Me Home)\",\n",
    "    \"(at Drill Me)\"\n",
    "]\n",
    "</code>\n",
    "\n",
    "The actions/operators are:\n",
    "\n",
    "<code>\n",
    "actions = {\n",
    "    \"drive\": {\n",
    "        \"action\": \"(drive ?agent ?from ?to)\",\n",
    "        \"conditions\": [\n",
    "            \"(agent ?agent)\",\n",
    "            \"(place ?from)\",\n",
    "            \"(place ?to)\",\n",
    "            \"(at ?agent ?from)\"\n",
    "        ],\n",
    "        \"add\": [\n",
    "            \"(at ?agent ?to)\"\n",
    "        ],\n",
    "        \"delete\": [\n",
    "            \"(at ?agent ?from)\"\n",
    "        ]\n",
    "    },\n",
    "    \"buy\": {\n",
    "        \"action\": \"(buy ?purchaser ?seller ?item)\",\n",
    "        \"conditions\": [\n",
    "            \"(item ?item)\",\n",
    "            \"(place ?seller)\",\n",
    "            \"(agent ?purchaser)\",\n",
    "            \"(at ?item ?seller)\",\n",
    "            \"(at ?purchaser ?seller)\"\n",
    "        ],\n",
    "        \"add\": [\n",
    "            \"(at ?item ?purchaser)\"\n",
    "        ],\n",
    "        \"delete\": [\n",
    "            \"(at ?item ?seller)\"\n",
    "        ]\n",
    "    }\n",
    "}\n",
    "</code>\n",
    "\n",
    "These will all need to be parsed from s-expressions to the underlying Python representation before you can use them. You might as well do it at the start of your algorithm, once. The order of the conditions is *not* arbitrary. It is much, much better for the unification and backtracking if you have the \"type\" predicates (item, place, agent) before the more complex ones. Trust me on this.\n",
    "\n",
    "As for the algorithm itself, there is going to be an *outer* level of search and an *inner* level of search.\n",
    "\n",
    "The *outer* level of search that is exactly what I describe here: you have a state, you generate successor states by applying actions to the current state, you examine those successor states as we did at the first week of the semester and if one is the goal you stop, if you see a repeat state, you put it on the explored list (you should implement graph search not tree search). What could be simpler?\n",
    "\n",
    "It turns out the Devil is in the details. There is an *inner* level of search hidden in \"you generate successor states by applying actions to the current state\". Where?\n",
    "\n",
    "How do you know if an action applies in a state? Only if the preconditions successfully unify with the current state. That seems easy enough...you check each predicate in the conditions to see if it unifies with the current state and if it does, you use the substitution list on the action, the add and delete lists and create the successor state based on them.\n",
    "\n",
    "Except for one small problem...there may be more than one way to unify an action with the current state. You must essentially search for all successful unifications of the candidate action and the current state. This is where my question through the semester appliesm, \"how would you modify state space search to return all the paths to the goal?\"\n",
    "\n",
    "Unification can be seen as state space search by trying to unify the first precondition with the current state, progressively working your way through the precondition list. If you fail at any point, you may need to backtrack because there might have been another unification of that predicate that would succeed. Similarly, as already mentioned, there may be more than one.\n",
    "\n",
    "So...by using unification and a properly defined <code>successors</code> function, you should be able to apply graph based search to the problem and return a \"path\" through the states from the initial state to the goal. You'll definitely want to use graph-based search since <code>( drive Me Store), (drive Me Home), (drive Me Store), (drive Me Home), (drive Me Store), (buy Me Store Drill), (drive Me Home)</code> is a valid plan.\n",
    "\n",
    "Your function should return the plan...but if you pass an extra debug=True parameter, it should also return the intermediate *states* as well as the actions.\n",
    "\n",
    "-----"
   ]
  },
  {
   "cell_type": "markdown",
   "metadata": {},
   "source": [
    "# James Duvall\n",
    "\n",
    "# July 16, 2017"
   ]
  },
  {
   "cell_type": "markdown",
   "metadata": {},
   "source": [
    "**parse_state(state)**\n",
    "\n",
    "A simple function that is used to take either the starting state or goal state of s-expressions and parse them into lists of lists using the parse() function."
   ]
  },
  {
   "cell_type": "code",
   "execution_count": 3,
   "metadata": {},
   "outputs": [],
   "source": [
    "def parse_state(state):\n",
    "    state_list = []\n",
    "    for expression in state:\n",
    "        state_list.append(parse(expression))\n",
    "    return state_list"
   ]
  },
  {
   "cell_type": "markdown",
   "metadata": {},
   "source": [
    "**parse_actions(actions)**\n",
    "\n",
    "Another simple function that is used to take in the given actions of s-expressions and parse them into the list-of-lists format using the parse() function."
   ]
  },
  {
   "cell_type": "code",
   "execution_count": 4,
   "metadata": {
    "collapsed": true
   },
   "outputs": [],
   "source": [
    "def parse_actions(actions):\n",
    "    actions_copy = copy.deepcopy(actions)\n",
    "    for action in actions_copy:\n",
    "        for item in actions_copy[action]:\n",
    "            if isinstance(actions_copy[action][item], list):\n",
    "                parsed_list = []\n",
    "                for values in actions_copy[action][item]:\n",
    "                    parsed_list.append(parse(values))\n",
    "                actions_copy[action][item] = parsed_list\n",
    "            else:\n",
    "                actions_copy[action][item] = parse(actions_copy[action][item])\n",
    "    return actions_copy"
   ]
  },
  {
   "cell_type": "markdown",
   "metadata": {},
   "source": [
    "**pretty_print_plan(plan, debug)**\n",
    "\n",
    "Another simple function. This takes as both the plan and desired debugging information (True or False) and prints each new action or state/action pair, line-by-line."
   ]
  },
  {
   "cell_type": "code",
   "execution_count": 5,
   "metadata": {
    "collapsed": true
   },
   "outputs": [],
   "source": [
    "def pretty_print_plan(plan, debug):\n",
    "    for item in plan:\n",
    "        if debug == True:\n",
    "            print \"Action: \", item[1]\n",
    "            print \"State: \", item[0]\n",
    "            print \"\"\n",
    "        else:\n",
    "            print \"Action: \", item\n",
    "            print \"\""
   ]
  },
  {
   "cell_type": "markdown",
   "metadata": {},
   "source": [
    "**inner_successors(preconditions, state)**\n",
    "\n",
    "The first of my main functions, here I am writing them in order from the inside state-space search to the outer level of state-space search.\n",
    "\n",
    "This is the successors function for the inner level of search. It takes two inputs:\n",
    "\n",
    "(1) preconditions - the list of preconditions for a given action\n",
    "\n",
    "(2) state - the current state\n",
    "\n",
    "And has one output:\n",
    "\n",
    "(1) result - the list of children to check in the inner_search() function\n",
    "\n",
    "This maintains three important pieces of unformation for each state. It holds the preconditions as the first element in a list, a dictionary of unified actions as the second element in the list, and lastly a counter which is used to check whether we were able to unify with each precondition. Note this counter is a number between 0 and n, where n is the number of preconditions for a given action. \n",
    "\n",
    "This function enumerates through each of the conditionds of the current state and attempts to unify each one with a given precondition inficated by the counter. So essentially, we are looking at one precondition at a time and seeing whether that unifies with any of the conditions in the state. If it does unify, we update the unification dictionary and the counter in to move onto the next precondition. Lastly, we loop through the preconditions in the action and replace them with the successfully unified condition. We then return the result as a list."
   ]
  },
  {
   "cell_type": "code",
   "execution_count": 6,
   "metadata": {
    "collapsed": true
   },
   "outputs": [],
   "source": [
    "def inner_successors(preconditions, state):\n",
    "    result = []\n",
    "    for index, item in enumerate(state):\n",
    "        unified = unification(item, preconditions[0][preconditions[2]])\n",
    "        if unified != False:\n",
    "            precond_update = copy.deepcopy(preconditions)\n",
    "            precond_update[1].update(unified) # update dict with new info\n",
    "            precond_update[2]+=1 # update the precondition we are looking at\n",
    "            for index1, sublist in enumerate(precond_update[0]):\n",
    "                for index2, item in enumerate(sublist):\n",
    "                    if item in unified.keys():\n",
    "                        precond_update[0][index1][index2] = unified[item]\n",
    "            result.append(precond_update)\n",
    "    return result"
   ]
  },
  {
   "cell_type": "markdown",
   "metadata": {},
   "source": [
    "**inner_search(preconditions, state)**\n",
    "\n",
    "This is the inner level of search and takes two inputs:\n",
    "\n",
    "(1) preconditions - the preconditions of a given action to check\n",
    "\n",
    "(2) state - the current state\n",
    "\n",
    "And returns:\n",
    "\n",
    "(1) unifiers - a list of dictionaries containing all of the successful unifications for the preconditions of a given action\n",
    "\n",
    "This inner search follows the main graph search algorithm, however, it has been modified that if we find a successful unification, we add this to the \"unifiers\" list and continue progressing, backtracking as needed. So instead of returning the explored list containing everything visited up until the goal, we return the unifiers list containing all possible ways to reach the goal. \n",
    "\n",
    "For a given action, we assign the preconditions (with no assignments) to the frontier (along with the unifiers and the counter). If the counter has incremented to be 1 more than the number of preconditions, then it must be a successful unification! And so we add it to the unifiers result list. Otherwise, we call inner_successors() to find the unifying children for the current state. The rest is from the algorithm."
   ]
  },
  {
   "cell_type": "code",
   "execution_count": 7,
   "metadata": {
    "collapsed": true
   },
   "outputs": [],
   "source": [
    "def inner_search(preconditions, state):\n",
    "    unifiers = []\n",
    "    frontier = [[copy.deepcopy(preconditions),{},0]]\n",
    "    explored = []\n",
    "    while frontier != []:\n",
    "        current = frontier.pop(-1)\n",
    "        if current[2] == len(current[0]):\n",
    "            unifiers.append(current[1])\n",
    "            explored.append(current)\n",
    "            continue\n",
    "        inner_children = inner_successors(current,state)\n",
    "        for child in inner_children:\n",
    "            if (child not in frontier) and (child not in explored):\n",
    "                frontier.append(child)\n",
    "        explored.append(current)\n",
    "    return unifiers"
   ]
  },
  {
   "cell_type": "markdown",
   "metadata": {},
   "source": [
    "**successors(state, actions)**\n",
    "\n",
    "The successors function for the outer level of search.\n",
    "\n",
    "The inputs are:\n",
    "\n",
    "(1) state - the current state on which to generate a new state\n",
    "\n",
    "(2) actions - the set of actions we are concerned with\n",
    "\n",
    "The output is:\n",
    "\n",
    "(1) transition_states - a list containing both the new state and the action taken for that state\n",
    "\n",
    "This function loops through all possible actions. It then calls inner_search() to generate all possible unifying assignments for that action. For each of these possible unifiers, we calculate the action taken and modify the state based on the add and delete lists. I took a shortcut here. Since the add and delete lists are each one item for both actions, I simply find and replace the one to delete. This way, when checking whether a successor state (in forward_plan()) exists, I know it will be in the same order as one that already exists in the frontier and explored lists. I then return the list of possible new states (and actions)."
   ]
  },
  {
   "cell_type": "code",
   "execution_count": 8,
   "metadata": {
    "collapsed": true
   },
   "outputs": [],
   "source": [
    "def successors(state, actions):\n",
    "    transition_states = []\n",
    "    \n",
    "    for action in actions:\n",
    "        unifiers = inner_search(actions[action][\"conditions\"], state)\n",
    "\n",
    "        for results in unifiers:\n",
    "            updated_state = copy.deepcopy(state)\n",
    "            \n",
    "            state_action = copy.deepcopy(actions[action][\"action\"])\n",
    "            for index, condition in enumerate(state_action):\n",
    "                if condition in results.keys():\n",
    "                    state_action[index] = results.get(condition)\n",
    "            \n",
    "            action_delete = copy.deepcopy(actions[action][\"delete\"][0])\n",
    "            for index, condition in enumerate(action_delete):\n",
    "                if condition in results.keys():\n",
    "                    action_delete[index] = results.get(condition)\n",
    "                    \n",
    "            action_add = copy.deepcopy(actions[action][\"add\"][0])\n",
    "            for index, condition in enumerate(action_add):\n",
    "                if condition in results.keys():\n",
    "                    action_add[index] = results.get(condition)\n",
    "\n",
    "            updated_state[updated_state.index(action_delete)] = action_add            \n",
    "            \n",
    "            transition_states.append([updated_state, state_action])\n",
    "            \n",
    "    return transition_states"
   ]
  },
  {
   "cell_type": "markdown",
   "metadata": {},
   "source": [
    "**path(list_of_states, debug)**\n",
    "\n",
    "The last of the simple functions. This takes the list of states required to reach the goal and the debug option of True or False. If debug is false, the path simply represents the actions taken to reach the goal. If debug is true, the path also includes the state represented from the result of that path."
   ]
  },
  {
   "cell_type": "code",
   "execution_count": 9,
   "metadata": {
    "collapsed": true
   },
   "outputs": [],
   "source": [
    "def path(list_of_states, debug):\n",
    "    plan = []\n",
    "    if debug == True:\n",
    "        for item in list_of_states:\n",
    "            plan.append(item)\n",
    "        plan.append([list_of_states[-1][0],[\"Success!\"]])\n",
    "        return plan\n",
    "    else:\n",
    "        for item in list_of_states:\n",
    "            plan.append(item[1])\n",
    "        plan.append([\"Success!\"])\n",
    "        return plan"
   ]
  },
  {
   "cell_type": "markdown",
   "metadata": {},
   "source": [
    "**forward_planner(start_state, goal, actions, debug)**\n",
    "\n",
    "The main algorithm. It takes the following inputs:\n",
    "\n",
    "(1) start_state - the starting state of the problem\n",
    "\n",
    "(2) goal - the goal state we want to reach\n",
    "\n",
    "(3) actions - the actions we can take to help us reach the goal\n",
    "\n",
    "(4) debug - the true/false boolean that tells us what to print.\n",
    "\n",
    "Returned is a \"pretty version\" of the final plan printed to the console\n",
    "\n",
    "The function first initially parses the starting state, the goal state, and the actions from s-expressions into appropriate lists. We then follow the main graph-based algorithm for state-space search (note I moved the \"explored.append(current)\" from line 9 to line 5 in the pseudocode based on our email exchange about the edge case. All the work is pretty much done in the previously described functions.\n",
    "\n",
    "If we don't find a plan, return None.\n",
    "\n"
   ]
  },
  {
   "cell_type": "code",
   "execution_count": 10,
   "metadata": {
    "collapsed": true
   },
   "outputs": [],
   "source": [
    "def forward_planner(start_state, goal, actions, debug=False):\n",
    "    \n",
    "    start = parse_state(start_state)\n",
    "    final_goal = parse_state(goal)\n",
    "    actions_parsed = parse_actions(actions)\n",
    "    \n",
    "    frontier = copy.deepcopy([[start, [\"Start.\"]]])\n",
    "    explored = []\n",
    "    while frontier != []:\n",
    "        current = frontier.pop(-1)\n",
    "        explored.append(current)\n",
    "        if final_goal == current[0]:\n",
    "            return pretty_print_plan(path(explored, debug), debug)\n",
    "        children = successors(current[0], actions_parsed)\n",
    "        for child in children:\n",
    "            if child[0] not in [item[0] for item in frontier] and child[0] not in [item[0] for item in explored]:\n",
    "                frontier.append(child)\n",
    "    return None"
   ]
  },
  {
   "cell_type": "markdown",
   "metadata": {},
   "source": [
    "You will be solving the problem from above. Here is the start state:"
   ]
  },
  {
   "cell_type": "code",
   "execution_count": 11,
   "metadata": {},
   "outputs": [],
   "source": [
    "start_state = [\n",
    "    \"(item Drill)\",\n",
    "    \"(place Home)\",\n",
    "    \"(place Store)\",\n",
    "    \"(agent Me)\",\n",
    "    \"(at Me Home)\",\n",
    "    \"(at Drill Store)\"\n",
    "]"
   ]
  },
  {
   "cell_type": "markdown",
   "metadata": {},
   "source": [
    "The goal state:"
   ]
  },
  {
   "cell_type": "code",
   "execution_count": 12,
   "metadata": {
    "collapsed": true
   },
   "outputs": [],
   "source": [
    "goal = [\n",
    "    \"(item Drill)\",\n",
    "    \"(place Home)\",\n",
    "    \"(place Store)\",\n",
    "    \"(agent Me)\",\n",
    "    \"(at Me Home)\",\n",
    "    \"(at Drill Me)\"\n",
    "]"
   ]
  },
  {
   "cell_type": "markdown",
   "metadata": {},
   "source": [
    "and the actions/operators:"
   ]
  },
  {
   "cell_type": "code",
   "execution_count": 13,
   "metadata": {},
   "outputs": [],
   "source": [
    "actions = {\n",
    "    \"drive\": {\n",
    "        \"action\": \"(drive ?agent ?from ?to)\",\n",
    "        \"conditions\": [\n",
    "            \"(agent ?agent)\",\n",
    "            \"(place ?from)\",\n",
    "            \"(place ?to)\",\n",
    "            \"(at ?agent ?from)\"\n",
    "        ],\n",
    "        \"add\": [\n",
    "            \"(at ?agent ?to)\"\n",
    "        ],\n",
    "        \"delete\": [\n",
    "            \"(at ?agent ?from)\"\n",
    "        ]\n",
    "    },\n",
    "    \"buy\": {\n",
    "        \"action\": \"(buy ?purchaser ?seller ?item)\",\n",
    "        \"conditions\": [\n",
    "            \"(item ?item)\",\n",
    "            \"(place ?seller)\",\n",
    "            \"(agent ?purchaser)\",\n",
    "            \"(at ?item ?seller)\",\n",
    "            \"(at ?purchaser ?seller)\"\n",
    "        ],\n",
    "        \"add\": [\n",
    "            \"(at ?item ?purchaser)\"\n",
    "        ],\n",
    "        \"delete\": [\n",
    "            \"(at ?item ?seller)\"\n",
    "        ]\n",
    "    }\n",
    "}"
   ]
  },
  {
   "cell_type": "markdown",
   "metadata": {},
   "source": [
    "This is the result of the forward planner without using the debug option."
   ]
  },
  {
   "cell_type": "code",
   "execution_count": 14,
   "metadata": {},
   "outputs": [
    {
     "name": "stdout",
     "output_type": "stream",
     "text": [
      "Action:  ['Start.']\n",
      "\n",
      "Action:  ['drive', 'Me', 'Home', 'Store']\n",
      "\n",
      "Action:  ['buy', 'Me', 'Store', 'Drill']\n",
      "\n",
      "Action:  ['drive', 'Me', 'Store', 'Home']\n",
      "\n",
      "Action:  ['Success!']\n",
      "\n"
     ]
    }
   ],
   "source": [
    "forward_planner(start_state, goal, actions)"
   ]
  },
  {
   "cell_type": "markdown",
   "metadata": {},
   "source": [
    "This is the result of the forward planner using the debug option to also show the intermediate states of the problem."
   ]
  },
  {
   "cell_type": "code",
   "execution_count": 15,
   "metadata": {},
   "outputs": [
    {
     "name": "stdout",
     "output_type": "stream",
     "text": [
      "Action:  ['Start.']\n",
      "State:  [['item', 'Drill'], ['place', 'Home'], ['place', 'Store'], ['agent', 'Me'], ['at', 'Me', 'Home'], ['at', 'Drill', 'Store']]\n",
      "\n",
      "Action:  ['drive', 'Me', 'Home', 'Store']\n",
      "State:  [['item', 'Drill'], ['place', 'Home'], ['place', 'Store'], ['agent', 'Me'], ['at', 'Me', 'Store'], ['at', 'Drill', 'Store']]\n",
      "\n",
      "Action:  ['buy', 'Me', 'Store', 'Drill']\n",
      "State:  [['item', 'Drill'], ['place', 'Home'], ['place', 'Store'], ['agent', 'Me'], ['at', 'Me', 'Store'], ['at', 'Drill', 'Me']]\n",
      "\n",
      "Action:  ['drive', 'Me', 'Store', 'Home']\n",
      "State:  [['item', 'Drill'], ['place', 'Home'], ['place', 'Store'], ['agent', 'Me'], ['at', 'Me', 'Home'], ['at', 'Drill', 'Me']]\n",
      "\n",
      "Action:  ['Success!']\n",
      "State:  [['item', 'Drill'], ['place', 'Home'], ['place', 'Store'], ['agent', 'Me'], ['at', 'Me', 'Home'], ['at', 'Drill', 'Me']]\n",
      "\n"
     ]
    }
   ],
   "source": [
    "forward_planner(start_state, goal, actions, debug=True)"
   ]
  },
  {
   "cell_type": "code",
   "execution_count": null,
   "metadata": {
    "collapsed": true
   },
   "outputs": [],
   "source": []
  }
 ],
 "metadata": {
  "kernelspec": {
   "display_name": "Python 2",
   "language": "python",
   "name": "python2"
  },
  "language_info": {
   "codemirror_mode": {
    "name": "ipython",
    "version": 2
   },
   "file_extension": ".py",
   "mimetype": "text/x-python",
   "name": "python",
   "nbconvert_exporter": "python",
   "pygments_lexer": "ipython2",
   "version": "2.7.13"
  }
 },
 "nbformat": 4,
 "nbformat_minor": 1
}
