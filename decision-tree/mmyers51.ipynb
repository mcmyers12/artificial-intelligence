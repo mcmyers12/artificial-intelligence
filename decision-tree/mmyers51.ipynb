{
 "cells": [
  {
   "cell_type": "markdown",
   "metadata": {},
   "source": [
    "# Module 11 - Programming Assignment"
   ]
  },
  {
   "cell_type": "code",
   "execution_count": 1,
   "metadata": {
    "collapsed": true
   },
   "outputs": [],
   "source": [
    "from __future__ import division # so that 1/2 = 0.5 and not 0\n",
    "from IPython.core.display import *\n",
    "import csv\n",
    "import pprint\n",
    "import copy\n",
    "import random\n",
    "import math"
   ]
  },
  {
   "cell_type": "markdown",
   "metadata": {},
   "source": [
    "## Decision Trees\n",
    "\n",
    "For this assignment you will be implementing and evaluating a Decision Tree using the ID3 Algorithm (**no** pruning or normalized information gain). Use the provided pseudocode. The data is located at (copy link):\n",
    "\n",
    "http://archive.ics.uci.edu/ml/datasets/Mushroom\n",
    "\n",
    "You can download the two files and read them to find out the attributes, attribute values and class labels as well as their locations in the file.\n",
    "\n",
    "One of the things we did not talk about in the lectures was how to deal with missing values. In C4.5, missing values were handled by treating \"?\" as an implicit attribute value for every feature. For example, if the attribute was \"size\" then the domain would be [\"small\", \"medium\", \"large\", \"?\"]. Another approach is to skip instances with missing values. Yet another approach is to infer the missing value conditioned on the class. For example, if the class is \"safe\" and the color is missing, then we would infer the attribute value that is most often associated with \"safe\", perhaps \"red\". **Use the \"?\" approach for this assignment.**\n",
    "\n",
    "As we did with the neural network, you should randomize your data (always randomize your data...you don't know if it is in some particular order like date of collection, by class label, etc.) and split it into two (2) sets. Train on the first set then test on the second set. Then train on the second set and test on the first set.\n",
    "\n",
    "For regression, we almost always use something like Mean Squared Error to judge the performance of a model. For classification, there are a lot more options but for this assignment we will just look at classification error:\n",
    "\n",
    "$$error\\_rate=\\frac{errors}{n}$$\n",
    "\n",
    "You must implement four functions. `train` takes training_data and returns the Decision Tree as a data structure or object (for this one, I'm removing the OOP restriction...people often feel more comfortable writing a Tree in an OOP fashion). Make sure your Tree can be represented somehow.\n",
    "\n",
    "```\n",
    "def train( training_data):\n",
    "   # returns a decision tree data structure\n",
    "```\n",
    "\n",
    "and `view` takes a tree and prints it out:\n",
    "\n",
    "```\n",
    "def view( tree):\n",
    "    pass # probably doesn't return anything.\n",
    "```\n",
    "\n",
    "the purpose of the function is to be able to see what the tree looks like. It should be legible/pretty. You can use ASCII if you like or use something like NetworkX.\n",
    "\n",
    "and `classify` takes a tree and a List of instances (possibly just one) and returns the classifications:\n",
    "\n",
    "```\n",
    "def classify( tree, test_data):\n",
    "    # returns a list of classifications\n",
    "```\n",
    "\n",
    "and `evaluate` takes the classifications and the test_data and returns the error rate:\n",
    "\n",
    "```\n",
    "def evaluate( test_data, classifications):\n",
    "    # returns an error rate\n",
    "```\n",
    "\n",
    "Basically, you're going to:\n",
    "\n",
    "1. learn the tree for set 1\n",
    "2. view the tree\n",
    "3. classify set 2\n",
    "4. evaluate the tree\n",
    "5. learn the tree for set 2\n",
    "6. view the tree\n",
    "7. classify set 1\n",
    "8. evalute the tree\n",
    "9. average the classification error.\n",
    "\n",
    "This is all that is required for this assignment. I'm leaving more of the particulars up to you but you can definitely use the last module as a guide.\n",
    "\n",
    "**This is a very important assignment to reflect on the use of deepcopy because it has a natural recursive implementation**\n",
    "\n",
    "-----"
   ]
  },
  {
   "cell_type": "markdown",
   "metadata": {
    "collapsed": false
   },
   "source": [
    "## Helper Structures and Methods"
   ]
  },
  {
   "cell_type": "markdown",
   "metadata": {
    "collapsed": false
   },
   "source": [
    "**Attribute Index - Name Dictionary**\n",
    "\n",
    "This dictionary has attributes indices as keys and the corresponding attribute name as values.  This structure is used to pretty print the decision tree, since the tree is build using the indices and not the labels."
   ]
  },
  {
   "cell_type": "code",
   "execution_count": 2,
   "metadata": {
    "collapsed": true
   },
   "outputs": [],
   "source": [
    "attribute_names = {\n",
    "    1: 'cap-shape',                \n",
    "    2: 'cap-surface',              \n",
    "    3: 'cap-color',                \n",
    "    4: 'bruises?',                \n",
    "    5: 'odor',                 \n",
    "    6: 'gill-attachment',          \n",
    "    7: 'gill-spacing',         \n",
    "    8: 'gill-size',            \n",
    "    9: 'gill-color',               \n",
    "    10: 'stalk-shape',              \n",
    "    11: 'stalk-root',             \n",
    "    12: 'stalk-surface-above-ring', \n",
    "    13: 'stalk-surface-below-ring',\n",
    "    14: 'stalk-color-above-ring',   \n",
    "    15: 'stalk-color-below-ring',  \n",
    "    16: 'veil-type',                \n",
    "    17: 'veil-color',               \n",
    "    18: 'ring-number',              \n",
    "    19: 'ring-type',             \n",
    "    20: 'spore-print-color',        \n",
    "    21: 'population',         \n",
    "    22: 'habitat'\n",
    "}"
   ]
  },
  {
   "cell_type": "markdown",
   "metadata": {
    "collapsed": false
   },
   "source": [
    "&nbsp;\n",
    "\n",
    "**Read CSV**\n",
    "\n",
    "This function takes a file in CSV format and reads it into a list of lists.  Specifically, each inner list is a list that represents one row in the CSV file.  The data is used in this format throughout the implementation of the decision tree.  For the rest of the program, this structure will be referred to as the data."
   ]
  },
  {
   "cell_type": "code",
   "execution_count": 3,
   "metadata": {
    "collapsed": true
   },
   "outputs": [],
   "source": [
    "def read_csv(file_name):\n",
    "    with open(file_name, 'rb') as f:\n",
    "        reader = csv.reader(f)\n",
    "        table = list(reader)\n",
    "    \n",
    "    return table"
   ]
  },
  {
   "cell_type": "markdown",
   "metadata": {
    "collapsed": false
   },
   "source": [
    "&nbsp;\n",
    "\n",
    "**Create Train and Test Sets**\n",
    "\n",
    "Given the data, this function creates a test set and a training set.  It randomizes the data, then splits the data in half where one half is the training set and one half is the test set.  Both sets are returned."
   ]
  },
  {
   "cell_type": "code",
   "execution_count": 4,
   "metadata": {
    "collapsed": true
   },
   "outputs": [],
   "source": [
    "def create_train_test_sets(data):\n",
    "    random.shuffle(data)\n",
    "    split_point = int(len(data) / 2)\n",
    "    test_set = data[:split_point]\n",
    "    train_set = data[split_point:]\n",
    "    \n",
    "    return train_set, test_set"
   ]
  },
  {
   "cell_type": "markdown",
   "metadata": {
    "collapsed": false
   },
   "source": [
    "&nbsp;\n",
    "\n",
    "**Get Attribute Domains**\n",
    "\n",
    "Given the data, this function creates a dictionary of attribute index to all possible values for that attribute.  This function is used for the main ID3 algorithm, since it is necessary to know the domains of the attributes."
   ]
  },
  {
   "cell_type": "code",
   "execution_count": 5,
   "metadata": {
    "collapsed": true
   },
   "outputs": [],
   "source": [
    "def get_attribute_domains(data):\n",
    "    attributes = {}\n",
    "    \n",
    "    for i in range(len(data[0]) - 1):\n",
    "        i = i + 1           \n",
    "        attributes[i] = []\n",
    "    \n",
    "    for row in data:\n",
    "        for i in range(len(row) - 1):\n",
    "            i = i + 1           \n",
    "            attribute_value = row[i]\n",
    "            if attribute_value not in attributes[i]:\n",
    "                attributes[i].append(attribute_value)\n",
    "                \n",
    "    return attributes"
   ]
  },
  {
   "cell_type": "markdown",
   "metadata": {
    "collapsed": false
   },
   "source": [
    "&nbsp;\n",
    "\n",
    "**Get Majority Label**\n",
    "\n",
    "Given the data, this function determines whether there are more 'poisonous' or 'edible' data points.  It returns whichever is the majority, and selects randomly if there is a tie."
   ]
  },
  {
   "cell_type": "code",
   "execution_count": 6,
   "metadata": {
    "collapsed": true
   },
   "outputs": [],
   "source": [
    "def get_majority_label(data):\n",
    "    poisonous_count = 0\n",
    "    edible_count = 0\n",
    "    \n",
    "    for row in data:\n",
    "        if row[0] == 'p':\n",
    "            poisonous_count += 1\n",
    "        if row[0] == 'e':\n",
    "            edible_count += 1\n",
    "            \n",
    "    if poisonous_count > edible_count:\n",
    "        return 'p'\n",
    "    elif edible_count > poisonous_count:\n",
    "        return 'e'\n",
    "    else:\n",
    "        random_choice = random.randint(0, 1)\n",
    "        if random_choice == 0:\n",
    "            return 'p'\n",
    "        else:\n",
    "            return 'e'"
   ]
  },
  {
   "cell_type": "markdown",
   "metadata": {
    "collapsed": false
   },
   "source": [
    "&nbsp;\n",
    "\n",
    "**Homogeneous**\n",
    "\n",
    "Given the data, this function determines whether the function is homogeneous, i.e. all of the labels in that data are the same.  It returns true if so, false otherwise"
   ]
  },
  {
   "cell_type": "code",
   "execution_count": 7,
   "metadata": {
    "collapsed": true
   },
   "outputs": [],
   "source": [
    "def homogeneous(data):\n",
    "    label = data[0][0]\n",
    "    for row in data:\n",
    "        if row[0] != label:\n",
    "            return False\n",
    "    \n",
    "    return True"
   ]
  },
  {
   "cell_type": "markdown",
   "metadata": {
    "collapsed": false
   },
   "source": [
    "&nbsp;\n",
    "\n",
    "**Get Data Subset**\n",
    "\n",
    "Given some attribute, a value in the domain of that attribute, and the data, this function returns a subset of the data where for each data point the given attribute is equal to the given value."
   ]
  },
  {
   "cell_type": "code",
   "execution_count": 8,
   "metadata": {
    "collapsed": true
   },
   "outputs": [],
   "source": [
    "def get_data_subset(best_attribute, value, data):\n",
    "    data_subset = []\n",
    "    for row in data:\n",
    "        if row[best_attribute] == value:\n",
    "            row_copy = copy.deepcopy(row)\n",
    "            data_subset.append(row_copy)\n",
    "\n",
    "    return data_subset"
   ]
  },
  {
   "cell_type": "markdown",
   "metadata": {
    "collapsed": false
   },
   "source": [
    "&nbsp;\n",
    "\n",
    "**Calculate Entropy**\n",
    "\n",
    "Given the data, this function calculates the entropy of that data.  The formula for entropy is:\n",
    "\n",
    "$$E(S)=-\\sum_i\tp_i\tlog(p_i)$$"
   ]
  },
  {
   "cell_type": "code",
   "execution_count": 9,
   "metadata": {
    "collapsed": true
   },
   "outputs": [],
   "source": [
    "def calculate_entropy(data):\n",
    "    poisonous_count = 0.0\n",
    "    edible_count = 0.0\n",
    "    \n",
    "    for row in data:\n",
    "        if row[0] == 'p':\n",
    "            poisonous_count += 1\n",
    "        if row[0] == 'e':\n",
    "            edible_count += 1\n",
    "    \n",
    "    length_data = len(data)\n",
    "    p1 = poisonous_count / length_data\n",
    "    p2 = edible_count / length_data\n",
    "    entropy = p1 * math.log(p1) + p2 * math.log(p2)\n",
    "    \n",
    "    return -entropy"
   ]
  },
  {
   "cell_type": "markdown",
   "metadata": {
    "collapsed": false
   },
   "source": [
    "&nbsp;\n",
    "\n",
    "**Calculate Information Gain**\n",
    "\n",
    "Given an attribute, the data, and the entropy of the data, this function calculates the information gain for that attribute.  This function is used in the ID3 algorithm to select the best attribute.  The formula for information gain is:\n",
    "\n",
    "$$G(S,A) = E(S) -\\sum\t(|S_v| / |S|) * E(S_V)$$\n",
    "\n",
    "where E(S) is entropy."
   ]
  },
  {
   "cell_type": "code",
   "execution_count": 10,
   "metadata": {
    "collapsed": true
   },
   "outputs": [],
   "source": [
    "def calculate_information_gain(attribute, data, entropy):\n",
    "    value_counts = {}\n",
    "    for row in data:\n",
    "        value = row[attribute]\n",
    "        label = row[0]\n",
    "        \n",
    "        if value in value_counts:\n",
    "            value_counts[value]['count'] += 1.0\n",
    "            value_counts[value][label] += 1.0\n",
    "        else:\n",
    "            value_counts[value] = {}\n",
    "            value_counts[value]['count'] = 1.0\n",
    "            value_counts[value]['p'] = 0.0\n",
    "            value_counts[value]['e'] = 0.0\n",
    "            value_counts[value][label] += 1.0\n",
    "    \n",
    "    summation = 0.0\n",
    "    data_length = len(data)\n",
    "    for value in value_counts:\n",
    "        count = value_counts[value]['count']\n",
    "        p = value_counts[value]['p']\n",
    "        e = value_counts[value]['e']\n",
    "        if p/count == 0.0:\n",
    "            summation -= (count / data_length) * ( (e/count) * math.log(e/count) )\n",
    "        elif e/count == 0.0:\n",
    "            summation -= (count / data_length) * ( (p/count) * math.log(p/count) )\n",
    "        else:\n",
    "            summation -= (count / data_length) * ( (p/count) * math.log(p/count) + (e/count) * math.log(e/count) )\n",
    "\n",
    "    information_gain = entropy - summation\n",
    "    return information_gain"
   ]
  },
  {
   "cell_type": "markdown",
   "metadata": {
    "collapsed": false
   },
   "source": [
    "&nbsp;\n",
    "\n",
    "**Pick Best Attribute**\n",
    "\n",
    "Given data and a set of attributes, this function selects the attribute with the highest information gain.  It utilizes the entropy and information gain functions."
   ]
  },
  {
   "cell_type": "code",
   "execution_count": 11,
   "metadata": {
    "collapsed": true
   },
   "outputs": [],
   "source": [
    "def pick_best_attribute(data, attributes):\n",
    "    entropy = calculate_entropy(data)\n",
    "    max_information_gain = 0.0\n",
    "    best_attribute = None\n",
    "    \n",
    "    for attribute in attributes:\n",
    "        information_gain = calculate_information_gain(attribute, data, entropy)\n",
    "        if information_gain > max_information_gain:\n",
    "            max_information_gain = information_gain\n",
    "            best_attribute = attribute\n",
    "            \n",
    "    return best_attribute   "
   ]
  },
  {
   "cell_type": "markdown",
   "metadata": {
    "collapsed": false
   },
   "source": [
    "&nbsp;\n",
    "\n",
    "**Classify Instance**\n",
    "\n",
    "Given a tree and an instance from the data, this function classifies the instance as poisonous or edible.  It does so by traversing the tree using the attribute values from the instance until a leaf node is reached.  The value of the leaf node is returned."
   ]
  },
  {
   "cell_type": "code",
   "execution_count": 12,
   "metadata": {
    "collapsed": true
   },
   "outputs": [],
   "source": [
    "def classify_instance(tree, instance):\n",
    "    root = next(iter(tree))\n",
    "    instance_value = instance[root]\n",
    "    \n",
    "    while type(tree) == dict:\n",
    "        tree = tree[root][instance_value]\n",
    "        \n",
    "        if type(tree) == dict:\n",
    "            root = next(iter(tree))\n",
    "            instance_value = instance[root]\n",
    "            \n",
    "    return tree"
   ]
  },
  {
   "cell_type": "markdown",
   "metadata": {
    "collapsed": false
   },
   "source": [
    "&nbsp;\n",
    "\n",
    "**Pretty Print Tree**\n",
    "\n",
    "Given a tree, this function pretty prints the tree by recursively traversing the tree and increasing the indent as it goes.  This is used in the view function to view the tree."
   ]
  },
  {
   "cell_type": "code",
   "execution_count": 13,
   "metadata": {
    "collapsed": true
   },
   "outputs": [],
   "source": [
    "def pretty_print_tree(tree, indent=0):\n",
    "    for key, value in tree.iteritems():\n",
    "        if type(key) == int:\n",
    "            key = attribute_names[key]\n",
    "        print '    ' * indent + str(key)\n",
    "        if isinstance(value, dict):\n",
    "            pretty_print_tree(value, indent+1)\n",
    "        else:\n",
    "            print '    ' * (indent+1) + str(value)    "
   ]
  },
  {
   "cell_type": "markdown",
   "metadata": {
    "collapsed": false
   },
   "source": [
    "---\n",
    "\n",
    "## ID3 Algorithm"
   ]
  },
  {
   "cell_type": "code",
   "execution_count": 14,
   "metadata": {
    "collapsed": true
   },
   "outputs": [],
   "source": [
    "def id3(data, attributes, default):\n",
    "    if not data:\n",
    "        return default\n",
    "        \n",
    "    if homogeneous(data):\n",
    "        label = data[0][0] #TODO make sure this works\n",
    "        return label\n",
    "        \n",
    "    if not attributes:\n",
    "        label = get_majority_label(data)\n",
    "        return label\n",
    "    \n",
    "    default_label = get_majority_label(data)\n",
    "    best_attribute = pick_best_attribute(data, attributes)\n",
    "    domain = attributes[best_attribute]\n",
    "    tree = { best_attribute: {} }\n",
    "        \n",
    "    for value in domain:        \n",
    "        subset = get_data_subset(best_attribute, value, data)\n",
    "        new_attributes = copy.deepcopy(attributes)\n",
    "        new_attributes.pop(best_attribute, None)    \n",
    "        subtree = id3(subset, new_attributes, default_label)\n",
    "        tree[best_attribute][value] = subtree\n",
    "    \n",
    "    return tree"
   ]
  },
  {
   "cell_type": "markdown",
   "metadata": {
    "collapsed": false
   },
   "source": [
    "---\n",
    "\n",
    "## Main Functions"
   ]
  },
  {
   "cell_type": "markdown",
   "metadata": {
    "collapsed": false
   },
   "source": [
    "&nbsp;\n",
    "\n",
    "**Train**\n",
    "\n",
    "This function takes training_data and returns the Decision Tree as a dictionary."
   ]
  },
  {
   "cell_type": "code",
   "execution_count": 15,
   "metadata": {
    "collapsed": true
   },
   "outputs": [],
   "source": [
    "def train(training_data):\n",
    "    default_label = get_majority_label(training_data)\n",
    "    attributes = get_attribute_domains(training_data)\n",
    "     \n",
    "    decision_tree = id3(training_data, attributes, default_label)\n",
    "\n",
    "    return decision_tree"
   ]
  },
  {
   "cell_type": "markdown",
   "metadata": {
    "collapsed": false
   },
   "source": [
    "&nbsp;\n",
    "\n",
    "**View**\n",
    "\n",
    "This function takes a tree and prints it out legibly."
   ]
  },
  {
   "cell_type": "code",
   "execution_count": 16,
   "metadata": {
    "collapsed": true
   },
   "outputs": [],
   "source": [
    "def view(tree):\n",
    "    pretty_print_tree(tree)"
   ]
  },
  {
   "cell_type": "markdown",
   "metadata": {
    "collapsed": false
   },
   "source": [
    "&nbsp;\n",
    "\n",
    "**Classify**\n",
    "\n",
    "This function takes a tree and a List of instances (possibly just one) and returns the classifications as a list of string values - either 'p' for poisonous or 'e' for edible."
   ]
  },
  {
   "cell_type": "code",
   "execution_count": 17,
   "metadata": {
    "collapsed": true
   },
   "outputs": [],
   "source": [
    "def classify(tree, test_data):\n",
    "    classifications = []\n",
    "    for row in test_data:\n",
    "        classification = classify_instance(tree, row)\n",
    "        classifications.append(classification)\n",
    "    \n",
    "    return classifications    "
   ]
  },
  {
   "cell_type": "markdown",
   "metadata": {
    "collapsed": false
   },
   "source": [
    "&nbsp;\n",
    "\n",
    "**Evaluate**\n",
    "\n",
    "This function takes the classifications and the test_data and returns the error rate.  The formula for error rate is:\n",
    "\n",
    "$$error\\_rate=\\frac{errors}{n}$$"
   ]
  },
  {
   "cell_type": "code",
   "execution_count": 18,
   "metadata": {
    "collapsed": true
   },
   "outputs": [],
   "source": [
    "def evaluate(test_data, classifications):\n",
    "    errors = 0.0\n",
    "    for i in range(len(test_data)):\n",
    "        if classifications[i] != test_data[i][0]:\n",
    "            errors += 1\n",
    "            \n",
    "    error_rate = errors / len(test_data)\n",
    "    return error_rate"
   ]
  },
  {
   "cell_type": "markdown",
   "metadata": {},
   "source": [
    "-----\n",
    "\n",
    "## Test Decision Trees"
   ]
  },
  {
   "cell_type": "code",
   "execution_count": 19,
   "metadata": {
    "collapsed": true
   },
   "outputs": [],
   "source": [
    "data = read_csv('agaricus-lepiota.data')"
   ]
  },
  {
   "cell_type": "code",
   "execution_count": 20,
   "metadata": {
    "collapsed": true
   },
   "outputs": [],
   "source": [
    "set1, set2 = create_train_test_sets(data)"
   ]
  },
  {
   "cell_type": "code",
   "execution_count": 21,
   "metadata": {
    "collapsed": true
   },
   "outputs": [],
   "source": [
    "tree1 = train(set1)"
   ]
  },
  {
   "cell_type": "code",
   "execution_count": 22,
   "metadata": {
    "collapsed": false
   },
   "outputs": [
    {
     "name": "stdout",
     "output_type": "stream",
     "text": [
      "odor\n",
      "    a\n",
      "        e\n",
      "    c\n",
      "        p\n",
      "    f\n",
      "        p\n",
      "    m\n",
      "        p\n",
      "    l\n",
      "        e\n",
      "    n\n",
      "        spore-print-color\n",
      "            b\n",
      "                e\n",
      "            h\n",
      "                e\n",
      "            k\n",
      "                e\n",
      "            o\n",
      "                e\n",
      "            n\n",
      "                e\n",
      "            r\n",
      "                p\n",
      "            u\n",
      "                e\n",
      "            w\n",
      "                habitat\n",
      "                    d\n",
      "                        gill-size\n",
      "                            b\n",
      "                                e\n",
      "                            n\n",
      "                                p\n",
      "                    g\n",
      "                        e\n",
      "                    m\n",
      "                        e\n",
      "                    l\n",
      "                        cap-color\n",
      "                            c\n",
      "                                e\n",
      "                            b\n",
      "                                e\n",
      "                            e\n",
      "                                e\n",
      "                            g\n",
      "                                e\n",
      "                            n\n",
      "                                e\n",
      "                            p\n",
      "                                e\n",
      "                            r\n",
      "                                e\n",
      "                            u\n",
      "                                e\n",
      "                            w\n",
      "                                p\n",
      "                            y\n",
      "                                p\n",
      "                    p\n",
      "                        e\n",
      "                    u\n",
      "                        e\n",
      "                    w\n",
      "                        e\n",
      "            y\n",
      "                e\n",
      "    p\n",
      "        p\n",
      "    s\n",
      "        p\n",
      "    y\n",
      "        p\n"
     ]
    }
   ],
   "source": [
    "view(tree1)"
   ]
  },
  {
   "cell_type": "code",
   "execution_count": 23,
   "metadata": {
    "collapsed": true
   },
   "outputs": [],
   "source": [
    "classifications = classify(tree1, set2)"
   ]
  },
  {
   "cell_type": "code",
   "execution_count": 24,
   "metadata": {
    "collapsed": false
   },
   "outputs": [
    {
     "name": "stdout",
     "output_type": "stream",
     "text": [
      "tree 1 error rate:  0.0\n"
     ]
    }
   ],
   "source": [
    "error_rate1 = evaluate(set2, classifications)\n",
    "print 'tree 1 error rate: ', error_rate1"
   ]
  },
  {
   "cell_type": "code",
   "execution_count": 25,
   "metadata": {
    "collapsed": true
   },
   "outputs": [],
   "source": [
    "tree2 = train(set2)"
   ]
  },
  {
   "cell_type": "code",
   "execution_count": 26,
   "metadata": {
    "collapsed": false
   },
   "outputs": [
    {
     "name": "stdout",
     "output_type": "stream",
     "text": [
      "odor\n",
      "    a\n",
      "        e\n",
      "    c\n",
      "        p\n",
      "    f\n",
      "        p\n",
      "    m\n",
      "        p\n",
      "    l\n",
      "        e\n",
      "    n\n",
      "        spore-print-color\n",
      "            b\n",
      "                e\n",
      "            h\n",
      "                e\n",
      "            k\n",
      "                e\n",
      "            o\n",
      "                e\n",
      "            n\n",
      "                e\n",
      "            r\n",
      "                p\n",
      "            u\n",
      "                e\n",
      "            w\n",
      "                habitat\n",
      "                    d\n",
      "                        gill-size\n",
      "                            b\n",
      "                                e\n",
      "                            n\n",
      "                                p\n",
      "                    g\n",
      "                        e\n",
      "                    m\n",
      "                        e\n",
      "                    l\n",
      "                        cap-color\n",
      "                            c\n",
      "                                e\n",
      "                            b\n",
      "                                e\n",
      "                            e\n",
      "                                e\n",
      "                            g\n",
      "                                e\n",
      "                            n\n",
      "                                e\n",
      "                            p\n",
      "                                e\n",
      "                            r\n",
      "                                e\n",
      "                            u\n",
      "                                e\n",
      "                            w\n",
      "                                p\n",
      "                            y\n",
      "                                p\n",
      "                    p\n",
      "                        e\n",
      "                    u\n",
      "                        e\n",
      "                    w\n",
      "                        e\n",
      "            y\n",
      "                e\n",
      "    p\n",
      "        p\n",
      "    s\n",
      "        p\n",
      "    y\n",
      "        p\n"
     ]
    }
   ],
   "source": [
    "view(tree2)"
   ]
  },
  {
   "cell_type": "code",
   "execution_count": 27,
   "metadata": {
    "collapsed": true
   },
   "outputs": [],
   "source": [
    "classifications = classify(tree2, set1)"
   ]
  },
  {
   "cell_type": "code",
   "execution_count": 28,
   "metadata": {
    "collapsed": false
   },
   "outputs": [
    {
     "name": "stdout",
     "output_type": "stream",
     "text": [
      "tree 2 error rate:  0.0\n"
     ]
    }
   ],
   "source": [
    "error_rate2 = evaluate(set1, classifications)\n",
    "print 'tree 2 error rate: ', error_rate2"
   ]
  },
  {
   "cell_type": "code",
   "execution_count": 29,
   "metadata": {
    "collapsed": false
   },
   "outputs": [
    {
     "name": "stdout",
     "output_type": "stream",
     "text": [
      "average classification error: 0.0\n"
     ]
    }
   ],
   "source": [
    "average_classification_error = (error_rate1 + error_rate2) / 2.0\n",
    "print 'average classification error:', average_classification_error"
   ]
  }
 ],
 "metadata": {
  "kernelspec": {
   "display_name": "Python 2",
   "language": "python",
   "name": "python2"
  },
  "language_info": {
   "codemirror_mode": {
    "name": "ipython",
    "version": 2
   },
   "file_extension": ".py",
   "mimetype": "text/x-python",
   "name": "python",
   "nbconvert_exporter": "python",
   "pygments_lexer": "ipython2",
   "version": "2.7.13"
  }
 },
 "nbformat": 4,
 "nbformat_minor": 0
}
