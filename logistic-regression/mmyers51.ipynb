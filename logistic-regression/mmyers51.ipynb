{
 "cells": [
  {
   "cell_type": "code",
   "execution_count": 1,
   "metadata": {
    "collapsed": true
   },
   "outputs": [],
   "source": [
    "%matplotlib inline\n",
    "\n",
    "import math\n",
    "import sys\n",
    "import pprint\n",
    "\n",
    "pp = pprint.PrettyPrinter(indent=4)"
   ]
  },
  {
   "cell_type": "markdown",
   "metadata": {},
   "source": [
    "# Module 8 - Programming Assignment (Summer)"
   ]
  },
  {
   "cell_type": "markdown",
   "metadata": {},
   "source": [
    "# The Problem\n",
    "\n",
    "When we last left our agent in Module 4, it was wandering around a world filled with plains, forests, swamps, hills and mountains. This presupposes a map with known terrain:\n",
    "\n",
    "```\n",
    "......\n",
    "...**.\n",
    "...***\n",
    "..^...\n",
    "..~^..\n",
    "```\n",
    "\n",
    "but what if all we know is that we have some area of interest, that we've reduced to a GPS grid:\n",
    "\n",
    "```\n",
    "??????\n",
    "??????\n",
    "??????\n",
    "??????\n",
    "??????\n",
    "```\n",
    "\n",
    "and the agent has to determine what kind of terrain is to the left, front and right of it?\n",
    "\n",
    "Assuming the agent has a very simple visual sensor that constructs a 4x4 grayscale image for each of the three directions, it might it could see something like this:"
   ]
  },
  {
   "cell_type": "code",
   "execution_count": 2,
   "metadata": {
    "collapsed": false
   },
   "outputs": [
    {
     "data": {
      "image/png": "[encoded data removed]",
      "text/plain": [
       "<matplotlib.figure.Figure at 0x10cd16490>"
      ]
     },
     "metadata": {},
     "output_type": "display_data"
    }
   ],
   "source": [
    "import numpy as np\n",
    "import matplotlib.pyplot as plt\n",
    "import random\n",
    "\n",
    "plain =  [0.0, 0.0, 0.0, 0.0,0.0, 0.0, 0.0, 0.0,0.0, 0.0, 0.0, 0.0,1.0, 1.0, 1.0, 1.0]\n",
    "forest = [0.0, 1.0, 0.0, 0.0,1.0, 1.0, 1.0, 0.0,1.0, 1.0, 1.0, 1.0,0.0, 1.0, 0.0, 0.0]\n",
    "hills =  [0.0, 0.0, 0.0, 0.0,0.0, 0.0, 1.0, 0.0,0.0, 1.0, 1.0, 1.0,1.0, 1.0, 1.0, 1.0]\n",
    "swamp =  [0.0, 0.0, 0.0, 0.0,0.0, 0.0, 0.0, 0.0,1.0, 0.0, 1.0, 0.0,1.0, 1.0, 1.0, 1.0]\n",
    "\n",
    "figure = plt.figure(figsize=(20,6))\n",
    "\n",
    "axes = figure.add_subplot(1, 3, 1)\n",
    "pixels = np.array([255 - p * 255 for p in plain], dtype='uint8')\n",
    "pixels = pixels.reshape((4, 4))\n",
    "axes.set_title( \"Left Camera\")\n",
    "axes.imshow(pixels, cmap='gray')\n",
    "\n",
    "axes = figure.add_subplot(1, 3, 2)\n",
    "pixels = np.array([255 - p * 255 for p in forest], dtype='uint8')\n",
    "pixels = pixels.reshape((4, 4))\n",
    "axes.set_title( \"Front Camera\")\n",
    "axes.imshow(pixels, cmap='gray')\n",
    "\n",
    "axes = figure.add_subplot(1, 3, 3)\n",
    "pixels = np.array([255 - p * 255 for p in hills], dtype='uint8')\n",
    "pixels = pixels.reshape((4, 4))\n",
    "axes.set_title( \"Right Camera\")\n",
    "axes.imshow(pixels, cmap='gray')\n",
    "\n",
    "plt.show()\n",
    "plt.close()"
   ]
  },
  {
   "cell_type": "markdown",
   "metadata": {},
   "source": [
    "which would be plains, forest and hills respectively.\n",
    "\n",
    "## The Assignment\n",
    "\n",
    "For this programming assignment your tasks are:\n",
    "\n",
    "1. Write a logistic regression that simply determines if something is a hill or not (two class problem). \n",
    "2. You will also evaluate that logistic regression by generating a *confusion matrix*.\n",
    "\n",
    "For a starting point, you can refer to **module-8-pseudocode.pdf** and the Self-Check."
   ]
  },
  {
   "cell_type": "markdown",
   "metadata": {},
   "source": [
    "## Data\n",
    "\n",
    "We have clean examples of the different types of terrain but based on the location, the registration can be a bit off for some of the types and the visual sensor is often blurry.\n",
    "\n",
    "Here are the clean examples with different registrations: "
   ]
  },
  {
   "cell_type": "code",
   "execution_count": 3,
   "metadata": {
    "collapsed": true
   },
   "outputs": [],
   "source": [
    "clean_data = {\n",
    "    \"plains\": [\n",
    "        [0.0, 0.0, 0.0, 0.0, 0.0, 0.0, 0.0, 0.0, 0.0, 0.0, 0.0, 0.0, 1.0, 1.0, 1.0, 1.0, \"plains\"]\n",
    "    ],\n",
    "    \"forest\": [\n",
    "        [0.0, 1.0, 0.0, 0.0, 1.0, 1.0, 1.0, 0.0, 1.0, 1.0, 1.0, 1.0, 0.0, 1.0, 0.0, 0.0, \"forest\"],\n",
    "        [0.0, 0.0, 1.0, 0.0, 0.0, 1.0, 1.0, 1.0, 1.0, 1.0, 1.0, 1.0, 0.0, 0.0, 1.0, 0.0, \"forest\"],\n",
    "        [1.0, 0.0, 0.0, 0.0, 1.0, 1.0, 0.0, 0.0, 1.0, 1.0, 1.0, 0.0, 1.0, 0.0, 0.0, 0.0, \"forest\"],\n",
    "        [0.0, 0.0, 0.0, 1.0, 0.0, 0.0, 1.0, 1.0, 0.0, 1.0, 1.0, 1.0, 0.0, 0.0, 0.0, 1.0, \"forest\"]\n",
    "    ],\n",
    "    \"hills\": [\n",
    "        [0.0, 0.0, 0.0, 0.0, 0.0, 0.0, 1.0, 0.0, 0.0, 1.0, 1.0, 1.0, 1.0, 1.0, 1.0, 1.0, \"hills\"],\n",
    "        [0.0, 0.0, 0.0, 0.0, 0.0, 1.0, 0.0, 0.0, 1.0, 1.0, 1.0, 0.0, 1.0, 1.0, 1.0, 1.0, \"hills\"],\n",
    "        [0.0, 0.0, 0.0, 0.0, 1.0, 0.0, 0.0, 0.0, 1.0, 1.0, 0.0, 0.0, 1.0, 1.0, 1.0, 0.0, \"hills\"],\n",
    "        [0.0, 0.0, 0.0, 0.0, 0.0, 0.0, 0.0, 1.0, 0.0, 0.0, 1.0, 1.0, 0.0, 1.0, 1.0, 1.0, \"hills\"]\n",
    "    ],\n",
    "    \"swamp\": [\n",
    "        [0.0, 0.0, 0.0, 0.0, 0.0, 0.0, 0.0, 0.0, 1.0, 0.0, 1.0, 0.0, 1.0, 1.0, 1.0, 1.0, \"swamp\"],\n",
    "        [0.0, 0.0, 0.0, 0.0, 0.0, 0.0, 0.0, 0.0, 0.0, 1.0, 0.0, 1.0, 1.0, 1.0, 1.0, 1.0, \"swamp\"]        \n",
    "    ]\n",
    "}"
   ]
  },
  {
   "cell_type": "markdown",
   "metadata": {},
   "source": [
    "Let's create a function that allows us to view any of these:"
   ]
  },
  {
   "cell_type": "code",
   "execution_count": 4,
   "metadata": {
    "collapsed": true
   },
   "outputs": [],
   "source": [
    "def view_sensor_image( data):\n",
    "    figure = plt.figure(figsize=(4,4))\n",
    "    axes = figure.add_subplot(1, 1, 1)\n",
    "    pixels = np.array([255 - p * 255 for p in data[:-1]], dtype='uint8')\n",
    "    pixels = pixels.reshape((4, 4))\n",
    "    axes.set_title( \"Left Camera:\" + data[-1])\n",
    "    axes.imshow(pixels, cmap='gray')\n",
    "    plt.show()\n",
    "    plt.close()"
   ]
  },
  {
   "cell_type": "markdown",
   "metadata": {},
   "source": [
    "\"I think that I shall never see a thing so lovely as a tree.\""
   ]
  },
  {
   "cell_type": "code",
   "execution_count": 5,
   "metadata": {
    "collapsed": false
   },
   "outputs": [
    {
     "data": {
      "image/png": "[encoded data removed]",
      "text/plain": [
       "<matplotlib.figure.Figure at 0x10d665150>"
      ]
     },
     "metadata": {},
     "output_type": "display_data"
    }
   ],
   "source": [
    "view_sensor_image( clean_data[ \"forest\"][0])"
   ]
  },
  {
   "cell_type": "code",
   "execution_count": 6,
   "metadata": {
    "collapsed": false
   },
   "outputs": [
    {
     "data": {
      "image/png": "[encoded data removed]",
      "text/plain": [
       "<matplotlib.figure.Figure at 0x10d9ba850>"
      ]
     },
     "metadata": {},
     "output_type": "display_data"
    }
   ],
   "source": [
    "view_sensor_image( clean_data[\"swamp\"][0])"
   ]
  },
  {
   "cell_type": "markdown",
   "metadata": {},
   "source": [
    "The data that comes in, however, is noisy. The values are never exactly 0 and 1. In order to mimic this we need a `blur` function.\n",
    "\n",
    "We will assume that noise is normally distributed. For values that should be 0, the noisy values are distributed $N(0.10, 0.05)$. For values should be 1, the noisy values are distributed $N(0.9, 0.10)$."
   ]
  },
  {
   "cell_type": "code",
   "execution_count": 7,
   "metadata": {
    "collapsed": true
   },
   "outputs": [],
   "source": [
    "def blur( data):\n",
    "    def apply_noise( value):\n",
    "        if value < 0.5:\n",
    "            v = random.gauss( 0.10, 0.05)\n",
    "            if v < 0.0:\n",
    "                return 0.0\n",
    "            if v > 0.75:\n",
    "                return 0.75\n",
    "            return v\n",
    "        else:\n",
    "            v = random.gauss( 0.90, 0.10)\n",
    "            if v < 0.25:\n",
    "                return 0.25\n",
    "            if v > 1.00:\n",
    "                return 1.00\n",
    "            return v\n",
    "    noisy_readings = [apply_noise( v) for v in data[0:-1]]\n",
    "    return noisy_readings + [data[-1]]"
   ]
  },
  {
   "cell_type": "markdown",
   "metadata": {},
   "source": [
    "We can see how this affects what the agent *actually* sees."
   ]
  },
  {
   "cell_type": "code",
   "execution_count": 8,
   "metadata": {
    "collapsed": false
   },
   "outputs": [
    {
     "data": {
      "image/png": "[encoded data removed]",
      "text/plain": [
       "<matplotlib.figure.Figure at 0x10d933050>"
      ]
     },
     "metadata": {},
     "output_type": "display_data"
    }
   ],
   "source": [
    "view_sensor_image( blur( clean_data[\"swamp\"][0]))"
   ]
  },
  {
   "cell_type": "markdown",
   "metadata": {},
   "source": [
    "You are going to want to write four (4) functions:\n",
    "\n",
    "1. `generate_data`\n",
    "2. `learn_model`\n",
    "3. `apply_model`\n",
    "4. `calculate_confusion_matrix`\n",
    "\n",
    "\n",
    "### `generate_data`\n",
    "\n",
    "With the clean examples and the `blur` function, we have an unlimited amount of data for training and testing our classifier, a logistic regression that determines if a sensor image is hills (1) or not (0).\n",
    "\n",
    "In classification, there is a general problem called the \"unbalanced class problem\". In general, we want our training data to have the same number of classes, in this case \"hills\" and \"not hills\". This means you should probably generate training data with, say, 100 hills and then 100 of all the other types of terrain combined.\n",
    "\n",
    "When you send your data to the actual `learn_model` function, it will need to have all the String labels transformed to 0 or 1 appropriately. Remember, you also need to set $x_0$ = 1.0; *where* you do that is up to you but you need to be consistent (if you do it in `generate_data` then don't also do it in `learn_model` or `apply_model`.\n",
    "\n",
    "You can make `generate_data` as sophisticated as you like. But it should at least take n and a label so that:\n",
    "\n",
    "`generate_data( clean_data, 100, \"hills\")`\n",
    "\n",
    "generates 100 hills, 100 not hills and has transformed the String labels into 1 and 0, respectively.\n",
    "\n",
    "### `learn_model`\n",
    "\n",
    "`learn_model` is the function that takes in training data and actually learns the logistic regression model. If you're up to it, you can implement a vectorized version using Numpy but you might start with the loopy version first.\n",
    "\n",
    "*In the lecture, I mentioned that you usually should mean normalize your data but you don't need to do that in this case because the data is already on the range 0-1.*\n",
    "\n",
    "I should also mention that gradient descent is not the usual approach to linear|logistic regression because the error function actually has an *exact* solution. However, in the case of large data sets, the exact solution often fails and in any case, the use of gradient descent will prepare you for neural networks next week.\n",
    "\n",
    "When verbose is True, you should print out the error so you can see that it is getting smaller. \n",
    "\n",
    "When developing your algorithm, you need to watch the error so you'll set verbose=True to start. You should print it out every iteration and make sure it is declining. You'll have to experiment with both epsilon and alpha; and it doesn't hurt to make alpha adaptive (if the error increases, make alpha = alpha / 10).\n",
    "\n",
    "When you know that your algorithm is working, change your code so that the error is printed out only every 1,000 iterations (it takes a lot of iterations for this problem to converge, depending on your parameter values--start early).\n",
    "\n",
    "`learn_model` returns the List of Thetas.\n",
    "\n",
    "### `apply_model`\n",
    "\n",
    "`apply_model` takes a List of Thetas (the model) and either labeled or unlabeled data. If the data is unlabeled, it will return predictions for each observation as a Tuple of the inferred value (0 or 1) and the actual probability (so something like (1, 0.73) or (0, 0.19).\n",
    "\n",
    "If the data is labeled, you will return a Tuple of the actual value (0 or 1) and the predicted value (0 or 1). In this case, you return a List of something like [(0, 1), (1, 1), (0, 0), (1, 0)].\n",
    "\n",
    "### `calculate_confusion_matrix`\n",
    "\n",
    "The `calculate_confusion_matrix` takes the results of `apply_model` when labeled=True and prints a nice HTML version of a confusion matrix and include statistics for error rate, true positive rate and true negative rate.\n",
    "\n",
    "\n",
    "**As always when working with Lists or Lists of Lists, be very careful when you are modifying these items in place that this is what you intend (and not to be modifying a copy)**"
   ]
  },
  {
   "cell_type": "markdown",
   "metadata": {},
   "source": [
    "---"
   ]
  },
  {
   "cell_type": "markdown",
   "metadata": {},
   "source": [
    "## Helper Functions"
   ]
  },
  {
   "cell_type": "markdown",
   "metadata": {},
   "source": [
    "&nbsp;\n",
    "\n",
    "**x**\n",
    "\n",
    "x"
   ]
  },
  {
   "cell_type": "code",
   "execution_count": 9,
   "metadata": {
    "collapsed": true
   },
   "outputs": [],
   "source": [
    "def generate_hills(data, n, label, data_out):\n",
    "    hill_index = 0\n",
    "    for i in range(n):\n",
    "        blurred_hill = blur(clean_data[label][hill_index])\n",
    "        blurred_hill[-1] = 1.0\n",
    "        blurred_hill.insert(0, 1.0)  # Add x_0 of 1\n",
    "        data_out.append(blurred_hill)\n",
    "\n",
    "        if hill_index < 3:\n",
    "            hill_index += 1\n",
    "        else:\n",
    "            hill_index = 0"
   ]
  },
  {
   "cell_type": "markdown",
   "metadata": {},
   "source": [
    "&nbsp;\n",
    "\n",
    "**x**\n",
    "\n",
    "x"
   ]
  },
  {
   "cell_type": "code",
   "execution_count": 10,
   "metadata": {
    "collapsed": true
   },
   "outputs": [],
   "source": [
    "def generate_not_hills(data, n, label, data_out):\n",
    "    not_hill_data = []\n",
    "    for key in data:\n",
    "        if key != label:\n",
    "            for data_point in data[key]:\n",
    "                not_hill_data.append(data_point)\n",
    "\n",
    "    not_hill_index = 0\n",
    "    for i in range(n):\n",
    "        blurred_not_hill = blur(not_hill_data[not_hill_index])\n",
    "        blurred_not_hill[-1] = 0.0\n",
    "        blurred_not_hill.insert(0, 1.0)  # Add x_0 of 1\n",
    "        data_out.append(blurred_not_hill)\n",
    "\n",
    "        if not_hill_index < 6:\n",
    "            not_hill_index += 1\n",
    "        else:\n",
    "            not_hill_index = 0"
   ]
  },
  {
   "cell_type": "markdown",
   "metadata": {},
   "source": [
    "&nbsp;\n",
    "\n",
    "**x**\n",
    "\n",
    "x"
   ]
  },
  {
   "cell_type": "code",
   "execution_count": null,
   "metadata": {
    "collapsed": true
   },
   "outputs": [],
   "source": []
  },
  {
   "cell_type": "markdown",
   "metadata": {},
   "source": [
    "&nbsp;\n",
    "\n",
    "**x**\n",
    "\n",
    "x"
   ]
  },
  {
   "cell_type": "code",
   "execution_count": 11,
   "metadata": {
    "collapsed": true
   },
   "outputs": [],
   "source": [
    "def dot_product(thetas, xs):\n",
    "    z = 0\n",
    "    xs_no_y = xs[0:len(xs) - 1]\n",
    "    if len(thetas) != len(xs_no_y):\n",
    "        print '\\n\\n\\nthetas length different than xs\\n\\n\\n'\n",
    "\n",
    "    for i in range(len(thetas)):\n",
    "        z += thetas[i] * xs[i]\n",
    "\n",
    "    return z"
   ]
  },
  {
   "cell_type": "markdown",
   "metadata": {},
   "source": [
    "&nbsp;\n",
    "\n",
    "**x**\n",
    "\n",
    "x"
   ]
  },
  {
   "cell_type": "code",
   "execution_count": 12,
   "metadata": {
    "collapsed": true
   },
   "outputs": [],
   "source": [
    "def calculate_yhat(thetas, xs):\n",
    "    z = dot_product(thetas, xs)\n",
    "    yhat = 1 / (1 + math.e ** (-z))\n",
    "\n",
    "    if yhat < 0 or yhat > 1:\n",
    "        print '\\n\\n\\nyhat not in range 0, 1\\n\\n\\n'\n",
    "\n",
    "    return yhat"
   ]
  },
  {
   "cell_type": "markdown",
   "metadata": {},
   "source": [
    "&nbsp;\n",
    "\n",
    "**x**\n",
    "\n",
    "x"
   ]
  },
  {
   "cell_type": "code",
   "execution_count": 13,
   "metadata": {
    "collapsed": true
   },
   "outputs": [],
   "source": [
    "def calculate_error(thetas, train_data):\n",
    "    error_summation = 0\n",
    "    for xs in train_data:\n",
    "        y = xs[-1]\n",
    "        yhat = calculate_yhat(thetas, xs)\n",
    "\n",
    "        if yhat == 0 and (1 - yhat) == 0:\n",
    "            pass\n",
    "\n",
    "        elif yhat == 0:\n",
    "            error_summation += ((1 - y) * math.log(1 - yhat))\n",
    "\n",
    "        elif (1 - yhat) == 0:\n",
    "            error_summation += (y * math.log(yhat))\n",
    "\n",
    "        else:\n",
    "            error_summation += (y * math.log(yhat) + (1 - y) * math.log(1 - yhat))\n",
    "\n",
    "    n = len(train_data)  # TODO is this right?\n",
    "    error = - (1.0 / n) * error_summation\n",
    "\n",
    "    return error"
   ]
  },
  {
   "cell_type": "markdown",
   "metadata": {},
   "source": [
    "&nbsp;\n",
    "\n",
    "**x**\n",
    "\n",
    "x"
   ]
  },
  {
   "cell_type": "code",
   "execution_count": 14,
   "metadata": {
    "collapsed": true
   },
   "outputs": [],
   "source": [
    "def derivative(j, thetas, train_data):\n",
    "    derivative_summation = 0\n",
    "\n",
    "    n = len(train_data)\n",
    "\n",
    "    for xs in train_data:\n",
    "        y = xs[-1]\n",
    "        yhat = calculate_yhat(thetas, xs)\n",
    "        xij = xs[j]\n",
    "\n",
    "        derivative_summation += (yhat - y) * xij\n",
    "\n",
    "    deriv = (1.0 / n) * derivative_summation\n",
    "    return deriv"
   ]
  },
  {
   "cell_type": "markdown",
   "metadata": {},
   "source": [
    "&nbsp;\n",
    "\n",
    "**x**\n",
    "\n",
    "x"
   ]
  },
  {
   "cell_type": "code",
   "execution_count": null,
   "metadata": {
    "collapsed": true
   },
   "outputs": [],
   "source": []
  },
  {
   "cell_type": "code",
   "execution_count": null,
   "metadata": {
    "collapsed": true
   },
   "outputs": [],
   "source": []
  },
  {
   "cell_type": "markdown",
   "metadata": {},
   "source": [
    "---\n",
    "\n",
    "Put your helper functions above here.\n",
    "\n",
    "## Main Functions"
   ]
  },
  {
   "cell_type": "markdown",
   "metadata": {},
   "source": [
    "Use `generate_data` to generate 10 blurred \"hills\" examples with balanced (same number of) \"non hills\" examples to see that the function is working."
   ]
  },
  {
   "cell_type": "code",
   "execution_count": 15,
   "metadata": {
    "collapsed": false
   },
   "outputs": [
    {
     "name": "stdout",
     "output_type": "stream",
     "text": [
      "[1.0, 0.05614049359718312, 0.15463931103909906, 0.15332484976328478, 0.04844867540710786, 0.10258557550535567, 0.04048437934967423, 0.8670120670438611, 0.030149238266218473, 0.17504186507853392, 0.9357142973759719, 1.0, 0.8890078197320711, 0.8771014908079913, 0.8519481403992397, 0.961619344152052, 0.9355949761781037, 1.0]\n",
      "[1.0, 0.12921173106336223, 0.10248758407591739, 0.15318488990056037, 0.10195997660099906, 0.13306447456298903, 1.0, 0.08413671723870508, 0.07675354384387789, 0.9000539908572088, 0.8057342807216384, 0.9229158256832105, 0.06501714777747684, 0.7913043275357906, 0.9519178294395158, 0.9873025549936425, 0.8423813356593385, 1.0]\n",
      "[1.0, 0.03827824335665769, 0.07976045267650474, 0.09098053506732777, 0.013741785993646435, 0.9383888508774946, 0.1371485561082538, 0.17219319736623268, 0.13195482937263658, 0.8833942800474379, 0.9379209347302807, 0.04271251740550728, 0.12132390474140234, 0.934641542674021, 0.860397169654837, 1.0, 0.22475583147339584, 1.0]\n",
      "[1.0, 0.16106618357467595, 0.16299659820240087, 0.03306397450543705, 0.1239646495985181, 0.10659618747911369, 0.07464092724486512, 0.11571541445257835, 0.7881366951685206, 0.0597811966195473, 0.13420774393074344, 0.7857112456598918, 0.9471435012482876, 0.16653992554412356, 0.8903872723780749, 0.808076313876416, 0.9059306326777502, 1.0]\n",
      "[1.0, 0.08543120749447823, 0.10074270565649307, 0.05849501605949371, 0.09820058408104138, 0.08291221036390597, 0.214647081498379, 0.7940634207209138, 0.2161350051807557, 0.02927868088918277, 0.895401080671891, 0.9265437731121029, 0.9738403616350402, 0.9118456223751308, 1.0, 0.681279294597341, 0.9696767072281269, 1.0]\n",
      "[1.0, 0.13817911832733087, 0.14901758202763177, 0.15561144595958812, 0.07024558731545569, 0.09412087454173275, 0.8368897969095519, 0.14050284303884664, 0.0771295165916801, 0.8768986218128036, 0.8484001803291987, 0.8252653114353202, 0.1461211941233739, 0.9058295350049176, 0.794270073811207, 0.7646723799051703, 0.8466614187129596, 1.0]\n",
      "[1.0, 0.04958351492400664, 0.1278793690352485, 0.059980584387837835, 0.10723155813592239, 1.0, 0.1620194174180874, 0.0, 0.01717458672120449, 0.9703699169819496, 1.0, 0.16511349355235333, 0.12715319834202513, 0.8507051599070518, 0.8986547181032495, 0.8289229388276825, 0.18536812539808076, 1.0]\n",
      "[1.0, 0.11224168389595132, 0.0, 0.11923613723709366, 0.12311852813137435, 0.15130023439172532, 0.09849390873208075, 0.1209150011801536, 0.848834816510514, 0.03709905985717925, 0.10080707251777357, 0.7295043529470593, 0.9552480928076732, 0.07885016885325413, 0.908516275647791, 0.8562883164465305, 0.6839895403582508, 1.0]\n",
      "[1.0, 0.12047182534121219, 0.08506922220293904, 0.012324776128838921, 0.09779829525899773, 0.01842958979420453, 0.12320958179189773, 0.9775360295591508, 0.0783395279519743, 0.10003001680181278, 0.7979077472768471, 0.9411546402181756, 1.0, 0.8330965174432061, 0.7485784307262927, 0.8696832186856204, 0.8705257199757891, 1.0]\n",
      "[1.0, 0.011157554961314514, 0.13730467575386746, 0.0857601328075498, 0.07406889214331933, 0.09109835751507349, 0.9669566749520501, 0.11853378554642027, 0.10998302366677551, 0.9179940812701647, 0.7150385601905416, 1.0, 0.05280403606389078, 0.8960229590252482, 1.0, 0.8850954321480201, 1.0, 1.0]\n",
      "[1.0, 0.06238611456052831, 0.07901763223834207, 0.16435407929568185, 0.059422015712678806, 0.10189233216914717, 0.15642601263651643, 0.043029107968483374, 0.08624399687373421, 0.09532409759494598, 0.12504927981647376, 0.09984166446084247, 0.06903448070082563, 0.8215652410657217, 0.9290883402325436, 1.0, 1.0, 0.0]\n",
      "[1.0, 0.15099602284339864, 0.1499587827928523, 0.10675687629181323, 0.11303740584630947, 0.05234401324426349, 0.11054185995877266, 0.08877229583055368, 0.10826204348881627, 0.8390682748957548, 0.0557893108775849, 0.9755063403934444, 0.03759057404850913, 0.96950336011132, 0.874543031142961, 0.7645362290344608, 0.8602652981926695, 0.0]\n",
      "[1.0, 0.131540080423614, 0.09513584837532103, 0.005836049958616252, 0.0909309279158865, 0.14906878196607448, 0.042307295973358555, 0.153556507434212, 0.04083803589452766, 0.18172067025211225, 0.9439201764808545, 0.11456449611567579, 0.7835111920965181, 0.9263974434900999, 0.8222148519435203, 0.9868892499417314, 0.9548688564191692, 0.0]\n",
      "[1.0, 0.03723889647470224, 0.9343352398710989, 0.047211850742073604, 0.0878729679309664, 0.9311323450665062, 0.9601237269048315, 0.9504076753705344, 0.16185110677527, 0.7759136618082862, 0.8938260095595686, 0.8539253206607049, 0.8578914609228536, 0.19782441820124483, 0.8061153830480305, 0.10427498106786172, 0.13284550876241774, 0.0]\n",
      "[1.0, 0.052944883153582895, 0.14125100526818393, 0.9791107969598142, 0.08427250237999863, 0.12949448975906538, 0.7531076937905886, 0.8638709812514666, 0.9402177144166769, 0.8468428200429817, 1.0, 0.9229770691670098, 0.8445867030519295, 0.17008627859054948, 0.04258052162845638, 0.812856379652984, 0.11809779001912386, 0.0]\n",
      "[1.0, 1.0, 0.18587907277390606, 0.08462157784187835, 0.0411655104060349, 0.8026911095345559, 1.0, 0.06890947856568799, 0.1625863818508077, 0.8269936459714932, 0.8552552814135826, 0.832112631356103, 0.13751154580688105, 0.8019235163174224, 0.11849413739328334, 0.03431270874136132, 0.04396167685183621, 0.0]\n",
      "[1.0, 0.031040729171577172, 0.13388865823095486, 0.08549481821358283, 0.8170844682476828, 0.1390102592499059, 0.22380698609016048, 1.0, 0.7417559713234976, 0.07892590034985679, 1.0, 0.941301225712146, 0.937326545417752, 0.1752458505630897, 0.11062345349297184, 0.09653658202257696, 0.9868782308086368, 0.0]\n",
      "[1.0, 0.14696316870182716, 0.12007961340184002, 0.09551057403485438, 0.14967902918147147, 0.14871685356896922, 0.06602636347076862, 0.11214419068971078, 0.09493267949939688, 0.07147776445552476, 0.10100797562189302, 0.01353194936079155, 0.19634308266516398, 0.6738665165578049, 0.8613695842090793, 0.7393122251466098, 1.0, 0.0]\n",
      "[1.0, 0.0744432236461302, 0.03714252788928074, 0.17706966725978224, 0.09012658816260363, 0.0, 0.09390449495432282, 0.16779288400610864, 0.08724107177124416, 0.8581647474644286, 0.08100138745994681, 0.8155023523609894, 0.16688535122662662, 0.818567815863665, 0.8507975964056983, 0.9221968444515356, 0.8240594454652319, 0.0]\n",
      "[1.0, 0.11576576639693155, 0.06975853630516995, 0.048218414811699355, 0.12088132119605088, 0.046596876798397184, 0.058861305937762454, 0.09795844320172654, 0.07974367088754723, 0.0920483219844265, 1.0, 0.06442113468833954, 0.6687316366225688, 0.7397311328450966, 0.912254530259601, 0.8980981815624927, 0.8809477482756166, 0.0]\n"
     ]
    }
   ],
   "source": [
    "def generate_data(data, n, label):\n",
    "    data_out = []\n",
    "\n",
    "    # Create n hills, with equal number of different types of hills blurred\n",
    "    generate_hills(data, n, label, data_out)\n",
    "\n",
    "    # Create n not hills\n",
    "    generate_not_hills(data, n, label, data_out)\n",
    "\n",
    "    return data_out\n",
    "\n",
    "results = generate_data( clean_data, 10, \"hills\")\n",
    "for result in results:\n",
    "    print result"
   ]
  },
  {
   "cell_type": "markdown",
   "metadata": {},
   "source": [
    "Use `learn_model` to learn a logistic regression model for classifying sensor images as \"hills\" or \"not hills\". Use your `generate_data` function to generate a training set with 100 hills examples. **Set Verbose to True**"
   ]
  },
  {
   "cell_type": "code",
   "execution_count": 16,
   "metadata": {
    "collapsed": true,
    "scrolled": false
   },
   "outputs": [],
   "source": [
    "def learn_model(train_data, verbose=False):\n",
    "    epsilon = 1 / 10000000.0\n",
    "    alpha = 0.1\n",
    "    m = len(train_data[0]) - 1  # TODO IS THIS REALLY M??\n",
    "    # initialize thetas to random values between [-1, 1]\n",
    "    thetas = [random.uniform(-1, 1) for i in range(m)]  # TODO: should this be m?\n",
    "    print 'length thetas: ', len(thetas)\n",
    "    previous_error = 0.0\n",
    "    current_error = calculate_error(thetas, train_data)\n",
    "    while abs(current_error - previous_error) > epsilon:\n",
    "        print 'thetas:', thetas\n",
    "\n",
    "        new_thetas = [0 for i in range(m)]\n",
    "        # print 'length new thetas: ', len(new_thetas)\n",
    "        # print 'new thetas: ', (new_thetas)\n",
    "        for j in range(m):  # TODO is this right?\n",
    "            new_thetas[j] = thetas[j] - alpha * derivative(j, thetas, train_data)\n",
    "        thetas = new_thetas\n",
    "\n",
    "        print 'new thetas:', new_thetas\n",
    "\n",
    "        if verbose:\n",
    "            print 'error: ', current_error\n",
    "            \n",
    "\n",
    "        if current_error > previous_error:\n",
    "            alpha = alpha / 10.0\n",
    "            print 'GREATER'\n",
    "            print\n",
    "            print\n",
    "        else:\n",
    "            print 'LESS'\n",
    "            print\n",
    "            print\n",
    "        previous_error = current_error\n",
    "\n",
    "        current_error = calculate_error(thetas, train_data)\n",
    "\n",
    "train_data = generate_data( clean_data, 100, \"hills\")\n",
    "#model = learn_model( train_data, True)\n",
    "model = [-22.400546976561237, -10.451067964042313, -18.6086749056464, -14.1214695347607, -6.36399199170839, 11.428122477078729, 3.0248446407761627, 3.4316227441828544, 12.576993255048198, -10.316226530691987, 10.761316221645709, 12.501387621641353, -9.776272973274683, 0.3172110649805399, 13.275939870295009, 12.24751308359399, -4.983004296479011]\n"
   ]
  },
  {
   "cell_type": "markdown",
   "metadata": {},
   "source": [
    "Use `generate_data` to generate 100 blurred \"hills\" examples with balanced \"non hills\" examples and use this as your test data. Set labeled=True and generate results to use in `calculate_confusion_matrix`. Print out the first 10 results, one per line."
   ]
  },
  {
   "cell_type": "code",
   "execution_count": 17,
   "metadata": {
    "collapsed": false
   },
   "outputs": [
    {
     "name": "stdout",
     "output_type": "stream",
     "text": [
      "[(1, 0.9998622302764434), (1, 0.9933296796478475), (1, 0.9996002159166718), (1, 0.9998474873879837), (1, 0.9986933309857939), (1, 0.9999871725810598), (1, 0.9986612487288424), (1, 0.993357624265914), (1, 0.9784989106473007), (1, 0.9999548880425173), (1, 0.9999445159189068), (1, 0.9995367423786091), (1, 0.983791521658151), (1, 0.9998807927731732), (1, 0.9992906721596615), (1, 0.9999440898442895), (1, 0.9999954888783144), (1, 0.9985705628599147), (1, 0.9973258831933659), (1, 0.9999859253001973), (1, 0.9999973096088981), (1, 0.9981912022461072), (1, 0.9982403262709115), (1, 0.9717901252927755), (1, 0.9885488880130852), (1, 0.9988501246478008), (1, 0.9998799632585945), (1, 0.9999544208090091), (1, 0.9999340884545178), (1, 0.9999471421235077), (1, 0.9999641972377233), (1, 0.9998179079702252), (1, 0.9963480159906124), (1, 0.9972194709552282), (1, 0.9999911718830283), (1, 0.9954251868595402), (1, 0.9986180074614324), (1, 0.9950707684013185), (1, 0.9983990352423925), (1, 0.999950234279892), (1, 0.9999657653837379), (1, 0.9999940926521396), (1, 0.9997672618251491), (1, 0.9813531829195976), (1, 0.9998587504449736), (1, 0.9964478831761934), (1, 0.9999677120748546), (1, 0.999058657795933), (1, 0.9994175867667405), (1, 0.9999947593125442), (1, 0.9799247637623171), (1, 0.9795630989851493), (1, 0.999673128745236), (1, 0.9982774380111981), (1, 0.9996121258778677), (1, 0.9993490705702203), (1, 0.999788659240156), (1, 0.9979635329818908), (1, 0.9994125619758033), (1, 0.6240949132214515), (1, 0.9998315702752195), (1, 0.9991847451000311), (1, 0.9851862597730603), (1, 0.6356671534808543), (1, 0.9991813329594387), (1, 0.9999715779027464), (1, 0.9959630853510494), (1, 0.9643007138439653), (1, 0.7619042268489142), (1, 0.9871260115216963), (1, 0.9998966653743909), (1, 0.9999584808821534), (1, 0.9997717877818629), (1, 0.9990498073638776), (1, 0.9999472071742621), (1, 0.9413672935408234), (1, 0.9886142397450957), (1, 0.9840378477003043), (1, 0.9995545654626031), (1, 0.9996490899101749), (1, 0.9975276666009912), (1, 0.9997435646737187), (1, 0.9999840530874781), (1, 0.9992483397770597), (1, 0.9997544098635583), (1, 0.9997963767942118), (1, 0.9999640863205574), (1, 0.9995287207210013), (1, 0.9996946377979874), (1, 0.7716012981873918), (1, 0.9936672270667276), (1, 0.9996031485294399), (1, 0.9999358479959085), (1, 0.9097745502843887), (1, 0.9999075400741039), (1, 0.9982082883552502), (1, 0.9996654691195197), (1, 0.9918010559460112), (1, 0.9996936508470635), (1, 0.9972730391640504), (0, 0.00549292617642443), (0, 0.049133675309744475), (0, 9.239711109017421e-05), (0, 0.00028669491156556385), (0, 2.8083146820182895e-05), (0, 0.11622702823096878), (0, 0.012980901427804278), (0, 0.002642612355964865), (0, 0.3322114242849785), (0, 0.32619736881583566), (0, 0.003837960811158065), (0, 0.002357107587326912), (0, 0.00024279577427673213), (0, 1.413428626616369e-05), (0, 0.3700029247599808), (0, 0.035531178893499736), (0, 0.0008032386605728397), (0, 1.5152666181241458e-06), (0, 0.0006600489761515257), (0, 0.0035140458087756614), (0, 0.0013271807257788802), (0, 8.141703598439359e-05), (0, 0.009672890514231577), (0, 0.0024414216151321), (0, 0.0003321923636799779), (0, 0.04177515085710194), (0, 2.7650344910555112e-06), (0, 0.0011475968332393808), (0, 0.08102676503970213), (0, 0.009259804704822301), (0, 0.0009529776184589212), (0, 0.0002541068208512635), (0, 6.784044619718012e-05), (0, 2.7954079156523764e-05), (0, 0.003921633120274388), (0, 9.300524230875819e-05), (0, 0.006944910384522655), (0, 0.03211737619934809), (0, 0.13416094214362909), (0, 0.003487338502145537), (0, 6.487841861216626e-06), (0, 0.0005959818520407989), (0, 0.022646838245414056), (1, 0.5856204825893948), (0, 0.027415613894385155), (0, 0.000705928581286444), (0, 1.9397779402453565e-05), (0, 7.06162755213367e-05), (0, 0.00042704360504409837), (0, 0.0020090031540664368), (0, 0.12029127062976183), (0, 0.0004538015587854501), (0, 6.797122422585024e-05), (0, 0.020857220592215574), (0, 0.0074676873872753765), (0, 2.318111501230926e-05), (0, 0.08175279447399711), (0, 0.26403490965895315), (0, 0.0012934626691784277), (0, 7.611569507918021e-07), (1, 0.7707643805124135), (0, 0.0005889395965594528), (0, 4.139287838348946e-06), (0, 0.0008636962731004849), (0, 0.06014896915631806), (0, 0.005817524897186951), (0, 0.00018057791231598048), (0, 0.01566938160618237), (0, 4.421692222698923e-05), (0, 5.294697554870262e-05), (0, 0.00016189572669126257), (0, 0.011063793523131488), (0, 0.0038485637639025017), (0, 9.2626143642084e-06), (0, 0.0003589013312534072), (0, 0.00017967172107202512), (0, 2.3216263773245253e-05), (0, 0.006551381493866617), (0, 0.0006299943880640992), (0, 0.0008856884545392124), (0, 3.246205031590171e-07), (0, 0.04985971742449241), (0, 4.018119781134759e-05), (0, 0.010428879065379), (0, 0.20372269387981243), (0, 0.021115056429015424), (1, 0.8060833209523433), (0, 0.013053621820437974), (0, 0.033102548072902756), (0, 0.0006897937666517461), (0, 0.0015789766265407968), (0, 0.0685766736229332), (0, 0.29538930627741605), (0, 0.11199513054113795), (0, 0.0008529680500176997), (0, 0.011559857470767189), (0, 0.0002176649288861329), (0, 0.0001595039994557371), (0, 0.0018022060643083158), (0, 0.02205779487735562)]\n"
     ]
    }
   ],
   "source": [
    "test_data = generate_data( clean_data, 100, \"hills\")\n",
    "\n",
    "def apply_model(model, test_data, labeled=False):\n",
    "    results = []\n",
    "    for xs in test_data:\n",
    "        yhat = calculate_yhat(model, xs)\n",
    "        predicted = None\n",
    "        if yhat < .5:\n",
    "            predicted = 0\n",
    "        else:\n",
    "            predicted = 1\n",
    "        \n",
    "        \n",
    "        if labeled:\n",
    "            actual = xs[-1]\n",
    "            results.append((actual, predicted))\n",
    "        else:\n",
    "           results.append((predicted, yhat))\n",
    "            \n",
    "    return results\n",
    "\n",
    "results = apply_model( model, test_data)\n",
    "print results"
   ]
  },
  {
   "cell_type": "markdown",
   "metadata": {},
   "source": [
    "Using the results above, show your confusion matrix for your model."
   ]
  },
  {
   "cell_type": "code",
   "execution_count": 18,
   "metadata": {
    "collapsed": false
   },
   "outputs": [
    {
     "ename": "NameError",
     "evalue": "name 'calculate_confusion_matrix' is not defined",
     "output_type": "error",
     "traceback": [
      "\u001b[0;31m---------------------------------------------------------------------------\u001b[0m",
      "\u001b[0;31mNameError\u001b[0m                                 Traceback (most recent call last)",
      "\u001b[0;32m<ipython-input-18-0e7130bbbb59>\u001b[0m in \u001b[0;36m<module>\u001b[0;34m()\u001b[0m\n\u001b[1;32m      1\u001b[0m \u001b[0mresults\u001b[0m \u001b[0;34m=\u001b[0m \u001b[0mapply_model\u001b[0m\u001b[0;34m(\u001b[0m \u001b[0mmodel\u001b[0m\u001b[0;34m,\u001b[0m \u001b[0mtest_data\u001b[0m\u001b[0;34m,\u001b[0m \u001b[0mTrue\u001b[0m\u001b[0;34m)\u001b[0m\u001b[0;34m\u001b[0m\u001b[0m\n\u001b[0;32m----> 2\u001b[0;31m \u001b[0mcalculate_confusion_matrix\u001b[0m\u001b[0;34m(\u001b[0m\u001b[0mresults\u001b[0m\u001b[0;34m)\u001b[0m\u001b[0;34m\u001b[0m\u001b[0m\n\u001b[0m\u001b[1;32m      3\u001b[0m \u001b[0;32mdef\u001b[0m \u001b[0mcalculate_confusion_matrix\u001b[0m\u001b[0;34m(\u001b[0m\u001b[0mresults\u001b[0m\u001b[0;34m)\u001b[0m\u001b[0;34m:\u001b[0m\u001b[0;34m\u001b[0m\u001b[0m\n\u001b[1;32m      4\u001b[0m     \u001b[0mn\u001b[0m \u001b[0;34m=\u001b[0m \u001b[0mlen\u001b[0m\u001b[0;34m(\u001b[0m\u001b[0mresults\u001b[0m\u001b[0;34m)\u001b[0m\u001b[0;34m\u001b[0m\u001b[0m\n\u001b[1;32m      5\u001b[0m     \u001b[0mTP\u001b[0m \u001b[0;34m=\u001b[0m \u001b[0;36m0.0\u001b[0m\u001b[0;34m\u001b[0m\u001b[0m\n",
      "\u001b[0;31mNameError\u001b[0m: name 'calculate_confusion_matrix' is not defined"
     ]
    }
   ],
   "source": [
    "def calculate_confusion_matrix(results):\n",
    "    n = len(results)\n",
    "    TP = 0.0\n",
    "    FP = 0.0\n",
    "    FN = 0.0\n",
    "    TN = 0.0\n",
    "    for result in results:\n",
    "        actual = result[0]\n",
    "        predicted = result[1]\n",
    "        if actual == predicted:\n",
    "            if actual == 1:\n",
    "                TP += 1\n",
    "            else:\n",
    "                TN += 1\n",
    "        \n",
    "        else:\n",
    "            if predicted == 1:\n",
    "                FP += 1\n",
    "            else:\n",
    "                FN += 1\n",
    "    \n",
    "    print \"TP: \", TP\n",
    "    print \"FP: \", FP\n",
    "    print \"FN: \", FN\n",
    "    print \"TN: \", TN\n",
    "    \n",
    "    error = (FN + FP) / n\n",
    "    print \"error: \", error\n",
    "    \n",
    "    true_positive_rate = TP / (TP + FN)\n",
    "    print \"true_positive_rate: \", true_positive_rate\n",
    "\n",
    "    true_negative_rate = TN / (TN + FP)\n",
    "    print \"true_negative_rate: \", true_negative_rate\n",
    "\n",
    "results = apply_model( model, test_data, True)\n",
    "calculate_confusion_matrix(results)"
   ]
  }
 ],
 "metadata": {
  "kernelspec": {
   "display_name": "Python 2",
   "language": "python",
   "name": "python2"
  },
  "language_info": {
   "codemirror_mode": {
    "name": "ipython",
    "version": 2
   },
   "file_extension": ".py",
   "mimetype": "text/x-python",
   "name": "python",
   "nbconvert_exporter": "python",
   "pygments_lexer": "ipython2",
   "version": "2.7.13"
  }
 },
 "nbformat": 4,
 "nbformat_minor": 1
}
