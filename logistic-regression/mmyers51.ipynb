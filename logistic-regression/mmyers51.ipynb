{
 "cells": [
  {
   "cell_type": "code",
   "execution_count": 1,
   "metadata": {
    "collapsed": true
   },
   "outputs": [],
   "source": [
    "%matplotlib inline\n",
    "\n",
    "from IPython.display import HTML, display\n",
    "import math\n",
    "import sys"
   ]
  },
  {
   "cell_type": "markdown",
   "metadata": {},
   "source": [
    "# Module 8 - Programming Assignment (Summer)"
   ]
  },
  {
   "cell_type": "markdown",
   "metadata": {},
   "source": [
    "# The Problem\n",
    "\n",
    "When we last left our agent in Module 4, it was wandering around a world filled with plains, forests, swamps, hills and mountains. This presupposes a map with known terrain:\n",
    "\n",
    "```\n",
    "......\n",
    "...**.\n",
    "...***\n",
    "..^...\n",
    "..~^..\n",
    "```\n",
    "\n",
    "but what if all we know is that we have some area of interest, that we've reduced to a GPS grid:\n",
    "\n",
    "```\n",
    "??????\n",
    "??????\n",
    "??????\n",
    "??????\n",
    "??????\n",
    "```\n",
    "\n",
    "and the agent has to determine what kind of terrain is to the left, front and right of it?\n",
    "\n",
    "Assuming the agent has a very simple visual sensor that constructs a 4x4 grayscale image for each of the three directions, it might it could see something like this:"
   ]
  },
  {
   "cell_type": "code",
   "execution_count": 2,
   "metadata": {
    "collapsed": false
   },
   "outputs": [
    {
     "data": {
      "image/png": "[encoded data removed]",
      "text/plain": [
       "<matplotlib.figure.Figure at 0x1149f6450>"
      ]
     },
     "metadata": {},
     "output_type": "display_data"
    }
   ],
   "source": [
    "import numpy as np\n",
    "import matplotlib.pyplot as plt\n",
    "import random\n",
    "\n",
    "plain =  [0.0, 0.0, 0.0, 0.0,0.0, 0.0, 0.0, 0.0,0.0, 0.0, 0.0, 0.0,1.0, 1.0, 1.0, 1.0]\n",
    "forest = [0.0, 1.0, 0.0, 0.0,1.0, 1.0, 1.0, 0.0,1.0, 1.0, 1.0, 1.0,0.0, 1.0, 0.0, 0.0]\n",
    "hills =  [0.0, 0.0, 0.0, 0.0,0.0, 0.0, 1.0, 0.0,0.0, 1.0, 1.0, 1.0,1.0, 1.0, 1.0, 1.0]\n",
    "swamp =  [0.0, 0.0, 0.0, 0.0,0.0, 0.0, 0.0, 0.0,1.0, 0.0, 1.0, 0.0,1.0, 1.0, 1.0, 1.0]\n",
    "\n",
    "figure = plt.figure(figsize=(20,6))\n",
    "\n",
    "axes = figure.add_subplot(1, 3, 1)\n",
    "pixels = np.array([255 - p * 255 for p in plain], dtype='uint8')\n",
    "pixels = pixels.reshape((4, 4))\n",
    "axes.set_title( \"Left Camera\")\n",
    "axes.imshow(pixels, cmap='gray')\n",
    "\n",
    "axes = figure.add_subplot(1, 3, 2)\n",
    "pixels = np.array([255 - p * 255 for p in forest], dtype='uint8')\n",
    "pixels = pixels.reshape((4, 4))\n",
    "axes.set_title( \"Front Camera\")\n",
    "axes.imshow(pixels, cmap='gray')\n",
    "\n",
    "axes = figure.add_subplot(1, 3, 3)\n",
    "pixels = np.array([255 - p * 255 for p in hills], dtype='uint8')\n",
    "pixels = pixels.reshape((4, 4))\n",
    "axes.set_title( \"Right Camera\")\n",
    "axes.imshow(pixels, cmap='gray')\n",
    "\n",
    "plt.show()\n",
    "plt.close()"
   ]
  },
  {
   "cell_type": "markdown",
   "metadata": {},
   "source": [
    "which would be plains, forest and hills respectively.\n",
    "\n",
    "## The Assignment\n",
    "\n",
    "For this programming assignment your tasks are:\n",
    "\n",
    "1. Write a logistic regression that simply determines if something is a hill or not (two class problem). \n",
    "2. You will also evaluate that logistic regression by generating a *confusion matrix*.\n",
    "\n",
    "For a starting point, you can refer to **module-8-pseudocode.pdf** and the Self-Check."
   ]
  },
  {
   "cell_type": "markdown",
   "metadata": {},
   "source": [
    "## Data\n",
    "\n",
    "We have clean examples of the different types of terrain but based on the location, the registration can be a bit off for some of the types and the visual sensor is often blurry.\n",
    "\n",
    "Here are the clean examples with different registrations: "
   ]
  },
  {
   "cell_type": "code",
   "execution_count": 3,
   "metadata": {
    "collapsed": true
   },
   "outputs": [],
   "source": [
    "clean_data = {\n",
    "    \"plains\": [\n",
    "        [0.0, 0.0, 0.0, 0.0, 0.0, 0.0, 0.0, 0.0, 0.0, 0.0, 0.0, 0.0, 1.0, 1.0, 1.0, 1.0, \"plains\"]\n",
    "    ],\n",
    "    \"forest\": [\n",
    "        [0.0, 1.0, 0.0, 0.0, 1.0, 1.0, 1.0, 0.0, 1.0, 1.0, 1.0, 1.0, 0.0, 1.0, 0.0, 0.0, \"forest\"],\n",
    "        [0.0, 0.0, 1.0, 0.0, 0.0, 1.0, 1.0, 1.0, 1.0, 1.0, 1.0, 1.0, 0.0, 0.0, 1.0, 0.0, \"forest\"],\n",
    "        [1.0, 0.0, 0.0, 0.0, 1.0, 1.0, 0.0, 0.0, 1.0, 1.0, 1.0, 0.0, 1.0, 0.0, 0.0, 0.0, \"forest\"],\n",
    "        [0.0, 0.0, 0.0, 1.0, 0.0, 0.0, 1.0, 1.0, 0.0, 1.0, 1.0, 1.0, 0.0, 0.0, 0.0, 1.0, \"forest\"]\n",
    "    ],\n",
    "    \"hills\": [\n",
    "        [0.0, 0.0, 0.0, 0.0, 0.0, 0.0, 1.0, 0.0, 0.0, 1.0, 1.0, 1.0, 1.0, 1.0, 1.0, 1.0, \"hills\"],\n",
    "        [0.0, 0.0, 0.0, 0.0, 0.0, 1.0, 0.0, 0.0, 1.0, 1.0, 1.0, 0.0, 1.0, 1.0, 1.0, 1.0, \"hills\"],\n",
    "        [0.0, 0.0, 0.0, 0.0, 1.0, 0.0, 0.0, 0.0, 1.0, 1.0, 0.0, 0.0, 1.0, 1.0, 1.0, 0.0, \"hills\"],\n",
    "        [0.0, 0.0, 0.0, 0.0, 0.0, 0.0, 0.0, 1.0, 0.0, 0.0, 1.0, 1.0, 0.0, 1.0, 1.0, 1.0, \"hills\"]\n",
    "    ],\n",
    "    \"swamp\": [\n",
    "        [0.0, 0.0, 0.0, 0.0, 0.0, 0.0, 0.0, 0.0, 1.0, 0.0, 1.0, 0.0, 1.0, 1.0, 1.0, 1.0, \"swamp\"],\n",
    "        [0.0, 0.0, 0.0, 0.0, 0.0, 0.0, 0.0, 0.0, 0.0, 1.0, 0.0, 1.0, 1.0, 1.0, 1.0, 1.0, \"swamp\"]        \n",
    "    ]\n",
    "}"
   ]
  },
  {
   "cell_type": "markdown",
   "metadata": {},
   "source": [
    "Let's create a function that allows us to view any of these:"
   ]
  },
  {
   "cell_type": "code",
   "execution_count": 4,
   "metadata": {
    "collapsed": true
   },
   "outputs": [],
   "source": [
    "def view_sensor_image( data):\n",
    "    figure = plt.figure(figsize=(4,4))\n",
    "    axes = figure.add_subplot(1, 1, 1)\n",
    "    pixels = np.array([255 - p * 255 for p in data[:-1]], dtype='uint8')\n",
    "    pixels = pixels.reshape((4, 4))\n",
    "    axes.set_title( \"Left Camera:\" + data[-1])\n",
    "    axes.imshow(pixels, cmap='gray')\n",
    "    plt.show()\n",
    "    plt.close()"
   ]
  },
  {
   "cell_type": "markdown",
   "metadata": {},
   "source": [
    "\"I think that I shall never see a thing so lovely as a tree.\""
   ]
  },
  {
   "cell_type": "code",
   "execution_count": 5,
   "metadata": {
    "collapsed": false
   },
   "outputs": [
    {
     "data": {
      "image/png": "[encoded data removed]",
      "text/plain": [
       "<matplotlib.figure.Figure at 0x11849c4d0>"
      ]
     },
     "metadata": {},
     "output_type": "display_data"
    }
   ],
   "source": [
    "view_sensor_image( clean_data[ \"forest\"][0])"
   ]
  },
  {
   "cell_type": "code",
   "execution_count": 6,
   "metadata": {
    "collapsed": false
   },
   "outputs": [
    {
     "data": {
      "image/png": "[encoded data removed]",
      "text/plain": [
       "<matplotlib.figure.Figure at 0x1187fc490>"
      ]
     },
     "metadata": {},
     "output_type": "display_data"
    }
   ],
   "source": [
    "view_sensor_image( clean_data[\"swamp\"][0])"
   ]
  },
  {
   "cell_type": "markdown",
   "metadata": {},
   "source": [
    "The data that comes in, however, is noisy. The values are never exactly 0 and 1. In order to mimic this we need a `blur` function.\n",
    "\n",
    "We will assume that noise is normally distributed. For values that should be 0, the noisy values are distributed $N(0.10, 0.05)$. For values should be 1, the noisy values are distributed $N(0.9, 0.10)$."
   ]
  },
  {
   "cell_type": "code",
   "execution_count": 7,
   "metadata": {
    "collapsed": true
   },
   "outputs": [],
   "source": [
    "def blur( data):\n",
    "    def apply_noise( value):\n",
    "        if value < 0.5:\n",
    "            v = random.gauss( 0.10, 0.05)\n",
    "            if v < 0.0:\n",
    "                return 0.0\n",
    "            if v > 0.75:\n",
    "                return 0.75\n",
    "            return v\n",
    "        else:\n",
    "            v = random.gauss( 0.90, 0.10)\n",
    "            if v < 0.25:\n",
    "                return 0.25\n",
    "            if v > 1.00:\n",
    "                return 1.00\n",
    "            return v\n",
    "    noisy_readings = [apply_noise( v) for v in data[0:-1]]\n",
    "    return noisy_readings + [data[-1]]"
   ]
  },
  {
   "cell_type": "markdown",
   "metadata": {},
   "source": [
    "We can see how this affects what the agent *actually* sees."
   ]
  },
  {
   "cell_type": "code",
   "execution_count": 8,
   "metadata": {
    "collapsed": false
   },
   "outputs": [
    {
     "data": {
      "image/png": "[encoded data removed]",
      "text/plain": [
       "<matplotlib.figure.Figure at 0x1183ee410>"
      ]
     },
     "metadata": {},
     "output_type": "display_data"
    }
   ],
   "source": [
    "view_sensor_image( blur( clean_data[\"swamp\"][0]))"
   ]
  },
  {
   "cell_type": "markdown",
   "metadata": {},
   "source": [
    "You are going to want to write four (4) functions:\n",
    "\n",
    "1. `generate_data`\n",
    "2. `learn_model`\n",
    "3. `apply_model`\n",
    "4. `calculate_confusion_matrix`\n",
    "\n",
    "\n",
    "### `generate_data`\n",
    "\n",
    "With the clean examples and the `blur` function, we have an unlimited amount of data for training and testing our classifier, a logistic regression that determines if a sensor image is hills (1) or not (0).\n",
    "\n",
    "In classification, there is a general problem called the \"unbalanced class problem\". In general, we want our training data to have the same number of classes, in this case \"hills\" and \"not hills\". This means you should probably generate training data with, say, 100 hills and then 100 of all the other types of terrain combined.\n",
    "\n",
    "When you send your data to the actual `learn_model` function, it will need to have all the String labels transformed to 0 or 1 appropriately. Remember, you also need to set $x_0$ = 1.0; *where* you do that is up to you but you need to be consistent (if you do it in `generate_data` then don't also do it in `learn_model` or `apply_model`.\n",
    "\n",
    "You can make `generate_data` as sophisticated as you like. But it should at least take n and a label so that:\n",
    "\n",
    "`generate_data( clean_data, 100, \"hills\")`\n",
    "\n",
    "generates 100 hills, 100 not hills and has transformed the String labels into 1 and 0, respectively.\n",
    "\n",
    "### `learn_model`\n",
    "\n",
    "`learn_model` is the function that takes in training data and actually learns the logistic regression model. If you're up to it, you can implement a vectorized version using Numpy but you might start with the loopy version first.\n",
    "\n",
    "*In the lecture, I mentioned that you usually should mean normalize your data but you don't need to do that in this case because the data is already on the range 0-1.*\n",
    "\n",
    "I should also mention that gradient descent is not the usual approach to linear|logistic regression because the error function actually has an *exact* solution. However, in the case of large data sets, the exact solution often fails and in any case, the use of gradient descent will prepare you for neural networks next week.\n",
    "\n",
    "When verbose is True, you should print out the error so you can see that it is getting smaller. \n",
    "\n",
    "When developing your algorithm, you need to watch the error so you'll set verbose=True to start. You should print it out every iteration and make sure it is declining. You'll have to experiment with both epsilon and alpha; and it doesn't hurt to make alpha adaptive (if the error increases, make alpha = alpha / 10).\n",
    "\n",
    "When you know that your algorithm is working, change your code so that the error is printed out only every 1,000 iterations (it takes a lot of iterations for this problem to converge, depending on your parameter values--start early).\n",
    "\n",
    "`learn_model` returns the List of Thetas.\n",
    "\n",
    "### `apply_model`\n",
    "\n",
    "`apply_model` takes a List of Thetas (the model) and either labeled or unlabeled data. If the data is unlabeled, it will return predictions for each observation as a Tuple of the inferred value (0 or 1) and the actual probability (so something like (1, 0.73) or (0, 0.19).\n",
    "\n",
    "If the data is labeled, you will return a Tuple of the actual value (0 or 1) and the predicted value (0 or 1). In this case, you return a List of something like [(0, 1), (1, 1), (0, 0), (1, 0)].\n",
    "\n",
    "### `calculate_confusion_matrix`\n",
    "\n",
    "The `calculate_confusion_matrix` takes the results of `apply_model` when labeled=True and prints a nice HTML version of a confusion matrix and include statistics for error rate, true positive rate and true negative rate.\n",
    "\n",
    "\n",
    "**As always when working with Lists or Lists of Lists, be very careful when you are modifying these items in place that this is what you intend (and not to be modifying a copy)**"
   ]
  },
  {
   "cell_type": "markdown",
   "metadata": {},
   "source": [
    "---"
   ]
  },
  {
   "cell_type": "markdown",
   "metadata": {},
   "source": [
    "## Helper Functions"
   ]
  },
  {
   "cell_type": "markdown",
   "metadata": {},
   "source": [
    "&nbsp;\n",
    "\n",
    "**Generate Hills**\n",
    "\n",
    "This is a helper function for the generate_data function.  Given the clean data, n, a label, and an array data_out that represents the data that will be returned by generate_data, this function generates n blurred hills using the blur function and the clean data.  It iterates through the different options for hill data to return an equal number of the different types of hills.  Each hill is added to the data_out array."
   ]
  },
  {
   "cell_type": "code",
   "execution_count": 9,
   "metadata": {
    "collapsed": true
   },
   "outputs": [],
   "source": [
    "def generate_hills(data, n, label, data_out):\n",
    "    hill_index = 0\n",
    "    for i in range(n):\n",
    "        blurred_hill = blur(data[label][hill_index])\n",
    "        blurred_hill[-1] = 1.0\n",
    "        blurred_hill.insert(0, 1.0)  # Add x_0 of 1\n",
    "        data_out.append(blurred_hill)\n",
    "\n",
    "        if hill_index < 3:\n",
    "            hill_index += 1\n",
    "        else:\n",
    "            hill_index = 0"
   ]
  },
  {
   "cell_type": "markdown",
   "metadata": {},
   "source": [
    "&nbsp;\n",
    "\n",
    "**Generate Not Hills**\n",
    "\n",
    "This is a helper function for the generate_data function. Given the data n, a label, and an array data_out that represents the data that will be returned by generate_data, this function generates n blurred data points that are not hills.  It iterates through the different options for data that are not hills to return an equal number of the different types of non hill data. Each data point is added to the data_out array."
   ]
  },
  {
   "cell_type": "code",
   "execution_count": 10,
   "metadata": {
    "collapsed": true
   },
   "outputs": [],
   "source": [
    "def generate_not_hills(data, n, label, data_out):\n",
    "    not_hill_data = []\n",
    "    for key in data:\n",
    "        if key != label:\n",
    "            for data_point in data[key]:\n",
    "                not_hill_data.append(data_point)\n",
    "\n",
    "    not_hill_index = 0\n",
    "    for i in range(n):\n",
    "        blurred_not_hill = blur(not_hill_data[not_hill_index])\n",
    "        blurred_not_hill[-1] = 0.0\n",
    "        blurred_not_hill.insert(0, 1.0)  # Add x_0 of 1\n",
    "        data_out.append(blurred_not_hill)\n",
    "\n",
    "        if not_hill_index < 6:\n",
    "            not_hill_index += 1\n",
    "        else:\n",
    "            not_hill_index = 0"
   ]
  },
  {
   "cell_type": "markdown",
   "metadata": {},
   "source": [
    "&nbsp;\n",
    "\n",
    "**Dot Product**\n",
    "\n",
    "This function calculates the dot product of a list of thetas and a list of xs.  The dot product of two vectors a and b is a⋅b = a1b1 + a2b2 + a3b3 +...+ anbn.  This is used to calculate y hat.\n",
    " "
   ]
  },
  {
   "cell_type": "code",
   "execution_count": 11,
   "metadata": {
    "collapsed": true
   },
   "outputs": [],
   "source": [
    "def dot_product(thetas, xs):\n",
    "    z = 0\n",
    "    xs_no_y = xs[0:len(xs) - 1]\n",
    "\n",
    "    for i in range(len(thetas)):\n",
    "        z += thetas[i] * xs[i]\n",
    "\n",
    "    return z"
   ]
  },
  {
   "cell_type": "markdown",
   "metadata": {},
   "source": [
    "&nbsp;\n",
    "\n",
    "**Calculate y hat**\n",
    "\n",
    "This function calculates y hat given a list of thetas and a list of xs.  The formula for y hat is:\n",
    "$$\\hat{y} = \\frac{1}{1+e^{-\\theta_0}}$$"
   ]
  },
  {
   "cell_type": "code",
   "execution_count": 12,
   "metadata": {
    "collapsed": true
   },
   "outputs": [],
   "source": [
    "def calculate_yhat(thetas, xs):\n",
    "    z = dot_product(thetas, xs)\n",
    "    yhat = 1 / (1 + math.e ** (-z))\n",
    "\n",
    "    return yhat"
   ]
  },
  {
   "cell_type": "markdown",
   "metadata": {},
   "source": [
    "&nbsp;\n",
    "\n",
    "**Calculate Error**\n",
    "\n",
    "This function calculates error using the formula for error for logistic regresstion:\n",
    "$$J(\\theta)=-\\frac{1}{n}\\sum_i\ty_i\tlog(\\hat{y_i})\t+\t(1\t- y_i)log(1\t- \\hat{y_i})$$"
   ]
  },
  {
   "cell_type": "code",
   "execution_count": 13,
   "metadata": {
    "collapsed": true
   },
   "outputs": [],
   "source": [
    "def calculate_error(thetas, train_data):\n",
    "    error_summation = 0\n",
    "    for xs in train_data:\n",
    "        y = xs[-1]\n",
    "        yhat = calculate_yhat(thetas, xs)\n",
    "\n",
    "        if yhat == 0 and (1 - yhat) == 0:\n",
    "            pass\n",
    "\n",
    "        elif yhat == 0:\n",
    "            error_summation += ((1 - y) * math.log(1 - yhat))\n",
    "\n",
    "        elif (1 - yhat) == 0:\n",
    "            error_summation += (y * math.log(yhat))\n",
    "\n",
    "        else:\n",
    "            error_summation += (y * math.log(yhat) + (1 - y) * math.log(1 - yhat))\n",
    "\n",
    "    n = len(train_data)\n",
    "    error = - (1.0 / n) * error_summation\n",
    "\n",
    "    return error"
   ]
  },
  {
   "cell_type": "markdown",
   "metadata": {},
   "source": [
    "&nbsp;\n",
    "\n",
    "**Derivative**\n",
    "\n",
    "This function calculates the dertivate using the y hat function. The formula used to calculate the derivative is:\n",
    "$$\\frac{\\partial\tJ}{\\partial\t\\theta_j}\t=\t\\frac{1}{n}\\sum_i(\\hat{y_i}\t- y_i)x_{ij}$$"
   ]
  },
  {
   "cell_type": "code",
   "execution_count": 14,
   "metadata": {
    "collapsed": true
   },
   "outputs": [],
   "source": [
    "def derivative(j, thetas, train_data):\n",
    "    derivative_summation = 0\n",
    "\n",
    "    n = len(train_data)\n",
    "\n",
    "    for xs in train_data:\n",
    "        y = xs[-1]\n",
    "        yhat = calculate_yhat(thetas, xs)\n",
    "        xij = xs[j]\n",
    "\n",
    "        derivative_summation += (yhat - y) * xij\n",
    "\n",
    "    deriv = (1.0 / n) * derivative_summation\n",
    "    return deriv"
   ]
  },
  {
   "cell_type": "markdown",
   "metadata": {},
   "source": [
    "&nbsp;\n",
    "\n",
    "**Print HTML Table**\n",
    "\n",
    "This function prints a nicely formated HTML table given a list of lists.  It is used to print the confusion matrix."
   ]
  },
  {
   "cell_type": "code",
   "execution_count": 15,
   "metadata": {
    "collapsed": false
   },
   "outputs": [],
   "source": [
    "def print_html_table(data):\n",
    "    print_results = []\n",
    "    for row in data:\n",
    "        row_list = []\n",
    "        for x in row:\n",
    "            if type(x) == float:\n",
    "                x = round(x, 2)\n",
    "            row_list.append(x)\n",
    "        print_results.append(row_list)\n",
    "    display(HTML(\n",
    "    '<table><tr>{}</tr></table>'.format(\n",
    "        '</tr><tr>'.join(\n",
    "            '<td>{}</td>'.format('</td><td>'.join(str(_) for _ in row)) for row in print_results)\n",
    "        )\n",
    "     ))"
   ]
  },
  {
   "cell_type": "markdown",
   "metadata": {},
   "source": [
    "&nbsp;\n",
    "\n",
    "**Calculate metrics**\n",
    "\n",
    "Given false negatives, false positives, true negatives, true positives, and n this function calculates and pritns the error, true positive rate, and true negative rate.  It is called in the confusion matrix function."
   ]
  },
  {
   "cell_type": "code",
   "execution_count": 16,
   "metadata": {
    "collapsed": true
   },
   "outputs": [],
   "source": [
    "def calculate_metrics(FN, FP, TN, TP, n):\n",
    "    error = (FN + FP) / n\n",
    "    print \"error: \", error * 100.0, \"%\"\n",
    "    \n",
    "    true_positive_rate = TP / (TP + FN)\n",
    "    print \"true_positive_rate: \", true_positive_rate * 100.0, \"%\"\n",
    "\n",
    "    true_negative_rate = TN / (TN + FP)\n",
    "    print \"true_negative_rate: \", true_negative_rate * 100.0, \"%\""
   ]
  },
  {
   "cell_type": "markdown",
   "metadata": {},
   "source": [
    "---\n",
    "\n",
    "\n",
    "## Main Functions"
   ]
  },
  {
   "cell_type": "markdown",
   "metadata": {},
   "source": [
    "Use `generate_data` to generate 10 blurred \"hills\" examples with balanced (same number of) \"non hills\" examples to see that the function is working."
   ]
  },
  {
   "cell_type": "code",
   "execution_count": 17,
   "metadata": {
    "collapsed": false
   },
   "outputs": [
    {
     "data": {
      "text/html": [
       "<table><tr><td>1.0</td><td>0.17</td><td>0.06</td><td>0.08</td><td>0.13</td><td>0.12</td><td>0.18</td><td>1.0</td><td>0.05</td><td>0.07</td><td>0.86</td><td>0.9</td><td>0.82</td><td>0.73</td><td>0.86</td><td>0.78</td><td>0.84</td><td>1.0</td></tr><tr><td>1.0</td><td>0.04</td><td>0.05</td><td>0.09</td><td>0.08</td><td>0.05</td><td>0.91</td><td>0.09</td><td>0.13</td><td>0.84</td><td>0.8</td><td>0.85</td><td>0.11</td><td>1.0</td><td>0.84</td><td>0.98</td><td>0.85</td><td>1.0</td></tr><tr><td>1.0</td><td>0.12</td><td>0.08</td><td>0.12</td><td>0.1</td><td>0.94</td><td>0.13</td><td>0.15</td><td>0.05</td><td>1.0</td><td>0.86</td><td>0.11</td><td>0.05</td><td>0.93</td><td>0.93</td><td>0.99</td><td>0.11</td><td>1.0</td></tr><tr><td>1.0</td><td>0.07</td><td>0.03</td><td>0.11</td><td>0.08</td><td>0.17</td><td>0.08</td><td>0.01</td><td>0.87</td><td>0.16</td><td>0.06</td><td>0.94</td><td>0.88</td><td>0.07</td><td>0.8</td><td>0.89</td><td>0.94</td><td>1.0</td></tr><tr><td>1.0</td><td>0.1</td><td>0.04</td><td>0.12</td><td>0.15</td><td>0.09</td><td>0.17</td><td>0.71</td><td>0.13</td><td>0.17</td><td>0.74</td><td>1.0</td><td>0.8</td><td>0.91</td><td>0.87</td><td>0.85</td><td>0.92</td><td>1.0</td></tr><tr><td>1.0</td><td>0.11</td><td>0.13</td><td>0.07</td><td>0.09</td><td>0.17</td><td>0.69</td><td>0.15</td><td>0.16</td><td>0.93</td><td>0.96</td><td>0.73</td><td>0.08</td><td>0.8</td><td>1.0</td><td>0.86</td><td>0.79</td><td>1.0</td></tr><tr><td>1.0</td><td>0.11</td><td>0.08</td><td>0.22</td><td>0.06</td><td>0.9</td><td>0.25</td><td>0.14</td><td>0.13</td><td>1.0</td><td>1.0</td><td>0.12</td><td>0.0</td><td>0.92</td><td>0.94</td><td>0.76</td><td>0.06</td><td>1.0</td></tr><tr><td>1.0</td><td>0.19</td><td>0.12</td><td>0.17</td><td>0.13</td><td>0.13</td><td>0.13</td><td>0.14</td><td>0.91</td><td>0.15</td><td>0.08</td><td>0.92</td><td>0.8</td><td>0.18</td><td>0.93</td><td>1.0</td><td>0.89</td><td>1.0</td></tr><tr><td>1.0</td><td>0.1</td><td>0.06</td><td>0.16</td><td>0.16</td><td>0.15</td><td>0.06</td><td>1.0</td><td>0.07</td><td>0.05</td><td>0.76</td><td>0.82</td><td>0.99</td><td>0.78</td><td>1.0</td><td>0.96</td><td>0.91</td><td>1.0</td></tr><tr><td>1.0</td><td>0.15</td><td>0.04</td><td>0.07</td><td>0.03</td><td>0.11</td><td>0.82</td><td>0.07</td><td>0.1</td><td>0.78</td><td>0.87</td><td>0.97</td><td>0.09</td><td>0.87</td><td>0.92</td><td>0.81</td><td>0.95</td><td>1.0</td></tr><tr><td>1.0</td><td>0.13</td><td>0.18</td><td>0.21</td><td>0.09</td><td>0.12</td><td>0.02</td><td>0.14</td><td>0.06</td><td>0.14</td><td>0.01</td><td>0.04</td><td>0.07</td><td>0.96</td><td>1.0</td><td>0.96</td><td>0.73</td><td>0.0</td></tr><tr><td>1.0</td><td>0.11</td><td>0.09</td><td>0.09</td><td>0.04</td><td>0.08</td><td>0.12</td><td>0.13</td><td>0.09</td><td>0.83</td><td>0.15</td><td>0.73</td><td>0.05</td><td>0.98</td><td>0.73</td><td>1.0</td><td>0.71</td><td>0.0</td></tr><tr><td>1.0</td><td>0.0</td><td>0.09</td><td>0.13</td><td>0.1</td><td>0.09</td><td>0.12</td><td>0.1</td><td>0.04</td><td>0.07</td><td>0.82</td><td>0.08</td><td>0.71</td><td>0.82</td><td>0.99</td><td>0.98</td><td>0.9</td><td>0.0</td></tr><tr><td>1.0</td><td>0.02</td><td>0.89</td><td>0.08</td><td>0.16</td><td>0.87</td><td>0.71</td><td>0.81</td><td>0.07</td><td>0.98</td><td>0.73</td><td>0.79</td><td>0.99</td><td>0.14</td><td>1.0</td><td>0.08</td><td>0.17</td><td>0.0</td></tr><tr><td>1.0</td><td>0.09</td><td>0.14</td><td>0.71</td><td>0.16</td><td>0.13</td><td>0.77</td><td>0.85</td><td>0.76</td><td>0.9</td><td>0.9</td><td>0.96</td><td>1.0</td><td>0.14</td><td>0.16</td><td>1.0</td><td>0.23</td><td>0.0</td></tr><tr><td>1.0</td><td>0.73</td><td>0.09</td><td>0.08</td><td>0.05</td><td>0.86</td><td>0.86</td><td>0.06</td><td>0.06</td><td>1.0</td><td>0.92</td><td>0.88</td><td>0.13</td><td>0.88</td><td>0.06</td><td>0.04</td><td>0.12</td><td>0.0</td></tr><tr><td>1.0</td><td>0.03</td><td>0.16</td><td>0.07</td><td>0.92</td><td>0.08</td><td>0.14</td><td>0.95</td><td>0.99</td><td>0.17</td><td>0.85</td><td>0.89</td><td>0.85</td><td>0.04</td><td>0.19</td><td>0.04</td><td>0.85</td><td>0.0</td></tr><tr><td>1.0</td><td>0.15</td><td>0.12</td><td>0.12</td><td>0.12</td><td>0.17</td><td>0.14</td><td>0.09</td><td>0.16</td><td>0.21</td><td>0.02</td><td>0.07</td><td>0.07</td><td>1.0</td><td>0.92</td><td>0.88</td><td>0.81</td><td>0.0</td></tr><tr><td>1.0</td><td>0.1</td><td>0.11</td><td>0.08</td><td>0.05</td><td>0.1</td><td>0.07</td><td>0.09</td><td>0.09</td><td>0.86</td><td>0.2</td><td>0.73</td><td>0.12</td><td>1.0</td><td>0.73</td><td>0.74</td><td>1.0</td><td>0.0</td></tr><tr><td>1.0</td><td>0.15</td><td>0.18</td><td>0.22</td><td>0.16</td><td>0.1</td><td>0.07</td><td>0.19</td><td>0.2</td><td>0.11</td><td>0.81</td><td>0.05</td><td>0.92</td><td>0.92</td><td>0.88</td><td>0.8</td><td>0.91</td><td>0.0</td></tr></table>"
      ],
      "text/plain": [
       "<IPython.core.display.HTML object>"
      ]
     },
     "metadata": {},
     "output_type": "display_data"
    }
   ],
   "source": [
    "def generate_data(data, n, label):\n",
    "    data_out = []\n",
    "    generate_hills(data, n, label, data_out)\n",
    "    generate_not_hills(data, n, label, data_out)\n",
    "\n",
    "    return data_out\n",
    "\n",
    "results = generate_data( clean_data, 10, \"hills\")\n",
    "print_html_table(results)"
   ]
  },
  {
   "cell_type": "markdown",
   "metadata": {},
   "source": [
    "Use `learn_model` to learn a logistic regression model for classifying sensor images as \"hills\" or \"not hills\". Use your `generate_data` function to generate a training set with 100 hills examples. **Set Verbose to True**"
   ]
  },
  {
   "cell_type": "code",
   "execution_count": 18,
   "metadata": {
    "collapsed": false,
    "scrolled": false
   },
   "outputs": [
    {
     "name": "stdout",
     "output_type": "stream",
     "text": [
      "error:  0.718179764738\n",
      "error:  0.619550323512\n",
      "error:  0.57192506039\n",
      "error:  0.535102427178\n",
      "error:  0.503839156454\n",
      "error:  0.476533258923\n",
      "error:  0.452335665188\n",
      "error:  0.430685939385\n",
      "error:  0.411177495841\n",
      "error:  0.393498496619\n",
      "error:  0.377400648156\n",
      "error:  0.362681107619\n",
      "error:  0.349171196946\n",
      "error:  0.33672887508\n",
      "error:  0.325233412776\n",
      "error:  0.314581443357\n",
      "error:  0.304683928843\n",
      "error:  0.295463769838\n",
      "error:  0.286853888792\n",
      "error:  0.278795673184\n",
      "error:  0.271237699006\n",
      "error:  0.264134676264\n",
      "error:  0.257446572555\n",
      "error:  0.251137880741\n",
      "error:  0.245177004095\n",
      "error:  0.239535737785\n",
      "error:  0.234188829752\n",
      "error:  0.22911360735\n",
      "error:  0.224289658677\n",
      "error:  0.219698559588\n",
      "error:  0.215323638999\n",
      "error:  0.211149776433\n",
      "error:  0.207163226799\n",
      "error:  0.203351468248\n",
      "error:  0.199703069681\n",
      "error:  0.19620757501\n",
      "error:  0.19285540178\n",
      "error:  0.189637752123\n",
      "error:  0.186546534335\n",
      "error:  0.183574293638\n",
      "error:  0.180714150895\n",
      "error:  0.177959748247\n",
      "error:  0.17530520077\n",
      "error:  0.172745053396\n",
      "error:  0.170274242443\n",
      "error:  0.167888061195\n",
      "error:  0.165582129035\n",
      "error:  0.16335236372\n",
      "error:  0.16119495643\n",
      "error:  0.159106349277\n",
      "error:  0.15708321498\n",
      "error:  0.155122438499\n",
      "error:  0.153221100373\n",
      "error:  0.151376461615\n",
      "error:  0.149585949975\n",
      "error:  0.147847147441\n",
      "error:  0.146157778843\n",
      "error:  0.14451570145\n",
      "error:  0.142918895468\n",
      "error:  0.141365455337\n",
      "error:  0.139853581759\n",
      "error:  0.138381574384\n",
      "error:  0.136947825087\n",
      "error:  0.135550811797\n",
      "error:  0.134189092797\n",
      "error:  0.132861301489\n",
      "error:  0.131566141546\n",
      "error:  0.130302382451\n",
      "error:  0.129068855358\n",
      "error:  0.127864449269\n",
      "error:  0.126688107487\n",
      "error:  0.125538824334\n",
      "error:  0.124415642095\n",
      "error:  0.123317648188\n",
      "error:  0.122243972523\n",
      "error:  0.121193785056\n",
      "error:  0.120166293498\n",
      "error:  0.119160741185\n",
      "error:  0.118176405095\n",
      "error:  0.117212593988\n",
      "error:  0.116268646675\n",
      "error:  0.115343930393\n",
      "error:  0.11443783929\n",
      "error:  0.113549793001\n",
      "error:  0.11267923532\n",
      "error:  0.111825632945\n",
      "error:  0.11098847431\n",
      "error:  0.110167268484\n",
      "error:  0.109361544131\n",
      "error:  0.108570848545\n",
      "error:  0.107794746726\n",
      "error:  0.107032820527\n",
      "error:  0.106284667832\n",
      "error:  0.105549901802\n",
      "error:  0.104828150141\n",
      "error:  0.104119054426\n",
      "error:  0.103422269456\n",
      "error:  0.102737462647\n",
      "error:  0.102064313459\n",
      "error:  0.10140251285\n",
      "error:  0.100751762764\n",
      "error:  0.100111775644\n",
      "error:  0.0994822739705\n",
      "error:  0.0988629898244\n",
      "error:  0.0982536644744\n",
      "error:  0.0976540479831\n",
      "error:  0.0970638988343\n",
      "error:  0.0964829835792\n",
      "error:  0.0959110765003\n",
      "error:  0.0953479592918\n",
      "error:  0.0947934207561\n",
      "error:  0.0942472565147\n",
      "error:  0.0937092687337\n",
      "error:  0.0931792658617\n",
      "error:  0.0926570623814\n",
      "error:  0.0921424785717\n",
      "error:  0.0916353402815\n",
      "error:  0.0911354787146\n",
      "error:  0.0906427302236\n",
      "error:  0.0901569361138\n",
      "error:  0.0896779424558\n",
      "error:  0.0892055999071\n",
      "error:  0.0887397635408\n",
      "error:  0.0882802926827\n",
      "error:  0.087827050755\n",
      "error:  0.0873799051277\n",
      "error:  0.0869387269755\n",
      "error:  0.0865033911413\n",
      "error:  0.0860737760058\n",
      "error:  0.0856497633624\n",
      "error:  0.0852312382972\n",
      "error:  0.0848180890744\n",
      "error:  0.0844102070266\n",
      "error:  0.0840074864487\n",
      "error:  0.0836098244974\n",
      "error:  0.0832171210941\n",
      "error:  0.0828292788318\n",
      "error:  0.0824462028859\n",
      "error:  0.0820678009284\n",
      "error:  0.0816939830457\n",
      "error:  0.0813246616594\n",
      "error:  0.0809597514505\n",
      "error:  0.0805991692864\n",
      "error:  0.0802428341506\n",
      "error:  0.0798906670753\n",
      "error:  0.0795425910765\n",
      "error:  0.0791985310914\n",
      "error:  0.0788584139188\n",
      "error:  0.0785221681606\n",
      "error:  0.0781897241666\n",
      "error:  0.0778610139808\n",
      "error:  0.0775359712895\n",
      "error:  0.0772145313718\n",
      "error:  0.0768966310516\n",
      "error:  0.0765822086512\n",
      "error:  0.076271203947\n",
      "error:  0.0759635581264\n",
      "error:  0.0756592137462\n",
      "error:  0.0753581146927\n",
      "error:  0.0750602061433\n",
      "error:  0.0747654345289\n",
      "error:  0.0744737474982\n",
      "error:  0.0741850938829\n",
      "error:  0.073899423664\n",
      "error:  0.0736166879397\n",
      "error:  0.0733368388938\n",
      "error:  0.0730598297658\n",
      "error:  0.0727856148212\n",
      "error:  0.0725141493235\n",
      "error:  0.0722453895069\n",
      "error:  0.0719792925499\n",
      "error:  0.0717158165493\n",
      "error:  0.0714549204961\n",
      "error:  0.0711965642511\n",
      "error:  0.0709407085219\n",
      "error:  0.0706873148402\n",
      "error:  0.0704363455407\n",
      "error:  0.0701877637394\n",
      "error:  0.0699415333135\n",
      "error:  0.0696976188817\n",
      "error:  0.0694559857852\n",
      "error:  0.0692166000688\n",
      "error:  0.0689794284633\n",
      "error:  0.0687444383678\n",
      "error:  0.0685115978331\n",
      "error:  0.0682808755451\n",
      "error:  0.0680522408092\n",
      "error:  0.0678256635346\n",
      "error:  0.0676011142195\n",
      "error:  0.0673785639366\n",
      "error:  0.0671579843191\n",
      "error:  0.066939347547\n",
      "error:  0.0667226263337\n",
      "error:  0.0665077939134\n",
      "error:  0.0662948240285\n",
      "error:  0.0660836909173\n",
      "error:  0.0658743693025\n",
      "error:  0.0656668343795\n",
      "error:  0.0654610618054\n",
      "error:  0.0652570276882\n",
      "error:  0.0650547085763\n",
      "error:  0.0648540814483\n",
      "error:  0.0646551237028\n",
      "error:  0.0644578131492\n",
      "error:  0.064262127998\n",
      "error:  0.0640680468519\n",
      "error:  0.0638755486965\n",
      "error:  0.0636846128922\n",
      "error:  0.0634952191654\n",
      "error:  0.0633073476006\n",
      "error:  0.0631209786323\n",
      "error:  0.0629360930372\n",
      "error:  0.0627526719267\n",
      "error:  0.0625706967397\n",
      "error:  0.0623901492353\n",
      "error:  0.0622110114859\n",
      "error:  0.0620332658704\n",
      "error:  0.0618568950676\n",
      "error:  0.0616818820499\n",
      "error:  0.0615082100767\n",
      "error:  0.0613358626889\n",
      "error:  0.0611648237022\n",
      "error:  0.0609950772018\n",
      "error:  0.0608266075367\n",
      "error:  0.0606593993141\n",
      "error:  0.060493437394\n",
      "error:  0.0603287068841\n",
      "error:  0.0601651931346\n",
      "error:  0.0600028817333\n",
      "error:  0.0598417585005\n",
      "error:  0.0596818094847\n",
      "error:  0.0595230209576\n",
      "error:  0.0593653794097\n",
      "error:  0.0592088715461\n",
      "error:  0.0590534842819\n",
      "error:  0.0588992047383\n",
      "error:  0.0587460202381\n",
      "error:  0.0585939183022\n",
      "error:  0.0584428866456\n",
      "error:  0.0582929131731\n",
      "error:  0.0581439859765\n",
      "error:  0.0579960933299\n",
      "error:  0.0578492236871\n",
      "error:  0.0577033656776\n",
      "error:  0.0575585081033\n",
      "error:  0.0574146399355\n",
      "error:  0.0572717503113\n",
      "error:  0.0571298285305\n",
      "error:  0.0569888640529\n",
      "error:  0.0568488464947\n",
      "error:  0.0567097656261\n",
      "error:  0.0565716113681\n",
      "error:  0.05643437379\n",
      "error:  0.056298043106\n",
      "error:  0.0561626096735\n",
      "error:  0.0560280639895\n",
      "error:  0.0558943966887\n",
      "error:  0.0557615985407\n",
      "error:  0.0556296604478\n",
      "error:  0.055498573442\n",
      "error:  0.0553683286835\n",
      "error:  0.0552389174576\n",
      "error:  0.0551103311731\n",
      "error:  0.0549825613596\n",
      "error:  0.0548555996657\n",
      "error:  0.0547294378568\n",
      "error:  0.0546040678127\n",
      "error:  0.0544794815263\n",
      "error:  0.054355671101\n",
      "error:  0.0542326287488\n",
      "error:  0.0541103467889\n",
      "error:  0.0539888176454\n",
      "error:  0.0538680338455\n",
      "error:  0.053747988018\n",
      "error:  0.0536286728914\n",
      "error:  0.0535100812921\n",
      "error:  0.0533922061428\n",
      "error:  0.0532750404611\n",
      "error:  0.0531585773574\n",
      "error:  0.053042810034\n",
      "error:  0.0529277317828\n",
      "error:  0.0528133359844\n",
      "error:  0.0526996161065\n",
      "error:  0.0525865657021\n",
      "error:  0.0524741784086\n",
      "error:  0.052362447946\n",
      "error:  0.0522513681157\n",
      "error:  0.0521409327994\n",
      "error:  0.0520311359573\n",
      "error:  0.0519219716272\n",
      "error:  0.051813433923\n",
      "error:  0.0517055170338\n",
      "error:  0.0515982152224\n",
      "error:  0.0514915228241\n",
      "error:  0.0513854342456\n",
      "error:  0.0512799439643\n",
      "error:  0.0511750465263\n",
      "error:  0.051070736546\n",
      "error:  0.0509670087048\n",
      "error:  0.0508638577502\n",
      "error:  0.0507612784943\n",
      "error:  0.0506592658135\n",
      "error:  0.0505578146467\n",
      "error:  0.050456919995\n",
      "error:  0.0503565769205\n"
     ]
    }
   ],
   "source": [
    "def learn_model(train_data, verbose=False):\n",
    "    epsilon = 1 / 10000000.0\n",
    "    alpha = 0.1\n",
    "    m = len(train_data[0]) - 1\n",
    "    thetas = [random.uniform(-1, 1) for i in range(m)]\n",
    "    previous_error = 0.0\n",
    "    current_error = calculate_error(thetas, train_data)\n",
    "    print_counter = 0\n",
    "    while abs(current_error - previous_error) > epsilon:\n",
    "        new_thetas = [0 for i in range(m)]\n",
    "        for j in range(m): \n",
    "            new_thetas[j] = thetas[j] - alpha * derivative(j, thetas, train_data)\n",
    "        thetas = new_thetas\n",
    "\n",
    "        if verbose and print_counter % 1000 == 0:\n",
    "            print 'error: ', current_error\n",
    "\n",
    "        if current_error > previous_error:\n",
    "            alpha = alpha / 10.0\n",
    "            \n",
    "        previous_error = current_error\n",
    "        current_error = calculate_error(thetas, train_data)\n",
    "        print_counter += 1\n",
    "    \n",
    "    return thetas\n",
    "\n",
    "train_data = generate_data(clean_data, 100, \"hills\")\n",
    "model = learn_model(train_data, True)"
   ]
  },
  {
   "cell_type": "markdown",
   "metadata": {},
   "source": [
    "Use `generate_data` to generate 100 blurred \"hills\" examples with balanced \"non hills\" examples and use this as your test data. Set labeled=True and generate results to use in `calculate_confusion_matrix`. Print out the first 10 results, one per line."
   ]
  },
  {
   "cell_type": "code",
   "execution_count": 19,
   "metadata": {
    "collapsed": false,
    "scrolled": false
   },
   "outputs": [
    {
     "data": {
      "text/html": [
       "<table><tr><td>1.0</td><td>1</td></tr><tr><td>1.0</td><td>1</td></tr><tr><td>1.0</td><td>1</td></tr><tr><td>1.0</td><td>1</td></tr><tr><td>1.0</td><td>1</td></tr><tr><td>1.0</td><td>1</td></tr><tr><td>1.0</td><td>1</td></tr><tr><td>1.0</td><td>1</td></tr><tr><td>1.0</td><td>1</td></tr><tr><td>1.0</td><td>1</td></tr></table>"
      ],
      "text/plain": [
       "<IPython.core.display.HTML object>"
      ]
     },
     "metadata": {},
     "output_type": "display_data"
    }
   ],
   "source": [
    "test_data = generate_data(clean_data, 100, \"hills\")\n",
    "\n",
    "def apply_model(model, test_data, labeled=False):\n",
    "    results = []\n",
    "    for xs in test_data:\n",
    "        yhat = calculate_yhat(model, xs)\n",
    "        predicted = None\n",
    "        if yhat < .5:\n",
    "            predicted = 0\n",
    "        else:\n",
    "            predicted = 1\n",
    "         \n",
    "        if labeled:\n",
    "            actual = xs[-1]\n",
    "            results.append((actual, predicted))\n",
    "        else:\n",
    "           results.append((predicted, yhat))\n",
    "            \n",
    "    return results\n",
    "\n",
    "results = apply_model(model, test_data, True)\n",
    "print_html_table(results[:10])"
   ]
  },
  {
   "cell_type": "markdown",
   "metadata": {},
   "source": [
    "Using the results above, show your confusion matrix for your model."
   ]
  },
  {
   "cell_type": "code",
   "execution_count": 20,
   "metadata": {
    "collapsed": false
   },
   "outputs": [
    {
     "data": {
      "text/html": [
       "<table><tr><td> </td><td>1</td><td>0</td></tr><tr><td>1</td><td>99.0%</td><td>0.0%</td></tr><tr><td>0</td><td>1.0%</td><td>100.0%</td></tr></table>"
      ],
      "text/plain": [
       "<IPython.core.display.HTML object>"
      ]
     },
     "metadata": {},
     "output_type": "display_data"
    },
    {
     "name": "stdout",
     "output_type": "stream",
     "text": [
      "error:  0.5 %\n",
      "true_positive_rate:  99.0 %\n",
      "true_negative_rate:  100.0 %\n"
     ]
    }
   ],
   "source": [
    "def calculate_confusion_matrix(results):\n",
    "    n = len(results)\n",
    "    TP = 0.0\n",
    "    FP = 0.0\n",
    "    FN = 0.0\n",
    "    TN = 0.0\n",
    "    for result in results:\n",
    "        actual = result[0]\n",
    "        predicted = result[1]\n",
    "        if actual == predicted:\n",
    "            if actual == 1:\n",
    "                TP += 1\n",
    "            else:\n",
    "                TN += 1\n",
    "        \n",
    "        else:\n",
    "            if predicted == 1:\n",
    "                FP += 1\n",
    "            else:\n",
    "                FN += 1\n",
    "    \n",
    "    confusion_matrix = [[' ', 1, 0], [1, str(TP)+'%', str(FP)+'%'], [0, str(FN)+'%', str(TN)+'%']]\n",
    "    print_html_table(confusion_matrix)\n",
    "    calculate_metrics(FN, FP, TN, TP, n)   \n",
    "\n",
    "calculate_confusion_matrix(results)"
   ]
  }
 ],
 "metadata": {
  "kernelspec": {
   "display_name": "Python 2",
   "language": "python",
   "name": "python2"
  },
  "language_info": {
   "codemirror_mode": {
    "name": "ipython",
    "version": 2
   },
   "file_extension": ".py",
   "mimetype": "text/x-python",
   "name": "python",
   "nbconvert_exporter": "python",
   "pygments_lexer": "ipython2",
   "version": "2.7.13"
  }
 },
 "nbformat": 4,
 "nbformat_minor": 1
}
