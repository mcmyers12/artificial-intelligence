{
 "cells": [
  {
   "cell_type": "code",
   "execution_count": 1,
   "metadata": {
    "collapsed": true
   },
   "outputs": [],
   "source": [
    "%matplotlib inline\n",
    "\n",
    "from IPython.display import HTML, display\n",
    "import math\n",
    "import sys\n",
    "import pprint\n",
    "\n",
    "pp = pprint.PrettyPrinter(indent=4)"
   ]
  },
  {
   "cell_type": "markdown",
   "metadata": {},
   "source": [
    "# Module 8 - Programming Assignment (Summer)"
   ]
  },
  {
   "cell_type": "markdown",
   "metadata": {},
   "source": [
    "# The Problem\n",
    "\n",
    "When we last left our agent in Module 4, it was wandering around a world filled with plains, forests, swamps, hills and mountains. This presupposes a map with known terrain:\n",
    "\n",
    "```\n",
    "......\n",
    "...**.\n",
    "...***\n",
    "..^...\n",
    "..~^..\n",
    "```\n",
    "\n",
    "but what if all we know is that we have some area of interest, that we've reduced to a GPS grid:\n",
    "\n",
    "```\n",
    "??????\n",
    "??????\n",
    "??????\n",
    "??????\n",
    "??????\n",
    "```\n",
    "\n",
    "and the agent has to determine what kind of terrain is to the left, front and right of it?\n",
    "\n",
    "Assuming the agent has a very simple visual sensor that constructs a 4x4 grayscale image for each of the three directions, it might it could see something like this:"
   ]
  },
  {
   "cell_type": "code",
   "execution_count": 2,
   "metadata": {
    "collapsed": false
   },
   "outputs": [
    {
     "data": {
      "image/png": "[encoded data removed]",
      "text/plain": [
       "<matplotlib.figure.Figure at 0x10f37f3d0>"
      ]
     },
     "metadata": {},
     "output_type": "display_data"
    }
   ],
   "source": [
    "import numpy as np\n",
    "import matplotlib.pyplot as plt\n",
    "import random\n",
    "\n",
    "plain =  [0.0, 0.0, 0.0, 0.0,0.0, 0.0, 0.0, 0.0,0.0, 0.0, 0.0, 0.0,1.0, 1.0, 1.0, 1.0]\n",
    "forest = [0.0, 1.0, 0.0, 0.0,1.0, 1.0, 1.0, 0.0,1.0, 1.0, 1.0, 1.0,0.0, 1.0, 0.0, 0.0]\n",
    "hills =  [0.0, 0.0, 0.0, 0.0,0.0, 0.0, 1.0, 0.0,0.0, 1.0, 1.0, 1.0,1.0, 1.0, 1.0, 1.0]\n",
    "swamp =  [0.0, 0.0, 0.0, 0.0,0.0, 0.0, 0.0, 0.0,1.0, 0.0, 1.0, 0.0,1.0, 1.0, 1.0, 1.0]\n",
    "\n",
    "figure = plt.figure(figsize=(20,6))\n",
    "\n",
    "axes = figure.add_subplot(1, 3, 1)\n",
    "pixels = np.array([255 - p * 255 for p in plain], dtype='uint8')\n",
    "pixels = pixels.reshape((4, 4))\n",
    "axes.set_title( \"Left Camera\")\n",
    "axes.imshow(pixels, cmap='gray')\n",
    "\n",
    "axes = figure.add_subplot(1, 3, 2)\n",
    "pixels = np.array([255 - p * 255 for p in forest], dtype='uint8')\n",
    "pixels = pixels.reshape((4, 4))\n",
    "axes.set_title( \"Front Camera\")\n",
    "axes.imshow(pixels, cmap='gray')\n",
    "\n",
    "axes = figure.add_subplot(1, 3, 3)\n",
    "pixels = np.array([255 - p * 255 for p in hills], dtype='uint8')\n",
    "pixels = pixels.reshape((4, 4))\n",
    "axes.set_title( \"Right Camera\")\n",
    "axes.imshow(pixels, cmap='gray')\n",
    "\n",
    "plt.show()\n",
    "plt.close()"
   ]
  },
  {
   "cell_type": "markdown",
   "metadata": {},
   "source": [
    "which would be plains, forest and hills respectively.\n",
    "\n",
    "## The Assignment\n",
    "\n",
    "For this programming assignment your tasks are:\n",
    "\n",
    "1. Write a logistic regression that simply determines if something is a hill or not (two class problem). \n",
    "2. You will also evaluate that logistic regression by generating a *confusion matrix*.\n",
    "\n",
    "For a starting point, you can refer to **module-8-pseudocode.pdf** and the Self-Check."
   ]
  },
  {
   "cell_type": "markdown",
   "metadata": {},
   "source": [
    "## Data\n",
    "\n",
    "We have clean examples of the different types of terrain but based on the location, the registration can be a bit off for some of the types and the visual sensor is often blurry.\n",
    "\n",
    "Here are the clean examples with different registrations: "
   ]
  },
  {
   "cell_type": "code",
   "execution_count": 3,
   "metadata": {
    "collapsed": true
   },
   "outputs": [],
   "source": [
    "clean_data = {\n",
    "    \"plains\": [\n",
    "        [0.0, 0.0, 0.0, 0.0, 0.0, 0.0, 0.0, 0.0, 0.0, 0.0, 0.0, 0.0, 1.0, 1.0, 1.0, 1.0, \"plains\"]\n",
    "    ],\n",
    "    \"forest\": [\n",
    "        [0.0, 1.0, 0.0, 0.0, 1.0, 1.0, 1.0, 0.0, 1.0, 1.0, 1.0, 1.0, 0.0, 1.0, 0.0, 0.0, \"forest\"],\n",
    "        [0.0, 0.0, 1.0, 0.0, 0.0, 1.0, 1.0, 1.0, 1.0, 1.0, 1.0, 1.0, 0.0, 0.0, 1.0, 0.0, \"forest\"],\n",
    "        [1.0, 0.0, 0.0, 0.0, 1.0, 1.0, 0.0, 0.0, 1.0, 1.0, 1.0, 0.0, 1.0, 0.0, 0.0, 0.0, \"forest\"],\n",
    "        [0.0, 0.0, 0.0, 1.0, 0.0, 0.0, 1.0, 1.0, 0.0, 1.0, 1.0, 1.0, 0.0, 0.0, 0.0, 1.0, \"forest\"]\n",
    "    ],\n",
    "    \"hills\": [\n",
    "        [0.0, 0.0, 0.0, 0.0, 0.0, 0.0, 1.0, 0.0, 0.0, 1.0, 1.0, 1.0, 1.0, 1.0, 1.0, 1.0, \"hills\"],\n",
    "        [0.0, 0.0, 0.0, 0.0, 0.0, 1.0, 0.0, 0.0, 1.0, 1.0, 1.0, 0.0, 1.0, 1.0, 1.0, 1.0, \"hills\"],\n",
    "        [0.0, 0.0, 0.0, 0.0, 1.0, 0.0, 0.0, 0.0, 1.0, 1.0, 0.0, 0.0, 1.0, 1.0, 1.0, 0.0, \"hills\"],\n",
    "        [0.0, 0.0, 0.0, 0.0, 0.0, 0.0, 0.0, 1.0, 0.0, 0.0, 1.0, 1.0, 0.0, 1.0, 1.0, 1.0, \"hills\"]\n",
    "    ],\n",
    "    \"swamp\": [\n",
    "        [0.0, 0.0, 0.0, 0.0, 0.0, 0.0, 0.0, 0.0, 1.0, 0.0, 1.0, 0.0, 1.0, 1.0, 1.0, 1.0, \"swamp\"],\n",
    "        [0.0, 0.0, 0.0, 0.0, 0.0, 0.0, 0.0, 0.0, 0.0, 1.0, 0.0, 1.0, 1.0, 1.0, 1.0, 1.0, \"swamp\"]        \n",
    "    ]\n",
    "}"
   ]
  },
  {
   "cell_type": "markdown",
   "metadata": {},
   "source": [
    "Let's create a function that allows us to view any of these:"
   ]
  },
  {
   "cell_type": "code",
   "execution_count": 4,
   "metadata": {
    "collapsed": true
   },
   "outputs": [],
   "source": [
    "def view_sensor_image( data):\n",
    "    figure = plt.figure(figsize=(4,4))\n",
    "    axes = figure.add_subplot(1, 1, 1)\n",
    "    pixels = np.array([255 - p * 255 for p in data[:-1]], dtype='uint8')\n",
    "    pixels = pixels.reshape((4, 4))\n",
    "    axes.set_title( \"Left Camera:\" + data[-1])\n",
    "    axes.imshow(pixels, cmap='gray')\n",
    "    plt.show()\n",
    "    plt.close()"
   ]
  },
  {
   "cell_type": "markdown",
   "metadata": {},
   "source": [
    "\"I think that I shall never see a thing so lovely as a tree.\""
   ]
  },
  {
   "cell_type": "code",
   "execution_count": 5,
   "metadata": {
    "collapsed": false
   },
   "outputs": [
    {
     "data": {
      "image/png": "[encoded data removed]",
      "text/plain": [
       "<matplotlib.figure.Figure at 0x112d795d0>"
      ]
     },
     "metadata": {},
     "output_type": "display_data"
    }
   ],
   "source": [
    "view_sensor_image( clean_data[ \"forest\"][0])"
   ]
  },
  {
   "cell_type": "code",
   "execution_count": 6,
   "metadata": {
    "collapsed": false
   },
   "outputs": [
    {
     "data": {
      "image/png": "[encoded data removed]",
      "text/plain": [
       "<matplotlib.figure.Figure at 0x1130cf450>"
      ]
     },
     "metadata": {},
     "output_type": "display_data"
    }
   ],
   "source": [
    "view_sensor_image( clean_data[\"swamp\"][0])"
   ]
  },
  {
   "cell_type": "markdown",
   "metadata": {},
   "source": [
    "The data that comes in, however, is noisy. The values are never exactly 0 and 1. In order to mimic this we need a `blur` function.\n",
    "\n",
    "We will assume that noise is normally distributed. For values that should be 0, the noisy values are distributed $N(0.10, 0.05)$. For values should be 1, the noisy values are distributed $N(0.9, 0.10)$."
   ]
  },
  {
   "cell_type": "code",
   "execution_count": 7,
   "metadata": {
    "collapsed": true
   },
   "outputs": [],
   "source": [
    "def blur( data):\n",
    "    def apply_noise( value):\n",
    "        if value < 0.5:\n",
    "            v = random.gauss( 0.10, 0.05)\n",
    "            if v < 0.0:\n",
    "                return 0.0\n",
    "            if v > 0.75:\n",
    "                return 0.75\n",
    "            return v\n",
    "        else:\n",
    "            v = random.gauss( 0.90, 0.10)\n",
    "            if v < 0.25:\n",
    "                return 0.25\n",
    "            if v > 1.00:\n",
    "                return 1.00\n",
    "            return v\n",
    "    noisy_readings = [apply_noise( v) for v in data[0:-1]]\n",
    "    return noisy_readings + [data[-1]]"
   ]
  },
  {
   "cell_type": "markdown",
   "metadata": {},
   "source": [
    "We can see how this affects what the agent *actually* sees."
   ]
  },
  {
   "cell_type": "code",
   "execution_count": 8,
   "metadata": {
    "collapsed": false
   },
   "outputs": [
    {
     "data": {
      "image/png": "[encoded data removed]",
      "text/plain": [
       "<matplotlib.figure.Figure at 0x11318f650>"
      ]
     },
     "metadata": {},
     "output_type": "display_data"
    }
   ],
   "source": [
    "view_sensor_image( blur( clean_data[\"swamp\"][0]))"
   ]
  },
  {
   "cell_type": "markdown",
   "metadata": {},
   "source": [
    "You are going to want to write four (4) functions:\n",
    "\n",
    "1. `generate_data`\n",
    "2. `learn_model`\n",
    "3. `apply_model`\n",
    "4. `calculate_confusion_matrix`\n",
    "\n",
    "\n",
    "### `generate_data`\n",
    "\n",
    "With the clean examples and the `blur` function, we have an unlimited amount of data for training and testing our classifier, a logistic regression that determines if a sensor image is hills (1) or not (0).\n",
    "\n",
    "In classification, there is a general problem called the \"unbalanced class problem\". In general, we want our training data to have the same number of classes, in this case \"hills\" and \"not hills\". This means you should probably generate training data with, say, 100 hills and then 100 of all the other types of terrain combined.\n",
    "\n",
    "When you send your data to the actual `learn_model` function, it will need to have all the String labels transformed to 0 or 1 appropriately. Remember, you also need to set $x_0$ = 1.0; *where* you do that is up to you but you need to be consistent (if you do it in `generate_data` then don't also do it in `learn_model` or `apply_model`.\n",
    "\n",
    "You can make `generate_data` as sophisticated as you like. But it should at least take n and a label so that:\n",
    "\n",
    "`generate_data( clean_data, 100, \"hills\")`\n",
    "\n",
    "generates 100 hills, 100 not hills and has transformed the String labels into 1 and 0, respectively.\n",
    "\n",
    "### `learn_model`\n",
    "\n",
    "`learn_model` is the function that takes in training data and actually learns the logistic regression model. If you're up to it, you can implement a vectorized version using Numpy but you might start with the loopy version first.\n",
    "\n",
    "*In the lecture, I mentioned that you usually should mean normalize your data but you don't need to do that in this case because the data is already on the range 0-1.*\n",
    "\n",
    "I should also mention that gradient descent is not the usual approach to linear|logistic regression because the error function actually has an *exact* solution. However, in the case of large data sets, the exact solution often fails and in any case, the use of gradient descent will prepare you for neural networks next week.\n",
    "\n",
    "When verbose is True, you should print out the error so you can see that it is getting smaller. \n",
    "\n",
    "When developing your algorithm, you need to watch the error so you'll set verbose=True to start. You should print it out every iteration and make sure it is declining. You'll have to experiment with both epsilon and alpha; and it doesn't hurt to make alpha adaptive (if the error increases, make alpha = alpha / 10).\n",
    "\n",
    "When you know that your algorithm is working, change your code so that the error is printed out only every 1,000 iterations (it takes a lot of iterations for this problem to converge, depending on your parameter values--start early).\n",
    "\n",
    "`learn_model` returns the List of Thetas.\n",
    "\n",
    "### `apply_model`\n",
    "\n",
    "`apply_model` takes a List of Thetas (the model) and either labeled or unlabeled data. If the data is unlabeled, it will return predictions for each observation as a Tuple of the inferred value (0 or 1) and the actual probability (so something like (1, 0.73) or (0, 0.19).\n",
    "\n",
    "If the data is labeled, you will return a Tuple of the actual value (0 or 1) and the predicted value (0 or 1). In this case, you return a List of something like [(0, 1), (1, 1), (0, 0), (1, 0)].\n",
    "\n",
    "### `calculate_confusion_matrix`\n",
    "\n",
    "The `calculate_confusion_matrix` takes the results of `apply_model` when labeled=True and prints a nice HTML version of a confusion matrix and include statistics for error rate, true positive rate and true negative rate.\n",
    "\n",
    "\n",
    "**As always when working with Lists or Lists of Lists, be very careful when you are modifying these items in place that this is what you intend (and not to be modifying a copy)**"
   ]
  },
  {
   "cell_type": "markdown",
   "metadata": {},
   "source": [
    "---"
   ]
  },
  {
   "cell_type": "markdown",
   "metadata": {},
   "source": [
    "## Helper Functions"
   ]
  },
  {
   "cell_type": "markdown",
   "metadata": {},
   "source": [
    "&nbsp;\n",
    "\n",
    "**Generate Hills**\n",
    "\n",
    "This is a helper function for the generate_data function.  Given the clean data, n, a label, and an array data_out that represents the data that will be returned by generate_data, this function generates n blurred hills using the blur function and the clean data.  It iterates through the different options for hill data to return an equal number of the different types of hills.  Each hill is added to the data_out array."
   ]
  },
  {
   "cell_type": "code",
   "execution_count": 9,
   "metadata": {
    "collapsed": true
   },
   "outputs": [],
   "source": [
    "def generate_hills(data, n, label, data_out):\n",
    "    hill_index = 0\n",
    "    for i in range(n):\n",
    "        blurred_hill = blur(data[label][hill_index])\n",
    "        blurred_hill[-1] = 1.0\n",
    "        blurred_hill.insert(0, 1.0)  # Add x_0 of 1\n",
    "        data_out.append(blurred_hill)\n",
    "\n",
    "        if hill_index < 3:\n",
    "            hill_index += 1\n",
    "        else:\n",
    "            hill_index = 0"
   ]
  },
  {
   "cell_type": "markdown",
   "metadata": {},
   "source": [
    "&nbsp;\n",
    "\n",
    "**Generate Not Hills**\n",
    "\n",
    "This is a helper function for the generate_data function. Given the data n, a label, and an array data_out that represents the data that will be returned by generate_data, this function generates n blurred data points that are not hills.  It iterates through the different options for data that are not hills to return an equal number of the different types of non hill data. Each data point is added to the data_out array."
   ]
  },
  {
   "cell_type": "code",
   "execution_count": 10,
   "metadata": {
    "collapsed": true
   },
   "outputs": [],
   "source": [
    "def generate_not_hills(data, n, label, data_out):\n",
    "    not_hill_data = []\n",
    "    for key in data:\n",
    "        if key != label:\n",
    "            for data_point in data[key]:\n",
    "                not_hill_data.append(data_point)\n",
    "\n",
    "    not_hill_index = 0\n",
    "    for i in range(n):\n",
    "        blurred_not_hill = blur(not_hill_data[not_hill_index])\n",
    "        blurred_not_hill[-1] = 0.0\n",
    "        blurred_not_hill.insert(0, 1.0)  # Add x_0 of 1\n",
    "        data_out.append(blurred_not_hill)\n",
    "\n",
    "        if not_hill_index < 6:\n",
    "            not_hill_index += 1\n",
    "        else:\n",
    "            not_hill_index = 0"
   ]
  },
  {
   "cell_type": "markdown",
   "metadata": {},
   "source": [
    "&nbsp;\n",
    "\n",
    "**Dot Product**\n",
    "\n",
    "This function calculates the dot product of a list of thetas and a list of xs.  The dot product of two vectors a and b is a⋅b = a1b1 + a2b2 + a3b3 +...+ anbn.  This is used to calculate y hat.\n",
    " "
   ]
  },
  {
   "cell_type": "code",
   "execution_count": 11,
   "metadata": {
    "collapsed": true
   },
   "outputs": [],
   "source": [
    "def dot_product(thetas, xs):\n",
    "    z = 0\n",
    "    xs_no_y = xs[0:len(xs) - 1]\n",
    "    if len(thetas) != len(xs_no_y):\n",
    "        print '\\n\\n\\nthetas length different than xs\\n\\n\\n'\n",
    "\n",
    "    for i in range(len(thetas)):\n",
    "        z += thetas[i] * xs[i]\n",
    "\n",
    "    return z"
   ]
  },
  {
   "cell_type": "markdown",
   "metadata": {},
   "source": [
    "&nbsp;\n",
    "\n",
    "**Calculate y hat**\n",
    "\n",
    "This function calculates y hat given a list of thetas and a list of xs.  The formula for y hat is:\n",
    "$$\\hat{y} = \\frac{1}{1+e^{-\\theta_0}}$$"
   ]
  },
  {
   "cell_type": "code",
   "execution_count": 12,
   "metadata": {
    "collapsed": true
   },
   "outputs": [],
   "source": [
    "def calculate_yhat(thetas, xs):\n",
    "    z = dot_product(thetas, xs)\n",
    "    yhat = 1 / (1 + math.e ** (-z))\n",
    "\n",
    "    if yhat < 0 or yhat > 1:\n",
    "        print '\\n\\n\\nyhat not in range 0, 1\\n\\n\\n'\n",
    "\n",
    "    return yhat"
   ]
  },
  {
   "cell_type": "markdown",
   "metadata": {},
   "source": [
    "&nbsp;\n",
    "\n",
    "**Calculate Error**\n",
    "\n",
    "This function calculates error using the formula for error for logistic regresstion:\n",
    "$$J(\\theta)=-\\frac{1}{n}\\sum_i\ty_i\tlog(\\hat{y_i})\t+\t(1\t- y_i)log(1\t- \\hat{y_i})$$"
   ]
  },
  {
   "cell_type": "code",
   "execution_count": 13,
   "metadata": {
    "collapsed": true
   },
   "outputs": [],
   "source": [
    "def calculate_error(thetas, train_data):\n",
    "    error_summation = 0\n",
    "    for xs in train_data:\n",
    "        y = xs[-1]\n",
    "        yhat = calculate_yhat(thetas, xs)\n",
    "\n",
    "        if yhat == 0 and (1 - yhat) == 0:\n",
    "            pass\n",
    "\n",
    "        elif yhat == 0:\n",
    "            error_summation += ((1 - y) * math.log(1 - yhat))\n",
    "\n",
    "        elif (1 - yhat) == 0:\n",
    "            error_summation += (y * math.log(yhat))\n",
    "\n",
    "        else:\n",
    "            error_summation += (y * math.log(yhat) + (1 - y) * math.log(1 - yhat))\n",
    "\n",
    "    n = len(train_data)\n",
    "    error = - (1.0 / n) * error_summation\n",
    "\n",
    "    return error"
   ]
  },
  {
   "cell_type": "markdown",
   "metadata": {},
   "source": [
    "&nbsp;\n",
    "\n",
    "**Derivative**\n",
    "\n",
    "This function calculates the dertivate using the y hat function. The formula used to calculate the derivative is:\n",
    "$$\\frac{\\partial\tJ}{\\partial\t\\theta_j}\t=\t\\frac{1}{n}\\sum_i(\\hat{y_i}\t- y_i)x_{ij}$$"
   ]
  },
  {
   "cell_type": "code",
   "execution_count": 14,
   "metadata": {
    "collapsed": true
   },
   "outputs": [],
   "source": [
    "def derivative(j, thetas, train_data):\n",
    "    derivative_summation = 0\n",
    "\n",
    "    n = len(train_data)\n",
    "\n",
    "    for xs in train_data:\n",
    "        y = xs[-1]\n",
    "        yhat = calculate_yhat(thetas, xs)\n",
    "        xij = xs[j]\n",
    "\n",
    "        derivative_summation += (yhat - y) * xij\n",
    "\n",
    "    deriv = (1.0 / n) * derivative_summation\n",
    "    return deriv"
   ]
  },
  {
   "cell_type": "markdown",
   "metadata": {},
   "source": [
    "&nbsp;\n",
    "\n",
    "**Print HTML Table**\n",
    "\n",
    "This function prints a nicely formated HTML table given a list of lists.  It is used to print the confusion matrix."
   ]
  },
  {
   "cell_type": "code",
   "execution_count": 15,
   "metadata": {
    "collapsed": true
   },
   "outputs": [],
   "source": [
    "def print_html_table(data):\n",
    "    display(HTML(\n",
    "    '<table><tr>{}</tr></table>'.format(\n",
    "        '</tr><tr>'.join(\n",
    "            '<td>{}</td>'.format('</td><td>'.join(str(_) for _ in row)) for row in data)\n",
    "        )\n",
    "     ))"
   ]
  },
  {
   "cell_type": "markdown",
   "metadata": {},
   "source": [
    "---\n",
    "\n",
    "\n",
    "## Main Functions"
   ]
  },
  {
   "cell_type": "markdown",
   "metadata": {},
   "source": [
    "Use `generate_data` to generate 10 blurred \"hills\" examples with balanced (same number of) \"non hills\" examples to see that the function is working."
   ]
  },
  {
   "cell_type": "code",
   "execution_count": 16,
   "metadata": {
    "collapsed": false
   },
   "outputs": [
    {
     "data": {
      "text/html": [
       "<table><tr><td>1.0</td><td>0.102632128446</td><td>0.0740703308802</td><td>0.098461296359</td><td>0.00569742562448</td><td>0.103157705715</td><td>0.0663106372084</td><td>1.0</td><td>0.0393398040381</td><td>0.101944086186</td><td>0.866056298499</td><td>0.845682151889</td><td>0.898663824714</td><td>0.83045293177</td><td>0.85705190276</td><td>0.801491883898</td><td>0.961085602967</td><td>1.0</td></tr><tr><td>1.0</td><td>0.123882856746</td><td>0.0599161572128</td><td>0.0919985501339</td><td>0.215754419118</td><td>0.140455975273</td><td>0.957238715692</td><td>0.150152273736</td><td>0.124930302319</td><td>0.877899711566</td><td>0.725520674564</td><td>0.77072700588</td><td>0.0787832795145</td><td>0.972865731971</td><td>0.606450896032</td><td>1.0</td><td>0.862021457348</td><td>1.0</td></tr><tr><td>1.0</td><td>0.0617591490171</td><td>0.0208188034815</td><td>0.0567793162505</td><td>0.118786854234</td><td>0.771484035022</td><td>0.0155504858838</td><td>0.0538302561751</td><td>0.147263001118</td><td>0.862971159877</td><td>0.933870879154</td><td>0.182127720925</td><td>0.0962592916957</td><td>0.785431681124</td><td>0.907775935199</td><td>0.921851620288</td><td>0.0977707864959</td><td>1.0</td></tr><tr><td>1.0</td><td>0.101271443397</td><td>0.179207467786</td><td>0.164869118225</td><td>0.0887848210918</td><td>0.137420036088</td><td>0.0933247265431</td><td>0.186274794822</td><td>0.828123139834</td><td>0.14860062564</td><td>0.178225164514</td><td>0.861578472668</td><td>0.966345084226</td><td>0.157321772347</td><td>0.918111872902</td><td>0.932945930946</td><td>0.813852496343</td><td>1.0</td></tr><tr><td>1.0</td><td>0.0912487962655</td><td>0.0650982590044</td><td>0.0603268255944</td><td>0.129078049319</td><td>0.103392261864</td><td>0.103232571604</td><td>0.997248767985</td><td>0.129800590167</td><td>0.123117804014</td><td>0.76425690108</td><td>1.0</td><td>0.947077098355</td><td>1.0</td><td>1.0</td><td>0.853475706394</td><td>0.803748189056</td><td>1.0</td></tr><tr><td>1.0</td><td>0.105093697487</td><td>0.0647168592495</td><td>0.171909909792</td><td>0.132041486879</td><td>0.0947628337265</td><td>0.856580514299</td><td>0.0982664994432</td><td>0.0</td><td>1.0</td><td>0.795291126015</td><td>0.805537786431</td><td>0.157581065922</td><td>0.980272331536</td><td>1.0</td><td>0.879937208661</td><td>1.0</td><td>1.0</td></tr><tr><td>1.0</td><td>0.042991411261</td><td>0.150129094769</td><td>0.161301767748</td><td>0.156903151498</td><td>1.0</td><td>0.0258226382514</td><td>0.104386633613</td><td>0.067631732525</td><td>0.987137622248</td><td>0.879783562283</td><td>0.0506053988975</td><td>0.0905828941408</td><td>0.993696115334</td><td>0.97271411612</td><td>0.845421159762</td><td>0.0892763098265</td><td>1.0</td></tr><tr><td>1.0</td><td>0.0882114265326</td><td>0.064517879405</td><td>0.122632459451</td><td>0.018991753229</td><td>0.16037942695</td><td>0.0443752152253</td><td>0.144683346118</td><td>0.979628874245</td><td>0.120461938955</td><td>0.0711231199166</td><td>1.0</td><td>0.876723587921</td><td>0.0</td><td>0.77008971255</td><td>0.751594965144</td><td>0.90757387106</td><td>1.0</td></tr><tr><td>1.0</td><td>0.107274028929</td><td>0.04675304364</td><td>0.0396307017929</td><td>0.100355238941</td><td>0.0462366344443</td><td>0.023756989781</td><td>0.981950330928</td><td>0.229646410801</td><td>0.171778797321</td><td>0.943469223203</td><td>0.94586585727</td><td>1.0</td><td>1.0</td><td>0.777302376865</td><td>0.824550262361</td><td>0.95954153532</td><td>1.0</td></tr><tr><td>1.0</td><td>0.103735270363</td><td>0.0439257077307</td><td>0.0293180258979</td><td>0.120084914757</td><td>0.212896961729</td><td>0.937764795471</td><td>0.0499233881226</td><td>0.184497386061</td><td>0.947637757376</td><td>1.0</td><td>0.803625667251</td><td>0.0983558538537</td><td>1.0</td><td>0.800524419183</td><td>0.84122512349</td><td>1.0</td><td>1.0</td></tr><tr><td>1.0</td><td>0.16316043532</td><td>0.162903405497</td><td>0.168781390441</td><td>0.131512408878</td><td>0.0281366456292</td><td>0.160823886025</td><td>0.156578421416</td><td>0.0319856407698</td><td>0.0994816637491</td><td>0.127803957098</td><td>0.133669913539</td><td>0.141826574553</td><td>0.904597688287</td><td>0.942130821298</td><td>0.800490679253</td><td>0.825666706141</td><td>0.0</td></tr><tr><td>1.0</td><td>0.0902839153388</td><td>0.132020199601</td><td>0.0682805995504</td><td>0.0486510969028</td><td>0.1109000685</td><td>0.124269801625</td><td>0.0751745086329</td><td>0.132677653748</td><td>0.943172022279</td><td>0.167712767421</td><td>0.94736218049</td><td>0.00839667013809</td><td>0.849370038173</td><td>0.817261352065</td><td>1.0</td><td>0.942328002351</td><td>0.0</td></tr><tr><td>1.0</td><td>0.114698712729</td><td>0.181929106558</td><td>0.0924956281544</td><td>0.0798496182239</td><td>0.0820533716716</td><td>0.0215745152187</td><td>0.137958045359</td><td>0.0838475874081</td><td>0.147896143836</td><td>0.870999687479</td><td>0.120397555803</td><td>1.0</td><td>0.95028985608</td><td>0.788716521708</td><td>0.901666577897</td><td>1.0</td><td>0.0</td></tr><tr><td>1.0</td><td>0.00742785007504</td><td>0.994881178163</td><td>0.081083223366</td><td>0.034535238306</td><td>0.939175432644</td><td>0.867365280879</td><td>0.771880319632</td><td>0.149555498179</td><td>0.796351318554</td><td>1.0</td><td>0.899759969766</td><td>0.924040804877</td><td>0.163988089532</td><td>0.877607658992</td><td>0.152580460446</td><td>0.125449382312</td><td>0.0</td></tr><tr><td>1.0</td><td>0.138501848398</td><td>0.0735892119645</td><td>0.92983526432</td><td>0.117897924732</td><td>0.135944019988</td><td>0.901967004297</td><td>0.94303166151</td><td>0.938451621505</td><td>1.0</td><td>0.835391467484</td><td>0.90313768577</td><td>0.988798480013</td><td>0.178937686724</td><td>0.0948269771294</td><td>1.0</td><td>0.0601648078183</td><td>0.0</td></tr><tr><td>1.0</td><td>0.983902238574</td><td>0.145028200898</td><td>0.101616622477</td><td>0.193234987974</td><td>0.843889362696</td><td>0.691992168783</td><td>0.0645205773195</td><td>0.119733709077</td><td>0.912467578314</td><td>0.989791334462</td><td>0.743515923543</td><td>0.104816050608</td><td>0.884404847346</td><td>0.117968150267</td><td>0.146822779275</td><td>0.043816147897</td><td>0.0</td></tr><tr><td>1.0</td><td>0.164445374092</td><td>0.0205830610686</td><td>0.00958174757265</td><td>0.894758660069</td><td>0.0660911592326</td><td>0.106031804754</td><td>1.0</td><td>0.720580831131</td><td>0.0335832043937</td><td>0.782607935534</td><td>1.0</td><td>0.943995483341</td><td>0.144621478304</td><td>0.0850184172342</td><td>0.0586185615146</td><td>1.0</td><td>0.0</td></tr><tr><td>1.0</td><td>0.0207245977557</td><td>0.126878447595</td><td>0.0</td><td>0.0449155102764</td><td>0.0557677148441</td><td>0.119184334957</td><td>0.0976621214985</td><td>0.041655761525</td><td>0.00525261238921</td><td>0.0927225758529</td><td>0.11874250278</td><td>0.129648314629</td><td>0.808128544545</td><td>1.0</td><td>1.0</td><td>0.997208578604</td><td>0.0</td></tr><tr><td>1.0</td><td>0.00729401148582</td><td>0.160818081091</td><td>0.050164876453</td><td>0.00471453833703</td><td>0.0901945403262</td><td>0.0</td><td>0.0673707469913</td><td>0.114482240059</td><td>0.980404222406</td><td>0.0857843001637</td><td>0.962361196181</td><td>0.0281553808262</td><td>0.81761749629</td><td>0.92497238225</td><td>0.727807655229</td><td>0.978940245105</td><td>0.0</td></tr><tr><td>1.0</td><td>0.261709774208</td><td>0.159300888623</td><td>0.0543925937352</td><td>0.138915453714</td><td>0.128824634516</td><td>0.113521558803</td><td>0.0599625341632</td><td>0.154757963906</td><td>0.0165422165237</td><td>0.836313871047</td><td>0.140957361314</td><td>0.923330547798</td><td>0.838264752711</td><td>0.920753542819</td><td>0.879457717459</td><td>0.823709870002</td><td>0.0</td></tr></table>"
      ],
      "text/plain": [
       "<IPython.core.display.HTML object>"
      ]
     },
     "metadata": {},
     "output_type": "display_data"
    }
   ],
   "source": [
    "def generate_data(data, n, label):\n",
    "    data_out = []\n",
    "    generate_hills(data, n, label, data_out)\n",
    "    generate_not_hills(data, n, label, data_out)\n",
    "\n",
    "    return data_out\n",
    "\n",
    "results = generate_data( clean_data, 10, \"hills\")\n",
    "print_html_table(results)\n",
    "#for result in results:\n",
    "#    print result"
   ]
  },
  {
   "cell_type": "markdown",
   "metadata": {},
   "source": [
    "Use `learn_model` to learn a logistic regression model for classifying sensor images as \"hills\" or \"not hills\". Use your `generate_data` function to generate a training set with 100 hills examples. **Set Verbose to True**"
   ]
  },
  {
   "cell_type": "code",
   "execution_count": 17,
   "metadata": {
    "collapsed": false,
    "scrolled": false
   },
   "outputs": [],
   "source": [
    "def learn_model(train_data, verbose=False):\n",
    "    epsilon = 1 / 10000000.0\n",
    "    alpha = 0.1\n",
    "    m = len(train_data[0]) - 1\n",
    "    thetas = [random.uniform(-1, 1) for i in range(m)]\n",
    "    previous_error = 0.0\n",
    "    current_error = calculate_error(thetas, train_data)\n",
    "    print_counter = 0\n",
    "    while abs(current_error - previous_error) > epsilon:\n",
    "        new_thetas = [0 for i in range(m)]\n",
    "        for j in range(m): \n",
    "            new_thetas[j] = thetas[j] - alpha * derivative(j, thetas, train_data)\n",
    "        thetas = new_thetas\n",
    "\n",
    "        if verbose and print_counter % 1000 == 0:\n",
    "            print 'error: ', current_error\n",
    "            print\n",
    "\n",
    "        if current_error > previous_error:\n",
    "            alpha = alpha / 10.0\n",
    "            \n",
    "        previous_error = current_error\n",
    "        current_error = calculate_error(thetas, train_data)\n",
    "        print_counter += 1\n",
    "\n",
    "train_data = generate_data( clean_data, 100, \"hills\")\n",
    "#model = learn_model( train_data, True)\n",
    "model = [-22.400546976561237, -10.451067964042313, -18.6086749056464, -14.1214695347607, -6.36399199170839, 11.428122477078729, 3.0248446407761627, 3.4316227441828544, 12.576993255048198, -10.316226530691987, 10.761316221645709, 12.501387621641353, -9.776272973274683, 0.3172110649805399, 13.275939870295009, 12.24751308359399, -4.983004296479011]\n"
   ]
  },
  {
   "cell_type": "markdown",
   "metadata": {},
   "source": [
    "Use `generate_data` to generate 100 blurred \"hills\" examples with balanced \"non hills\" examples and use this as your test data. Set labeled=True and generate results to use in `calculate_confusion_matrix`. Print out the first 10 results, one per line."
   ]
  },
  {
   "cell_type": "code",
   "execution_count": 18,
   "metadata": {
    "collapsed": false
   },
   "outputs": [
    {
     "name": "stdout",
     "output_type": "stream",
     "text": [
      "[(1, 0.9999668145231511), (1, 0.9650188894129691), (1, 0.9999997531419534), (1, 0.999111987217161), (1, 0.9992356579533592), (1, 0.9827102196150841), (1, 0.999619538452553), (1, 0.999586115999328), (1, 0.9995101447465782), (1, 0.850540432422011), (1, 0.9999626250108812), (1, 0.9995972872079366), (1, 0.9994417449490253), (1, 0.9967988388503365), (1, 0.9998367097884373), (1, 0.906674121378201), (1, 0.9999987993041294), (1, 0.9999633539465673), (1, 0.998531972183369), (1, 0.960571737482456), (1, 0.9998282303939673), (1, 0.9999967452682015), (1, 0.9998864481171907), (1, 0.95177181255487), (1, 0.9992279308522141), (1, 0.9991453386056075), (1, 0.9942546145052569), (1, 0.9999555407827536), (1, 0.9995215772137487), (1, 0.9998637668751007), (1, 0.9997426641890642), (1, 0.9998087521724053), (1, 0.9999948615214752), (1, 0.9999994976847885), (1, 0.998937954282794), (1, 0.996553145146648), (1, 0.8772877012250547), (1, 0.9764827649922994), (1, 0.9997338490184445), (1, 0.990879964828696), (1, 0.9920037931190292), (1, 0.9997858143767924), (1, 0.9999175960532201), (1, 0.9845412470818035), (1, 0.9964632241345512), (1, 0.9786390883389481), (1, 0.999918640395985), (1, 0.9606178642397983), (1, 0.9994685695536888), (1, 0.9914070261248275), (1, 0.9983012454427613), (1, 0.999112438132145), (0, 0.45692381533984494), (1, 0.9770398568396086), (1, 0.9999894363091897), (1, 0.9999111919881729), (1, 0.999974135213542), (1, 0.9988832810610346), (1, 0.9994673686368193), (1, 0.9899284927732594), (1, 0.9992905149267305), (1, 0.9978822691247337), (0, 0.28795506292468964), (1, 0.9999876962246975), (1, 0.999990366256842), (1, 0.9757579969588012), (1, 0.999888439140991), (1, 0.9986306593606741), (1, 0.9998290122191082), (1, 0.9948139823445539), (1, 0.9984772792594374), (1, 0.9990984993100183), (1, 0.9996678560776261), (1, 0.9998942503429031), (1, 0.9981186536817539), (1, 0.9781076565598117), (1, 0.9988262097130349), (1, 0.9981699595597531), (1, 0.9999235923262857), (1, 0.9940020563931037), (1, 0.9978098692603303), (1, 0.9836738767427622), (1, 0.994304526079609), (1, 0.8003761690482509), (1, 0.999961421502179), (1, 0.9995765262561616), (1, 0.9998740526449955), (1, 0.9997999311113047), (1, 0.9988682901538001), (1, 0.9995939863747744), (1, 0.9999521391947815), (1, 0.9978821486758203), (0, 0.37694059695877374), (1, 0.8315828293149132), (1, 0.9999153512517399), (1, 0.9999088752293971), (1, 0.9999620537142102), (1, 0.9995935676513124), (1, 0.9990978680517137), (1, 0.9944551982233935), (0, 0.0641634672133766), (0, 0.3287306986619396), (0, 0.00022684653584364076), (0, 2.0253441796253383e-05), (0, 0.0027551162396706776), (0, 2.963568811409651e-06), (0, 0.0009177226632812746), (0, 0.0030145881237718954), (0, 0.079322922390917), (0, 0.0001266443933296289), (0, 2.3080440011182027e-05), (0, 0.0005046020194484416), (0, 4.293895403252749e-05), (0, 0.003048632526481549), (0, 0.004696378182065656), (0, 0.0352717811724248), (0, 0.0037324783526107917), (0, 0.0012769955245747844), (0, 0.01648423195285208), (0, 0.00018345007938223187), (0, 0.0032837871412129778), (0, 0.002005327711472229), (0, 0.005492840726566966), (0, 0.0008422790462175103), (0, 8.294196796501409e-08), (0, 0.0001282314536255855), (0, 0.005590445154764008), (0, 0.0007936898020510535), (0, 0.010749346694650665), (0, 0.01466032115901472), (0, 9.257602860049834e-06), (0, 2.3392460635030698e-05), (0, 0.009642462119900342), (0, 0.0008971936940983597), (0, 0.001278124981736334), (0, 0.043892868273059556), (0, 0.08566709008403549), (0, 0.03933018383984495), (0, 2.519255708608822e-06), (0, 0.01452315478210015), (0, 0.00036190204975041927), (0, 0.014499293910575263), (0, 0.010357884378940118), (1, 0.5620305822681667), (0, 0.27172422383663053), (0, 5.828606041499882e-06), (0, 0.000503171385897739), (0, 8.507537532957327e-05), (0, 0.0023057549334981374), (0, 0.026315913278383698), (0, 0.07746563437778567), (0, 0.010289148730729404), (0, 0.0004556083844098678), (0, 2.2979295229383514e-05), (0, 0.00025076674370407877), (0, 0.0001247044925767475), (0, 4.451353028330141e-05), (0, 0.07380118907935265), (0, 0.06318367943142185), (0, 4.004337661656014e-06), (0, 0.008877468303818524), (0, 0.0019711539424373432), (0, 5.190676163021998e-05), (0, 0.0014453724765860427), (0, 0.00017675162448178256), (0, 0.0021710470655184905), (0, 2.7924215411712657e-05), (0, 0.0017602383646293815), (0, 1.8433026732392553e-05), (0, 0.00034774226961729274), (0, 0.0025093406880394077), (0, 0.18138386647249566), (0, 0.003402463815847727), (0, 0.001428428620050304), (0, 0.0232550770157708), (0, 0.0009723181177243034), (0, 0.0010299817478570592), (0, 0.00018422448427641395), (0, 0.0008305621191751546), (0, 0.005463671558902459), (0, 1.4924326385919057e-06), (0, 0.059896358760350626), (0, 2.6155244389626293e-06), (0, 0.00017341892112803574), (0, 0.00013180181718804547), (0, 0.016672128429324286), (0, 0.005484052880311723), (0, 0.00015813061562656373), (0, 0.00026210183147088974), (0, 0.0003752037365817758), (0, 0.0003369790016395482), (0, 0.026394942699297014), (0, 0.07798476334318845), (0, 0.005438932450160862), (0, 0.002866466045553366), (0, 9.926634566277559e-05), (0, 4.028121072490593e-06), (0, 0.00012986948857005254), (0, 6.766084753316869e-05), (0, 0.0004575625330030586)]\n"
     ]
    }
   ],
   "source": [
    "test_data = generate_data(clean_data, 100, \"hills\")\n",
    "\n",
    "def apply_model(model, test_data, labeled=False):\n",
    "    results = []\n",
    "    for xs in test_data:\n",
    "        yhat = calculate_yhat(model, xs)\n",
    "        predicted = None\n",
    "        if yhat < .5:\n",
    "            predicted = 0\n",
    "        else:\n",
    "            predicted = 1\n",
    "        \n",
    "        \n",
    "        if labeled:\n",
    "            actual = xs[-1]\n",
    "            results.append((actual, predicted))\n",
    "        else:\n",
    "           results.append((predicted, yhat))\n",
    "            \n",
    "    return results\n",
    "\n",
    "results = apply_model( model, test_data)\n",
    "print results"
   ]
  },
  {
   "cell_type": "markdown",
   "metadata": {},
   "source": [
    "Using the results above, show your confusion matrix for your model."
   ]
  },
  {
   "cell_type": "code",
   "execution_count": 19,
   "metadata": {
    "collapsed": false
   },
   "outputs": [
    {
     "name": "stdout",
     "output_type": "stream",
     "text": [
      "TP:  97.0\n",
      "FP:  1.0\n",
      "FN:  3.0\n",
      "TN:  99.0\n",
      "error:  2.0 %\n",
      "true_positive_rate:  97.0 %\n",
      "true_negative_rate:  99.0 %\n"
     ]
    }
   ],
   "source": [
    "def calculate_confusion_matrix(results):\n",
    "    n = len(results)\n",
    "    TP = 0.0\n",
    "    FP = 0.0\n",
    "    FN = 0.0\n",
    "    TN = 0.0\n",
    "    for result in results:\n",
    "        actual = result[0]\n",
    "        predicted = result[1]\n",
    "        if actual == predicted:\n",
    "            if actual == 1:\n",
    "                TP += 1\n",
    "            else:\n",
    "                TN += 1\n",
    "        \n",
    "        else:\n",
    "            if predicted == 1:\n",
    "                FP += 1\n",
    "            else:\n",
    "                FN += 1\n",
    "    \n",
    "    print \"TP: \", TP\n",
    "    print \"FP: \", FP\n",
    "    print \"FN: \", FN\n",
    "    print \"TN: \", TN\n",
    "    \n",
    "    error = (FN + FP) / n\n",
    "    print \"error: \", error * 100.0, \"%\"\n",
    "    \n",
    "    true_positive_rate = TP / (TP + FN)\n",
    "    print \"true_positive_rate: \", true_positive_rate * 100.0, \"%\"\n",
    "\n",
    "    true_negative_rate = TN / (TN + FP)\n",
    "    print \"true_negative_rate: \", true_negative_rate * 100.0, \"%\"\n",
    "\n",
    "results = apply_model( model, test_data, True)\n",
    "calculate_confusion_matrix(results)"
   ]
  }
 ],
 "metadata": {
  "kernelspec": {
   "display_name": "Python 2",
   "language": "python",
   "name": "python2"
  },
  "language_info": {
   "codemirror_mode": {
    "name": "ipython",
    "version": 2
   },
   "file_extension": ".py",
   "mimetype": "text/x-python",
   "name": "python",
   "nbconvert_exporter": "python",
   "pygments_lexer": "ipython2",
   "version": "2.7.13"
  }
 },
 "nbformat": 4,
 "nbformat_minor": 1
}
