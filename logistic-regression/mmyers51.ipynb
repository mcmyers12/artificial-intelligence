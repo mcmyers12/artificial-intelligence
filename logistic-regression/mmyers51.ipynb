{
 "cells": [
  {
   "cell_type": "code",
   "execution_count": 1,
   "metadata": {
    "collapsed": true
   },
   "outputs": [],
   "source": [
    "%matplotlib inline\n",
    "\n",
    "from IPython.display import HTML, display\n",
    "import math\n",
    "import sys"
   ]
  },
  {
   "cell_type": "markdown",
   "metadata": {},
   "source": [
    "# Module 8 - Programming Assignment (Summer)"
   ]
  },
  {
   "cell_type": "markdown",
   "metadata": {},
   "source": [
    "# The Problem\n",
    "\n",
    "When we last left our agent in Module 4, it was wandering around a world filled with plains, forests, swamps, hills and mountains. This presupposes a map with known terrain:\n",
    "\n",
    "```\n",
    "......\n",
    "...**.\n",
    "...***\n",
    "..^...\n",
    "..~^..\n",
    "```\n",
    "\n",
    "but what if all we know is that we have some area of interest, that we've reduced to a GPS grid:\n",
    "\n",
    "```\n",
    "??????\n",
    "??????\n",
    "??????\n",
    "??????\n",
    "??????\n",
    "```\n",
    "\n",
    "and the agent has to determine what kind of terrain is to the left, front and right of it?\n",
    "\n",
    "Assuming the agent has a very simple visual sensor that constructs a 4x4 grayscale image for each of the three directions, it might it could see something like this:"
   ]
  },
  {
   "cell_type": "code",
   "execution_count": 2,
   "metadata": {
    "collapsed": false
   },
   "outputs": [
    {
     "data": {
      "image/png": "[encoded data removed]",
      "text/plain": [
       "<matplotlib.figure.Figure at 0x10d18c410>"
      ]
     },
     "metadata": {},
     "output_type": "display_data"
    }
   ],
   "source": [
    "import numpy as np\n",
    "import matplotlib.pyplot as plt\n",
    "import random\n",
    "\n",
    "plain =  [0.0, 0.0, 0.0, 0.0,0.0, 0.0, 0.0, 0.0,0.0, 0.0, 0.0, 0.0,1.0, 1.0, 1.0, 1.0]\n",
    "forest = [0.0, 1.0, 0.0, 0.0,1.0, 1.0, 1.0, 0.0,1.0, 1.0, 1.0, 1.0,0.0, 1.0, 0.0, 0.0]\n",
    "hills =  [0.0, 0.0, 0.0, 0.0,0.0, 0.0, 1.0, 0.0,0.0, 1.0, 1.0, 1.0,1.0, 1.0, 1.0, 1.0]\n",
    "swamp =  [0.0, 0.0, 0.0, 0.0,0.0, 0.0, 0.0, 0.0,1.0, 0.0, 1.0, 0.0,1.0, 1.0, 1.0, 1.0]\n",
    "\n",
    "figure = plt.figure(figsize=(20,6))\n",
    "\n",
    "axes = figure.add_subplot(1, 3, 1)\n",
    "pixels = np.array([255 - p * 255 for p in plain], dtype='uint8')\n",
    "pixels = pixels.reshape((4, 4))\n",
    "axes.set_title( \"Left Camera\")\n",
    "axes.imshow(pixels, cmap='gray')\n",
    "\n",
    "axes = figure.add_subplot(1, 3, 2)\n",
    "pixels = np.array([255 - p * 255 for p in forest], dtype='uint8')\n",
    "pixels = pixels.reshape((4, 4))\n",
    "axes.set_title( \"Front Camera\")\n",
    "axes.imshow(pixels, cmap='gray')\n",
    "\n",
    "axes = figure.add_subplot(1, 3, 3)\n",
    "pixels = np.array([255 - p * 255 for p in hills], dtype='uint8')\n",
    "pixels = pixels.reshape((4, 4))\n",
    "axes.set_title( \"Right Camera\")\n",
    "axes.imshow(pixels, cmap='gray')\n",
    "\n",
    "plt.show()\n",
    "plt.close()"
   ]
  },
  {
   "cell_type": "markdown",
   "metadata": {},
   "source": [
    "which would be plains, forest and hills respectively.\n",
    "\n",
    "## The Assignment\n",
    "\n",
    "For this programming assignment your tasks are:\n",
    "\n",
    "1. Write a logistic regression that simply determines if something is a hill or not (two class problem). \n",
    "2. You will also evaluate that logistic regression by generating a *confusion matrix*.\n",
    "\n",
    "For a starting point, you can refer to **module-8-pseudocode.pdf** and the Self-Check."
   ]
  },
  {
   "cell_type": "markdown",
   "metadata": {},
   "source": [
    "## Data\n",
    "\n",
    "We have clean examples of the different types of terrain but based on the location, the registration can be a bit off for some of the types and the visual sensor is often blurry.\n",
    "\n",
    "Here are the clean examples with different registrations: "
   ]
  },
  {
   "cell_type": "code",
   "execution_count": 3,
   "metadata": {
    "collapsed": true
   },
   "outputs": [],
   "source": [
    "clean_data = {\n",
    "    \"plains\": [\n",
    "        [0.0, 0.0, 0.0, 0.0, 0.0, 0.0, 0.0, 0.0, 0.0, 0.0, 0.0, 0.0, 1.0, 1.0, 1.0, 1.0, \"plains\"]\n",
    "    ],\n",
    "    \"forest\": [\n",
    "        [0.0, 1.0, 0.0, 0.0, 1.0, 1.0, 1.0, 0.0, 1.0, 1.0, 1.0, 1.0, 0.0, 1.0, 0.0, 0.0, \"forest\"],\n",
    "        [0.0, 0.0, 1.0, 0.0, 0.0, 1.0, 1.0, 1.0, 1.0, 1.0, 1.0, 1.0, 0.0, 0.0, 1.0, 0.0, \"forest\"],\n",
    "        [1.0, 0.0, 0.0, 0.0, 1.0, 1.0, 0.0, 0.0, 1.0, 1.0, 1.0, 0.0, 1.0, 0.0, 0.0, 0.0, \"forest\"],\n",
    "        [0.0, 0.0, 0.0, 1.0, 0.0, 0.0, 1.0, 1.0, 0.0, 1.0, 1.0, 1.0, 0.0, 0.0, 0.0, 1.0, \"forest\"]\n",
    "    ],\n",
    "    \"hills\": [\n",
    "        [0.0, 0.0, 0.0, 0.0, 0.0, 0.0, 1.0, 0.0, 0.0, 1.0, 1.0, 1.0, 1.0, 1.0, 1.0, 1.0, \"hills\"],\n",
    "        [0.0, 0.0, 0.0, 0.0, 0.0, 1.0, 0.0, 0.0, 1.0, 1.0, 1.0, 0.0, 1.0, 1.0, 1.0, 1.0, \"hills\"],\n",
    "        [0.0, 0.0, 0.0, 0.0, 1.0, 0.0, 0.0, 0.0, 1.0, 1.0, 0.0, 0.0, 1.0, 1.0, 1.0, 0.0, \"hills\"],\n",
    "        [0.0, 0.0, 0.0, 0.0, 0.0, 0.0, 0.0, 1.0, 0.0, 0.0, 1.0, 1.0, 0.0, 1.0, 1.0, 1.0, \"hills\"]\n",
    "    ],\n",
    "    \"swamp\": [\n",
    "        [0.0, 0.0, 0.0, 0.0, 0.0, 0.0, 0.0, 0.0, 1.0, 0.0, 1.0, 0.0, 1.0, 1.0, 1.0, 1.0, \"swamp\"],\n",
    "        [0.0, 0.0, 0.0, 0.0, 0.0, 0.0, 0.0, 0.0, 0.0, 1.0, 0.0, 1.0, 1.0, 1.0, 1.0, 1.0, \"swamp\"]        \n",
    "    ]\n",
    "}"
   ]
  },
  {
   "cell_type": "markdown",
   "metadata": {},
   "source": [
    "Let's create a function that allows us to view any of these:"
   ]
  },
  {
   "cell_type": "code",
   "execution_count": 4,
   "metadata": {
    "collapsed": true
   },
   "outputs": [],
   "source": [
    "def view_sensor_image( data):\n",
    "    figure = plt.figure(figsize=(4,4))\n",
    "    axes = figure.add_subplot(1, 1, 1)\n",
    "    pixels = np.array([255 - p * 255 for p in data[:-1]], dtype='uint8')\n",
    "    pixels = pixels.reshape((4, 4))\n",
    "    axes.set_title( \"Left Camera:\" + data[-1])\n",
    "    axes.imshow(pixels, cmap='gray')\n",
    "    plt.show()\n",
    "    plt.close()"
   ]
  },
  {
   "cell_type": "markdown",
   "metadata": {},
   "source": [
    "\"I think that I shall never see a thing so lovely as a tree.\""
   ]
  },
  {
   "cell_type": "code",
   "execution_count": 5,
   "metadata": {
    "collapsed": false
   },
   "outputs": [
    {
     "data": {
      "image/png": "[encoded data removed]",
      "text/plain": [
       "<matplotlib.figure.Figure at 0x1108b91d0>"
      ]
     },
     "metadata": {},
     "output_type": "display_data"
    }
   ],
   "source": [
    "view_sensor_image( clean_data[ \"forest\"][0])"
   ]
  },
  {
   "cell_type": "code",
   "execution_count": 6,
   "metadata": {
    "collapsed": false
   },
   "outputs": [
    {
     "data": {
      "image/png": "[encoded data removed]",
      "text/plain": [
       "<matplotlib.figure.Figure at 0x110ed97d0>"
      ]
     },
     "metadata": {},
     "output_type": "display_data"
    }
   ],
   "source": [
    "view_sensor_image( clean_data[\"swamp\"][0])"
   ]
  },
  {
   "cell_type": "markdown",
   "metadata": {},
   "source": [
    "The data that comes in, however, is noisy. The values are never exactly 0 and 1. In order to mimic this we need a `blur` function.\n",
    "\n",
    "We will assume that noise is normally distributed. For values that should be 0, the noisy values are distributed $N(0.10, 0.05)$. For values should be 1, the noisy values are distributed $N(0.9, 0.10)$."
   ]
  },
  {
   "cell_type": "code",
   "execution_count": 7,
   "metadata": {
    "collapsed": true
   },
   "outputs": [],
   "source": [
    "def blur( data):\n",
    "    def apply_noise( value):\n",
    "        if value < 0.5:\n",
    "            v = random.gauss( 0.10, 0.05)\n",
    "            if v < 0.0:\n",
    "                return 0.0\n",
    "            if v > 0.75:\n",
    "                return 0.75\n",
    "            return v\n",
    "        else:\n",
    "            v = random.gauss( 0.90, 0.10)\n",
    "            if v < 0.25:\n",
    "                return 0.25\n",
    "            if v > 1.00:\n",
    "                return 1.00\n",
    "            return v\n",
    "    noisy_readings = [apply_noise( v) for v in data[0:-1]]\n",
    "    return noisy_readings + [data[-1]]"
   ]
  },
  {
   "cell_type": "markdown",
   "metadata": {},
   "source": [
    "We can see how this affects what the agent *actually* sees."
   ]
  },
  {
   "cell_type": "code",
   "execution_count": 8,
   "metadata": {
    "collapsed": false
   },
   "outputs": [
    {
     "data": {
      "image/png": "[encoded data removed]",
      "text/plain": [
       "<matplotlib.figure.Figure at 0x110f9ad50>"
      ]
     },
     "metadata": {},
     "output_type": "display_data"
    }
   ],
   "source": [
    "view_sensor_image( blur( clean_data[\"swamp\"][0]))"
   ]
  },
  {
   "cell_type": "markdown",
   "metadata": {},
   "source": [
    "You are going to want to write four (4) functions:\n",
    "\n",
    "1. `generate_data`\n",
    "2. `learn_model`\n",
    "3. `apply_model`\n",
    "4. `calculate_confusion_matrix`\n",
    "\n",
    "\n",
    "### `generate_data`\n",
    "\n",
    "With the clean examples and the `blur` function, we have an unlimited amount of data for training and testing our classifier, a logistic regression that determines if a sensor image is hills (1) or not (0).\n",
    "\n",
    "In classification, there is a general problem called the \"unbalanced class problem\". In general, we want our training data to have the same number of classes, in this case \"hills\" and \"not hills\". This means you should probably generate training data with, say, 100 hills and then 100 of all the other types of terrain combined.\n",
    "\n",
    "When you send your data to the actual `learn_model` function, it will need to have all the String labels transformed to 0 or 1 appropriately. Remember, you also need to set $x_0$ = 1.0; *where* you do that is up to you but you need to be consistent (if you do it in `generate_data` then don't also do it in `learn_model` or `apply_model`.\n",
    "\n",
    "You can make `generate_data` as sophisticated as you like. But it should at least take n and a label so that:\n",
    "\n",
    "`generate_data( clean_data, 100, \"hills\")`\n",
    "\n",
    "generates 100 hills, 100 not hills and has transformed the String labels into 1 and 0, respectively.\n",
    "\n",
    "### `learn_model`\n",
    "\n",
    "`learn_model` is the function that takes in training data and actually learns the logistic regression model. If you're up to it, you can implement a vectorized version using Numpy but you might start with the loopy version first.\n",
    "\n",
    "*In the lecture, I mentioned that you usually should mean normalize your data but you don't need to do that in this case because the data is already on the range 0-1.*\n",
    "\n",
    "I should also mention that gradient descent is not the usual approach to linear|logistic regression because the error function actually has an *exact* solution. However, in the case of large data sets, the exact solution often fails and in any case, the use of gradient descent will prepare you for neural networks next week.\n",
    "\n",
    "When verbose is True, you should print out the error so you can see that it is getting smaller. \n",
    "\n",
    "When developing your algorithm, you need to watch the error so you'll set verbose=True to start. You should print it out every iteration and make sure it is declining. You'll have to experiment with both epsilon and alpha; and it doesn't hurt to make alpha adaptive (if the error increases, make alpha = alpha / 10).\n",
    "\n",
    "When you know that your algorithm is working, change your code so that the error is printed out only every 1,000 iterations (it takes a lot of iterations for this problem to converge, depending on your parameter values--start early).\n",
    "\n",
    "`learn_model` returns the List of Thetas.\n",
    "\n",
    "### `apply_model`\n",
    "\n",
    "`apply_model` takes a List of Thetas (the model) and either labeled or unlabeled data. If the data is unlabeled, it will return predictions for each observation as a Tuple of the inferred value (0 or 1) and the actual probability (so something like (1, 0.73) or (0, 0.19).\n",
    "\n",
    "If the data is labeled, you will return a Tuple of the actual value (0 or 1) and the predicted value (0 or 1). In this case, you return a List of something like [(0, 1), (1, 1), (0, 0), (1, 0)].\n",
    "\n",
    "### `calculate_confusion_matrix`\n",
    "\n",
    "The `calculate_confusion_matrix` takes the results of `apply_model` when labeled=True and prints a nice HTML version of a confusion matrix and include statistics for error rate, true positive rate and true negative rate.\n",
    "\n",
    "\n",
    "**As always when working with Lists or Lists of Lists, be very careful when you are modifying these items in place that this is what you intend (and not to be modifying a copy)**"
   ]
  },
  {
   "cell_type": "markdown",
   "metadata": {},
   "source": [
    "---"
   ]
  },
  {
   "cell_type": "markdown",
   "metadata": {},
   "source": [
    "## Helper Functions"
   ]
  },
  {
   "cell_type": "markdown",
   "metadata": {},
   "source": [
    "&nbsp;\n",
    "\n",
    "**Generate Hills**\n",
    "\n",
    "This is a helper function for the generate_data function.  Given the clean data, n, a label, and an array data_out that represents the data that will be returned by generate_data, this function generates n blurred hills using the blur function and the clean data.  It iterates through the different options for hill data to return an equal number of the different types of hills.  Each hill is added to the data_out array."
   ]
  },
  {
   "cell_type": "code",
   "execution_count": 9,
   "metadata": {
    "collapsed": true
   },
   "outputs": [],
   "source": [
    "def generate_hills(data, n, label, data_out):\n",
    "    hill_index = 0\n",
    "    for i in range(n):\n",
    "        blurred_hill = blur(data[label][hill_index])\n",
    "        blurred_hill[-1] = 1.0\n",
    "        blurred_hill.insert(0, 1.0)  # Add x_0 of 1\n",
    "        data_out.append(blurred_hill)\n",
    "\n",
    "        if hill_index < 3:\n",
    "            hill_index += 1\n",
    "        else:\n",
    "            hill_index = 0"
   ]
  },
  {
   "cell_type": "markdown",
   "metadata": {},
   "source": [
    "&nbsp;\n",
    "\n",
    "**Generate Not Hills**\n",
    "\n",
    "This is a helper function for the generate_data function. Given the data n, a label, and an array data_out that represents the data that will be returned by generate_data, this function generates n blurred data points that are not hills.  It iterates through the different options for data that are not hills to return an equal number of the different types of non hill data. Each data point is added to the data_out array."
   ]
  },
  {
   "cell_type": "code",
   "execution_count": 10,
   "metadata": {
    "collapsed": true
   },
   "outputs": [],
   "source": [
    "def generate_not_hills(data, n, label, data_out):\n",
    "    not_hill_data = []\n",
    "    for key in data:\n",
    "        if key != label:\n",
    "            for data_point in data[key]:\n",
    "                not_hill_data.append(data_point)\n",
    "\n",
    "    not_hill_index = 0\n",
    "    for i in range(n):\n",
    "        blurred_not_hill = blur(not_hill_data[not_hill_index])\n",
    "        blurred_not_hill[-1] = 0.0\n",
    "        blurred_not_hill.insert(0, 1.0)  # Add x_0 of 1\n",
    "        data_out.append(blurred_not_hill)\n",
    "\n",
    "        if not_hill_index < 6:\n",
    "            not_hill_index += 1\n",
    "        else:\n",
    "            not_hill_index = 0"
   ]
  },
  {
   "cell_type": "markdown",
   "metadata": {},
   "source": [
    "&nbsp;\n",
    "\n",
    "**Dot Product**\n",
    "\n",
    "This function calculates the dot product of a list of thetas and a list of xs.  The dot product of two vectors a and b is a⋅b = a1b1 + a2b2 + a3b3 +...+ anbn.  This is used to calculate y hat.\n",
    " "
   ]
  },
  {
   "cell_type": "code",
   "execution_count": 11,
   "metadata": {
    "collapsed": true
   },
   "outputs": [],
   "source": [
    "def dot_product(thetas, xs):\n",
    "    z = 0\n",
    "    xs_no_y = xs[0:len(xs) - 1]\n",
    "\n",
    "    for i in range(len(thetas)):\n",
    "        z += thetas[i] * xs[i]\n",
    "\n",
    "    return z"
   ]
  },
  {
   "cell_type": "markdown",
   "metadata": {},
   "source": [
    "&nbsp;\n",
    "\n",
    "**Calculate y hat**\n",
    "\n",
    "This function calculates y hat given a list of thetas and a list of xs.  The formula for y hat is:\n",
    "$$\\hat{y} = \\frac{1}{1+e^{-\\theta_0}}$$"
   ]
  },
  {
   "cell_type": "code",
   "execution_count": 12,
   "metadata": {
    "collapsed": true
   },
   "outputs": [],
   "source": [
    "def calculate_yhat(thetas, xs):\n",
    "    z = dot_product(thetas, xs)\n",
    "    yhat = 1 / (1 + math.e ** (-z))\n",
    "\n",
    "    return yhat"
   ]
  },
  {
   "cell_type": "markdown",
   "metadata": {},
   "source": [
    "&nbsp;\n",
    "\n",
    "**Calculate Error**\n",
    "\n",
    "This function calculates error using the formula for error for logistic regresstion:\n",
    "$$J(\\theta)=-\\frac{1}{n}\\sum_i\ty_i\tlog(\\hat{y_i})\t+\t(1\t- y_i)log(1\t- \\hat{y_i})$$"
   ]
  },
  {
   "cell_type": "code",
   "execution_count": 13,
   "metadata": {
    "collapsed": true
   },
   "outputs": [],
   "source": [
    "def calculate_error(thetas, train_data):\n",
    "    error_summation = 0\n",
    "    for xs in train_data:\n",
    "        y = xs[-1]\n",
    "        yhat = calculate_yhat(thetas, xs)\n",
    "\n",
    "        if yhat == 0 and (1 - yhat) == 0:\n",
    "            pass\n",
    "\n",
    "        elif yhat == 0:\n",
    "            error_summation += ((1 - y) * math.log(1 - yhat))\n",
    "\n",
    "        elif (1 - yhat) == 0:\n",
    "            error_summation += (y * math.log(yhat))\n",
    "\n",
    "        else:\n",
    "            error_summation += (y * math.log(yhat) + (1 - y) * math.log(1 - yhat))\n",
    "\n",
    "    n = len(train_data)\n",
    "    error = - (1.0 / n) * error_summation\n",
    "\n",
    "    return error"
   ]
  },
  {
   "cell_type": "markdown",
   "metadata": {},
   "source": [
    "&nbsp;\n",
    "\n",
    "**Derivative**\n",
    "\n",
    "This function calculates the dertivate using the y hat function. The formula used to calculate the derivative is:\n",
    "$$\\frac{\\partial\tJ}{\\partial\t\\theta_j}\t=\t\\frac{1}{n}\\sum_i(\\hat{y_i}\t- y_i)x_{ij}$$"
   ]
  },
  {
   "cell_type": "code",
   "execution_count": 14,
   "metadata": {
    "collapsed": true
   },
   "outputs": [],
   "source": [
    "def derivative(j, thetas, train_data):\n",
    "    derivative_summation = 0\n",
    "\n",
    "    n = len(train_data)\n",
    "\n",
    "    for xs in train_data:\n",
    "        y = xs[-1]\n",
    "        yhat = calculate_yhat(thetas, xs)\n",
    "        xij = xs[j]\n",
    "\n",
    "        derivative_summation += (yhat - y) * xij\n",
    "\n",
    "    deriv = (1.0 / n) * derivative_summation\n",
    "    return deriv"
   ]
  },
  {
   "cell_type": "markdown",
   "metadata": {},
   "source": [
    "&nbsp;\n",
    "\n",
    "**Print HTML Table**\n",
    "\n",
    "This function prints a nicely formated HTML table given a list of lists.  It is used to print the confusion matrix."
   ]
  },
  {
   "cell_type": "code",
   "execution_count": 15,
   "metadata": {
    "collapsed": false
   },
   "outputs": [],
   "source": [
    "def print_html_table(data):\n",
    "    print_results = []\n",
    "    for row in data:\n",
    "        row_list = []\n",
    "        for x in row:\n",
    "            if type(x) == float:\n",
    "                x = round(x, 2)\n",
    "            row_list.append(x)\n",
    "        print_results.append(row_list)\n",
    "    display(HTML(\n",
    "    '<table><tr>{}</tr></table>'.format(\n",
    "        '</tr><tr>'.join(\n",
    "            '<td>{}</td>'.format('</td><td>'.join(str(_) for _ in row)) for row in print_results)\n",
    "        )\n",
    "     ))"
   ]
  },
  {
   "cell_type": "markdown",
   "metadata": {},
   "source": [
    "&nbsp;\n",
    "\n",
    "**Calculate metrics**\n",
    "\n",
    "Given false negatives, false positives, true negatives, true positives, and n this function calculates and pritns the error, true positive rate, and true negative rate.  It is called in the confusion matrix function."
   ]
  },
  {
   "cell_type": "code",
   "execution_count": 16,
   "metadata": {
    "collapsed": true
   },
   "outputs": [],
   "source": [
    "def calculate_metrics(FN, FP, TN, TP, n):\n",
    "    error = (FN + FP) / n\n",
    "    print \"error: \", error * 100.0, \"%\"\n",
    "    \n",
    "    true_positive_rate = TP / (TP + FN)\n",
    "    print \"true_positive_rate: \", true_positive_rate * 100.0, \"%\"\n",
    "\n",
    "    true_negative_rate = TN / (TN + FP)\n",
    "    print \"true_negative_rate: \", true_negative_rate * 100.0, \"%\""
   ]
  },
  {
   "cell_type": "markdown",
   "metadata": {},
   "source": [
    "---\n",
    "\n",
    "\n",
    "## Main Functions"
   ]
  },
  {
   "cell_type": "markdown",
   "metadata": {},
   "source": [
    "Use `generate_data` to generate 10 blurred \"hills\" examples with balanced (same number of) \"non hills\" examples to see that the function is working."
   ]
  },
  {
   "cell_type": "code",
   "execution_count": 17,
   "metadata": {
    "collapsed": false
   },
   "outputs": [
    {
     "data": {
      "text/html": [
       "<table><tr><td>1.0</td><td>0.06</td><td>0.12</td><td>0.1</td><td>0.19</td><td>0.14</td><td>0.11</td><td>0.89</td><td>0.13</td><td>0.12</td><td>0.93</td><td>0.71</td><td>0.88</td><td>0.93</td><td>0.95</td><td>0.86</td><td>0.68</td><td>1.0</td></tr><tr><td>1.0</td><td>0.18</td><td>0.07</td><td>0.15</td><td>0.16</td><td>0.17</td><td>0.98</td><td>0.02</td><td>0.04</td><td>0.85</td><td>0.66</td><td>1.0</td><td>0.08</td><td>0.84</td><td>0.85</td><td>0.92</td><td>0.98</td><td>1.0</td></tr><tr><td>1.0</td><td>0.14</td><td>0.08</td><td>0.14</td><td>0.09</td><td>1.0</td><td>0.13</td><td>0.06</td><td>0.14</td><td>1.0</td><td>0.95</td><td>0.12</td><td>0.07</td><td>1.0</td><td>0.84</td><td>0.76</td><td>0.09</td><td>1.0</td></tr><tr><td>1.0</td><td>0.03</td><td>0.1</td><td>0.12</td><td>0.14</td><td>0.17</td><td>0.06</td><td>0.1</td><td>1.0</td><td>0.02</td><td>0.03</td><td>0.82</td><td>0.89</td><td>0.19</td><td>0.97</td><td>0.85</td><td>1.0</td><td>1.0</td></tr><tr><td>1.0</td><td>0.08</td><td>0.12</td><td>0.07</td><td>0.08</td><td>0.04</td><td>0.16</td><td>0.8</td><td>0.09</td><td>0.12</td><td>0.92</td><td>0.95</td><td>0.8</td><td>0.97</td><td>0.85</td><td>0.9</td><td>0.83</td><td>1.0</td></tr><tr><td>1.0</td><td>0.08</td><td>0.09</td><td>0.2</td><td>0.08</td><td>0.05</td><td>0.91</td><td>0.13</td><td>0.06</td><td>0.81</td><td>0.97</td><td>0.95</td><td>0.13</td><td>0.88</td><td>1.0</td><td>0.81</td><td>0.93</td><td>1.0</td></tr><tr><td>1.0</td><td>0.11</td><td>0.1</td><td>0.07</td><td>0.15</td><td>1.0</td><td>0.05</td><td>0.07</td><td>0.09</td><td>1.0</td><td>1.0</td><td>0.07</td><td>0.14</td><td>0.78</td><td>0.9</td><td>1.0</td><td>0.03</td><td>1.0</td></tr><tr><td>1.0</td><td>0.11</td><td>0.08</td><td>0.15</td><td>0.05</td><td>0.15</td><td>0.17</td><td>0.13</td><td>0.96</td><td>0.2</td><td>0.16</td><td>0.99</td><td>0.76</td><td>0.04</td><td>0.96</td><td>0.89</td><td>0.66</td><td>1.0</td></tr><tr><td>1.0</td><td>0.09</td><td>0.03</td><td>0.0</td><td>0.1</td><td>0.15</td><td>0.04</td><td>1.0</td><td>0.19</td><td>0.11</td><td>0.91</td><td>0.84</td><td>0.93</td><td>0.97</td><td>0.77</td><td>0.81</td><td>0.91</td><td>1.0</td></tr><tr><td>1.0</td><td>0.21</td><td>0.08</td><td>0.08</td><td>0.07</td><td>0.15</td><td>0.87</td><td>0.17</td><td>0.12</td><td>0.82</td><td>0.97</td><td>1.0</td><td>0.12</td><td>0.91</td><td>0.8</td><td>0.85</td><td>0.84</td><td>1.0</td></tr><tr><td>1.0</td><td>0.1</td><td>0.09</td><td>0.11</td><td>0.13</td><td>0.18</td><td>0.12</td><td>0.06</td><td>0.06</td><td>0.09</td><td>0.13</td><td>0.15</td><td>0.04</td><td>0.85</td><td>0.92</td><td>0.87</td><td>0.91</td><td>0.0</td></tr><tr><td>1.0</td><td>0.14</td><td>0.23</td><td>0.04</td><td>0.1</td><td>0.13</td><td>0.0</td><td>0.08</td><td>0.03</td><td>0.91</td><td>0.1</td><td>0.92</td><td>0.04</td><td>0.73</td><td>0.91</td><td>0.97</td><td>0.92</td><td>0.0</td></tr><tr><td>1.0</td><td>0.1</td><td>0.1</td><td>0.1</td><td>0.0</td><td>0.04</td><td>0.15</td><td>0.08</td><td>0.1</td><td>0.18</td><td>0.78</td><td>0.04</td><td>0.92</td><td>1.0</td><td>0.95</td><td>0.91</td><td>0.86</td><td>0.0</td></tr><tr><td>1.0</td><td>0.1</td><td>0.84</td><td>0.04</td><td>0.1</td><td>1.0</td><td>0.89</td><td>0.76</td><td>0.15</td><td>0.86</td><td>0.85</td><td>0.83</td><td>0.99</td><td>0.08</td><td>0.72</td><td>0.21</td><td>0.0</td><td>0.0</td></tr><tr><td>1.0</td><td>0.11</td><td>0.16</td><td>0.99</td><td>0.13</td><td>0.17</td><td>0.75</td><td>0.8</td><td>0.84</td><td>1.0</td><td>1.0</td><td>0.75</td><td>0.78</td><td>0.08</td><td>0.06</td><td>0.8</td><td>0.09</td><td>0.0</td></tr><tr><td>1.0</td><td>0.83</td><td>0.05</td><td>0.09</td><td>0.05</td><td>0.75</td><td>1.0</td><td>0.15</td><td>0.12</td><td>0.95</td><td>0.89</td><td>0.8</td><td>0.11</td><td>0.89</td><td>0.04</td><td>0.2</td><td>0.05</td><td>0.0</td></tr><tr><td>1.0</td><td>0.14</td><td>0.11</td><td>0.15</td><td>0.73</td><td>0.07</td><td>0.11</td><td>0.87</td><td>0.99</td><td>0.13</td><td>0.94</td><td>0.79</td><td>0.79</td><td>0.08</td><td>0.08</td><td>0.11</td><td>0.89</td><td>0.0</td></tr><tr><td>1.0</td><td>0.06</td><td>0.07</td><td>0.12</td><td>0.15</td><td>0.16</td><td>0.11</td><td>0.11</td><td>0.09</td><td>0.06</td><td>0.09</td><td>0.12</td><td>0.1</td><td>0.84</td><td>0.81</td><td>0.81</td><td>1.0</td><td>0.0</td></tr><tr><td>1.0</td><td>0.05</td><td>0.05</td><td>0.04</td><td>0.13</td><td>0.08</td><td>0.05</td><td>0.14</td><td>0.07</td><td>0.83</td><td>0.1</td><td>0.79</td><td>0.11</td><td>0.87</td><td>0.99</td><td>0.79</td><td>0.71</td><td>0.0</td></tr><tr><td>1.0</td><td>0.02</td><td>0.15</td><td>0.08</td><td>0.15</td><td>0.0</td><td>0.17</td><td>0.13</td><td>0.04</td><td>0.14</td><td>0.98</td><td>0.17</td><td>0.92</td><td>1.0</td><td>0.91</td><td>1.0</td><td>0.94</td><td>0.0</td></tr></table>"
      ],
      "text/plain": [
       "<IPython.core.display.HTML object>"
      ]
     },
     "metadata": {},
     "output_type": "display_data"
    }
   ],
   "source": [
    "def generate_data(data, n, label):\n",
    "    data_out = []\n",
    "    generate_hills(data, n, label, data_out)\n",
    "    generate_not_hills(data, n, label, data_out)\n",
    "\n",
    "    return data_out\n",
    "\n",
    "results = generate_data( clean_data, 10, \"hills\")\n",
    "print_html_table(results)"
   ]
  },
  {
   "cell_type": "markdown",
   "metadata": {},
   "source": [
    "Use `learn_model` to learn a logistic regression model for classifying sensor images as \"hills\" or \"not hills\". Use your `generate_data` function to generate a training set with 100 hills examples. **Set Verbose to True**"
   ]
  },
  {
   "cell_type": "code",
   "execution_count": 18,
   "metadata": {
    "collapsed": false,
    "scrolled": false
   },
   "outputs": [
    {
     "name": "stdout",
     "output_type": "stream",
     "text": [
      "error:  0.821940194291\n",
      "error:  0.532201832705\n",
      "error:  0.468068002423\n",
      "error:  0.420539669168\n",
      "error:  0.383256089906\n",
      "error:  0.353150373536\n",
      "error:  0.328317908776\n",
      "error:  0.307481060221\n",
      "error:  0.289743833249\n",
      "error:  0.274458138244\n",
      "error:  0.261143667797\n",
      "error:  0.249437136217\n",
      "error:  0.239058884854\n",
      "error:  0.229790269143\n",
      "error:  0.221457975812\n",
      "error:  0.213922918777\n",
      "error:  0.207072231464\n",
      "error:  0.200813396401\n",
      "error:  0.195069877276\n",
      "error:  0.189777824791\n",
      "error:  0.184883561579\n",
      "error:  0.180341640144\n",
      "error:  0.176113327639\n",
      "error:  0.172165412279\n",
      "error:  0.168469254737\n",
      "error:  0.165000028003\n",
      "error:  0.161736103564\n",
      "error:  0.158658552168\n",
      "error:  0.155750735046\n",
      "error:  0.152997967093\n",
      "error:  0.150387237675\n",
      "error:  0.147906977926\n",
      "error:  0.145546865757\n",
      "error:  0.143297661648\n",
      "error:  0.141151069719\n",
      "error:  0.139099619661\n",
      "error:  0.137136565952\n",
      "error:  0.135255801506\n",
      "error:  0.133451783382\n",
      "error:  0.131719468641\n",
      "error:  0.130054258777\n",
      "error:  0.128451951407\n",
      "error:  0.126908698138\n",
      "error:  0.125420967722\n",
      "error:  0.123985513719\n",
      "error:  0.122599346054\n",
      "error:  0.121259705929\n",
      "error:  0.119964043631\n",
      "error:  0.118709998859\n",
      "error:  0.117495383235\n",
      "error:  0.116318164735\n",
      "error:  0.115176453781\n",
      "error:  0.114068490803\n",
      "error:  0.112992635088\n",
      "error:  0.111947354761\n",
      "error:  0.110931217775\n"
     ]
    }
   ],
   "source": [
    "def learn_model(train_data, verbose=False):\n",
    "    epsilon = 1 / 1000000.0\n",
    "    alpha = 0.25\n",
    "    m = len(train_data[0]) - 1\n",
    "    thetas = [random.uniform(-1, 1) for i in range(m)]\n",
    "    previous_error = 0.0\n",
    "    current_error = calculate_error(thetas, train_data)\n",
    "    print_counter = 0\n",
    "    while abs(current_error - previous_error) > epsilon:\n",
    "        new_thetas = [0 for i in range(m)]\n",
    "        for j in range(m): \n",
    "            new_thetas[j] = thetas[j] - alpha * derivative(j, thetas, train_data)\n",
    "        thetas = new_thetas\n",
    "\n",
    "        if verbose and print_counter % 1000 == 0:\n",
    "            print 'error: ', current_error\n",
    "\n",
    "        if current_error > previous_error:\n",
    "            alpha = alpha / 10.0\n",
    "            \n",
    "        previous_error = current_error\n",
    "        current_error = calculate_error(thetas, train_data)\n",
    "        print_counter += 1\n",
    "    \n",
    "    return thetas\n",
    "\n",
    "train_data = generate_data(clean_data, 100, \"hills\")\n",
    "model = learn_model(train_data, True)"
   ]
  },
  {
   "cell_type": "markdown",
   "metadata": {},
   "source": [
    "Use `generate_data` to generate 100 blurred \"hills\" examples with balanced \"non hills\" examples and use this as your test data. Set labeled=True and generate results to use in `calculate_confusion_matrix`. Print out the first 10 results, one per line."
   ]
  },
  {
   "cell_type": "code",
   "execution_count": 19,
   "metadata": {
    "collapsed": false,
    "scrolled": false
   },
   "outputs": [
    {
     "data": {
      "text/html": [
       "<table><tr><td>1.0</td><td>1</td></tr><tr><td>1.0</td><td>1</td></tr><tr><td>1.0</td><td>1</td></tr><tr><td>1.0</td><td>1</td></tr><tr><td>1.0</td><td>1</td></tr><tr><td>1.0</td><td>1</td></tr><tr><td>1.0</td><td>1</td></tr><tr><td>1.0</td><td>1</td></tr><tr><td>1.0</td><td>1</td></tr><tr><td>1.0</td><td>1</td></tr></table>"
      ],
      "text/plain": [
       "<IPython.core.display.HTML object>"
      ]
     },
     "metadata": {},
     "output_type": "display_data"
    }
   ],
   "source": [
    "test_data = generate_data(clean_data, 100, \"hills\")\n",
    "\n",
    "def apply_model(model, test_data, labeled=False):\n",
    "    results = []\n",
    "    for xs in test_data:\n",
    "        yhat = calculate_yhat(model, xs)\n",
    "        predicted = None\n",
    "        if yhat < .5:\n",
    "            predicted = 0\n",
    "        else:\n",
    "            predicted = 1\n",
    "         \n",
    "        if labeled:\n",
    "            actual = xs[-1]\n",
    "            results.append((actual, predicted))\n",
    "        else:\n",
    "           results.append((predicted, yhat))\n",
    "            \n",
    "    return results\n",
    "\n",
    "results = apply_model(model, test_data, True)\n",
    "print_html_table(results[:10])"
   ]
  },
  {
   "cell_type": "markdown",
   "metadata": {},
   "source": [
    "Using the results above, show your confusion matrix for your model."
   ]
  },
  {
   "cell_type": "code",
   "execution_count": 20,
   "metadata": {
    "collapsed": false
   },
   "outputs": [
    {
     "data": {
      "text/html": [
       "<table><tr><td> </td><td>1</td><td>0</td></tr><tr><td>1</td><td>100.0%</td><td>1.0%</td></tr><tr><td>0</td><td>0.0%</td><td>99.0%</td></tr></table>"
      ],
      "text/plain": [
       "<IPython.core.display.HTML object>"
      ]
     },
     "metadata": {},
     "output_type": "display_data"
    },
    {
     "name": "stdout",
     "output_type": "stream",
     "text": [
      "error:  0.5 %\n",
      "true_positive_rate:  100.0 %\n",
      "true_negative_rate:  99.0 %\n"
     ]
    }
   ],
   "source": [
    "def calculate_confusion_matrix(results):\n",
    "    n = len(results)\n",
    "    TP = 0.0\n",
    "    FP = 0.0\n",
    "    FN = 0.0\n",
    "    TN = 0.0\n",
    "    for result in results:\n",
    "        actual = result[0]\n",
    "        predicted = result[1]\n",
    "        if actual == predicted:\n",
    "            if actual == 1:\n",
    "                TP += 1\n",
    "            else:\n",
    "                TN += 1\n",
    "        \n",
    "        else:\n",
    "            if predicted == 1:\n",
    "                FP += 1\n",
    "            else:\n",
    "                FN += 1\n",
    "    \n",
    "    confusion_matrix = [[' ', 1, 0], [1, str(TP)+'%', str(FP)+'%'], [0, str(FN)+'%', str(TN)+'%']]\n",
    "    print_html_table(confusion_matrix)\n",
    "    calculate_metrics(FN, FP, TN, TP, n)   \n",
    "\n",
    "calculate_confusion_matrix(results)"
   ]
  }
 ],
 "metadata": {
  "kernelspec": {
   "display_name": "Python 2",
   "language": "python",
   "name": "python2"
  },
  "language_info": {
   "codemirror_mode": {
    "name": "ipython",
    "version": 2
   },
   "file_extension": ".py",
   "mimetype": "text/x-python",
   "name": "python",
   "nbconvert_exporter": "python",
   "pygments_lexer": "ipython2",
   "version": "2.7.13"
  }
 },
 "nbformat": 4,
 "nbformat_minor": 1
}
