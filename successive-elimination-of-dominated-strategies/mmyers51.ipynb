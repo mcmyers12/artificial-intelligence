{
 "cells": [
  {
   "cell_type": "markdown",
   "metadata": {},
   "source": [
    "# Module 2 - Programming Assignment"
   ]
  },
  {
   "cell_type": "markdown",
   "metadata": {},
   "source": [
    "## Solving Normal Form Games"
   ]
  },
  {
   "cell_type": "code",
   "execution_count": 1,
   "metadata": {
    "collapsed": true
   },
   "outputs": [],
   "source": [
    "from IPython.core.display import *"
   ]
  },
  {
   "cell_type": "markdown",
   "metadata": {},
   "source": [
    "An example of a normal form game, the Prisoner's Dilemma game is shown here in Normal Form:\n",
    "\n",
    "Player 1 / Player 2  | Defect | Cooperate\n",
    "------------- | ------------- | -------------\n",
    "Defect  | -5, -5 | -1, -10\n",
    "Cooperate  | -10, -1 | -2, -2\n",
    "\n",
    "where the payoff to Player 1 is the left number and the payoff to Player 2 is the right number. We can represent each payoff cell as a Tuple: `(-5, -5)`, for example. We can represent each row as a List of Tuples: `[(-5, -5), (-1, -10)]` would be the first row and the entire table as a List of Lists:"
   ]
  },
  {
   "cell_type": "code",
   "execution_count": 2,
   "metadata": {
    "collapsed": false
   },
   "outputs": [
    {
     "data": {
      "text/plain": [
       "[[(-5, -5), (-1, -10)], [(-10, -1), (-2, -2)]]"
      ]
     },
     "execution_count": 2,
     "metadata": {},
     "output_type": "execute_result"
    }
   ],
   "source": [
    "prisoners_dilemma = [\n",
    " [( -5, -5), (-1,-10)],\n",
    " [(-10, -1), (-2, -2)]]\n",
    "\n",
    "prisoners_dilemma"
   ]
  },
  {
   "cell_type": "markdown",
   "metadata": {},
   "source": [
    "in which case the strategies are represented by indices into the List of Lists. For example, `(Defect, Cooperate)` for the above game becomes `prisoners_dilemma[ 0][ 1]` and returns the payoff `(-1, -10)` because 0 is the first row of the table (\"Defect\" for Player 1) and 1 is the 2nd column of the row (\"Cooperate\" for Player 2).\n",
    "\n",
    "This program implements a function that uses Successive Elimination of Dominated Strategies (SEDS) to find the **pure strategy** Nash Equilibrium of a Normal Form Game. The function is called `solve_game` and it takes two parameters: the game, in a format that we described earlier and an optional boolean flag that controls whether the algorithm considers only **strongly dominated strategies** (the default will be false) or whether it should consider **weakly dominated strategies** as well.\n",
    "\n",
    "It works with game matrices of any size and it will return the **strategy indices** of the Nash Equilibrium. If there is no **pure strategy** equilibrium that can be found using SEDS, return `None`.\n"
   ]
  },
  {
   "cell_type": "markdown",
   "metadata": {},
   "source": [
    "### Helper Functions"
   ]
  },
  {
   "cell_type": "markdown",
   "metadata": {},
   "source": [
    "**Remove column**\n",
    "\n",
    "The remove_column function, given a game and a column index, removes that column from the game.  The removal of a column from a game, is the removal of a strategy for player 2."
   ]
  },
  {
   "cell_type": "code",
   "execution_count": 3,
   "metadata": {
    "collapsed": true
   },
   "outputs": [],
   "source": [
    "def remove_column(game, column):\n",
    "    for row in game:\n",
    "        row.pop(column)\n",
    "    return game"
   ]
  },
  {
   "cell_type": "markdown",
   "metadata": {},
   "source": [
    "**Flip game**\n",
    "\n",
    "The flip_game function inverts the list of lists so that the game is in a format that is easier to use to find the dominated strategy for player 2, specifically, so that one algorithm can be used to find the dominated strategy given any game.  This function makes it possible when finding a dominated strategy for any player, to compare each strategy row by row, as is done by default for player 1."
   ]
  },
  {
   "cell_type": "code",
   "execution_count": 4,
   "metadata": {
    "collapsed": true
   },
   "outputs": [],
   "source": [
    "def flip_game(game):\n",
    "    num_rows = len(game)\n",
    "    row_length = len(game[0])\n",
    "    \n",
    "    flipped_game = []\n",
    "    for i in range(row_length):\n",
    "        column = []\n",
    "        for j in range(num_rows):\n",
    "            column.append(game[j][i])\n",
    "        flipped_game.append(column)\n",
    "            \n",
    "    return flipped_game"
   ]
  },
  {
   "cell_type": "markdown",
   "metadata": {},
   "source": [
    "**Get strategy indices**\n",
    "\n",
    "Given a game, get_strategy_indices creates a list of lists of equal dimensions to the game, strategy_indices.  This list of lists is populated with the indices of each strategy.  As cells are removed from the game as the solve game function executes, the corresponding strategy index cells are removed from the strategy_indices list of lists.  If a solution is found by SEDS, there will be a single cell left in strategy_indices which contain the strategy indices of the Nash Equilibrium. "
   ]
  },
  {
   "cell_type": "code",
   "execution_count": 5,
   "metadata": {
    "collapsed": true
   },
   "outputs": [],
   "source": [
    "def get_strategy_indices(game):\n",
    "    strategy_indices = []\n",
    "    for i in range(len(game)):\n",
    "        row = game[i]\n",
    "        strategy_row = []\n",
    "        for j in range(len(row)):\n",
    "            strategy_row.append((i, j))\n",
    "    \n",
    "        strategy_indices.append(strategy_row)\n",
    "    \n",
    "    return strategy_indices"
   ]
  },
  {
   "cell_type": "markdown",
   "metadata": {},
   "source": [
    "**Check for one cell**\n",
    "\n",
    "Given a game, the check_for_one_cell function determines whether there is only one cell left in the game.  This is used by the SEDS algorithm to determine whether a solution has been found."
   ]
  },
  {
   "cell_type": "code",
   "execution_count": 6,
   "metadata": {
    "collapsed": true
   },
   "outputs": [],
   "source": [
    "def check_for_one_cell(game):\n",
    "    if len(game) == 1 and len(game[0]) == 1:\n",
    "        return True\n",
    "    return False\n"
   ]
  },
  {
   "cell_type": "markdown",
   "metadata": {},
   "source": [
    "**Remove strongly dominated strategy for player 1**\n",
    "\n",
    "This algorithm finds a strongly dominated strategy for player 1 by comparing strategies one at a time until it finds one that dominates the other.  Once a dominated strategy is found, the corresponding cell is removed from the game and strategy_indices, and 'True' is returned.  If no dominated strategy is found, the function returns 'False' and does not remove any cells.  "
   ]
  },
  {
   "cell_type": "code",
   "execution_count": 7,
   "metadata": {
    "collapsed": true
   },
   "outputs": [],
   "source": [
    "def remove_strongly_dominated_strategy_player_1(game, strategy_indices):        \n",
    "    for i in range(len(game) - 1):\n",
    "        strategy1 = game[i]\n",
    "        for j in range(len(game) - 1):\n",
    "            j += 1\n",
    "            strategy2 = game[j]\n",
    "            one_dominates_two = True \n",
    "            two_dominates_one = True\n",
    "            for k in range(len(strategy1)):\n",
    "                value1 = strategy1[k][0]\n",
    "                value2 = strategy2[k][0]\n",
    "                one_dominates_two &= value1 > value2 \n",
    "                two_dominates_one &= value2 > value1\n",
    "            if one_dominates_two:\n",
    "                game.pop(j)\n",
    "                strategy_indices.pop(j)\n",
    "                return True\n",
    "            if two_dominates_one:\n",
    "                game.pop(i)\n",
    "                strategy_indices.pop(i)\n",
    "                return True\n",
    "            \n",
    "    return False"
   ]
  },
  {
   "cell_type": "markdown",
   "metadata": {},
   "source": [
    "**Remove strongly dominated strategy for player 2**\n",
    "\n",
    "This algorithm finds a strongly dominated strategy for player 2 by comparing strategies one at a time until it finds one that dominates the other.  Once a dominated strategy is found, the corresponding cell is removed from the game and strategy_indices, and 'True' is returned.  If no dominated strategy is found, the function returns 'False' and does not remove any cells. This function is different than the above, because it flips the game before executing the algorithm using function flip_game. "
   ]
  },
  {
   "cell_type": "code",
   "execution_count": 8,
   "metadata": {
    "collapsed": false
   },
   "outputs": [],
   "source": [
    "def remove_strongly_dominated_strategy_player_2(game, strategy_indices):    \n",
    "    flipped_game = flip_game(game)\n",
    "    for i in range(len(flipped_game) - 1):\n",
    "        strategy1 = flipped_game[i]\n",
    "        for j in range(len(flipped_game) - 1):\n",
    "            j += 1\n",
    "            strategy2 = flipped_game[j]\n",
    "            one_dominates_two = True \n",
    "            two_dominates_one = True\n",
    "            for k in range(len(strategy1)):\n",
    "                value1 = strategy1[k][1]\n",
    "                value2 = strategy2[k][1]\n",
    "                one_dominates_two &= value1 > value2 \n",
    "                two_dominates_one &= value2 > value1\n",
    "            if one_dominates_two:\n",
    "                remove_column(game, j)\n",
    "                remove_column(strategy_indices, j)\n",
    "                return True\n",
    "            if two_dominates_one:\n",
    "                remove_column(game, i)\n",
    "                remove_column(strategy_indices, i)\n",
    "                return True\n",
    "    \n",
    "    return False"
   ]
  },
  {
   "cell_type": "markdown",
   "metadata": {},
   "source": [
    "**Initialize flags**\n",
    "\n",
    "The initialize_flags function initializes various flags that are used in the algorithms to find weakly dominated strategies for player 1 and 2.  When comparing two strategies, to find whether strategy 1 dominates strategy 2, the flags keep track of whether strategy one dominates strategy two, there is at least one value in strategy 1 that is greater than the corresponding value in strategy 2, and there is at least one value in strategy 1 that is equal to the corresponding value in strategy 2.  These checks ensure that a dominated strategy follows all the criteria for being a weakly dominated strategy."
   ]
  },
  {
   "cell_type": "code",
   "execution_count": 9,
   "metadata": {
    "collapsed": true
   },
   "outputs": [],
   "source": [
    "def initialize_flags():\n",
    "    one_dominates_two = True \n",
    "    one_greater_flag = False\n",
    "    two_dominates_one = True\n",
    "    two_greater_flag = False\n",
    "    equal_flag = False\n",
    "    \n",
    "    return one_dominates_two, one_greater_flag, two_dominates_one, two_greater_flag, equal_flag"
   ]
  },
  {
   "cell_type": "markdown",
   "metadata": {},
   "source": [
    "**Update flags**\n",
    "\n",
    "As the algorithms are executed to find weakly dominated strategies, the above described flags must be updated accordingly.  This function updates the flags according to a passed in value for strategy 1 and a passed in value for strategy 2."
   ]
  },
  {
   "cell_type": "code",
   "execution_count": 10,
   "metadata": {
    "collapsed": true
   },
   "outputs": [],
   "source": [
    "def update_flags(value1, value2, one_greater_flag, two_greater_flag, equal_flag):\n",
    "    if (value1 > value2):\n",
    "        one_greater_flag = True\n",
    "\n",
    "    if (value2 > value1):\n",
    "        two_greater_flag = True\n",
    "\n",
    "    if (value1 == value2):\n",
    "        equal_flag = True\n",
    "    \n",
    "    return one_greater_flag, two_greater_flag, equal_flag"
   ]
  },
  {
   "cell_type": "markdown",
   "metadata": {},
   "source": [
    "**Remove weakly dominated strategy for player 1**\n",
    "\n",
    "This algorithm finds a weakly dominated strategy for player 1 by comparing strategies one at a time until it finds one that dominates the other.  Once a dominated strategy is found, the corresponding cell is removed from the game and strategy_indices, and 'True' is returned.  If no dominated strategy is found, the function returns 'False' and does not remove any cells. "
   ]
  },
  {
   "cell_type": "code",
   "execution_count": 11,
   "metadata": {
    "collapsed": true
   },
   "outputs": [],
   "source": [
    "\n",
    "def remove_weakly_dominated_strategy_player_1(game, strategy_indices):        \n",
    "    for i in range(len(game) - 1):\n",
    "        strategy1 = game[i]\n",
    "        for j in range(len(game) - 1):\n",
    "            j += 1\n",
    "            strategy2 = game[j]            \n",
    "            one_dominates_two, one_greater_flag, two_dominates_one, two_greater_flag, equal_flag = initialize_flags()\n",
    "            for k in range(len(strategy1)):\n",
    "                value1 = strategy1[k][0]\n",
    "                value2 = strategy2[k][0]\n",
    "                one_dominates_two &= value1 >= value2 \n",
    "                two_dominates_one &= value2 >= value1\n",
    "                \n",
    "                one_greater_flag, two_greater_flag, equal_flag = update_flags(value1, value2, one_greater_flag, two_greater_flag, equal_flag)\n",
    "                \n",
    "            if one_dominates_two and one_greater_flag and equal_flag:\n",
    "                game.pop(j)\n",
    "                strategy_indices.pop(j)\n",
    "                return True\n",
    "            \n",
    "            if two_dominates_one and two_greater_flag and equal_flag:\n",
    "                game.pop(i)\n",
    "                strategy_indices.pop(i)\n",
    "                return True\n",
    "    \n",
    "    return False"
   ]
  },
  {
   "cell_type": "markdown",
   "metadata": {},
   "source": [
    "**Remove weakly dominated strategy for player 2**\n",
    "\n",
    "This algorithm finds a weakly dominated strategy for player 2 by comparing strategies one at a time until it finds one that dominates the other.  Once a dominated strategy is found, the corresponding cell is removed from the game and strategy_indices, and 'True' is returned.  If no dominated strategy is found, the function returns 'False' and does not remove any cells. This function is different than the above, because it flips the game before executing the algorithm using function flip_game. "
   ]
  },
  {
   "cell_type": "code",
   "execution_count": 12,
   "metadata": {
    "collapsed": true
   },
   "outputs": [],
   "source": [
    "def remove_weakly_dominated_strategy_player_2(game, strategy_indices):    \n",
    "    flipped_game = flip_game(game)\n",
    "    for i in range(len(flipped_game) - 1):\n",
    "        strategy1 = flipped_game[i]\n",
    "        \n",
    "        for j in range(len(flipped_game) - 1):\n",
    "            j += 1\n",
    "            strategy2 = flipped_game[j]            \n",
    "            one_dominates_two, one_greater_flag, two_dominates_one, two_greater_flag, equal_flag = initialize_flags()\n",
    "            for k in range(len(strategy1)):\n",
    "                value1 = strategy1[k][1]\n",
    "                value2 = strategy2[k][1]\n",
    "                one_dominates_two &= value1 >= value2 \n",
    "                two_dominates_one &= value2 >= value1\n",
    "                \n",
    "                one_greater_flag, two_greater_flag, equal_flag = update_flags(value1, value2, one_greater_flag, two_greater_flag, equal_flag)\n",
    "                \n",
    "            if one_dominates_two and one_greater_flag and equal_flag:\n",
    "                game.pop(j)\n",
    "                strategy_indices.pop(j)\n",
    "                return True\n",
    "            \n",
    "            if two_dominates_one and two_greater_flag and equal_flag:\n",
    "                game.pop(i)\n",
    "                strategy_indices.pop(i)\n",
    "                return True\n",
    "    \n",
    "    return False"
   ]
  },
  {
   "cell_type": "markdown",
   "metadata": {},
   "source": [
    "**Determine whether to continue elimination**\n",
    "\n",
    "The function determine_continue_elimination is given boolean values that tell whether a weak or strong strategy can be removed for player 1 or 2.  This function is used to stop the solve game algorithm.  If no strategies can be eliminated by either player, then the algorithm should be stopped.  \n",
    "\n"
   ]
  },
  {
   "cell_type": "code",
   "execution_count": 13,
   "metadata": {
    "collapsed": true
   },
   "outputs": [],
   "source": [
    "def determine_continue_elimination(player_1_strong_removed, player_1_weak_removed, player_2_strong_removed, player_2_weak_removed):\n",
    "    continue_elimination = False\n",
    "    continue_elimination |= player_1_strong_removed \n",
    "    continue_elimination |= player_1_weak_removed \n",
    "    continue_elimination |= player_2_strong_removed \n",
    "    continue_elimination |= player_2_weak_removed\n",
    "        \n",
    "    return continue_elimination"
   ]
  },
  {
   "cell_type": "markdown",
   "metadata": {},
   "source": [
    "\n",
    "---"
   ]
  },
  {
   "cell_type": "markdown",
   "metadata": {},
   "source": [
    "### Solve Game\n",
    "The solve_game function uses the above described helper functions to execute the SEDS algorithm:\n",
    "\n",
    "Starting with either player it completes the following steps\n",
    "1. Identify a dominated strategy and remove it from the game\n",
    "2. Switch to the other player and remove a dominated strategy from the game\n",
    "3. Continue until no player can eliminate a dominated strategy or a solution is found\n",
    "\n",
    "If there is no strategy to eliminate, and the game is not down to a single cell, SEDS cannot find the Nash Equilibrium\n",
    "\n",
    "The first function parameter is the game, in format as described above.  There is a second parameter, defaulted to False, which, if True causes the algorithm to consider weakly dominated strategies in addition to strongly dominated strategies.  If False, only strongly dominated strategies are considered"
   ]
  },
  {
   "cell_type": "code",
   "execution_count": 14,
   "metadata": {
    "collapsed": false
   },
   "outputs": [],
   "source": [
    "def solve_game(game, weak=False):\n",
    "    strategy_indices = get_strategy_indices(game)\n",
    "    continue_elimination = True\n",
    "    player_1_weak_removed = False\n",
    "    player_2_weak_removed = False\n",
    "    \n",
    "    while not check_for_one_cell(game) and continue_elimination:        \n",
    "        player_1_strong_removed = remove_strongly_dominated_strategy_player_1(game, strategy_indices)\n",
    "        if not player_1_strong_removed and weak:\n",
    "            player_1_weak_removed = remove_weakly_dominated_strategy_player_1(game, strategy_indices)\n",
    "        \n",
    "        player_2_strong_removed = remove_strongly_dominated_strategy_player_2(game, strategy_indices)\n",
    "        if not player_2_strong_removed and weak:\n",
    "            player_2_weak_removed = remove_weakly_dominated_strategy_player_2(game, strategy_indices)\n",
    "            \n",
    "        continue_elimination = determine_continue_elimination(player_1_strong_removed, player_1_weak_removed, player_2_strong_removed, player_2_weak_removed)\n",
    "    \n",
    "    if not check_for_one_cell(game):\n",
    "        return None\n",
    "        \n",
    "    return strategy_indices[0][0]"
   ]
  },
  {
   "cell_type": "markdown",
   "metadata": {},
   "source": [
    "-----\n",
    "\n",
    "\n",
    "In order to test the solve_game function, the following describes three (3) test cases, each of which is a 3x3 two player game. "
   ]
  },
  {
   "cell_type": "markdown",
   "metadata": {},
   "source": [
    "### Test Game 1. a 3x3 two player game\n",
    "\n",
    "**that can only be solved using the Successive Elimintation of Strongly Dominated Strategies**\n",
    "\n",
    "Player 1 / Player 2  | 0 | 1 | 2\n",
    "---- | ---- | ----\n",
    "0  | 50 / 50 | 57 / 55 | 57 / 60\n",
    "1  | 55 / 57 | 63 / 63 | 70 / 60\n",
    "2  | 60 / 57 | 60 / 70 | 69 / 69\n",
    "\n",
    "**Solution:** (1, 1)"
   ]
  },
  {
   "cell_type": "code",
   "execution_count": 15,
   "metadata": {
    "collapsed": false
   },
   "outputs": [],
   "source": [
    "test_game_1 = [ \n",
    " [ (50, 50), (57, 55), (57, 60) ],\n",
    " [ (55, 57), (63, 63), (70, 60) ],\n",
    " [ (60, 57), (60, 70), (69, 69) ] ]\n",
    "\n",
    "solution = solve_game( test_game_1)"
   ]
  },
  {
   "cell_type": "code",
   "execution_count": 16,
   "metadata": {
    "collapsed": false
   },
   "outputs": [],
   "source": [
    "assert solution == (1, 1)"
   ]
  },
  {
   "cell_type": "markdown",
   "metadata": {},
   "source": [
    "### Test Game 2. a 3x3 two player game\n",
    "\n",
    "**that can only be solved using the Successive Elimintation of Weakly Dominated Strategies**\n",
    "\n",
    "Player 1 / Player 2  | 0 | 1 | 2\n",
    "---- | ---- | ----\n",
    "0  | 50 / 50 | 50 / 50 | 50 / 60\n",
    "1  | 55 / 57 | 63 / 63 | 70 / 60\n",
    "2  | 50 / 57 | 60 / 70 | 69 / 69\n",
    "\n",
    "**Solution:** (1, 1)"
   ]
  },
  {
   "cell_type": "code",
   "execution_count": 17,
   "metadata": {
    "collapsed": false
   },
   "outputs": [],
   "source": [
    "test_game_2 = [ \n",
    " [ (50, 50), (50, 50), (50, 50) ],\n",
    " [ (50, 57), (63, 63), (70, 60) ],\n",
    " [ (50, 57), (60, 70), (69, 69) ] ]\n",
    "\n",
    "strong_solution = solve_game( test_game_2)\n",
    "weak_solution = solve_game( test_game_2, weak=True)"
   ]
  },
  {
   "cell_type": "code",
   "execution_count": 18,
   "metadata": {
    "collapsed": false
   },
   "outputs": [],
   "source": [
    "assert strong_solution == None\n",
    "assert weak_solution == (1, 1)"
   ]
  },
  {
   "cell_type": "markdown",
   "metadata": {},
   "source": [
    "### Test Game 3. a 3x3 two player game\n",
    "\n",
    "**that cannot be solved using the Successive Elimintation of Dominated Strategies at all**\n",
    "\n",
    "Player 1 / Player 2  | 0 | 1 | 2\n",
    "---- | ---- | ----\n",
    "0  | 50 / 50 | 50 / 45 | 49 / 45\n",
    "1  | 55 / 57 | 49 / 49 | 70 / 60\n",
    "2  | 60 / 57 | 49 / 70 | 69 / 69\n",
    "\n",
    "**Solution:** None"
   ]
  },
  {
   "cell_type": "code",
   "execution_count": 19,
   "metadata": {
    "collapsed": false
   },
   "outputs": [],
   "source": [
    "test_game_3 = [ \n",
    " [ (50, 50), (50, 45), (49, 45) ],\n",
    " [ (50, 57), (35, 49), (70, 60) ],\n",
    " [ (60, 57), (49, 70), (69, 69) ] ]\n",
    "\n",
    "strong_solution = solve_game( test_game_3)\n",
    "weak_solution = solve_game( test_game_3, weak=True)"
   ]
  },
  {
   "cell_type": "code",
   "execution_count": 20,
   "metadata": {
    "collapsed": true
   },
   "outputs": [],
   "source": [
    "assert strong_solution == None\n",
    "assert weak_solution == None"
   ]
  }
 ],
 "metadata": {
  "kernelspec": {
   "display_name": "Python 2",
   "language": "python",
   "name": "python2"
  },
  "language_info": {
   "codemirror_mode": {
    "name": "ipython",
    "version": 2
   },
   "file_extension": ".py",
   "mimetype": "text/x-python",
   "name": "python",
   "nbconvert_exporter": "python",
   "pygments_lexer": "ipython2",
   "version": "2.7.13"
  }
 },
 "nbformat": 4,
 "nbformat_minor": 0
}
