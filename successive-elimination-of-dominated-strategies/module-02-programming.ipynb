{
 "cells": [
  {
   "cell_type": "markdown",
   "metadata": {},
   "source": [
    "# Module 2 - Programming Assignment"
   ]
  },
  {
   "cell_type": "markdown",
   "metadata": {},
   "source": [
    "## Solving Normal Form Games\n",
    "\n",
    "Add whatever additional imports you require here. Stick with the standard libraries and those required by the class. The import gives you access to these functions: http://ipython.org/ipythondoc/stable/api/generated/IPython.core.display.html (Copy this link) Which, among other things, will permit you to display HTML as the result of evaluated code (see HTML() or display_html())."
   ]
  },
  {
   "cell_type": "code",
   "execution_count": 1,
   "metadata": {
    "collapsed": true
   },
   "outputs": [],
   "source": [
    "from IPython.core.display import *"
   ]
  },
  {
   "cell_type": "markdown",
   "metadata": {},
   "source": [
    "In the lecture we talked about the Prisoner's Dilemma game, shown here in Normal Form:\n",
    "\n",
    "Player 1 / Player 2  | Defect | Cooperate\n",
    "------------- | ------------- | -------------\n",
    "Defect  | -5, -5 | -1, -10\n",
    "Cooperate  | -10, -1 | -2, -2\n",
    "\n",
    "where the payoff to Player 1 is the left number and the payoff to Player 2 is the right number. We can represent each payoff cell as a Tuple: `(-5, -5)`, for example. We can represent each row as a List of Tuples: `[(-5, -5), (-1, -10)]` would be the first row and the entire table as a List of Lists:"
   ]
  },
  {
   "cell_type": "code",
   "execution_count": 2,
   "metadata": {
    "collapsed": false
   },
   "outputs": [
    {
     "data": {
      "text/plain": [
       "[[(-5, -5), (-1, -10)], [(-10, -1), (-2, -2)]]"
      ]
     },
     "execution_count": 2,
     "metadata": {},
     "output_type": "execute_result"
    }
   ],
   "source": [
    "prisoners_dilemma = [\n",
    " [( -5, -5), (-1,-10)],\n",
    " [(-10, -1), (-2, -2)]]\n",
    "\n",
    "prisoners_dilemma"
   ]
  },
  {
   "cell_type": "markdown",
   "metadata": {},
   "source": [
    "in which case the strategies are represented by indices into the List of Lists. For example, `(Defect, Cooperate)` for the above game becomes `prisoners_dilemma[ 0][ 1]` and returns the payoff `(-1, -10)` because 0 is the first row of the table (\"Defect\" for Player 1) and 1 is the 2nd column of the row (\"Cooperate\" for Player 2).\n",
    "\n",
    "For this assignment, you are going write a function that uses Successive Elimination of Dominated Strategies (SEDS) to find the **pure strategy** Nash Equilibrium of a Normal Form Game. The function is called `solve_game`:\n",
    "\n",
    "```python\n",
    "def solve_game( game, weak=False):\n",
    "    pass # returns strategy indices of Nash equilibrium or None.\n",
    "```\n",
    "\n",
    "and it takes two parameters: the game, in a format that we described earlier and an optional boolean flag that controls whether the algorithm considers only **strongly dominated strategies** (the default will be false) or whether it should consider **weakly dominated strategies** as well.\n",
    "\n",
    "It should work with game matrices of any size and it will return the **strategy indices** of the Nash Equilibrium. If there is no **pure strategy** equilibrium that can be found using SEDS, return `None`.\n",
    "\n",
    "\n",
    "<div style=\"background: mistyrose; color: firebrick; border: 2px solid darkred; padding: 5px; margin: 10px;\">\n",
    "Do not return the payoff. That's not useful. Return the strategy indices. Failure to do so will result in a failing grade.\n",
    "</div>\n",
    "\n",
    "As before, you must provide your implementation in the space below, one Markdown cell for documentation and one Code cell for implementation, one function and assertations per Codecell.\n",
    "\n",
    "\n",
    "---"
   ]
  },
  {
   "cell_type": "markdown",
   "metadata": {},
   "source": [
    "**Find strongly dominated strategy**\n",
    "\n",
    "This algorithm finds a strongly dominated strategy by comparing strategies one at a time until it finds one that dominates the other.  Once a dominated strategy is found, the game is returned with that dominated strategy removed.  If no dominated strategy is found, the game is returned without any removals.  "
   ]
  },
  {
   "cell_type": "code",
   "execution_count": 3,
   "metadata": {
    "collapsed": false
   },
   "outputs": [
    {
     "name": "stdout",
     "output_type": "stream",
     "text": [
      "game:  [[(-5, -5), (-1, -10)], [(-10, -1), (-2, -2)]]\n",
      "length:  2 \n",
      "\n",
      "\n",
      "strategy1 [(-5, -5), (-1, -10)]\n",
      "\tstrategy2 [(-10, -1), (-2, -2)]\n",
      "one_dominates_two\n",
      "\n",
      "new game:  [[(-5, -5), (-1, -10)]]\n"
     ]
    }
   ],
   "source": [
    "def remove_strongly_dominated_strategy(game, player):\n",
    "    print 'game: ', game\n",
    "    print 'length: ', len(game), '\\n\\n'\n",
    "    if player == 0:\n",
    "        \n",
    "        for i in range(len(game) - 1):\n",
    "            strategy1 = game[i]\n",
    "            print 'strategy1', strategy1\n",
    "            \n",
    "            for j in range(len(game) - 1):\n",
    "                j += 1\n",
    "                strategy2 = game[j]\n",
    "\n",
    "                print '\\tstrategy2', strategy2\n",
    "                \n",
    "                one_dominates_two = True \n",
    "                two_dominates_one = True\n",
    "                for k in range(len(strategy1) - 1):\n",
    "                    value1 = strategy1[k][0]\n",
    "                    value2 = strategy2[k][0]\n",
    "                    one_dominates_two &= value1 > value2 \n",
    "                    two_dominates_one &= value2 > value1\n",
    "                    \n",
    "                if one_dominates_two:\n",
    "                    print 'one_dominates_two'\n",
    "                    game.pop(j)\n",
    "                    return game\n",
    "                \n",
    "                if two_dominates_one:\n",
    "                    print 'two_dominates_one'\n",
    "                    game.pop(i)\n",
    "                    return game\n",
    "    \n",
    "    print 'no dominated strategy'\n",
    "    return game\n",
    "\n",
    "new_game = remove_strongly_dominated_strategy (prisoners_dilemma, 0)\n",
    "print '\\nnew game: ', new_game            \n",
    "        \n",
    "    "
   ]
  },
  {
   "cell_type": "markdown",
   "metadata": {},
   "source": [
    "-----\n",
    "**Switch player**\n",
    "\n",
    "D"
   ]
  },
  {
   "cell_type": "code",
   "execution_count": 4,
   "metadata": {
    "collapsed": false
   },
   "outputs": [
    {
     "ename": "SyntaxError",
     "evalue": "invalid syntax (<ipython-input-4-c814a0ce359f>, line 4)",
     "output_type": "error",
     "traceback": [
      "\u001b[0;36m  File \u001b[0;32m\"<ipython-input-4-c814a0ce359f>\"\u001b[0;36m, line \u001b[0;32m4\u001b[0m\n\u001b[0;31m    else\u001b[0m\n\u001b[0m        ^\u001b[0m\n\u001b[0;31mSyntaxError\u001b[0m\u001b[0;31m:\u001b[0m invalid syntax\n"
     ]
    }
   ],
   "source": [
    "def switch_player(player):\n",
    "    if player == 0:\n",
    "        return 1\n",
    "    else\n",
    "        return 0"
   ]
  },
  {
   "cell_type": "markdown",
   "metadata": {},
   "source": [
    "\n",
    "---"
   ]
  },
  {
   "cell_type": "markdown",
   "metadata": {},
   "source": [
    "In order to test your function you must describe three (3) test cases, each of which is a 3x3 two player game. You must indicate the solution."
   ]
  },
  {
   "cell_type": "code",
   "execution_count": null,
   "metadata": {
    "collapsed": false
   },
   "outputs": [],
   "source": [
    "def solve_game(game, weak=False):\n",
    "    player = 0\n",
    "    if not weak:\n",
    "        while len(game) > 1:\n",
    "            remove_strongly_dominated_strategy (prisoners_dilemma, player)\n",
    "            player = switch_player(player)\n",
    "    \n",
    "    print game\n",
    "    \n",
    "solve_game(prisoners_dilemma)"
   ]
  },
  {
   "cell_type": "markdown",
   "metadata": {},
   "source": [
    "### Test Game 1. Create a 3x3 two player game\n",
    "\n",
    "**that can only be solved using the Successive Elimintation of Strongly Dominated Strategies**\n",
    "\n",
    "Player 1 / Player 2  | 0 | 1 | 2\n",
    "---- | ---- | ----\n",
    "0  | ? | ? | ?\n",
    "1  | ? | ? | ?\n",
    "2  | ? | ? | ?\n",
    "\n",
    "**Solution:** ?"
   ]
  },
  {
   "cell_type": "code",
   "execution_count": null,
   "metadata": {
    "collapsed": false
   },
   "outputs": [],
   "source": [
    "# A game that can be solved by Successive Elimination of STRONGLY Dominated Strategies of at least 3x3\n",
    "test_game_1 = []\n",
    "\n",
    "solution = solve_game( test_game_1)\n",
    "print solution"
   ]
  },
  {
   "cell_type": "code",
   "execution_count": null,
   "metadata": {
    "collapsed": false
   },
   "outputs": [],
   "source": [
    "assert solution == (,) # insert your solution from above."
   ]
  },
  {
   "cell_type": "markdown",
   "metadata": {},
   "source": [
    "### Test Game 2. Create a 3x3 two player game\n",
    "\n",
    "**that can only be solved using the Successive Elimintation of Weakly Dominated Strategies**\n",
    "\n",
    "Player 1 / Player 2  | 0 | 1 | 2\n",
    "---- | ---- | ----\n",
    "0  | ? | ? | ?\n",
    "1  | ? | ? | ?\n",
    "2  | ? | ? | ?\n",
    "\n",
    "**Solution:** ?"
   ]
  },
  {
   "cell_type": "code",
   "execution_count": null,
   "metadata": {
    "collapsed": true
   },
   "outputs": [],
   "source": [
    "test_game_2 = []\n",
    "\n",
    "strong_solution = solve_game( test_game_2)\n",
    "weak_solution = solve_game( test_game_2, weak=True)"
   ]
  },
  {
   "cell_type": "code",
   "execution_count": null,
   "metadata": {
    "collapsed": true
   },
   "outputs": [],
   "source": [
    "assert strong_solution == None\n",
    "assert weak_solution == (,) # insert your solution from above."
   ]
  },
  {
   "cell_type": "markdown",
   "metadata": {},
   "source": [
    "### Test Game 3. Create a 3x3 two player game\n",
    "\n",
    "**that cannot be solved using the Successive Elimintation of Dominated Strategies at all**\n",
    "\n",
    "Player 1 / Player 2  | 0 | 1 | 2\n",
    "---- | ---- | ----\n",
    "0  | ? | ? | ?\n",
    "1  | ? | ? | ?\n",
    "2  | ? | ? | ?\n",
    "\n",
    "**Solution:** None"
   ]
  },
  {
   "cell_type": "code",
   "execution_count": null,
   "metadata": {
    "collapsed": true
   },
   "outputs": [],
   "source": [
    "test_game_3 = []\n",
    "\n",
    "strong_solution = solve_game( test_game_3)\n",
    "weak_solution = solve_game( test_game_3, weak=True)"
   ]
  },
  {
   "cell_type": "code",
   "execution_count": null,
   "metadata": {
    "collapsed": true
   },
   "outputs": [],
   "source": [
    "assert strong_solution == None\n",
    "assert weak_solution == None"
   ]
  }
 ],
 "metadata": {
  "kernelspec": {
   "display_name": "Python 2",
   "language": "python",
   "name": "python2"
  },
  "language_info": {
   "codemirror_mode": {
    "name": "ipython",
    "version": 2
   },
   "file_extension": ".py",
   "mimetype": "text/x-python",
   "name": "python",
   "nbconvert_exporter": "python",
   "pygments_lexer": "ipython2",
   "version": "2.7.13"
  }
 },
 "nbformat": 4,
 "nbformat_minor": 0
}
