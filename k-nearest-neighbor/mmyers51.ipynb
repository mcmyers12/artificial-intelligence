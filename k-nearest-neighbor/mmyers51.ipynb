{
 "cells": [
  {
   "cell_type": "markdown",
   "metadata": {},
   "source": [
    "# Module 13 - Programming Assignment"
   ]
  },
  {
   "cell_type": "markdown",
   "metadata": {},
   "source": [
    "## k Nearest Neighbors and Model Evaluation\n",
    "\n",
    "You must complete the 4 following tasks:\n",
    "\n",
    "1. Implement k-Nearest Neighbor *regression* as described in the Module.\n",
    "2. Use validation curves as described in Module 9 to determine the best value of k trying values of 1 to 10. (You don't need to use odd values for regression). For this you can simply split the data randomly into a training and a test set with a 67/33 split.\n",
    "3. Use learning curves as described in Module 9 to determine if your model could use more data.\n",
    "    For this you can simply split the data randomly into a training and a test set with a 67/33 split. Use the best k from part 2.\n",
    "4. Use 10-fold cross-validation to establish confidence bounds on your model's performance. Calculate the mean (average) MSE (which sounds funny, I know) and the standard deviation. \n",
    "\n",
    "Additionally, because you can't be *wrong* with the k = 1 in the training data, your curves will look a little funky initially.\n",
    "\n",
    "As before make sure you actually plot curves and that everything is labeled. Each chart from part #2 and #3 has *two* curves. Please review the comments to Module 9 if you're not sure why.\n",
    "\n",
    "Use the data in concrete_compressive_strength.csv for this assignment obtainable at [UCI ML Repository - Concrete Compressive Strength](https://archive.ics.uci.edu/ml/datasets/Concrete+Compressive+Strength).\n",
    "\n",
    "Because the data is always the model, for knn, you simply need a function `knn` that will take the data, a value for k, and a List of instances and return a List of predictions (in this case, we're doing regression...you don't have to write a version of `knn` that would do either).\n",
    "\n",
    "As before there's a lot of infrastructure involved and the specific names I leave up to you as long as you clearly indicate your answers to 1-4 above.\n",
    "\n",
    "-----"
   ]
  },
  {
   "cell_type": "code",
   "execution_count": 1,
   "metadata": {
    "collapsed": true
   },
   "outputs": [],
   "source": [
    "import csv\n",
    "import math\n",
    "import random\n",
    "import matplotlib.pyplot as plt"
   ]
  },
  {
   "cell_type": "markdown",
   "metadata": {},
   "source": [
    "&nbsp;\n",
    "\n",
    "## Helper Functions"
   ]
  },
  {
   "cell_type": "markdown",
   "metadata": {},
   "source": [
    "&nbsp;\n",
    "\n",
    "**Read CSV**\n",
    "\n",
    "This function takes a file in CSV format and reads it into a list of lists.  Specifically, each inner list is a list that represents one row in the CSV file, also known as as an instance.  Each instance is read in as a list of floats.  The data is used in this format throughout the implementation of k nearest neighbor.  For the rest of the program, this structure will be referred to as the data."
   ]
  },
  {
   "cell_type": "code",
   "execution_count": 2,
   "metadata": {
    "collapsed": false
   },
   "outputs": [],
   "source": [
    "def read_csv(file_name):\n",
    "    with open(file_name, 'rb') as f:\n",
    "        reader = csv.reader(f)\n",
    "        next(reader, None)\n",
    "        table = [[float(x) for x in record] for record in reader]\n",
    "    \n",
    "    return table[1:len(table)]"
   ]
  },
  {
   "cell_type": "markdown",
   "metadata": {},
   "source": [
    "&nbsp;\n",
    "\n",
    "**Euclidean Distance**\n",
    "\n",
    "Given a row from the data and an instance, this function calulates the Euclidean distance between the two data points, ignoring the square root portion of Euclidean distance.  The square root is not used, because this distance is solely being used to compare with other distances, and the extra square root operation will not change the ordering of the comparisons."
   ]
  },
  {
   "cell_type": "code",
   "execution_count": 3,
   "metadata": {
    "collapsed": false
   },
   "outputs": [],
   "source": [
    "#Euclidean distance without sqrt\n",
    "def euclidean_distance(row, instance):\n",
    "    distance = 0.0\n",
    "    for i in range(len(row) - 2):       #skip the y\n",
    "        distance += (row[i] - instance[i]) ** 2.0\n",
    "        \n",
    "    return distance"
   ]
  },
  {
   "cell_type": "markdown",
   "metadata": {},
   "source": [
    "&nbsp;\n",
    "\n",
    "**Priority Queue Insert**\n",
    "\n",
    "A priority queue is used to keep track of the distances between a given instance and each of the data points in the data.  The queue is a list of tuples of format (distance, y-value of data point).  The priority queue is ordered by increasing distance.  The first k items in the priority queue represent the k nearest neighbors to the given instance.  This function inserts a tuple into the priority queue in its correct location based on its distance value. "
   ]
  },
  {
   "cell_type": "code",
   "execution_count": 4,
   "metadata": {
    "collapsed": false
   },
   "outputs": [],
   "source": [
    "def priority_queue_insert(priority_queue, value):\n",
    "    added = False\n",
    "    for i in range(len(priority_queue)):\n",
    "        entry = priority_queue[i]\n",
    "        if value[0] < entry[0]:\n",
    "            priority_queue.insert(i, value)\n",
    "            added = True\n",
    "            break\n",
    "        if value[0] == entry[0]:\n",
    "            priority_queue.insert(i + 1, value)\n",
    "            added = True\n",
    "            break\n",
    "                \n",
    "    if not added:\n",
    "        priority_queue.append(value)"
   ]
  },
  {
   "cell_type": "markdown",
   "metadata": {},
   "source": [
    "&nbsp;\n",
    "\n",
    "**Average Ys**\n",
    "\n",
    "Given the k nearest neighbors, in the format described above, this function takes the average of all of the y values of the k nearest neighbors.  This is necessary to predict a value for a given instance."
   ]
  },
  {
   "cell_type": "code",
   "execution_count": 5,
   "metadata": {
    "collapsed": false
   },
   "outputs": [],
   "source": [
    "def average_ys(k_nearest_neighbors):\n",
    "    sum = 0.0\n",
    "    for neighbor in k_nearest_neighbors:\n",
    "        sum += neighbor[-1]\n",
    "    \n",
    "    return sum / len(k_nearest_neighbors)"
   ]
  },
  {
   "cell_type": "markdown",
   "metadata": {},
   "source": [
    "&nbsp;\n",
    "\n",
    "**Predict Instance**\n",
    "\n",
    "Given the data, a k value, and an instance, this function predicts a value for that instance.  It initializes a list to represent the distance priority queue, iterates through each data point and calculates the euclidean distance from the data point to the instance, and inserts the (distance, y-value) tuple into the distance priority queue.  After iterating through all the data points, it makes a prediction by averaging the y values of the first k entries in the distance priority queue (the k nearest neighbors).  It returns the prediction."
   ]
  },
  {
   "cell_type": "code",
   "execution_count": 6,
   "metadata": {
    "collapsed": false
   },
   "outputs": [],
   "source": [
    "def predict_instance(data, k, instance):\n",
    "    distance_priority_queue = []\n",
    "    for row in data:\n",
    "        distance = euclidean_distance(row, instance)\n",
    "        insert_value = (distance, row[-1])\n",
    "        priority_queue_insert(distance_priority_queue, insert_value)\n",
    "         \n",
    "    prediction = average_ys(distance_priority_queue[:k])\n",
    "    return prediction"
   ]
  },
  {
   "cell_type": "markdown",
   "metadata": {},
   "source": [
    "&nbsp;\n",
    "\n",
    "**Create Train and Test Sets**\n",
    "\n",
    "Given the data, this function creates a test set and a training set.  It randomizes the data, then splits the data with a 67/33 split where 67% is the training set and 33% is the test set.  Both sets are returned. This function is used to generate both learning and validation curves."
   ]
  },
  {
   "cell_type": "code",
   "execution_count": 8,
   "metadata": {
    "collapsed": false
   },
   "outputs": [],
   "source": [
    "def create_train_test_sets(data):\n",
    "    random.shuffle(data)\n",
    "    split_point = len(data) / 3\n",
    "    test_set = data[:split_point]\n",
    "    train_set = data[split_point:]\n",
    "    \n",
    "    return train_set, test_set"
   ]
  },
  {
   "cell_type": "markdown",
   "metadata": {},
   "source": [
    "&nbsp;\n",
    "\n",
    "**x**\n",
    "\n",
    "x"
   ]
  },
  {
   "cell_type": "code",
   "execution_count": 9,
   "metadata": {
    "collapsed": false
   },
   "outputs": [],
   "source": [
    "def plot_validation_curve(k_values, test_error_values, train_error_values):\n",
    "    plt.plot(k_values, test_error_values, label='test data')\n",
    "    plt.plot(k_values, train_error_values, label='train data') \n",
    "    plt.legend(loc='upper right')\n",
    "    plt.ylabel('Mean Squared Error')\n",
    "    plt.xlabel('K Nearest Neighbors')\n",
    "    plt.show()"
   ]
  },
  {
   "cell_type": "markdown",
   "metadata": {},
   "source": [
    "&nbsp;\n",
    "\n",
    "**x**\n",
    "\n",
    "x"
   ]
  },
  {
   "cell_type": "code",
   "execution_count": 11,
   "metadata": {
    "collapsed": false
   },
   "outputs": [],
   "source": [
    "'''\n",
    "3. Use learning curves as described in Module 9 to determine if your model could use more \n",
    "    data. For this you can simply split the data randomly into a training and a test set \n",
    "    with a 67/33 split. Use the best k from part 2.\n",
    "'''\n",
    "\n",
    "def plot_learning_curves(training_set_sizes, test_error_values, train_error_values):\n",
    "    plt.plot(training_set_sizes, test_error_values, label='test data')\n",
    "    plt.plot(training_set_sizes, train_error_values, label='train data') \n",
    "    plt.legend(loc='upper right')\n",
    "    plt.ylabel('Mean Squared Error')\n",
    "    plt.xlabel('Training Set Size (fraction of whole training set)')\n",
    "    plt.show()"
   ]
  },
  {
   "cell_type": "markdown",
   "metadata": {},
   "source": [
    "&nbsp;\n",
    "\n",
    "**x**\n",
    "\n",
    "x"
   ]
  },
  {
   "cell_type": "code",
   "execution_count": 13,
   "metadata": {
    "collapsed": false
   },
   "outputs": [],
   "source": [
    "'''\n",
    "4. Use 10-fold cross-validation to establish confidence bounds on your model's \n",
    "    performance. Calculate the mean (average) MSE (which sounds funny, I know) and the \n",
    "    standard deviation.\n",
    "'''\n",
    "def create_folds(data, num_folds):\n",
    "    folds = []\n",
    "    random.shuffle(data)\n",
    "    \n",
    "    fold_index = 0\n",
    "    for i in range(0, len(data) - 1, num_folds):\n",
    "        if fold_index < num_folds:\n",
    "            folds.append(data[i:i + num_folds])\n",
    "            fold_index += 1\n",
    "        \n",
    "    return folds"
   ]
  },
  {
   "cell_type": "markdown",
   "metadata": {},
   "source": [
    "&nbsp;\n",
    "\n",
    "**x**\n",
    "\n",
    "x"
   ]
  },
  {
   "cell_type": "code",
   "execution_count": 14,
   "metadata": {
    "collapsed": false
   },
   "outputs": [],
   "source": [
    "def calculate_mean_squared_error(actuals, predictions):\n",
    "    mse = 0.0\n",
    "    num_observations = len(actuals)\n",
    "    for i in range(num_observations):\n",
    "        actual = actuals[i]\n",
    "        prediction = predictions[i]\n",
    "        mse += (actual - prediction) ** 2.0\n",
    "    \n",
    "    mse = mse / num_observations\n",
    "    return mse"
   ]
  },
  {
   "cell_type": "markdown",
   "metadata": {},
   "source": [
    "&nbsp;\n",
    "\n",
    "**x**\n",
    "\n",
    "x"
   ]
  },
  {
   "cell_type": "code",
   "execution_count": 15,
   "metadata": {
    "collapsed": false
   },
   "outputs": [],
   "source": [
    "def calculate_standard_deviation(mean, values):\n",
    "    standard_deviation = 0.0\n",
    "    for value in values:\n",
    "        standard_deviation += (value - mean) ** 2\n",
    "    \n",
    "    standard_deviation /= len(values)\n",
    "    standard_deviation = math.sqrt(standard_deviation)\n",
    "    return standard_deviation"
   ]
  },
  {
   "cell_type": "markdown",
   "metadata": {},
   "source": [
    "&nbsp;\n",
    "\n",
    "## K Nearest Neighbor Regression\n",
    "\n",
    "x"
   ]
  },
  {
   "cell_type": "code",
   "execution_count": 7,
   "metadata": {
    "collapsed": false
   },
   "outputs": [],
   "source": [
    "#return a list of predictions (regression)\n",
    "def k_nearest_neighbors(data, k, instances):\n",
    "    predictions = []\n",
    "    for instance in instances:\n",
    "        predictions.append(predict_instance(data, k, instance))\n",
    "        \n",
    "    return predictions"
   ]
  },
  {
   "cell_type": "markdown",
   "metadata": {},
   "source": [
    "&nbsp;\n",
    "\n",
    "## Generate Validation Curves\n",
    "\n",
    "x"
   ]
  },
  {
   "cell_type": "code",
   "execution_count": 10,
   "metadata": {
    "collapsed": false
   },
   "outputs": [],
   "source": [
    "def generate_validation_curves(data):\n",
    "    train_set, test_set = create_train_test_sets(data)\n",
    "    train_error_values = []\n",
    "    test_error_values = []\n",
    "    k_values = [k for k in range(1, 11)]\n",
    "    best_k = k_values[0]\n",
    "    lowest_error = float('inf')\n",
    "    \n",
    "    for k in k_values:\n",
    "        test_predictions = k_nearest_neighbors(train_set, k, test_set)             \n",
    "        train_predictions = k_nearest_neighbors(train_set, k, train_set)  \n",
    "        \n",
    "        test_actuals = [x[-1] for x in test_set]\n",
    "        train_actuals = [x[-1] for x in train_set]\n",
    "        \n",
    "        test_mse = calculate_mean_squared_error(test_actuals, test_predictions)\n",
    "        train_mse = calculate_mean_squared_error(train_actuals, train_predictions)\n",
    "        \n",
    "        average_error = (test_mse + train_mse) / 2.0\n",
    "        if average_error < lowest_error:\n",
    "            lowest_error = average_error\n",
    "            best_k = k\n",
    "\n",
    "        test_error_values.append(test_mse)\n",
    "        train_error_values.append(train_mse)\n",
    "    \n",
    "    plot_validation_curve(k_values, test_error_values, train_error_values)\n",
    "    return best_k"
   ]
  },
  {
   "cell_type": "markdown",
   "metadata": {},
   "source": [
    "&nbsp;\n",
    "\n",
    "## Generate Learning Curves\n",
    "\n",
    "x"
   ]
  },
  {
   "cell_type": "code",
   "execution_count": 12,
   "metadata": {
    "collapsed": false
   },
   "outputs": [],
   "source": [
    "def generate_learning_curves(data, k):\n",
    "    training_set_sizes = [.05, .1, .15, .2, .25, .3, .35, .4, .45, .5, .55, .6, .65, .7, .75, .8, .85, .9, .95, 1]\n",
    "    train_set, test_set = create_train_test_sets(data)\n",
    "    train_error_values = []\n",
    "    test_error_values = []\n",
    "    \n",
    "    \n",
    "    for percentage in training_set_sizes:\n",
    "        train_set_size = int(percentage * len(train_set))\n",
    "        train_set_partition = train_set[:train_set_size]\n",
    "                \n",
    "        test_predictions = k_nearest_neighbors(train_set_partition, k, test_set)             \n",
    "        train_predictions = k_nearest_neighbors(train_set_partition, k, train_set_partition)  \n",
    "        \n",
    "        test_actuals = [x[-1] for x in test_set]\n",
    "        train_actuals = [x[-1] for x in train_set_partition]\n",
    "        \n",
    "        test_mse = calculate_mean_squared_error(test_actuals, test_predictions)\n",
    "        train_mse = calculate_mean_squared_error(train_actuals, train_predictions)\n",
    "\n",
    "        test_error_values.append(test_mse)\n",
    "        train_error_values.append(train_mse)\n",
    "     \n",
    "    plot_learning_curves(training_set_sizes, test_error_values, train_error_values)   "
   ]
  },
  {
   "cell_type": "markdown",
   "metadata": {},
   "source": [
    "&nbsp;\n",
    "\n",
    "## 10-Fold Cross Validation\n",
    "\n",
    "x"
   ]
  },
  {
   "cell_type": "code",
   "execution_count": 16,
   "metadata": {
    "collapsed": false
   },
   "outputs": [],
   "source": [
    "def cross_validation(data, k):\n",
    "    average_mse = 0.0\n",
    "    mse_values = []\n",
    "    num_folds = 10\n",
    "    folds = create_folds(data, num_folds)\n",
    "    \n",
    "    for i in range(len(folds)):\n",
    "        instances = folds[i]                         #chunk of instances\n",
    "        train = []                              #bigger chunk of instances\n",
    "        for fold in folds[:i]:\n",
    "            for instance in fold:\n",
    "                train.append(instance)\n",
    "        for fold in folds[i + 1:]:\n",
    "            for instance in fold:\n",
    "                train.append(instance)\n",
    "        \n",
    "        predictions = k_nearest_neighbors(train, k, instances)        \n",
    "        actuals = [x[-1] for x in instances]\n",
    "        mse = calculate_mean_squared_error(actuals, predictions)\n",
    "        \n",
    "        average_mse += mse\n",
    "        mse_values.append(mse)\n",
    "    \n",
    "    average_mse = average_mse / num_folds\n",
    "    standard_deviation = calculate_standard_deviation(average_mse, mse_values)\n",
    "\n",
    "    return average_mse, standard_deviation"
   ]
  },
  {
   "cell_type": "markdown",
   "metadata": {},
   "source": [
    "---\n",
    "\n",
    "## Test K Nearest Neighbor"
   ]
  },
  {
   "cell_type": "markdown",
   "metadata": {},
   "source": [
    "**Generate Validation Curves**"
   ]
  },
  {
   "cell_type": "code",
   "execution_count": 17,
   "metadata": {
    "collapsed": false
   },
   "outputs": [],
   "source": [
    "data = read_csv('concrete-data.csv')"
   ]
  },
  {
   "cell_type": "code",
   "execution_count": 18,
   "metadata": {
    "collapsed": false
   },
   "outputs": [
    {
     "data": {
      "image/png": "[encoded data removed]",
      "text/plain": [
       "<matplotlib.figure.Figure at 0x10c88b710>"
      ]
     },
     "metadata": {},
     "output_type": "display_data"
    },
    {
     "name": "stdout",
     "output_type": "stream",
     "text": [
      "Best K:  4\n"
     ]
    }
   ],
   "source": [
    "best_k = generate_validation_curves(data)\n",
    "print 'Best K: ', best_k"
   ]
  },
  {
   "cell_type": "markdown",
   "metadata": {},
   "source": [
    "**Generate Learning Curves**"
   ]
  },
  {
   "cell_type": "code",
   "execution_count": 19,
   "metadata": {
    "collapsed": false
   },
   "outputs": [
    {
     "data": {
      "image/png": "[encoded data removed]",
      "text/plain": [
       "<matplotlib.figure.Figure at 0x10d370450>"
      ]
     },
     "metadata": {},
     "output_type": "display_data"
    }
   ],
   "source": [
    "generate_learning_curves(data, best_k)"
   ]
  },
  {
   "cell_type": "markdown",
   "metadata": {},
   "source": [
    "**Perform 10-Fold Cross Validation**"
   ]
  },
  {
   "cell_type": "code",
   "execution_count": 20,
   "metadata": {
    "collapsed": false
   },
   "outputs": [
    {
     "name": "stdout",
     "output_type": "stream",
     "text": [
      "Average MSE:  162.61280672\n",
      "Standard Deviation:  59.5137254813\n"
     ]
    }
   ],
   "source": [
    "average_mse, standard_deviation = cross_validation(data, 10)\n",
    "print \"Average MSE: \", average_mse\n",
    "print \"Standard Deviation: \", standard_deviation"
   ]
  }
 ],
 "metadata": {
  "kernelspec": {
   "display_name": "Python 2",
   "language": "python",
   "name": "python2"
  },
  "language_info": {
   "codemirror_mode": {
    "name": "ipython",
    "version": 2
   },
   "file_extension": ".py",
   "mimetype": "text/x-python",
   "name": "python",
   "nbconvert_exporter": "python",
   "pygments_lexer": "ipython2",
   "version": "2.7.13"
  }
 },
 "nbformat": 4,
 "nbformat_minor": 0
}
