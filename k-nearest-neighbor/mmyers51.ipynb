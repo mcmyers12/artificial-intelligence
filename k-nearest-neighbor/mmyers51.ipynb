{
 "cells": [
  {
   "cell_type": "markdown",
   "metadata": {},
   "source": [
    "# Module 13 - Programming Assignment"
   ]
  },
  {
   "cell_type": "markdown",
   "metadata": {},
   "source": [
    "## k Nearest Neighbors and Model Evaluation\n",
    "\n",
    "You must complete the 4 following tasks:\n",
    "\n",
    "1. Implement k-Nearest Neighbor *regression* as described in the Module.\n",
    "2. Use validation curves as described in Module 9 to determine the best value of k trying values of 1 to 10. (You don't need to use odd values for regression). For this you can simply split the data randomly into a training and a test set with a 67/33 split.\n",
    "3. Use learning curves as described in Module 9 to determine if your model could use more data.\n",
    "    For this you can simply split the data randomly into a training and a test set with a 67/33 split. Use the best k from part 2.\n",
    "4. Use 10-fold cross-validation to establish confidence bounds on your model's performance. Calculate the mean (average) MSE (which sounds funny, I know) and the standard deviation. \n",
    "\n",
    "Additionally, because you can't be *wrong* with the k = 1 in the training data, your curves will look a little funky initially.\n",
    "\n",
    "As before make sure you actually plot curves and that everything is labeled. Each chart from part #2 and #3 has *two* curves. Please review the comments to Module 9 if you're not sure why.\n",
    "\n",
    "Use the data in concrete_compressive_strength.csv for this assignment obtainable at [UCI ML Repository - Concrete Compressive Strength](https://archive.ics.uci.edu/ml/datasets/Concrete+Compressive+Strength).\n",
    "\n",
    "Because the data is always the model, for knn, you simply need a function `knn` that will take the data, a value for k, and a List of instances and return a List of predictions (in this case, we're doing regression...you don't have to write a version of `knn` that would do either).\n",
    "\n",
    "As before there's a lot of infrastructure involved and the specific names I leave up to you as long as you clearly indicate your answers to 1-4 above.\n",
    "\n",
    "-----"
   ]
  },
  {
   "cell_type": "code",
   "execution_count": 1,
   "metadata": {
    "collapsed": true
   },
   "outputs": [],
   "source": [
    "import csv\n",
    "import math\n",
    "import random\n",
    "import pprint\n",
    "import matplotlib.pyplot as plt\n",
    "\n",
    "pp = pprint.PrettyPrinter(indent=4)"
   ]
  },
  {
   "cell_type": "markdown",
   "metadata": {},
   "source": [
    "&nbsp;\n",
    "\n",
    "**x**\n",
    "\n",
    "x"
   ]
  },
  {
   "cell_type": "code",
   "execution_count": 2,
   "metadata": {
    "collapsed": false
   },
   "outputs": [],
   "source": [
    "'''\n",
    "1. Implement k-Nearest Neighbor regression as described in the Module.\n",
    "'''\n",
    "##################### K NEAREST NEIGHBOR #####################\n",
    "#Skip the first row\n",
    "def read_csv(file_name):\n",
    "    with open(file_name, 'rb') as f:\n",
    "        reader = csv.reader(f)\n",
    "        next(reader, None)\n",
    "        table = [[float(x) for x in record] for record in reader]\n",
    "    \n",
    "    return table[1:len(table)]"
   ]
  },
  {
   "cell_type": "markdown",
   "metadata": {},
   "source": [
    "&nbsp;\n",
    "\n",
    "**x**\n",
    "\n",
    "x"
   ]
  },
  {
   "cell_type": "code",
   "execution_count": 3,
   "metadata": {
    "collapsed": false
   },
   "outputs": [],
   "source": [
    "#Euclidean distance without sqrt\n",
    "def euclidean_distance(row, instance):\n",
    "    distance = 0.0\n",
    "    for i in range(len(row) - 2):       #skip the y\n",
    "        distance += (row[i] - instance[i]) ** 2.0\n",
    "        \n",
    "    return distance"
   ]
  },
  {
   "cell_type": "markdown",
   "metadata": {},
   "source": [
    "&nbsp;\n",
    "\n",
    "**x**\n",
    "\n",
    "x"
   ]
  },
  {
   "cell_type": "code",
   "execution_count": 4,
   "metadata": {
    "collapsed": false
   },
   "outputs": [],
   "source": [
    "def priority_queue_insert(priority_queue, value):\n",
    "    added = False\n",
    "    for i in range(len(priority_queue)):\n",
    "        entry = priority_queue[i]\n",
    "        if value[0] < entry[0]:\n",
    "            priority_queue.insert(i, value)\n",
    "            added = True\n",
    "            break\n",
    "        if value[0] == entry[0]:\n",
    "            priority_queue.insert(i + 1, value)\n",
    "            added = True\n",
    "            break\n",
    "                \n",
    "    if not added:\n",
    "        priority_queue.append(value)"
   ]
  },
  {
   "cell_type": "markdown",
   "metadata": {},
   "source": [
    "&nbsp;\n",
    "\n",
    "**x**\n",
    "\n",
    "x"
   ]
  },
  {
   "cell_type": "code",
   "execution_count": 5,
   "metadata": {
    "collapsed": false
   },
   "outputs": [],
   "source": [
    "def average_ys(k_nearest_neighbors):\n",
    "    sum = 0.0\n",
    "    for neighbor in k_nearest_neighbors:\n",
    "        sum += neighbor[-1]\n",
    "    \n",
    "    return sum / len(k_nearest_neighbors)"
   ]
  },
  {
   "cell_type": "markdown",
   "metadata": {},
   "source": [
    "&nbsp;\n",
    "\n",
    "**x**\n",
    "\n",
    "x"
   ]
  },
  {
   "cell_type": "code",
   "execution_count": 6,
   "metadata": {
    "collapsed": false
   },
   "outputs": [],
   "source": [
    "def predict_instance(data, k, instance):\n",
    "    distance_priority_queue = []        #List of tuples with distance, y\n",
    "    for row in data:\n",
    "        distance = euclidean_distance(row, instance)\n",
    "        insert_value = (distance, row[-1])\n",
    "        priority_queue_insert(distance_priority_queue, insert_value)\n",
    "        \n",
    "    '''print 'distance_priority_queue[:10]'\n",
    "    print distance_priority_queue[:10]\n",
    "    print\n",
    "    print 'instance'\n",
    "    print instance\n",
    "    print'''\n",
    "    \n",
    "    prediction = average_ys(distance_priority_queue[:k])    #pass in the k nearest neighbors\n",
    "    return prediction"
   ]
  },
  {
   "cell_type": "markdown",
   "metadata": {},
   "source": [
    "&nbsp;\n",
    "\n",
    "**x**\n",
    "\n",
    "x"
   ]
  },
  {
   "cell_type": "code",
   "execution_count": 7,
   "metadata": {
    "collapsed": false
   },
   "outputs": [],
   "source": [
    "#return a list of predictions (regression)\n",
    "def k_nearest_neighbors(data, k, instances):\n",
    "    predictions = []\n",
    "    for instance in instances:\n",
    "        predictions.append(predict_instance(data, k, instance))\n",
    "        \n",
    "    return predictions"
   ]
  },
  {
   "cell_type": "markdown",
   "metadata": {},
   "source": [
    "&nbsp;\n",
    "\n",
    "**x**\n",
    "\n",
    "x"
   ]
  },
  {
   "cell_type": "code",
   "execution_count": 8,
   "metadata": {
    "collapsed": false
   },
   "outputs": [],
   "source": [
    "'''\n",
    "2. Use validation curves as described in Module 9 to determine the best value of k trying \n",
    "    values of 1 to 10. (You don't need to use odd values for regression). For this you can \n",
    "    simply split the data randomly into a training and a test set with a 67/33 split.\n",
    "'''\n",
    "##################### VALIDATION CURVES #####################\n",
    "def create_train_test_sets(data):\n",
    "    random.shuffle(data)\n",
    "    split_point = len(data) / 10\n",
    "    test_set = data[:split_point]\n",
    "    train_set = data[split_point:]\n",
    "    \n",
    "    return train_set, test_set"
   ]
  },
  {
   "cell_type": "markdown",
   "metadata": {},
   "source": [
    "&nbsp;\n",
    "\n",
    "**x**\n",
    "\n",
    "x"
   ]
  },
  {
   "cell_type": "code",
   "execution_count": 9,
   "metadata": {
    "collapsed": false
   },
   "outputs": [],
   "source": [
    "def plot_validation_curve(k_values, test_error_values, train_error_values):\n",
    "    plt.plot(k_values, test_error_values, label='test data')\n",
    "    plt.plot(k_values, train_error_values, label='train data') \n",
    "    plt.legend(loc='upper right')\n",
    "    plt.ylabel('Mean Squared Error')\n",
    "    plt.xlabel('K Nearest Neighbors')\n",
    "    plt.show()"
   ]
  },
  {
   "cell_type": "markdown",
   "metadata": {},
   "source": [
    "&nbsp;\n",
    "\n",
    "**x**\n",
    "\n",
    "x"
   ]
  },
  {
   "cell_type": "code",
   "execution_count": 10,
   "metadata": {
    "collapsed": false
   },
   "outputs": [],
   "source": [
    "def generate_validation_curves(data):\n",
    "    train_set, test_set = create_train_test_sets(data)\n",
    "    train_error_values = []\n",
    "    test_error_values = []\n",
    "    k_values = [k for k in range(1, 11)]\n",
    "    best_k = k_values[0]\n",
    "    lowest_error = float('inf')\n",
    "    \n",
    "    for k in k_values:\n",
    "        test_predictions = k_nearest_neighbors(train_set, k, test_set)             \n",
    "        train_predictions = k_nearest_neighbors(train_set, k, train_set)  \n",
    "        \n",
    "        test_actuals = [x[-1] for x in test_set]\n",
    "        train_actuals = [x[-1] for x in train_set]\n",
    "        \n",
    "        test_mse = calculate_mean_squared_error(test_actuals, test_predictions)\n",
    "        train_mse = calculate_mean_squared_error(train_actuals, train_predictions)\n",
    "        \n",
    "        average_error = (test_mse + train_mse) / 2.0\n",
    "        if average_error < lowest_error:\n",
    "            lowest_error = average_error\n",
    "            best_k = k\n",
    "        \n",
    "        '''print 'test_actuals'\n",
    "        print test_actuals\n",
    "        print \n",
    "        print 'test_predictions'\n",
    "        print test_predictions\n",
    "        print 'test_mse', test_mse\n",
    "        print'\n",
    "        print 'train_actuals'\n",
    "        print train_actuals\n",
    "        print\n",
    "        print 'train_predictions'\n",
    "        print train_predictions\n",
    "        print 'train_mse', train_mse\n",
    "        print'''\n",
    "        \n",
    "        test_error_values.append(test_mse)\n",
    "        train_error_values.append(train_mse)\n",
    "    \n",
    "        '''print\n",
    "        print 'actuals'\n",
    "        print actuals\n",
    "        print\n",
    "        print 'predictions'\n",
    "        print [round(x,2) for x in predictions]'''\n",
    "    \n",
    "    plot_validation_curve(k_values, test_error_values, train_error_values)\n",
    "    return best_k"
   ]
  },
  {
   "cell_type": "markdown",
   "metadata": {},
   "source": [
    "&nbsp;\n",
    "\n",
    "**x**\n",
    "\n",
    "x"
   ]
  },
  {
   "cell_type": "code",
   "execution_count": 11,
   "metadata": {
    "collapsed": false
   },
   "outputs": [],
   "source": [
    "'''\n",
    "3. Use learning curves as described in Module 9 to determine if your model could use more \n",
    "    data. For this you can simply split the data randomly into a training and a test set \n",
    "    with a 67/33 split. Use the best k from part 2.\n",
    "'''\n",
    "\n",
    "def plot_learning_curves(training_set_sizes, test_error_values, train_error_values):\n",
    "    plt.plot(training_set_sizes, test_error_values, label='test data')\n",
    "    plt.plot(training_set_sizes, train_error_values, label='train data') \n",
    "    plt.legend(loc='upper right')\n",
    "    plt.ylabel('Mean Squared Error')\n",
    "    plt.xlabel('Training Set Size (fraction of whole training set)')\n",
    "    plt.show()"
   ]
  },
  {
   "cell_type": "markdown",
   "metadata": {},
   "source": [
    "&nbsp;\n",
    "\n",
    "**x**\n",
    "\n",
    "x"
   ]
  },
  {
   "cell_type": "code",
   "execution_count": 12,
   "metadata": {
    "collapsed": false
   },
   "outputs": [],
   "source": [
    "def generate_learning_curves(data, k):\n",
    "    training_set_sizes = [.05, .1, .15, .2, .25, .3, .35, .4, .45, .5, .55, .6, .65, .7, .75, .8, .85, .9, .95, 1]\n",
    "    train_set, test_set = create_train_test_sets(data)\n",
    "    train_error_values = []\n",
    "    test_error_values = []\n",
    "    \n",
    "    \n",
    "    for percentage in training_set_sizes:\n",
    "        train_set_size = int(percentage * len(train_set))\n",
    "        train_set_partition = train_set[:train_set_size]\n",
    "        \n",
    "        #print 'train_set_size', train_set_size\n",
    "        \n",
    "        test_predictions = k_nearest_neighbors(train_set_partition, k, test_set)             \n",
    "        train_predictions = k_nearest_neighbors(train_set_partition, k, train_set_partition)  \n",
    "        \n",
    "        test_actuals = [x[-1] for x in test_set]\n",
    "        train_actuals = [x[-1] for x in train_set_partition]\n",
    "        \n",
    "        test_mse = calculate_mean_squared_error(test_actuals, test_predictions)\n",
    "        train_mse = calculate_mean_squared_error(train_actuals, train_predictions)\n",
    "        \n",
    "        '''print 'test_mse', test_mse\n",
    "        print 'train_mse', train_mse\n",
    "        print\n",
    "        print''' \n",
    "        \n",
    "        test_error_values.append(test_mse)\n",
    "        train_error_values.append(train_mse)\n",
    "     \n",
    "    plot_learning_curves(training_set_sizes, test_error_values, train_error_values)   "
   ]
  },
  {
   "cell_type": "markdown",
   "metadata": {},
   "source": [
    "&nbsp;\n",
    "\n",
    "**x**\n",
    "\n",
    "x"
   ]
  },
  {
   "cell_type": "code",
   "execution_count": 13,
   "metadata": {
    "collapsed": false
   },
   "outputs": [],
   "source": [
    "'''\n",
    "4. Use 10-fold cross-validation to establish confidence bounds on your model's \n",
    "    performance. Calculate the mean (average) MSE (which sounds funny, I know) and the \n",
    "    standard deviation.\n",
    "'''\n",
    "def create_folds(data, num_folds):\n",
    "    #folds = [[] for x in range(num_folds)]\n",
    "    folds = []\n",
    "    random.shuffle(data)\n",
    "    \n",
    "    fold_index = 0\n",
    "    for i in range(0, len(data) - 1, num_folds):\n",
    "        if fold_index < num_folds:\n",
    "\n",
    "            folds.append(data[i:i + num_folds])\n",
    "            '''for f in folds:\n",
    "                for instance in f:\n",
    "                    print instance\n",
    "            print\n",
    "            print'''\n",
    "            fold_index += 1\n",
    "        \n",
    "    return folds"
   ]
  },
  {
   "cell_type": "markdown",
   "metadata": {},
   "source": [
    "&nbsp;\n",
    "\n",
    "**x**\n",
    "\n",
    "x"
   ]
  },
  {
   "cell_type": "code",
   "execution_count": 14,
   "metadata": {
    "collapsed": false
   },
   "outputs": [],
   "source": [
    "def calculate_mean_squared_error(actuals, predictions):\n",
    "    mse = 0.0\n",
    "    num_observations = len(actuals)\n",
    "    for i in range(num_observations):\n",
    "        actual = actuals[i]\n",
    "        prediction = predictions[i]\n",
    "        mse += (actual - prediction) ** 2.0\n",
    "    \n",
    "    mse = mse / num_observations\n",
    "    return mse"
   ]
  },
  {
   "cell_type": "markdown",
   "metadata": {},
   "source": [
    "&nbsp;\n",
    "\n",
    "**x**\n",
    "\n",
    "x"
   ]
  },
  {
   "cell_type": "code",
   "execution_count": 15,
   "metadata": {
    "collapsed": false
   },
   "outputs": [],
   "source": [
    "def calculate_standard_deviation(mean, values):\n",
    "    standard_deviation = 0.0\n",
    "    for value in values:\n",
    "        standard_deviation += (value - mean) ** 2\n",
    "    \n",
    "    standard_deviation /= len(values)\n",
    "    standard_deviation = math.sqrt(standard_deviation)\n",
    "    return standard_deviation"
   ]
  },
  {
   "cell_type": "markdown",
   "metadata": {},
   "source": [
    "&nbsp;\n",
    "\n",
    "**x**\n",
    "\n",
    "x"
   ]
  },
  {
   "cell_type": "code",
   "execution_count": 16,
   "metadata": {
    "collapsed": false
   },
   "outputs": [],
   "source": [
    "def cross_validation(data, k):\n",
    "    average_mse = 0.0\n",
    "    mse_values = []\n",
    "    num_folds = 10\n",
    "    folds = create_folds(data, num_folds)\n",
    "    \n",
    "    for i in range(len(folds)):\n",
    "        instances = folds[i]                         #chunk of instances\n",
    "        train = []                              #bigger chunk of instances\n",
    "        for fold in folds[:i]:\n",
    "            for instance in fold:\n",
    "                train.append(instance)\n",
    "        for fold in folds[i + 1:]:\n",
    "            for instance in fold:\n",
    "                train.append(instance)\n",
    "        \n",
    "        predictions = k_nearest_neighbors(train, k, instances)        \n",
    "        actuals = [x[-1] for x in instances]\n",
    "        mse = calculate_mean_squared_error(actuals, predictions)\n",
    "        \n",
    "        average_mse += mse\n",
    "        mse_values.append(mse)\n",
    "    \n",
    "    average_mse = average_mse / num_folds\n",
    "    standard_deviation = calculate_standard_deviation(average_mse, mse_values)\n",
    "\n",
    "    return average_mse, standard_deviation"
   ]
  },
  {
   "cell_type": "markdown",
   "metadata": {},
   "source": [
    "&nbsp;\n",
    "\n",
    "**x**\n",
    "\n",
    "x"
   ]
  },
  {
   "cell_type": "code",
   "execution_count": 17,
   "metadata": {
    "collapsed": false
   },
   "outputs": [],
   "source": [
    "data = read_csv('concrete-data.csv')"
   ]
  },
  {
   "cell_type": "code",
   "execution_count": 18,
   "metadata": {
    "collapsed": false
   },
   "outputs": [
    {
     "data": {
      "image/png": "[encoded data removed]",
      "text/plain": [
       "<matplotlib.figure.Figure at 0x10fe3f8d0>"
      ]
     },
     "metadata": {},
     "output_type": "display_data"
    },
    {
     "name": "stdout",
     "output_type": "stream",
     "text": [
      "best k 10\n"
     ]
    }
   ],
   "source": [
    "best_k = generate_validation_curves(data)\n",
    "print 'best k', best_k"
   ]
  },
  {
   "cell_type": "code",
   "execution_count": 19,
   "metadata": {
    "collapsed": false
   },
   "outputs": [
    {
     "name": "stdout",
     "output_type": "stream",
     "text": [
      "train_set_size 46\n",
      "test_mse 202.221170676\n",
      "train_mse 181.48207613\n",
      "\n",
      "\n",
      "train_set_size 92\n",
      "test_mse 223.464759147\n",
      "train_mse 172.665013315\n",
      "\n",
      "\n",
      "train_set_size 139\n",
      "test_mse 208.698886049\n",
      "train_mse 145.804843799\n",
      "\n",
      "\n",
      "train_set_size 185\n",
      "test_mse 213.884305814\n",
      "train_mse 139.839221276\n",
      "\n",
      "\n",
      "train_set_size 231\n",
      "test_mse 201.958684235\n",
      "train_mse 134.30517529\n",
      "\n",
      "\n",
      "train_set_size 278\n",
      "test_mse 188.464976794\n",
      "train_mse 132.023529072\n",
      "\n",
      "\n",
      "train_set_size 324\n",
      "test_mse 184.750964049\n",
      "train_mse 125.218381182\n",
      "\n",
      "\n",
      "train_set_size 370\n",
      "test_mse 182.43838148\n",
      "train_mse 121.320396886\n",
      "\n",
      "\n",
      "train_set_size 417\n",
      "test_mse 185.681012833\n",
      "train_mse 118.080050122\n",
      "\n",
      "\n",
      "train_set_size 463\n",
      "test_mse 189.246950912\n",
      "train_mse 119.267653689\n",
      "\n",
      "\n",
      "train_set_size 509\n",
      "test_mse 177.179285941\n",
      "train_mse 119.608034389\n",
      "\n",
      "\n",
      "train_set_size 556\n",
      "test_mse 164.888220716\n",
      "train_mse 115.879153297\n",
      "\n",
      "\n",
      "train_set_size 602\n",
      "test_mse 167.614268088\n",
      "train_mse 116.795356982\n",
      "\n",
      "\n",
      "train_set_size 648\n",
      "test_mse 165.901210794\n",
      "train_mse 115.590161147\n",
      "\n",
      "\n",
      "train_set_size 695\n",
      "test_mse 157.573078108\n",
      "train_mse 117.721298603\n",
      "\n",
      "\n",
      "train_set_size 741\n",
      "test_mse 157.363029941\n",
      "train_mse 120.15958996\n",
      "\n",
      "\n",
      "train_set_size 787\n",
      "test_mse 161.086976216\n",
      "train_mse 122.970131225\n",
      "\n",
      "\n",
      "train_set_size 834\n",
      "test_mse 158.712450598\n",
      "train_mse 123.759283705\n",
      "\n",
      "\n",
      "train_set_size 880\n",
      "test_mse 164.95700048\n",
      "train_mse 123.327373908\n",
      "\n",
      "\n",
      "train_set_size 927\n",
      "test_mse 159.839583951\n",
      "train_mse 123.008441587\n",
      "\n",
      "\n"
     ]
    },
    {
     "data": {
      "image/png": "[encoded data removed]",
      "text/plain": [
       "<matplotlib.figure.Figure at 0x10fe3f650>"
      ]
     },
     "metadata": {},
     "output_type": "display_data"
    }
   ],
   "source": [
    "generate_learning_curves(data, best_k)"
   ]
  },
  {
   "cell_type": "code",
   "execution_count": 20,
   "metadata": {
    "collapsed": false
   },
   "outputs": [
    {
     "name": "stdout",
     "output_type": "stream",
     "text": [
      "[   [   [322.0, 149.0, 0.0, 186.0, 8.0, 951.0, 709.0, 28.0, 52.42],\n",
      "        [322.0, 0.0, 0.0, 203.0, 0.0, 974.0, 800.0, 14.0, 20.77],\n",
      "        [279.8, 128.9, 100.4, 172.4, 9.5, 825.1, 804.9, 28.0, 52.83],\n",
      "        [475.0, 0.0, 0.0, 228.0, 0.0, 932.0, 594.0, 28.0, 39.29],\n",
      "        [250.0, 0.0, 95.7, 191.8, 5.3, 948.9, 857.2, 3.0, 8.49],\n",
      "        [397.0, 0.0, 0.0, 185.7, 0.0, 1040.6, 734.3, 28.0, 33.08],\n",
      "        [313.3, 262.2, 0.0, 175.5, 8.6, 1046.9, 611.8, 91.0, 66.6],\n",
      "        [149.0, 139.0, 109.0, 193.0, 6.0, 892.0, 780.0, 28.0, 23.69],\n",
      "        [305.3, 203.5, 0.0, 203.5, 0.0, 965.4, 631.0, 3.0, 14.14],\n",
      "        [262.0, 111.0, 86.0, 195.0, 5.0, 895.0, 733.0, 28.0, 33.72]],\n",
      "    [   [160.2, 188.0, 146.4, 203.2, 11.3, 828.7, 709.7, 28.0, 35.31],\n",
      "        [289.0, 133.7, 0.0, 194.9, 5.5, 924.1, 760.1, 28.0, 46.25],\n",
      "        [374.0, 189.2, 0.0, 170.1, 10.1, 926.1, 756.7, 91.0, 64.9],\n",
      "        [228.0, 342.1, 0.0, 185.7, 0.0, 955.8, 674.3, 28.0, 39.7],\n",
      "        [251.8, 0.0, 99.9, 146.1, 12.4, 1006.0, 899.8, 100.0, 45.37],\n",
      "        [380.0, 95.0, 0.0, 228.0, 0.0, 932.0, 594.0, 180.0, 40.76],\n",
      "        [290.4, 0.0, 96.2, 168.1, 9.4, 961.2, 865.0, 56.0, 45.08],\n",
      "        [157.0, 236.0, 0.0, 192.0, 0.0, 935.4, 781.2, 7.0, 16.89],\n",
      "        [173.8, 93.4, 159.9, 172.3, 9.7, 1007.2, 746.6, 3.0, 15.82],\n",
      "        [362.6, 189.0, 0.0, 164.9, 11.6, 944.7, 755.8, 91.0, 79.3]],\n",
      "    [   [251.4, 0.0, 118.3, 188.5, 5.8, 1028.4, 757.7, 28.0, 29.65],\n",
      "        [385.0, 0.0, 0.0, 186.0, 0.0, 966.0, 763.0, 14.0, 27.92],\n",
      "        [173.5, 50.1, 173.5, 164.8, 6.5, 1006.2, 793.5, 14.0, 33.01],\n",
      "        [181.4, 0.0, 167.0, 169.6, 7.6, 1055.6, 777.8, 100.0, 45.37],\n",
      "        [143.0, 169.0, 143.0, 191.0, 8.0, 967.0, 643.0, 28.0, 29.72],\n",
      "        [288.0, 192.0, 0.0, 192.0, 0.0, 932.0, 717.8, 7.0, 23.52],\n",
      "        [313.0, 145.0, 0.0, 178.0, 8.0, 867.0, 824.0, 28.0, 44.39],\n",
      "        [254.0, 0.0, 0.0, 198.0, 0.0, 968.0, 863.0, 3.0, 9.31],\n",
      "        [154.8, 0.0, 142.8, 193.3, 9.1, 1047.4, 696.7, 28.0, 12.46],\n",
      "        [475.0, 0.0, 0.0, 228.0, 0.0, 932.0, 594.0, 365.0, 41.93]],\n",
      "    [   [200.0, 0.0, 0.0, 180.0, 0.0, 1125.0, 845.0, 28.0, 12.25],\n",
      "        [321.3, 164.2, 0.0, 190.5, 4.6, 870.0, 774.0, 28.0, 57.22],\n",
      "        [164.6, 0.0, 150.4, 181.6, 11.7, 1023.3, 728.9, 28.0, 18.03],\n",
      "        [102.0, 153.0, 0.0, 192.0, 0.0, 887.0, 942.0, 7.0, 7.68],\n",
      "        [325.0, 0.0, 0.0, 184.0, 0.0, 1063.0, 783.0, 7.0, 17.54],\n",
      "        [425.0, 106.3, 0.0, 151.4, 18.6, 936.0, 803.7, 28.0, 61.8],\n",
      "        [401.8, 94.7, 0.0, 147.4, 11.4, 946.8, 852.1, 91.0, 75.5],\n",
      "        [178.0, 129.8, 118.6, 179.9, 3.6, 1007.3, 746.8, 100.0, 49.99],\n",
      "        [446.0, 24.0, 79.0, 162.0, 11.6, 967.0, 712.0, 56.0, 55.25],\n",
      "        [300.0, 0.0, 0.0, 184.0, 0.0, 1075.0, 795.0, 7.0, 15.58]],\n",
      "    [   [425.0, 106.3, 0.0, 153.5, 16.5, 852.1, 887.1, 28.0, 60.29],\n",
      "        [190.3, 0.0, 125.2, 161.9, 9.9, 1088.1, 802.6, 3.0, 9.45],\n",
      "        [212.0, 0.0, 124.8, 159.0, 7.8, 1085.4, 799.5, 14.0, 31.35],\n",
      "        [277.2, 97.8, 24.5, 160.7, 11.2, 1061.7, 782.5, 56.0, 66.82],\n",
      "        [172.4, 13.6, 172.4, 156.8, 4.1, 1006.3, 856.4, 100.0, 37.68],\n",
      "        [183.9, 122.6, 0.0, 203.5, 0.0, 959.2, 800.0, 28.0, 24.05],\n",
      "        [213.5, 0.0, 174.2, 159.2, 11.7, 1043.6, 771.9, 100.0, 52.96],\n",
      "        [168.0, 42.1, 163.8, 121.8, 5.7, 1058.7, 780.1, 28.0, 24.24],\n",
      "        [387.0, 20.0, 94.0, 157.0, 14.3, 938.0, 845.0, 56.0, 56.34],\n",
      "        [186.2, 124.1, 0.0, 185.7, 0.0, 1083.4, 764.3, 7.0, 8.0]],\n",
      "    [   [305.0, 0.0, 100.0, 196.0, 10.0, 959.0, 705.0, 28.0, 30.12],\n",
      "        [194.7, 0.0, 100.5, 170.2, 7.5, 998.0, 901.8, 100.0, 44.28],\n",
      "        [212.0, 141.3, 0.0, 203.5, 0.0, 973.4, 750.0, 28.0, 33.0],\n",
      "        [288.0, 192.0, 0.0, 192.0, 0.0, 932.0, 717.8, 90.0, 50.53],\n",
      "        [136.0, 162.0, 126.0, 172.0, 10.0, 923.0, 764.0, 28.0, 29.07],\n",
      "        [298.0, 0.0, 107.0, 164.0, 13.0, 953.0, 784.0, 28.0, 35.86],\n",
      "        [153.0, 102.0, 0.0, 192.0, 0.0, 888.0, 943.1, 90.0, 26.32],\n",
      "        [295.0, 0.0, 0.0, 185.0, 0.0, 1069.0, 769.0, 7.0, 14.8],\n",
      "        [491.0, 26.0, 123.0, 210.0, 3.9, 882.0, 699.0, 56.0, 59.59],\n",
      "        [213.8, 98.1, 24.5, 181.7, 6.7, 1066.0, 785.5, 28.0, 40.23]],\n",
      "    [   [475.0, 0.0, 0.0, 228.0, 0.0, 932.0, 594.0, 180.0, 42.62],\n",
      "        [323.7, 282.8, 0.0, 183.8, 10.3, 942.7, 659.9, 28.0, 74.7],\n",
      "        [313.3, 262.2, 0.0, 175.5, 8.6, 1046.9, 611.8, 28.0, 59.8],\n",
      "        [212.5, 0.0, 100.4, 159.3, 8.7, 1007.8, 903.6, 56.0, 42.55],\n",
      "        [480.0, 0.0, 0.0, 192.0, 0.0, 936.0, 721.0, 28.0, 43.89],\n",
      "        [165.0, 128.5, 132.1, 175.1, 8.1, 1005.8, 746.6, 14.0, 33.09],\n",
      "        [153.0, 102.0, 0.0, 192.0, 0.0, 888.0, 943.1, 7.0, 8.37],\n",
      "        [143.0, 169.4, 142.7, 190.7, 8.4, 967.4, 643.5, 28.0, 29.73],\n",
      "        [322.0, 0.0, 0.0, 203.0, 0.0, 974.0, 800.0, 28.0, 25.18],\n",
      "        [139.9, 132.6, 103.3, 200.3, 7.4, 916.0, 753.4, 28.0, 36.44]],\n",
      "    [   [375.0, 0.0, 0.0, 186.0, 0.0, 1038.0, 758.0, 7.0, 26.06],\n",
      "        [146.0, 173.0, 0.0, 182.0, 3.0, 986.0, 817.0, 28.0, 23.74],\n",
      "        [252.0, 0.0, 0.0, 186.0, 0.0, 1111.0, 784.0, 7.0, 11.47],\n",
      "        [165.0, 0.0, 143.6, 163.8, 0.0, 1005.6, 900.9, 3.0, 14.4],\n",
      "        [389.9, 189.0, 0.0, 145.9, 22.0, 944.7, 755.8, 7.0, 59.09],\n",
      "        [236.0, 0.0, 0.0, 193.0, 0.0, 968.0, 885.0, 180.0, 24.1],\n",
      "        [145.0, 116.0, 119.0, 184.0, 5.7, 833.0, 880.0, 28.0, 29.16],\n",
      "        [167.0, 75.4, 167.0, 164.0, 7.9, 1007.3, 770.1, 56.0, 53.46],\n",
      "        [255.3, 98.8, 77.0, 188.6, 6.5, 919.0, 749.3, 28.0, 33.8],\n",
      "        [250.0, 0.0, 95.7, 191.8, 5.3, 948.9, 857.2, 56.0, 39.64]],\n",
      "    [   [424.0, 22.0, 132.0, 168.0, 8.9, 822.0, 750.0, 28.0, 72.1],\n",
      "        [238.1, 0.0, 94.1, 186.7, 7.0, 949.9, 847.0, 56.0, 39.59],\n",
      "        [500.0, 0.0, 0.0, 200.0, 0.0, 1125.0, 613.0, 28.0, 44.09],\n",
      "        [164.0, 163.0, 128.0, 197.0, 8.0, 961.0, 641.0, 28.0, 27.23],\n",
      "        [424.0, 22.0, 132.0, 178.0, 8.5, 822.0, 750.0, 28.0, 62.05],\n",
      "        [150.0, 236.8, 0.0, 173.8, 11.9, 1069.3, 674.8, 28.0, 37.43],\n",
      "        [145.0, 0.0, 134.0, 181.0, 11.0, 979.0, 812.0, 28.0, 13.2],\n",
      "        [162.0, 207.0, 172.0, 216.0, 10.0, 822.0, 638.0, 28.0, 39.84],\n",
      "        [159.0, 149.0, 116.0, 175.0, 15.0, 953.0, 720.0, 28.0, 27.68],\n",
      "        [375.0, 93.8, 0.0, 126.6, 23.4, 852.1, 992.6, 3.0, 29.0]],\n",
      "    [   [165.0, 0.0, 143.6, 163.8, 0.0, 1005.6, 900.9, 14.0, 16.88],\n",
      "        [173.0, 116.0, 0.0, 192.0, 0.0, 946.8, 856.8, 28.0, 24.28],\n",
      "        [250.0, 0.0, 95.7, 187.4, 5.5, 956.9, 861.2, 56.0, 38.33],\n",
      "        [313.8, 0.0, 112.6, 169.9, 10.1, 925.3, 782.9, 28.0, 38.46],\n",
      "        [212.0, 0.0, 124.8, 159.0, 7.8, 1085.4, 799.5, 100.0, 47.82],\n",
      "        [143.7, 170.2, 132.6, 191.6, 8.5, 814.1, 805.3, 28.0, 29.87],\n",
      "        [387.0, 20.0, 94.0, 157.0, 11.6, 938.0, 845.0, 7.0, 41.67],\n",
      "        [387.0, 20.0, 94.0, 157.0, 13.9, 938.0, 845.0, 7.0, 45.9],\n",
      "        [122.6, 183.9, 0.0, 203.5, 0.0, 958.2, 800.1, 3.0, 3.32],\n",
      "        [275.1, 0.0, 121.4, 159.5, 9.9, 1053.6, 777.5, 14.0, 38.77]]]\n",
      "10\n",
      "\n",
      "actuals\n",
      "[52.42, 20.77, 52.83, 39.29, 8.49, 33.08, 66.6, 23.69, 14.14, 33.72]\n",
      "\n",
      "predictions\n",
      "[52.23, 24.14, 37.44, 41.22, 36.41, 32.32, 52.97, 32.85, 53.19, 37.7]\n",
      "mse 284.2001634\n",
      "\n",
      "\n",
      "actuals\n",
      "[35.31, 46.25, 64.9, 39.7, 45.37, 40.76, 45.08, 16.89, 15.82, 79.3]\n",
      "\n",
      "predictions\n",
      "[30.7, 41.17, 51.33, 41.55, 30.59, 39.37, 38.68, 27.16, 35.03, 51.33]\n",
      "mse 175.2539398\n",
      "\n",
      "\n",
      "actuals\n",
      "[29.65, 27.92, 33.01, 45.37, 29.72, 23.52, 44.39, 9.31, 12.46, 41.93]\n",
      "\n",
      "predictions\n",
      "[34.24, 37.11, 30.79, 32.7, 32.42, 53.15, 57.97, 32.91, 29.94, 41.48]\n",
      "mse 220.3910852\n",
      "\n",
      "\n",
      "actuals\n",
      "[12.25, 57.22, 18.03, 7.68, 17.54, 61.8, 75.5, 49.99, 55.25, 15.58]\n",
      "\n",
      "predictions\n",
      "[29.66, 50.7, 28.96, 20.97, 27.42, 53.22, 50.06, 30.92, 43.67, 28.65]\n",
      "mse 212.8811542\n",
      "\n",
      "\n",
      "actuals\n",
      "[60.29, 9.45, 31.35, 66.82, 37.68, 24.05, 52.96, 24.24, 56.34, 8.0]\n",
      "\n",
      "predictions\n",
      "[55.88, 30.62, 33.43, 24.79, 35.63, 28.16, 30.76, 31.1, 41.81, 25.93]\n",
      "mse 333.2281853\n",
      "\n",
      "\n",
      "actuals\n",
      "[30.12, 44.28, 33.0, 50.53, 29.07, 35.86, 26.32, 14.8, 59.59, 40.23]\n",
      "\n",
      "predictions\n",
      "[32.96, 32.8, 25.63, 50.53, 31.13, 38.02, 19.36, 28.49, 47.26, 27.63]\n",
      "mse 74.9681415\n",
      "\n",
      "\n",
      "actuals\n",
      "[42.62, 74.7, 59.8, 42.55, 43.89, 33.09, 8.37, 29.73, 25.18, 36.44]\n",
      "\n",
      "predictions\n",
      "[39.81, 50.74, 48.76, 32.97, 44.12, 31.39, 21.62, 33.18, 22.5, 30.62]\n",
      "mse 102.6986957\n",
      "\n",
      "\n",
      "actuals\n",
      "[26.06, 23.74, 11.47, 14.4, 59.09, 24.1, 29.16, 53.46, 33.8, 39.64]\n",
      "\n",
      "predictions\n",
      "[32.08, 26.53, 29.32, 31.94, 55.58, 31.89, 27.39, 32.34, 38.04, 34.73]\n",
      "mse 123.4433538\n",
      "\n",
      "\n",
      "actuals\n",
      "[72.1, 39.59, 44.09, 27.23, 62.05, 37.43, 13.2, 39.84, 27.68, 29.0]\n",
      "\n",
      "predictions\n",
      "[45.99, 33.3, 36.83, 31.66, 45.99, 34.13, 34.03, 33.42, 33.48, 46.57]\n",
      "mse 187.9678014\n",
      "\n",
      "\n",
      "actuals\n",
      "[16.88, 24.28, 38.33, 38.46, 47.82, 29.87, 41.67, 45.9, 3.32, 38.77]\n",
      "\n",
      "predictions\n",
      "[31.82, 19.71, 33.43, 33.93, 33.52, 34.15, 39.66, 39.66, 27.26, 27.73]\n",
      "mse 124.9238061\n",
      "\n",
      "Average MSE:  183.99563264\n",
      "Standard Deviation:  77.5981606374\n"
     ]
    }
   ],
   "source": [
    "average_mse, standard_deviation = cross_validation(data, 10)\n",
    "print \"Average MSE: \", average_mse\n",
    "print \"Standard Deviation: \", standard_deviation"
   ]
  },
  {
   "cell_type": "code",
   "execution_count": null,
   "metadata": {
    "collapsed": true
   },
   "outputs": [],
   "source": []
  },
  {
   "cell_type": "code",
   "execution_count": null,
   "metadata": {
    "collapsed": true
   },
   "outputs": [],
   "source": []
  },
  {
   "cell_type": "code",
   "execution_count": null,
   "metadata": {
    "collapsed": true
   },
   "outputs": [],
   "source": []
  },
  {
   "cell_type": "code",
   "execution_count": null,
   "metadata": {
    "collapsed": true
   },
   "outputs": [],
   "source": []
  },
  {
   "cell_type": "code",
   "execution_count": null,
   "metadata": {
    "collapsed": true
   },
   "outputs": [],
   "source": []
  },
  {
   "cell_type": "code",
   "execution_count": null,
   "metadata": {
    "collapsed": true
   },
   "outputs": [],
   "source": []
  },
  {
   "cell_type": "code",
   "execution_count": null,
   "metadata": {
    "collapsed": true
   },
   "outputs": [],
   "source": []
  },
  {
   "cell_type": "code",
   "execution_count": null,
   "metadata": {
    "collapsed": true
   },
   "outputs": [],
   "source": []
  },
  {
   "cell_type": "code",
   "execution_count": null,
   "metadata": {
    "collapsed": true
   },
   "outputs": [],
   "source": []
  },
  {
   "cell_type": "code",
   "execution_count": null,
   "metadata": {
    "collapsed": true
   },
   "outputs": [],
   "source": []
  }
 ],
 "metadata": {
  "kernelspec": {
   "display_name": "Python 2",
   "language": "python",
   "name": "python2"
  },
  "language_info": {
   "codemirror_mode": {
    "name": "ipython",
    "version": 2
   },
   "file_extension": ".py",
   "mimetype": "text/x-python",
   "name": "python",
   "nbconvert_exporter": "python",
   "pygments_lexer": "ipython2",
   "version": "2.7.13"
  }
 },
 "nbformat": 4,
 "nbformat_minor": 0
}
