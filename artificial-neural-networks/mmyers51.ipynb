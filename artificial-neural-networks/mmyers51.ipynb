{
 "cells": [
  {
   "cell_type": "code",
   "execution_count": 1,
   "metadata": {
    "collapsed": true
   },
   "outputs": [],
   "source": [
    "import numpy as np\n",
    "import matplotlib.pyplot as plt\n",
    "import random\n",
    "import sys\n",
    "import copy\n",
    "import math"
   ]
  },
  {
   "cell_type": "markdown",
   "metadata": {},
   "source": [
    "# Module 10 - Programming Assignment (Summer)"
   ]
  },
  {
   "cell_type": "markdown",
   "metadata": {},
   "source": [
    "# The Problem\n",
    "\n",
    "Last week we left our agent with a simple logistic regression that it could use to classify a picture from its cheap visual \"sensor\" as hills or not hills. We *could* make a logistic regression for each train type (hills/not hills, plains/not plains, swamp/not swamp, forest/not forest) and pick the one with the largest probability but that's exactly the kind of a problem a Multi-Layer Perceptron (MLP) Artificial Neural Network (ANN) was designed to solve.\n",
    "\n",
    "Here are the \"pure\" images again:"
   ]
  },
  {
   "cell_type": "code",
   "execution_count": 2,
   "metadata": {
    "collapsed": false
   },
   "outputs": [
    {
     "data": {
      "image/png": "[encoded data removed]",
      "text/plain": [
       "<matplotlib.figure.Figure at 0x117d14a90>"
      ]
     },
     "metadata": {},
     "output_type": "display_data"
    }
   ],
   "source": [
    "plain =  [0.0, 0.0, 0.0, 0.0,0.0, 0.0, 0.0, 0.0,0.0, 0.0, 0.0, 0.0,1.0, 1.0, 1.0, 1.0]\n",
    "forest = [0.0, 1.0, 0.0, 0.0,1.0, 1.0, 1.0, 0.0,1.0, 1.0, 1.0, 1.0,0.0, 1.0, 0.0, 0.0]\n",
    "hills =  [0.0, 0.0, 0.0, 0.0,0.0, 0.0, 1.0, 0.0,0.0, 1.0, 1.0, 1.0,1.0, 1.0, 1.0, 1.0]\n",
    "swamp =  [0.0, 0.0, 0.0, 0.0,0.0, 0.0, 0.0, 0.0,1.0, 0.0, 1.0, 0.0,1.0, 1.0, 1.0, 1.0]\n",
    "\n",
    "figure = plt.figure(figsize=(20,6))\n",
    "\n",
    "axes = figure.add_subplot(1, 3, 1)\n",
    "pixels = np.array([255 - p * 255 for p in plain], dtype='uint8')\n",
    "pixels = pixels.reshape((4, 4))\n",
    "axes.set_title( \"Left Camera\")\n",
    "axes.imshow(pixels, cmap='gray')\n",
    "\n",
    "axes = figure.add_subplot(1, 3, 2)\n",
    "pixels = np.array([255 - p * 255 for p in forest], dtype='uint8')\n",
    "pixels = pixels.reshape((4, 4))\n",
    "axes.set_title( \"Front Camera\")\n",
    "axes.imshow(pixels, cmap='gray')\n",
    "\n",
    "axes = figure.add_subplot(1, 3, 3)\n",
    "pixels = np.array([255 - p * 255 for p in hills], dtype='uint8')\n",
    "pixels = pixels.reshape((4, 4))\n",
    "axes.set_title( \"Right Camera\")\n",
    "axes.imshow(pixels, cmap='gray')\n",
    "\n",
    "plt.show()\n",
    "plt.close()"
   ]
  },
  {
   "cell_type": "markdown",
   "metadata": {},
   "source": [
    "which would be plains, forest and hills respectively.\n",
    "\n",
    "## The Assignment\n",
    "\n",
    "For this programming assignment your tasks are:\n",
    "\n",
    "1. Write an ANN regression that simply determines what kind of terrain it is. This is a multi-class problem.\n",
    "2. You will also evaluate your model for at least 3 different numbers of nodes in the hidden layer (2, 4, 8) and determine which one has the lowest *error rate*.\n",
    "\n",
    "For a starting point, you can refer to **module-10-pseudocode.pdf** and the Self-Check."
   ]
  },
  {
   "cell_type": "markdown",
   "metadata": {},
   "source": [
    "## Data\n",
    "\n",
    "As before, we have clean examples of the different types of terrain but based on the location, the registration can be a bit off for some of the types and the visual sensor is often blurry.\n",
    "\n",
    "Here are the clean examples with different registrations: "
   ]
  },
  {
   "cell_type": "code",
   "execution_count": 3,
   "metadata": {
    "collapsed": true
   },
   "outputs": [],
   "source": [
    "clean_data = {\n",
    "    \"plains\": [\n",
    "        [0.0, 0.0, 0.0, 0.0, 0.0, 0.0, 0.0, 0.0, 0.0, 0.0, 0.0, 0.0, 1.0, 1.0, 1.0, 1.0, \"plains\"]\n",
    "    ],\n",
    "    \"forest\": [\n",
    "        [0.0, 1.0, 0.0, 0.0, 1.0, 1.0, 1.0, 0.0, 1.0, 1.0, 1.0, 1.0, 0.0, 1.0, 0.0, 0.0, \"forest\"],\n",
    "        [0.0, 0.0, 1.0, 0.0, 0.0, 1.0, 1.0, 1.0, 1.0, 1.0, 1.0, 1.0, 0.0, 0.0, 1.0, 0.0, \"forest\"],\n",
    "        [1.0, 0.0, 0.0, 0.0, 1.0, 1.0, 0.0, 0.0, 1.0, 1.0, 1.0, 0.0, 1.0, 0.0, 0.0, 0.0, \"forest\"],\n",
    "        [0.0, 0.0, 0.0, 1.0, 0.0, 0.0, 1.0, 1.0, 0.0, 1.0, 1.0, 1.0, 0.0, 0.0, 0.0, 1.0, \"forest\"]\n",
    "    ],\n",
    "    \"hills\": [\n",
    "        [0.0, 0.0, 0.0, 0.0, 0.0, 0.0, 1.0, 0.0, 0.0, 1.0, 1.0, 1.0, 1.0, 1.0, 1.0, 1.0, \"hills\"],\n",
    "        [0.0, 0.0, 0.0, 0.0, 0.0, 1.0, 0.0, 0.0, 1.0, 1.0, 1.0, 0.0, 1.0, 1.0, 1.0, 1.0, \"hills\"],\n",
    "        [0.0, 0.0, 0.0, 0.0, 1.0, 0.0, 0.0, 0.0, 1.0, 1.0, 0.0, 0.0, 1.0, 1.0, 1.0, 0.0, \"hills\"],\n",
    "        [0.0, 0.0, 0.0, 0.0, 0.0, 0.0, 0.0, 1.0, 0.0, 0.0, 1.0, 1.0, 0.0, 1.0, 1.0, 1.0, \"hills\"]\n",
    "    ],\n",
    "    \"swamp\": [\n",
    "        [0.0, 0.0, 0.0, 0.0, 0.0, 0.0, 0.0, 0.0, 1.0, 0.0, 1.0, 0.0, 1.0, 1.0, 1.0, 1.0, \"swamp\"],\n",
    "        [0.0, 0.0, 0.0, 0.0, 0.0, 0.0, 0.0, 0.0, 0.0, 1.0, 0.0, 1.0, 1.0, 1.0, 1.0, 1.0, \"swamp\"]        \n",
    "    ]\n",
    "}"
   ]
  },
  {
   "cell_type": "markdown",
   "metadata": {},
   "source": [
    "Let's create a function that allows us to view any of these:"
   ]
  },
  {
   "cell_type": "code",
   "execution_count": 4,
   "metadata": {
    "collapsed": true
   },
   "outputs": [],
   "source": [
    "def view_sensor_image( data):\n",
    "    figure = plt.figure(figsize=(4,4))\n",
    "    axes = figure.add_subplot(1, 1, 1)\n",
    "    pixels = np.array([255 - p * 255 for p in data[:-1]], dtype='uint8')\n",
    "    pixels = pixels.reshape((4, 4))\n",
    "    axes.set_title( \"Left Camera:\" + data[-1])\n",
    "    axes.imshow(pixels, cmap='gray')\n",
    "    plt.show()\n",
    "    plt.close()"
   ]
  },
  {
   "cell_type": "markdown",
   "metadata": {},
   "source": [
    "\"I think that I shall never see a thing so lovely as a tree.\""
   ]
  },
  {
   "cell_type": "code",
   "execution_count": 5,
   "metadata": {
    "collapsed": false
   },
   "outputs": [
    {
     "data": {
      "image/png": "[encoded data removed]",
      "text/plain": [
       "<matplotlib.figure.Figure at 0x11b635d90>"
      ]
     },
     "metadata": {},
     "output_type": "display_data"
    }
   ],
   "source": [
    "view_sensor_image( clean_data[ \"forest\"][0])"
   ]
  },
  {
   "cell_type": "code",
   "execution_count": 6,
   "metadata": {
    "collapsed": false
   },
   "outputs": [
    {
     "data": {
      "image/png": "[encoded data removed]",
      "text/plain": [
       "<matplotlib.figure.Figure at 0x11b986710>"
      ]
     },
     "metadata": {},
     "output_type": "display_data"
    }
   ],
   "source": [
    "view_sensor_image( clean_data[\"swamp\"][0])"
   ]
  },
  {
   "cell_type": "markdown",
   "metadata": {},
   "source": [
    "The data that comes in, however, is noisy. The values are never exactly 0 and 1. In order to mimic this we need a `blur` function.\n",
    "\n",
    "We will assume that noise is normally distributed. For values that should be 0, the noisy values are distributed $N(0.10, 0.05)$. For values should be 1, the noisy values are distributed $N(0.9, 0.10)$."
   ]
  },
  {
   "cell_type": "code",
   "execution_count": 7,
   "metadata": {
    "collapsed": true
   },
   "outputs": [],
   "source": [
    "def blur( data):\n",
    "    def apply_noise( value):\n",
    "        if value < 0.5:\n",
    "            v = random.gauss( 0.10, 0.05)\n",
    "            if v < 0.0:\n",
    "                return 0.0\n",
    "            if v > 0.75:\n",
    "                return 0.75\n",
    "            return v\n",
    "        else:\n",
    "            v = random.gauss( 0.90, 0.10)\n",
    "            if v < 0.25:\n",
    "                return 0.25\n",
    "            if v > 1.00:\n",
    "                return 1.00\n",
    "            return v\n",
    "    noisy_readings = [apply_noise( v) for v in data[0:-1]]\n",
    "    return noisy_readings + [data[-1]]"
   ]
  },
  {
   "cell_type": "markdown",
   "metadata": {},
   "source": [
    "We can see how this affects what the agent *actually* sees."
   ]
  },
  {
   "cell_type": "code",
   "execution_count": 8,
   "metadata": {
    "collapsed": false
   },
   "outputs": [
    {
     "data": {
      "image/png": "[encoded data removed]",
      "text/plain": [
       "<matplotlib.figure.Figure at 0x11bbb3c90>"
      ]
     },
     "metadata": {},
     "output_type": "display_data"
    }
   ],
   "source": [
    "view_sensor_image( blur( clean_data[\"swamp\"][0]))"
   ]
  },
  {
   "cell_type": "markdown",
   "metadata": {},
   "source": [
    "You are going to want to write four (4) functions:\n",
    "\n",
    "1. `generate_data`\n",
    "2. `learn_model`\n",
    "3. `apply_model`\n",
    "4. `generate_validation_curves`\n",
    "\n",
    "\n",
    "### `generate_data`\n",
    "\n",
    "With the clean examples and the `blur` function, we have an unlimited amount of data for training and testing our classifier, an ANN that determines if a sensor image is hills, swamp, forest or plains.\n",
    "\n",
    "In classification, there is a general problem called the \"unbalanced class problem\". In general, we want our training data to have the same number of classes for each class. This means you should probably generate training data with, say, 100 of each type.\n",
    "\n",
    "But what do we do about the class label with the neural network?\n",
    "\n",
    "In this case, we can do \"one hot\". Instead of `generate_data` outputing a single 0 or 1, it should output a vector of 0's and 1's so that $y$ is now a vector as well as $x$. We can use the first position for hill, the second for swamp, the third for forest and the fourth for plains:\n",
    "\n",
    "```\n",
    "[0, 1, 0, 0]\n",
    "```\n",
    "\n",
    "what am I? swamp.\n",
    "\n",
    "Unlike logistic regression, you should set the *biases* inside the neural network (the implict $x_0$ = 1) because there are going to be lot of them (one for every hidden and output node).\n",
    "\n",
    "`generate_data` now only needs to take how many you want of each class:\n",
    "\n",
    "`generate_data( clean_data, 100)`\n",
    "\n",
    "generates 100 hills, 100 swamp, 100 forest, 100 plains and transforms $y$ into the respective \"one hot\" encoding.\n",
    "\n",
    "### `learn_model`\n",
    "\n",
    "`learn_model` is the function that takes in training data and actually learns the ANN. If you're up to it, you can implement a vectorized version using Numpy but you might start with the loopy version first.\n",
    "\n",
    "*In the lecture, I mentioned that you usually should mean normalize your data but you don't need to do that in this case because the data is already on the range 0-1.*\n",
    "\n",
    "You should add a parameter to indicate how many nodes the hidden layer should have.\n",
    "\n",
    "When verbose is True, you should print out the error so you can see that it is getting smaller.\n",
    "\n",
    "When developing your algorithm, you need to watch the error so you'll set verbose=True to start. You should print it out every iteration and make sure it is declining. You'll have to experiment with both epsilon and alpha; and it doesn't hurt to make alpha adaptive (if the error increases, make alpha = alpha / 10).\n",
    "\n",
    "When you know that your algorithm is working, change your code so that the error is printed out only every 1,000 iterations (it takes a lot of iterations for this problem to converge, depending on your parameter values--start early).\n",
    "\n",
    "`learn_model` returns the neural network. The hidden layer will be one vector of thetas for each hidden node. And the output layer will have its own thetas, one for each output (4 in this case). Return it as a Tuple: (List of List, List of List).\n",
    "\n",
    "### `apply_model`\n",
    "\n",
    "`apply_model` takes the ANN (the model) and either labeled or unlabeled data. If the data is unlabeled, it will return predictions for each observation as a List of Tuples of the inferred value (0 or 1) and the actual probability (so something like (1, 0.73) or (0, 0.19) so you have [(0, 0.30), (1, 0.98), (0, 0.87), (0, 0.12)]. Note that unlike the logistic regression, the threshold for 1 is not 0.5 but which value is largest (0.98 in this case).\n",
    "\n",
    "If the data is labeled, you will return a List of List of Tuples of the actual value (0 or 1) and the predicted value (0 or 1). For a single data point, you'll have the pairs of actual values [(0, 1), (0, 0), (0, 0), (1, 0)] is a misclassification and [(0, 0), (0, 0), (1, 1), (0, 0)] will be a correct classification. Then you have a List of *those*, one for each observation.\n",
    "\n",
    "### `generate_validation_curves`\n",
    "\n",
    "The `generate_validation_curves` is going to be a bit different than the confusion matrix version last week. It should take the information required to plot validation curves over the train and test sets for the specified parameter values.\n",
    "\n",
    "So basically, you have:\n",
    "\n",
    "1. generate training set\n",
    "2. generate test set\n",
    "3. loop over [2, 4, 8]\n",
    "    1. train model and apply to train data, calculate error rate.\n",
    "    2. apply to test data and calculae error rate.\n",
    "    3. plot both curves.\n",
    "\n",
    "The net results should be one plot of 2 curves over 3 parameter values. Please state in a markdown field afterwards which number of hidden nodes had the lowest error rate.\n",
    "\n",
    "**As always when working with Lists or Lists of Lists, be very careful when you are modifying these items in place that this is what you intend (and not to be modifying a copy)**"
   ]
  },
  {
   "cell_type": "markdown",
   "metadata": {},
   "source": [
    "---\n",
    "\n",
    "## Helper Functions"
   ]
  },
  {
   "cell_type": "markdown",
   "metadata": {},
   "source": [
    "&nbsp;\n",
    "\n",
    "**Print HTML Table**\n",
    "\n",
    "This function prints a nicely formated HTML table given a list of lists."
   ]
  },
  {
   "cell_type": "code",
   "execution_count": 9,
   "metadata": {
    "collapsed": true
   },
   "outputs": [],
   "source": [
    "def print_html_table(data):\n",
    "    print_results = []\n",
    "    for row in data:\n",
    "        row_list = []\n",
    "        for x in row:\n",
    "            if type(x) == float:\n",
    "                x = round(x, 2)\n",
    "            row_list.append(x)\n",
    "        print_results.append(row_list)\n",
    "    display(HTML(\n",
    "    '<table><tr>{}</tr></table>'.format(\n",
    "        '</tr><tr>'.join(\n",
    "            '<td>{}</td>'.format('</td><td>'.join(str(_) for _ in row)) for row in print_results)\n",
    "        )\n",
    "     ))"
   ]
  },
  {
   "cell_type": "markdown",
   "metadata": {},
   "source": [
    "&nbsp;\n",
    "\n",
    "**x**\n",
    "\n",
    "x."
   ]
  },
  {
   "cell_type": "code",
   "execution_count": 10,
   "metadata": {
    "collapsed": true
   },
   "outputs": [],
   "source": [
    "def generate_labeled_data(data, n, label, one_hot_index, data_out):\n",
    "    y = [0.0, 0.0, 0.0, 0.0]\n",
    "    y[one_hot_index] = 1.0\n",
    "    loop = len(data[label]) - 1\n",
    "\n",
    "    index = 0\n",
    "    for i in range(n):\n",
    "        blurred_data = blur(data[label][index])\n",
    "        blurred_data[-1] = y  # TODO: make sure I don't need to make a deep copy of this\n",
    "        data_out.append(blurred_data)\n",
    "\n",
    "        if index < loop:\n",
    "            index += 1\n",
    "        else:\n",
    "            index = 0"
   ]
  },
  {
   "cell_type": "markdown",
   "metadata": {},
   "source": [
    "&nbsp;\n",
    "\n",
    "**x**\n",
    "\n",
    "x."
   ]
  },
  {
   "cell_type": "code",
   "execution_count": null,
   "metadata": {
    "collapsed": true
   },
   "outputs": [],
   "source": []
  },
  {
   "cell_type": "markdown",
   "metadata": {},
   "source": [
    "&nbsp;\n",
    "\n",
    "**x**\n",
    "\n",
    "x."
   ]
  },
  {
   "cell_type": "code",
   "execution_count": 11,
   "metadata": {
    "collapsed": true
   },
   "outputs": [],
   "source": [
    "def initialize_network(data, num_hidden_nodes, num_output_nodes):\n",
    "    num_hidden_node_thetas = len(data[0])\n",
    "    num_output_node_thetas = num_hidden_nodes + 1  # num hidden noes + 1 because of bias\n",
    "    network = {'hidden_node_thetas': [], 'output_node_thetas': []}\n",
    "\n",
    "    for i in range(num_hidden_nodes):\n",
    "        hidden_node_thetas = [random.uniform(0, 1) for x in range(num_hidden_node_thetas)]\n",
    "        network['hidden_node_thetas'].append(hidden_node_thetas)\n",
    "\n",
    "    for i in range(num_output_nodes):\n",
    "        output_node_thetas = [random.uniform(0, 1) for x in range(num_output_node_thetas)]\n",
    "        network['output_node_thetas'].append(output_node_thetas)\n",
    "\n",
    "    return network"
   ]
  },
  {
   "cell_type": "markdown",
   "metadata": {},
   "source": [
    "&nbsp;\n",
    "\n",
    "**x**\n",
    "\n",
    "x."
   ]
  },
  {
   "cell_type": "code",
   "execution_count": 12,
   "metadata": {
    "collapsed": true
   },
   "outputs": [],
   "source": [
    "def dot_product(thetas, xs):\n",
    "    z = 0.0\n",
    "\n",
    "    for i in range(len(thetas)):\n",
    "        z += thetas[i] * xs[i]\n",
    "\n",
    "    return z"
   ]
  },
  {
   "cell_type": "markdown",
   "metadata": {},
   "source": [
    "&nbsp;\n",
    "\n",
    "**x**\n",
    "\n",
    "x."
   ]
  },
  {
   "cell_type": "code",
   "execution_count": 13,
   "metadata": {
    "collapsed": true
   },
   "outputs": [],
   "source": [
    "def calculate_yhat(thetas, xs):\n",
    "    z = dot_product(thetas, xs)\n",
    "    yhat = 1.0 / (1.0 + math.e ** (-z))\n",
    "\n",
    "    return yhat"
   ]
  },
  {
   "cell_type": "markdown",
   "metadata": {},
   "source": [
    "&nbsp;\n",
    "\n",
    "**x**\n",
    "\n",
    "x."
   ]
  },
  {
   "cell_type": "code",
   "execution_count": 14,
   "metadata": {
    "collapsed": true
   },
   "outputs": [],
   "source": [
    "def add_bias(xs):\n",
    "    xs_with_bias = copy.deepcopy(xs)  # todo see if this is needed\n",
    "    xs_with_bias.insert(0, 1.0)\n",
    "\n",
    "    return xs_with_bias"
   ]
  },
  {
   "cell_type": "markdown",
   "metadata": {},
   "source": [
    "&nbsp;\n",
    "\n",
    "**x**\n",
    "\n",
    "x."
   ]
  },
  {
   "cell_type": "code",
   "execution_count": 15,
   "metadata": {
    "collapsed": true
   },
   "outputs": [],
   "source": [
    "def calculate_hidden_node_outputs(network, input_nodes):\n",
    "    hidden_node_outputs = []\n",
    "    input_nodes_with_bias = add_bias(input_nodes[:len(input_nodes) - 1])  # use only input node xs, without the y\n",
    "\n",
    "    for hidden_node_thetas in network['hidden_node_thetas']:\n",
    "        hidden_node_output = calculate_yhat(hidden_node_thetas, input_nodes_with_bias)\n",
    "        hidden_node_outputs.append(hidden_node_output)\n",
    "\n",
    "    return hidden_node_outputs"
   ]
  },
  {
   "cell_type": "markdown",
   "metadata": {},
   "source": [
    "&nbsp;\n",
    "\n",
    "**x**\n",
    "\n",
    "x."
   ]
  },
  {
   "cell_type": "code",
   "execution_count": 16,
   "metadata": {
    "collapsed": true
   },
   "outputs": [],
   "source": [
    "def calculate_output_node_outputs(network):\n",
    "    output_node_outputs = []\n",
    "    hidden_node_outputs_with_bias = add_bias(network['hidden_node_outputs'])\n",
    "\n",
    "    for output_node_thetas in network['output_node_thetas']:\n",
    "        output_node_output = calculate_yhat(output_node_thetas, hidden_node_outputs_with_bias)\n",
    "        output_node_outputs.append(output_node_output)\n",
    "\n",
    "    return output_node_outputs"
   ]
  },
  {
   "cell_type": "markdown",
   "metadata": {},
   "source": [
    "&nbsp;\n",
    "\n",
    "**x**\n",
    "\n",
    "x."
   ]
  },
  {
   "cell_type": "code",
   "execution_count": 17,
   "metadata": {
    "collapsed": true
   },
   "outputs": [],
   "source": [
    "def calculate_delta_o(y, yhat):\n",
    "    delta_o = yhat * (1.0 - yhat) * (y - yhat)\n",
    "\n",
    "    return delta_o"
   ]
  },
  {
   "cell_type": "markdown",
   "metadata": {},
   "source": [
    "&nbsp;\n",
    "\n",
    "**x**\n",
    "\n",
    "x."
   ]
  },
  {
   "cell_type": "code",
   "execution_count": 18,
   "metadata": {
    "collapsed": true
   },
   "outputs": [],
   "source": [
    "def calculate_delta_os(network, ys):\n",
    "    delta_os = []\n",
    "\n",
    "    for i in range(len(ys)):\n",
    "        yhat = network['output_node_outputs'][i]\n",
    "        y = ys[i]\n",
    "\n",
    "        delta_o = calculate_delta_o(y, yhat)\n",
    "        delta_os.append(delta_o)\n",
    "\n",
    "    return delta_os"
   ]
  },
  {
   "cell_type": "markdown",
   "metadata": {},
   "source": [
    "&nbsp;\n",
    "\n",
    "**x**\n",
    "\n",
    "x."
   ]
  },
  {
   "cell_type": "code",
   "execution_count": 19,
   "metadata": {
    "collapsed": true
   },
   "outputs": [],
   "source": [
    "def calculate_delta_h(yhat, thetas, delta_os):\n",
    "    delta_h = yhat * (1 - yhat)\n",
    "\n",
    "    summation = 0.0\n",
    "    for i in range(len(thetas)):\n",
    "        theta = thetas[i]\n",
    "        delta_o = delta_os[i]\n",
    "        summation += (theta * delta_o)\n",
    "\n",
    "    delta_h = delta_h * summation\n",
    "\n",
    "    return delta_h"
   ]
  },
  {
   "cell_type": "markdown",
   "metadata": {},
   "source": [
    "&nbsp;\n",
    "\n",
    "**x**\n",
    "\n",
    "x."
   ]
  },
  {
   "cell_type": "code",
   "execution_count": 20,
   "metadata": {
    "collapsed": true
   },
   "outputs": [],
   "source": [
    "def calculate_delta_hs(network):\n",
    "    delta_hs = []\n",
    "    delta_os = network['delta_os']\n",
    "\n",
    "    for i in range(len(network['hidden_node_thetas'])):\n",
    "        thetas = []\n",
    "        for output_node_thetas in network['output_node_thetas']:\n",
    "            thetas.append(\n",
    "                output_node_thetas[i + 1])  # Get the  first theta of each output node for the first hidden node,\n",
    "            #   2nd of each output node for the second hidden node, etc.\n",
    "            # i + 1 because we skip the theta for the bbias\n",
    "\n",
    "        yhat = network['hidden_node_outputs'][i]  # TODO double check this is the right yhat but i'm pretty sure it is....\n",
    "        delta_h = calculate_delta_h(yhat, thetas, delta_os)\n",
    "        delta_hs.append(delta_h)\n",
    "\n",
    "    return delta_hs"
   ]
  },
  {
   "cell_type": "markdown",
   "metadata": {},
   "source": [
    "&nbsp;\n",
    "\n",
    "**x**\n",
    "\n",
    "x."
   ]
  },
  {
   "cell_type": "code",
   "execution_count": 21,
   "metadata": {
    "collapsed": true
   },
   "outputs": [],
   "source": [
    "def update_output_node_thetas(network, alpha):\n",
    "    for i in range(len(network['output_node_thetas'])):\n",
    "        thetas = network['output_node_thetas'][i]\n",
    "        delta_o = network['delta_os'][i]\n",
    "\n",
    "        hidden_node_outputs_with_bias = add_bias(network['hidden_node_outputs'])\n",
    "        for j in range(len(thetas)):\n",
    "            hidden_node_y = hidden_node_outputs_with_bias[j]\n",
    "            thetas[j] = thetas[j] + alpha * delta_o * hidden_node_y"
   ]
  },
  {
   "cell_type": "markdown",
   "metadata": {},
   "source": [
    "&nbsp;\n",
    "\n",
    "**x**\n",
    "\n",
    "x."
   ]
  },
  {
   "cell_type": "code",
   "execution_count": 22,
   "metadata": {
    "collapsed": true
   },
   "outputs": [],
   "source": [
    "def update_hidden_node_thetas(network, alpha, input_nodes):\n",
    "    input_nodes_with_bias = add_bias(input_nodes[:len(input_nodes) - 1])  # use only input node xs, without the y\n",
    "\n",
    "    for i in range(len(network['hidden_node_thetas'])):\n",
    "        thetas = network['hidden_node_thetas'][i]\n",
    "        delta_h = network['delta_hs'][i]\n",
    "\n",
    "        for j in range(len(thetas)):\n",
    "            xi = input_nodes_with_bias[j]\n",
    "            thetas[j] = thetas[j] + alpha * delta_h * xi"
   ]
  },
  {
   "cell_type": "markdown",
   "metadata": {},
   "source": [
    "&nbsp;\n",
    "\n",
    "**x**\n",
    "\n",
    "x."
   ]
  },
  {
   "cell_type": "code",
   "execution_count": 23,
   "metadata": {
    "collapsed": true
   },
   "outputs": [],
   "source": [
    "def calculate_individual_error(ys, yhats):\n",
    "    error_summation = 0\n",
    "    for i in range(len(ys)):\n",
    "        y = ys[i]\n",
    "        yhat = yhats[i]\n",
    "\n",
    "        if yhat == 0 and (1 - yhat) == 0:\n",
    "            pass\n",
    "\n",
    "        elif yhat == 0:\n",
    "            error_summation += ((1 - y) * math.log(1 - yhat))\n",
    "\n",
    "        elif (1 - yhat) == 0:\n",
    "            error_summation += (y * math.log(yhat))\n",
    "\n",
    "        else:\n",
    "            error_summation += (y * math.log(yhat) + (1 - y) * math.log(1 - yhat))\n",
    "\n",
    "    return error_summation"
   ]
  },
  {
   "cell_type": "markdown",
   "metadata": {},
   "source": [
    "&nbsp;\n",
    "\n",
    "**x**\n",
    "\n",
    "x."
   ]
  },
  {
   "cell_type": "code",
   "execution_count": 24,
   "metadata": {
    "collapsed": true
   },
   "outputs": [],
   "source": [
    "def calculate_error(data, network, alpha):\n",
    "    error = 0\n",
    "    test_network = {}\n",
    "    test_network['hidden_node_thetas'] = copy.deepcopy(network['hidden_node_thetas'])\n",
    "    test_network['output_node_thetas'] = copy.deepcopy(network['output_node_thetas'])\n",
    "\n",
    "    for input_nodes in data:\n",
    "        test_network['hidden_node_outputs'] = calculate_hidden_node_outputs(network, input_nodes)\n",
    "        test_network['output_node_outputs'] = calculate_output_node_outputs(network)\n",
    "\n",
    "        ys = input_nodes[-1]\n",
    "        yhats = test_network['output_node_outputs']\n",
    "        \n",
    "        error += calculate_individual_error(ys, yhats)\n",
    "            \n",
    "        test_network['delta_os'] = calculate_delta_os(network, ys)\n",
    "        test_network['delta_hs'] = calculate_delta_hs(test_network)  # TODO check this\n",
    "\n",
    "        update_output_node_thetas(test_network, alpha)\n",
    "        update_hidden_node_thetas(test_network, alpha, input_nodes)\n",
    "\n",
    "    return -1/(error / len(data))"
   ]
  },
  {
   "cell_type": "markdown",
   "metadata": {},
   "source": [
    "&nbsp;\n",
    "\n",
    "**x**\n",
    "\n",
    "x."
   ]
  },
  {
   "cell_type": "code",
   "execution_count": 25,
   "metadata": {
    "collapsed": true
   },
   "outputs": [],
   "source": [
    "def get_labeled_data_results(actuals, predictions):\n",
    "    result = []\n",
    "    max_prediction_index = predictions.index(max(predictions))\n",
    "\n",
    "    for i in range(len(predictions)):\n",
    "        actual = actuals[i]\n",
    "        if i != max_prediction_index:\n",
    "            prediction = 0.0\n",
    "            result.append((actual, prediction))\n",
    "\n",
    "        else:\n",
    "            prediction = 1.0\n",
    "            result.append((actual, prediction))\n",
    "\n",
    "    return result"
   ]
  },
  {
   "cell_type": "markdown",
   "metadata": {},
   "source": [
    "&nbsp;\n",
    "\n",
    "**x**\n",
    "\n",
    "x."
   ]
  },
  {
   "cell_type": "code",
   "execution_count": 26,
   "metadata": {
    "collapsed": true
   },
   "outputs": [],
   "source": [
    "def get_unlabeled_data_results(predictions):\n",
    "    result = []\n",
    "    max_prediction_index = predictions.index(max(predictions))\n",
    "\n",
    "    for i in range(len(predictions)):\n",
    "        prediction = predictions[i]\n",
    "        if i != max_prediction_index:\n",
    "            result.append((0, 1 - prediction))\n",
    "\n",
    "        else:\n",
    "            result.append((1, prediction))\n",
    "\n",
    "    return result"
   ]
  },
  {
   "cell_type": "markdown",
   "metadata": {},
   "source": [
    "&nbsp;\n",
    "\n",
    "**x**\n",
    "\n",
    "x."
   ]
  },
  {
   "cell_type": "code",
   "execution_count": 27,
   "metadata": {
    "collapsed": true
   },
   "outputs": [],
   "source": [
    "def calculate_validation_curve_error(results):\n",
    "    n = 0.0\n",
    "    errors = 0.0\n",
    "    not_errors = 0.0\n",
    "    for result in results:\n",
    "        for point in results:\n",
    "            error = False\n",
    "            for pair in point:\n",
    "                if pair[0] != pair[1]:\n",
    "                    error = True\n",
    "            if error:\n",
    "                errors += 1.0\n",
    "\n",
    "            else:\n",
    "                not_errors += 1.0\n",
    "            n += 1.0\n",
    "    print 'errors', errors\n",
    "    print 'not_errors', not_errors\n",
    "    print\n",
    "    print\n",
    "    error_rate = errors / n\n",
    "    return error_rate"
   ]
  },
  {
   "cell_type": "markdown",
   "metadata": {},
   "source": [
    "&nbsp;\n",
    "\n",
    "**x**\n",
    "\n",
    "x."
   ]
  },
  {
   "cell_type": "code",
   "execution_count": null,
   "metadata": {
    "collapsed": true
   },
   "outputs": [],
   "source": []
  },
  {
   "cell_type": "markdown",
   "metadata": {},
   "source": [
    "---\n",
    "\n",
    "\n",
    "## Main Functions"
   ]
  },
  {
   "cell_type": "markdown",
   "metadata": {},
   "source": [
    "Use `generate_data` to generate 10 blurred \"hills\" examples with balanced (same number of) \"non hills\" examples to see that the function is working."
   ]
  },
  {
   "cell_type": "code",
   "execution_count": null,
   "metadata": {
    "collapsed": false
   },
   "outputs": [
    {
     "name": "stdout",
     "output_type": "stream",
     "text": [
      "[0.0632845070846394, 0.07239171549185419, 0.1630097498064499, 0.07194067491950593, 0.03996334470467401, 0.0182974439332612, 0.9018336158474474, 0.04512641112563143, 0.10680597905021633, 0.8124042034855965, 1.0, 0.7589008078398339, 0.8504975440509045, 0.7530213286806733, 0.8286336668082284, 0.9036680786830809, [1.0, 0.0, 0.0, 0.0]]\n",
      "[0.2115781308809777, 0.16930850798638986, 0.06929884402352063, 0.16954545292615775, 0.08240251710859128, 0.6715276400612397, 0.09232781045778035, 0.044245812526653175, 1.0, 0.6550612256730948, 0.8444289522487897, 0.13074765290287813, 1.0, 0.8465097194481339, 0.8521308737865771, 0.8430101366918603, [1.0, 0.0, 0.0, 0.0]]\n",
      "[0.1124393909745981, 0.013111309093515808, 0.01615947569575457, 0.08158159034998895, 0.7344435735201722, 0.1660487067349279, 0.16927134339796315, 0.1721990305957759, 1.0, 0.8637954917610764, 0.07142998232850169, 0.050041703383193845, 0.9086646724381287, 0.9255659117399784, 0.7692417832387163, 0.07973493512323411, [1.0, 0.0, 0.0, 0.0]]\n",
      "[0.1211098880566237, 0.13907227424664317, 0.025765508992872263, 0.17333854011995511, 0.016715625974189782, 0.07583685913606893, 0.14406352339536949, 0.709591136253869, 0.09141724671164643, 0.08576679998477933, 0.8477549349992501, 0.9652976018341186, 0.104595760214556, 0.9782855029638059, 1.0, 0.779386367774423, [1.0, 0.0, 0.0, 0.0]]\n",
      "[0.035842750384977445, 0.14951584878896199, 0.07633800411818017, 0.09366715388013823, 0.08655802819108209, 0.07333426696570758, 0.685844958535808, 0.029866336789100764, 0.16376248253406456, 0.9686643057720373, 0.9988140884196554, 1.0, 0.8773147386349298, 0.7292090380681541, 0.904059772255169, 0.9431564410313519, [1.0, 0.0, 0.0, 0.0]]\n",
      "[0.06957397866074282, 0.1077672274397334, 0.0811959270534118, 0.13212569729059634, 0.13520583301105024, 0.7909522531151609, 0.050479049648240376, 0.08601709777229544, 0.8497774391968923, 0.92571634982051, 0.9206473913686066, 0.14695591937698022, 0.7430871008050572, 0.9152312253626963, 0.8317455416497183, 0.8154313896521257, [1.0, 0.0, 0.0, 0.0]]\n",
      "[0.11893261823905732, 0.11529290491309861, 0.11671527327613568, 0.2151361601874997, 0.9193040957924049, 0.11128514213441663, 0.2173329845636226, 0.03214921547280504, 0.7498415213574131, 0.9299550478671056, 0.03789911448913541, 0.17977534038497925, 0.9946681238411195, 0.8747252315993804, 0.6927885790453449, 0.09746505682675334, [1.0, 0.0, 0.0, 0.0]]\n",
      "[0.09802400028536189, 0.140911256121035, 0.05733987117472771, 0.07207269250483252, 0.05772875626510214, 0.0970115819836499, 0.0, 0.8875489445514166, 0.004568412187993268, 0.09269771261303793, 0.9284585912007951, 0.765919636475933, 0.12739111942388492, 0.9778537251751195, 0.9055423632696644, 0.9510541364223839, [1.0, 0.0, 0.0, 0.0]]\n",
      "[0.12149056974294223, 0.0, 0.09809666333018276, 0.11797072304783122, 0.22355220895436073, 0.12224839416161722, 0.8301623747448287, 0.128223856618379, 0.05024804479692954, 0.8144232612258336, 0.915862300930355, 1.0, 1.0, 0.802563469178989, 0.9657079681897054, 0.7169102434875945, [1.0, 0.0, 0.0, 0.0]]\n",
      "[0.15524038080434738, 0.1823716955306144, 0.029040826193231173, 0.08716192172027054, 0.20628470801574492, 0.977493790539968, 0.13096201906276725, 0.10955135142273949, 0.9544728044678057, 0.6436785938626766, 0.8664791063784625, 0.13505793098144162, 0.8922305381909604, 0.8599431521788967, 0.776109328407963, 0.9264730505245137, [1.0, 0.0, 0.0, 0.0]]\n",
      "[0.08565373626169946, 0.213534232221895, 0.14063403632104352, 0.115014003514814, 0.027292274514440856, 0.07390727572305728, 0.15503604383973568, 0.1826221823736186, 0.8838406462606725, 0.11924085564682188, 0.9879712669308822, 0.09697954595899483, 0.8301092436393581, 0.8693309506763109, 0.9125613002792441, 0.8355292716208822, [0.0, 1.0, 0.0, 0.0]]\n",
      "[0.08255608506356517, 0.01948338693179308, 0.01677601571247757, 0.13822049446608137, 0.09013621339145392, 0.16952957593511375, 0.10130868904207248, 0.10747067127229806, 0.08514155353443932, 0.9069516998885688, 0.12008635242725665, 0.9906353982533049, 0.8234612942133774, 1.0, 0.8967417465478988, 1.0, [0.0, 1.0, 0.0, 0.0]]\n",
      "[0.046582813300637405, 0.07395627727177741, 0.13302910736135629, 0.16028206126329808, 0.1772143919045666, 0.04751355236490976, 0.08026027089673114, 0.15011116665390317, 0.973259303214383, 0.2055431722064468, 0.982419846799082, 0.045116522638537805, 0.7958972601630374, 0.90256429938711, 0.996556303135463, 0.8894402813449898, [0.0, 1.0, 0.0, 0.0]]\n",
      "[0.08140677270742325, 0.13121406076032371, 0.0, 0.15363980113664996, 0.12862867762225863, 0.09743361050209076, 0.12972074258530708, 0.16400454721262026, 0.09545624964646529, 0.840611942733499, 0.10081846484971822, 0.8609168114700227, 0.9250419480266526, 0.7711623073364907, 0.9398620998269559, 0.9188681849912022, [0.0, 1.0, 0.0, 0.0]]\n",
      "[0.017174181915201953, 0.07408324239326715, 0.07637612377999471, 0.15095688066454216, 0.14196819597102828, 0.060687183891486245, 0.07677581333956181, 0.06991488386975869, 0.9024750392891954, 0.025304147953894185, 0.8205686746686252, 0.04394953134823374, 0.9976818567634087, 0.8367735760029499, 0.8537494514711338, 0.771249523370376, [0.0, 1.0, 0.0, 0.0]]\n",
      "[0.11594439659263499, 0.07033254696952719, 0.10868754436169067, 0.09633752588475789, 0.06096817135912298, 0.03773104071011171, 0.07875717584245247, 0.12458034112549903, 0.09930718001656208, 0.924435290427275, 0.13368740089212344, 0.8694805786143224, 0.9128695024118925, 0.9034925398786536, 0.9108449244010711, 1.0, [0.0, 1.0, 0.0, 0.0]]\n",
      "[0.010334596404382876, 0.09719100641194495, 0.08559780421087179, 0.02698703400536724, 0.14119304598099425, 0.09956928349944957, 0.1636414549709852, 0.04857724307057011, 0.8687110198127791, 0.10135666665705483, 0.877523786545629, 0.15561756590833048, 0.9034438776876653, 1.0, 0.9024807637969855, 0.8824763255120739, [0.0, 1.0, 0.0, 0.0]]\n",
      "[0.08603522595171766, 0.04895234009398807, 0.08152429580700046, 0.10896830797801522, 0.02436264337859459, 0.06399434660575642, 0.0, 0.11304874791200688, 0.18912113838612396, 0.8648054204798364, 0.08274062834000398, 0.8720671447457831, 0.9703117700707463, 0.9191640902584529, 0.7193695761616341, 0.8416347499318697, [0.0, 1.0, 0.0, 0.0]]\n",
      "[0.14765109824966519, 0.12072257357854857, 0.0898637790571075, 0.09616265204684962, 0.05723018971254817, 0.0, 0.18544983117362165, 0.09718923229199661, 0.9945480790820944, 0.02485250986015912, 0.8283996687451041, 0.09764126863586492, 0.9811604265638907, 1.0, 0.7615864667130219, 0.8107589957340925, [0.0, 1.0, 0.0, 0.0]]\n",
      "[0.04739184923171154, 0.08792149176699308, 0.16097523617300777, 0.14399016220513303, 0.04313457024147049, 0.11181147951278264, 0.17604036095087144, 0.12180364992057552, 0.08444372772846688, 0.903298356559609, 0.11057552253770314, 0.9074849960441682, 0.7923163609676371, 0.9181470684625951, 0.8424600169209161, 0.9583834195943832, [0.0, 1.0, 0.0, 0.0]]\n",
      "[0.004778378794180277, 0.9639788451882947, 0.14033948422995227, 0.1322407883835899, 0.6787261908847594, 0.944970070493661, 0.8144734270650685, 0.08711056354119942, 0.9477079597872533, 0.8442792898362008, 0.8396047119222778, 0.8197055688953211, 0.10799506675443621, 0.8692168439739937, 0.1209893662471297, 0.07559180659465418, [0.0, 0.0, 1.0, 0.0]]\n",
      "[0.06547977774871686, 0.154057799079072, 0.9386557585846231, 0.10202174219678808, 0.1960987436683101, 0.9512637960837863, 0.944467859968583, 0.808621642675182, 0.853606237771583, 1.0, 1.0, 1.0, 0.09929605569862135, 0.11985424649836249, 0.9182406191527359, 0.16762210301748712, [0.0, 0.0, 1.0, 0.0]]\n",
      "[1.0, 0.0, 0.08997236243145414, 0.06026555810301141, 0.9018934962089767, 0.8335326678890149, 0.09748657857724623, 0.08609810229513057, 0.928991892359328, 0.9020114265955131, 0.9831958428032307, 0.16068290647404082, 0.770652526556326, 0.16765434936579351, 0.04209635757063233, 0.11845139411848515, [0.0, 0.0, 1.0, 0.0]]\n",
      "[0.08193205212134437, 0.12289129867519005, 0.1478464086323607, 0.9267448651415671, 0.055811649835321636, 0.13048727738629468, 1.0, 0.8663031286554377, 0.018295717622042032, 0.8057608878541823, 1.0, 0.9093945619633544, 0.09218461999015747, 0.06302904103959799, 0.08584433762834132, 0.9125556563866706, [0.0, 0.0, 1.0, 0.0]]\n",
      "[0.006433339222102014, 0.6486184924576608, 0.12377887220238146, 0.09286098079346912, 0.9385701156484142, 0.9715836276983644, 0.834682468099185, 0.09801212531545349, 0.5158495162836, 0.9004569268026786, 0.7997327121384484, 0.7873045351156092, 0.13225203634605254, 0.9076616182895444, 0.048961743457730245, 0.08984789711539938, [0.0, 0.0, 1.0, 0.0]]\n",
      "[0.09227652397426608, 0.13554518375981955, 0.9317591097894248, 0.06377276989225408, 0.09990538427869153, 0.928631156862291, 0.9457043007247663, 0.9905065001838205, 0.8609383919596029, 0.8185991575137712, 0.8250991777186836, 0.9446527880126471, 0.02509971683866659, 0.12682951480128818, 0.8271764957807948, 0.07827974927282227, [0.0, 0.0, 1.0, 0.0]]\n",
      "[0.878199194640213, 0.06543001949820601, 0.0, 0.03915968284735987, 0.9802488525710128, 0.7832502366990537, 0.0004347237788410313, 0.11613284432109199, 0.7925095310126511, 1.0, 0.9574781585508377, 0.02654167942084988, 1.0, 0.1619972862347816, 0.06660723010993759, 0.09167609417408858, [0.0, 0.0, 1.0, 0.0]]\n",
      "[0.07962470737477248, 0.09006322031094054, 0.08027062929966437, 0.8860225753088145, 0.06890083954908177, 0.0, 0.9172282299475338, 0.8895547809306773, 0.07847293110193307, 0.7643285297111794, 0.9361812107031005, 0.8983393679871314, 0.09037125998144055, 0.07365177838238923, 0.14969623814260685, 0.9484310865761917, [0.0, 0.0, 1.0, 0.0]]\n",
      "[0.10799615975667239, 0.9599562700701691, 0.0434932084743655, 0.19349501514700407, 0.917416318105, 0.9340260288584855, 0.9426121152994971, 0.0913345732475297, 1.0, 1.0, 0.9219391293980981, 0.678069785581755, 0.11607298610029418, 0.9461769778090184, 0.08852798083927832, 0.1553901343364431, [0.0, 0.0, 1.0, 0.0]]\n",
      "[0.14450075453630823, 0.13596428977238298, 0.7871758528991877, 0.0975696030694822, 0.10580184267792184, 1.0, 1.0, 0.8291705436235037, 0.9613059401050308, 0.731670461509684, 0.7456577501214439, 0.8718539450369213, 0.08300805245070983, 0.12907744017852615, 0.9140935015018128, 0.17823559213231585, [0.0, 0.0, 1.0, 0.0]]\n",
      "[0.062693573718392, 0.19947148038831045, 0.06819651053431536, 0.07094654364942746, 0.18043830232949448, 0.15576634317668628, 0.14792932461957375, 0.10866657210492238, 0.13657716550482907, 0.15124484616420947, 0.06736624882620101, 0.10742543944452312, 1.0, 0.9215083005658669, 1.0, 0.958901487318787, [0.0, 0.0, 0.0, 1.0]]\n",
      "[0.11734940771137564, 0.09032276208776757, 0.09471073216824205, 0.11600950812200507, 0.16560318151908043, 0.0908525501512096, 0.11205218073104214, 0.08286084313285873, 0.0005676870137220763, 0.052238509193327856, 0.16668471275321944, 0.168213975952763, 0.9339228481641955, 0.8505174361422246, 1.0, 0.8787424268896843, [0.0, 0.0, 0.0, 1.0]]\n",
      "[0.0787744314503537, 0.1281001662678407, 0.060268144714729105, 0.05411696316733641, 0.14333675476451324, 0.039493062890766595, 0.07694355644054345, 0.0, 0.06247366276100695, 0.06018467447052528, 0.09944455535336785, 0.11244227108007677, 0.7804336618741089, 0.7055459246866095, 0.9380853959672607, 0.9772262859797959, [0.0, 0.0, 0.0, 1.0]]\n",
      "[0.10350345674772143, 0.01657115811201529, 0.12272707679502158, 0.03643652344670062, 0.047569758807454836, 0.07631545442382248, 0.18896070348862046, 0.10099394617291459, 0.05498449396379175, 0.12051699065884564, 0.1296442168461705, 0.017772476200932863, 0.7404720632459046, 1.0, 0.8258080231182995, 0.9126144452035689, [0.0, 0.0, 0.0, 1.0]]\n",
      "[0.15474366042520252, 0.11350015685465242, 0.04950829871091551, 0.09689904188421783, 0.07617754218766168, 0.1086911337369809, 0.12378360176653405, 0.014728088983462048, 0.15644459628445048, 0.10769458007834412, 0.12182926665670452, 0.07382013798672149, 0.963252319642231, 1.0, 1.0, 0.8770349318190312, [0.0, 0.0, 0.0, 1.0]]\n",
      "[0.14378163433593683, 0.02660092975979933, 0.05140032979723413, 0.12114004021723462, 0.11430480925291767, 0.0923325532994165, 0.04373868824764156, 0.1345885840856746, 0.0, 0.05908617171606575, 0.0552085094241638, 0.13254446008348436, 0.7931446283111505, 1.0, 0.7940056046299364, 0.8207122353764931, [0.0, 0.0, 0.0, 1.0]]\n",
      "[0.16348682085902322, 0.07573330910911091, 0.08688268141810912, 0.1437618800072583, 0.1149321964454386, 0.15270881793136756, 0.12089476524704501, 0.11880573092913094, 0.1786026409937838, 0.0324811501749402, 0.10460589551737431, 0.05693225782546147, 0.9873818827412286, 1.0, 0.8619832489954491, 1.0, [0.0, 0.0, 0.0, 1.0]]\n",
      "[0.13501862125503278, 0.07425286234820494, 0.12965981946514976, 0.05751140404075206, 0.20785863329290136, 0.09564108578898092, 0.0, 0.11439928806770001, 0.14048178612432147, 0.028462016512847854, 0.14867244446724953, 0.06092782741597141, 0.8637684317491606, 0.6838262897115301, 0.8454680784566851, 0.9574993598778684, [0.0, 0.0, 0.0, 1.0]]\n",
      "[0.15272524959708167, 0.10956096147927846, 0.07378117223680515, 0.1966437179722391, 0.057644767642349826, 0.1573758791345931, 0.06795429645842474, 0.12178289293630878, 0.1586064246512644, 0.14823057381084676, 0.07400184967815308, 0.0890535118884596, 1.0, 1.0, 1.0, 0.9746426288330412, [0.0, 0.0, 0.0, 1.0]]\n",
      "[0.0487523832254757, 0.16639123573406256, 0.1439614305471655, 0.07348298392495958, 0.07780555982153275, 0.12618590717123937, 0.06968881461003808, 0.014747307792836756, 0.08475372895020918, 0.10930540866239657, 0.09365132989531325, 0.07284010266392725, 1.0, 0.7248881354774802, 0.8129017721961977, 0.7742955889011178, [0.0, 0.0, 0.0, 1.0]]\n"
     ]
    }
   ],
   "source": [
    "def generate_data(data, n):\n",
    "    data_out = []\n",
    "\n",
    "    generate_labeled_data(data, n, \"hills\", 0, data_out)\n",
    "    generate_labeled_data(data, n, \"swamp\", 1, data_out)\n",
    "    generate_labeled_data(data, n, \"forest\", 2, data_out)\n",
    "    generate_labeled_data(data, n, \"plains\", 3, data_out)\n",
    "\n",
    "    return data_out\n",
    "\n",
    "results = generate_data( clean_data, 10)\n",
    "for result in results:\n",
    "    print result"
   ]
  },
  {
   "cell_type": "markdown",
   "metadata": {},
   "source": [
    "Use `learn_model` to learn a ANN model for classifying sensor images as hills, swamps, plains or forest. Use your `generate_data` function to generate a training set with 100 examples for each. **Set Verbose to True**"
   ]
  },
  {
   "cell_type": "code",
   "execution_count": null,
   "metadata": {
    "collapsed": false,
    "scrolled": false
   },
   "outputs": [],
   "source": [
    "def learn_model(data, num_hidden_nodes, verbose=False):\n",
    "    num_output_nodes = 4\n",
    "    network = initialize_network(data, num_hidden_nodes, num_output_nodes)\n",
    "    epsilon = 0.0000001\n",
    "    alpha = 0.01 \n",
    "    \n",
    "    previous_error = 0.0\n",
    "    current_error = float('-inf')\n",
    "\n",
    "    iter = 0\n",
    "\n",
    "    while iter < 5000 and abs(current_error - previous_error) > epsilon:\n",
    "        iter += 1\n",
    "        for input_nodes in data:\n",
    "            # feed forward step\n",
    "            # calculate output of every node in the network (yhat function)\n",
    "            network['hidden_node_outputs'] = calculate_hidden_node_outputs(network, input_nodes)\n",
    "            network['output_node_outputs'] = calculate_output_node_outputs(network)\n",
    "\n",
    "            # back prop step\n",
    "            # calculate delta_o for every output node\n",
    "            ys = input_nodes[-1]\n",
    "            network['delta_os'] = calculate_delta_os(network, ys)\n",
    "\n",
    "            # calculate delta_h for every hidden node\n",
    "            network['delta_hs'] = calculate_delta_hs(network)  # TODO check this\n",
    "\n",
    "            # update all of the thetas\n",
    "            update_output_node_thetas(network, alpha)\n",
    "            update_hidden_node_thetas(network, alpha, input_nodes)\n",
    "\n",
    "        if verbose and iter % 1000 == 0:\n",
    "            print 'error: ', current_error\n",
    "\n",
    "        previous_error = current_error\n",
    "\n",
    "        current_error = calculate_error(data, network, alpha)\n",
    "\n",
    "    return (network['hidden_node_thetas'], network['output_node_thetas'])\n",
    "\n",
    "train_data = generate_data( clean_data, 100)\n",
    "model = learn_model( train_data, 2, True)"
   ]
  },
  {
   "cell_type": "markdown",
   "metadata": {},
   "source": [
    "Use `generate_data` to generate 100 blurred examples of each terrain and use this as your test data. Print out the first 10 results, one per line."
   ]
  },
  {
   "cell_type": "code",
   "execution_count": null,
   "metadata": {
    "collapsed": true
   },
   "outputs": [],
   "source": [
    "test_data = generate_data( clean_data, 100)\n",
    "\n",
    "def apply_model(model, test_data, labeled=False):\n",
    "    network = {}\n",
    "    results = []\n",
    "    network['hidden_node_thetas'] = model[0]\n",
    "    network['output_node_thetas'] = model[1]\n",
    "\n",
    "    for input_nodes in test_data:\n",
    "        network['hidden_node_outputs'] = calculate_hidden_node_outputs(network, input_nodes)\n",
    "        network['output_node_outputs'] = calculate_output_node_outputs(network)\n",
    "\n",
    "        if labeled:\n",
    "            actuals = input_nodes[-1]\n",
    "            predictions = network['output_node_outputs']\n",
    "            result = get_labeled_data_results(actuals, predictions)\n",
    "            results.append(result)\n",
    "\n",
    "        else:\n",
    "            predictions = network['output_node_outputs']\n",
    "            result = get_unlabeled_data_results(predictions)\n",
    "            results.append(result)\n",
    "\n",
    "    return results\n",
    "\n",
    "results = apply_model( model, test_data)\n",
    "print_html_table(results[:10])"
   ]
  },
  {
   "cell_type": "markdown",
   "metadata": {},
   "source": [
    "Now that you're pretty sure your algorithm works (the error rate during training is going down, and you can evaluate `apply_model` results for its error rate, learn validation curves:"
   ]
  },
  {
   "cell_type": "code",
   "execution_count": null,
   "metadata": {
    "collapsed": true
   },
   "outputs": [],
   "source": [
    "def generate_validation_curves(clean_data):\n",
    "    train = generate_data(clean_data, 100)\n",
    "    test = generate_data(clean_data, 100)\n",
    "    train_error_values = []\n",
    "    test_error_values = []\n",
    "    hidden_nodes = [2, 4, 8]\n",
    "    for n in hidden_nodes:\n",
    "        model = learn_model(train, n)  # verbose is False now please!\n",
    "        train_results = apply_model(model, train, True)\n",
    "        test_results = apply_model(model, test, True)\n",
    "\n",
    "        train_error_values.append(calculate_validation_curve_error(train_results))\n",
    "        test_error_values.append(calculate_validation_curve_error(test_results))\n",
    "\n",
    "    print   'hidden_nodes', hidden_nodes\n",
    "    print   'train_error_values', train_error_values\n",
    "    print 'test_error_values', test_error_values\n",
    "\n",
    "    plt.plot(hidden_nodes, train_error_values)\n",
    "    plt.plot(hidden_nodes, test_error_values)\n",
    "    plt.show()"
   ]
  },
  {
   "cell_type": "markdown",
   "metadata": {},
   "source": [
    "which number of hidden nodes is best? **8**"
   ]
  }
 ],
 "metadata": {
  "kernelspec": {
   "display_name": "Python 2",
   "language": "python",
   "name": "python2"
  },
  "language_info": {
   "codemirror_mode": {
    "name": "ipython",
    "version": 2
   },
   "file_extension": ".py",
   "mimetype": "text/x-python",
   "name": "python",
   "nbconvert_exporter": "python",
   "pygments_lexer": "ipython2",
   "version": "2.7.13"
  }
 },
 "nbformat": 4,
 "nbformat_minor": 1
}
