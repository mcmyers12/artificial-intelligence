{
 "cells": [
  {
   "cell_type": "code",
   "execution_count": 1,
   "metadata": {
    "collapsed": true
   },
   "outputs": [],
   "source": [
    "import numpy as np\n",
    "from IPython.display import HTML, display\n",
    "import matplotlib.pyplot as plt\n",
    "import random\n",
    "import sys\n",
    "import copy\n",
    "import math"
   ]
  },
  {
   "cell_type": "markdown",
   "metadata": {},
   "source": [
    "# Module 10 - Programming Assignment (Summer)"
   ]
  },
  {
   "cell_type": "markdown",
   "metadata": {},
   "source": [
    "# The Problem\n",
    "\n",
    "Last week we left our agent with a simple logistic regression that it could use to classify a picture from its cheap visual \"sensor\" as hills or not hills. We *could* make a logistic regression for each train type (hills/not hills, plains/not plains, swamp/not swamp, forest/not forest) and pick the one with the largest probability but that's exactly the kind of a problem a Multi-Layer Perceptron (MLP) Artificial Neural Network (ANN) was designed to solve.\n",
    "\n",
    "Here are the \"pure\" images again:"
   ]
  },
  {
   "cell_type": "code",
   "execution_count": 2,
   "metadata": {
    "collapsed": false
   },
   "outputs": [
    {
     "data": {
      "image/png": "[encoded data removed]",
      "text/plain": [
       "<matplotlib.figure.Figure at 0x10e1c7b10>"
      ]
     },
     "metadata": {},
     "output_type": "display_data"
    }
   ],
   "source": [
    "plain =  [0.0, 0.0, 0.0, 0.0,0.0, 0.0, 0.0, 0.0,0.0, 0.0, 0.0, 0.0,1.0, 1.0, 1.0, 1.0]\n",
    "forest = [0.0, 1.0, 0.0, 0.0,1.0, 1.0, 1.0, 0.0,1.0, 1.0, 1.0, 1.0,0.0, 1.0, 0.0, 0.0]\n",
    "hills =  [0.0, 0.0, 0.0, 0.0,0.0, 0.0, 1.0, 0.0,0.0, 1.0, 1.0, 1.0,1.0, 1.0, 1.0, 1.0]\n",
    "swamp =  [0.0, 0.0, 0.0, 0.0,0.0, 0.0, 0.0, 0.0,1.0, 0.0, 1.0, 0.0,1.0, 1.0, 1.0, 1.0]\n",
    "\n",
    "figure = plt.figure(figsize=(20,6))\n",
    "\n",
    "axes = figure.add_subplot(1, 3, 1)\n",
    "pixels = np.array([255 - p * 255 for p in plain], dtype='uint8')\n",
    "pixels = pixels.reshape((4, 4))\n",
    "axes.set_title( \"Left Camera\")\n",
    "axes.imshow(pixels, cmap='gray')\n",
    "\n",
    "axes = figure.add_subplot(1, 3, 2)\n",
    "pixels = np.array([255 - p * 255 for p in forest], dtype='uint8')\n",
    "pixels = pixels.reshape((4, 4))\n",
    "axes.set_title( \"Front Camera\")\n",
    "axes.imshow(pixels, cmap='gray')\n",
    "\n",
    "axes = figure.add_subplot(1, 3, 3)\n",
    "pixels = np.array([255 - p * 255 for p in hills], dtype='uint8')\n",
    "pixels = pixels.reshape((4, 4))\n",
    "axes.set_title( \"Right Camera\")\n",
    "axes.imshow(pixels, cmap='gray')\n",
    "\n",
    "plt.show()\n",
    "plt.close()"
   ]
  },
  {
   "cell_type": "markdown",
   "metadata": {},
   "source": [
    "which would be plains, forest and hills respectively.\n",
    "\n",
    "## The Assignment\n",
    "\n",
    "For this programming assignment your tasks are:\n",
    "\n",
    "1. Write an ANN regression that simply determines what kind of terrain it is. This is a multi-class problem.\n",
    "2. You will also evaluate your model for at least 3 different numbers of nodes in the hidden layer (2, 4, 8) and determine which one has the lowest *error rate*.\n",
    "\n",
    "For a starting point, you can refer to **module-10-pseudocode.pdf** and the Self-Check."
   ]
  },
  {
   "cell_type": "markdown",
   "metadata": {},
   "source": [
    "## Data\n",
    "\n",
    "As before, we have clean examples of the different types of terrain but based on the location, the registration can be a bit off for some of the types and the visual sensor is often blurry.\n",
    "\n",
    "Here are the clean examples with different registrations: "
   ]
  },
  {
   "cell_type": "code",
   "execution_count": 3,
   "metadata": {
    "collapsed": true
   },
   "outputs": [],
   "source": [
    "clean_data = {\n",
    "    \"plains\": [\n",
    "        [0.0, 0.0, 0.0, 0.0, 0.0, 0.0, 0.0, 0.0, 0.0, 0.0, 0.0, 0.0, 1.0, 1.0, 1.0, 1.0, \"plains\"]\n",
    "    ],\n",
    "    \"forest\": [\n",
    "        [0.0, 1.0, 0.0, 0.0, 1.0, 1.0, 1.0, 0.0, 1.0, 1.0, 1.0, 1.0, 0.0, 1.0, 0.0, 0.0, \"forest\"],\n",
    "        [0.0, 0.0, 1.0, 0.0, 0.0, 1.0, 1.0, 1.0, 1.0, 1.0, 1.0, 1.0, 0.0, 0.0, 1.0, 0.0, \"forest\"],\n",
    "        [1.0, 0.0, 0.0, 0.0, 1.0, 1.0, 0.0, 0.0, 1.0, 1.0, 1.0, 0.0, 1.0, 0.0, 0.0, 0.0, \"forest\"],\n",
    "        [0.0, 0.0, 0.0, 1.0, 0.0, 0.0, 1.0, 1.0, 0.0, 1.0, 1.0, 1.0, 0.0, 0.0, 0.0, 1.0, \"forest\"]\n",
    "    ],\n",
    "    \"hills\": [\n",
    "        [0.0, 0.0, 0.0, 0.0, 0.0, 0.0, 1.0, 0.0, 0.0, 1.0, 1.0, 1.0, 1.0, 1.0, 1.0, 1.0, \"hills\"],\n",
    "        [0.0, 0.0, 0.0, 0.0, 0.0, 1.0, 0.0, 0.0, 1.0, 1.0, 1.0, 0.0, 1.0, 1.0, 1.0, 1.0, \"hills\"],\n",
    "        [0.0, 0.0, 0.0, 0.0, 1.0, 0.0, 0.0, 0.0, 1.0, 1.0, 0.0, 0.0, 1.0, 1.0, 1.0, 0.0, \"hills\"],\n",
    "        [0.0, 0.0, 0.0, 0.0, 0.0, 0.0, 0.0, 1.0, 0.0, 0.0, 1.0, 1.0, 0.0, 1.0, 1.0, 1.0, \"hills\"]\n",
    "    ],\n",
    "    \"swamp\": [\n",
    "        [0.0, 0.0, 0.0, 0.0, 0.0, 0.0, 0.0, 0.0, 1.0, 0.0, 1.0, 0.0, 1.0, 1.0, 1.0, 1.0, \"swamp\"],\n",
    "        [0.0, 0.0, 0.0, 0.0, 0.0, 0.0, 0.0, 0.0, 0.0, 1.0, 0.0, 1.0, 1.0, 1.0, 1.0, 1.0, \"swamp\"]        \n",
    "    ]\n",
    "}"
   ]
  },
  {
   "cell_type": "markdown",
   "metadata": {},
   "source": [
    "Let's create a function that allows us to view any of these:"
   ]
  },
  {
   "cell_type": "code",
   "execution_count": 4,
   "metadata": {
    "collapsed": true
   },
   "outputs": [],
   "source": [
    "def view_sensor_image( data):\n",
    "    figure = plt.figure(figsize=(4,4))\n",
    "    axes = figure.add_subplot(1, 1, 1)\n",
    "    pixels = np.array([255 - p * 255 for p in data[:-1]], dtype='uint8')\n",
    "    pixels = pixels.reshape((4, 4))\n",
    "    axes.set_title( \"Left Camera:\" + data[-1])\n",
    "    axes.imshow(pixels, cmap='gray')\n",
    "    plt.show()\n",
    "    plt.close()"
   ]
  },
  {
   "cell_type": "markdown",
   "metadata": {},
   "source": [
    "\"I think that I shall never see a thing so lovely as a tree.\""
   ]
  },
  {
   "cell_type": "code",
   "execution_count": 5,
   "metadata": {
    "collapsed": false
   },
   "outputs": [
    {
     "data": {
      "image/png": "[encoded data removed]",
      "text/plain": [
       "<matplotlib.figure.Figure at 0x10ea3c650>"
      ]
     },
     "metadata": {},
     "output_type": "display_data"
    }
   ],
   "source": [
    "view_sensor_image( clean_data[ \"forest\"][0])"
   ]
  },
  {
   "cell_type": "code",
   "execution_count": 6,
   "metadata": {
    "collapsed": false
   },
   "outputs": [
    {
     "data": {
      "image/png": "[encoded data removed]",
      "text/plain": [
       "<matplotlib.figure.Figure at 0x10ed81f50>"
      ]
     },
     "metadata": {},
     "output_type": "display_data"
    }
   ],
   "source": [
    "view_sensor_image( clean_data[\"swamp\"][0])"
   ]
  },
  {
   "cell_type": "markdown",
   "metadata": {},
   "source": [
    "The data that comes in, however, is noisy. The values are never exactly 0 and 1. In order to mimic this we need a `blur` function.\n",
    "\n",
    "We will assume that noise is normally distributed. For values that should be 0, the noisy values are distributed $N(0.10, 0.05)$. For values should be 1, the noisy values are distributed $N(0.9, 0.10)$."
   ]
  },
  {
   "cell_type": "code",
   "execution_count": 7,
   "metadata": {
    "collapsed": true
   },
   "outputs": [],
   "source": [
    "def blur( data):\n",
    "    def apply_noise( value):\n",
    "        if value < 0.5:\n",
    "            v = random.gauss( 0.10, 0.05)\n",
    "            if v < 0.0:\n",
    "                return 0.0\n",
    "            if v > 0.75:\n",
    "                return 0.75\n",
    "            return v\n",
    "        else:\n",
    "            v = random.gauss( 0.90, 0.10)\n",
    "            if v < 0.25:\n",
    "                return 0.25\n",
    "            if v > 1.00:\n",
    "                return 1.00\n",
    "            return v\n",
    "    noisy_readings = [apply_noise( v) for v in data[0:-1]]\n",
    "    return noisy_readings + [data[-1]]"
   ]
  },
  {
   "cell_type": "markdown",
   "metadata": {},
   "source": [
    "We can see how this affects what the agent *actually* sees."
   ]
  },
  {
   "cell_type": "code",
   "execution_count": 8,
   "metadata": {
    "collapsed": false
   },
   "outputs": [
    {
     "data": {
      "image/png": "[encoded data removed]",
      "text/plain": [
       "<matplotlib.figure.Figure at 0x10ee67790>"
      ]
     },
     "metadata": {},
     "output_type": "display_data"
    }
   ],
   "source": [
    "view_sensor_image( blur( clean_data[\"swamp\"][0]))"
   ]
  },
  {
   "cell_type": "markdown",
   "metadata": {},
   "source": [
    "You are going to want to write four (4) functions:\n",
    "\n",
    "1. `generate_data`\n",
    "2. `learn_model`\n",
    "3. `apply_model`\n",
    "4. `generate_validation_curves`\n",
    "\n",
    "\n",
    "### `generate_data`\n",
    "\n",
    "With the clean examples and the `blur` function, we have an unlimited amount of data for training and testing our classifier, an ANN that determines if a sensor image is hills, swamp, forest or plains.\n",
    "\n",
    "In classification, there is a general problem called the \"unbalanced class problem\". In general, we want our training data to have the same number of classes for each class. This means you should probably generate training data with, say, 100 of each type.\n",
    "\n",
    "But what do we do about the class label with the neural network?\n",
    "\n",
    "In this case, we can do \"one hot\". Instead of `generate_data` outputing a single 0 or 1, it should output a vector of 0's and 1's so that $y$ is now a vector as well as $x$. We can use the first position for hill, the second for swamp, the third for forest and the fourth for plains:\n",
    "\n",
    "```\n",
    "[0, 1, 0, 0]\n",
    "```\n",
    "\n",
    "what am I? swamp.\n",
    "\n",
    "Unlike logistic regression, you should set the *biases* inside the neural network (the implict $x_0$ = 1) because there are going to be lot of them (one for every hidden and output node).\n",
    "\n",
    "`generate_data` now only needs to take how many you want of each class:\n",
    "\n",
    "`generate_data( clean_data, 100)`\n",
    "\n",
    "generates 100 hills, 100 swamp, 100 forest, 100 plains and transforms $y$ into the respective \"one hot\" encoding.\n",
    "\n",
    "### `learn_model`\n",
    "\n",
    "`learn_model` is the function that takes in training data and actually learns the ANN. If you're up to it, you can implement a vectorized version using Numpy but you might start with the loopy version first.\n",
    "\n",
    "*In the lecture, I mentioned that you usually should mean normalize your data but you don't need to do that in this case because the data is already on the range 0-1.*\n",
    "\n",
    "You should add a parameter to indicate how many nodes the hidden layer should have.\n",
    "\n",
    "When verbose is True, you should print out the error so you can see that it is getting smaller.\n",
    "\n",
    "When developing your algorithm, you need to watch the error so you'll set verbose=True to start. You should print it out every iteration and make sure it is declining. You'll have to experiment with both epsilon and alpha; and it doesn't hurt to make alpha adaptive (if the error increases, make alpha = alpha / 10).\n",
    "\n",
    "When you know that your algorithm is working, change your code so that the error is printed out only every 1,000 iterations (it takes a lot of iterations for this problem to converge, depending on your parameter values--start early).\n",
    "\n",
    "`learn_model` returns the neural network. The hidden layer will be one vector of thetas for each hidden node. And the output layer will have its own thetas, one for each output (4 in this case). Return it as a Tuple: (List of List, List of List).\n",
    "\n",
    "### `apply_model`\n",
    "\n",
    "`apply_model` takes the ANN (the model) and either labeled or unlabeled data. If the data is unlabeled, it will return predictions for each observation as a List of Tuples of the inferred value (0 or 1) and the actual probability (so something like (1, 0.73) or (0, 0.19) so you have [(0, 0.30), (1, 0.98), (0, 0.87), (0, 0.12)]. Note that unlike the logistic regression, the threshold for 1 is not 0.5 but which value is largest (0.98 in this case).\n",
    "\n",
    "If the data is labeled, you will return a List of List of Tuples of the actual value (0 or 1) and the predicted value (0 or 1). For a single data point, you'll have the pairs of actual values [(0, 1), (0, 0), (0, 0), (1, 0)] is a misclassification and [(0, 0), (0, 0), (1, 1), (0, 0)] will be a correct classification. Then you have a List of *those*, one for each observation.\n",
    "\n",
    "### `generate_validation_curves`\n",
    "\n",
    "The `generate_validation_curves` is going to be a bit different than the confusion matrix version last week. It should take the information required to plot validation curves over the train and test sets for the specified parameter values.\n",
    "\n",
    "So basically, you have:\n",
    "\n",
    "1. generate training set\n",
    "2. generate test set\n",
    "3. loop over [2, 4, 8]\n",
    "    1. train model and apply to train data, calculate error rate.\n",
    "    2. apply to test data and calculae error rate.\n",
    "    3. plot both curves.\n",
    "\n",
    "The net results should be one plot of 2 curves over 3 parameter values. Please state in a markdown field afterwards which number of hidden nodes had the lowest error rate.\n",
    "\n",
    "**As always when working with Lists or Lists of Lists, be very careful when you are modifying these items in place that this is what you intend (and not to be modifying a copy)**"
   ]
  },
  {
   "cell_type": "markdown",
   "metadata": {},
   "source": [
    "---\n",
    "\n",
    "## Helper Functions"
   ]
  },
  {
   "cell_type": "markdown",
   "metadata": {},
   "source": [
    "&nbsp;\n",
    "\n",
    "**Print HTML Table**\n",
    "\n",
    "This function prints a nicely formated HTML table given a list of lists."
   ]
  },
  {
   "cell_type": "code",
   "execution_count": 9,
   "metadata": {
    "collapsed": true
   },
   "outputs": [],
   "source": [
    "def print_html_table(data):\n",
    "    print_results = []\n",
    "    for row in data:\n",
    "        row_list = []\n",
    "        for x in row:\n",
    "            if type(x) == float:\n",
    "                x = round(x, 2)\n",
    "            row_list.append(x)\n",
    "        print_results.append(row_list)\n",
    "    display(HTML(\n",
    "    '<table><tr>{}</tr></table>'.format(\n",
    "        '</tr><tr>'.join(\n",
    "            '<td>{}</td>'.format('</td><td>'.join(str(_) for _ in row)) for row in print_results)\n",
    "        )\n",
    "     ))"
   ]
  },
  {
   "cell_type": "markdown",
   "metadata": {},
   "source": [
    "&nbsp;\n",
    "\n",
    "**Generate Labeled Data**\n",
    "\n",
    "This function is used in generate_data to generate n data points of each of the different types of data.  For example, if passed n=10, label=\"hills\", and one_hot_index=0, it will generate 10 blurred hills test data examples.  This function is called 4 times, one for each of the different types of data, in the generate_data function."
   ]
  },
  {
   "cell_type": "code",
   "execution_count": 10,
   "metadata": {
    "collapsed": true
   },
   "outputs": [],
   "source": [
    "def generate_labeled_data(data, n, label, one_hot_index, data_out):\n",
    "    y = [0.0, 0.0, 0.0, 0.0]\n",
    "    y[one_hot_index] = 1.0\n",
    "    loop = len(data[label]) - 1\n",
    "\n",
    "    index = 0\n",
    "    for i in range(n):\n",
    "        blurred_data = blur(data[label][index])\n",
    "        blurred_data[-1] = y  # TODO: make sure I don't need to make a deep copy of this\n",
    "        data_out.append(blurred_data)\n",
    "\n",
    "        if index < loop:\n",
    "            index += 1\n",
    "        else:\n",
    "            index = 0"
   ]
  },
  {
   "cell_type": "markdown",
   "metadata": {},
   "source": [
    "&nbsp;\n",
    "\n",
    "**Initialize Network**\n",
    "\n",
    "This function initializes the neural network given the test data, a number of hidden nodes, and a number of output nodes.  It determines the number of thetas for the hidden nodes and output nodes, then sets random values between 0 and 1 for each of the thetas of the hidden nodes and output nodes.  The network is represented as a dictionary, with two keys: 'hidden_node_thetas' and 'output_node_thetas' that each point to a list of lists of thetas. Throughout the execution of this program, various key value pairs get added to the dictionary to represent the neural network."
   ]
  },
  {
   "cell_type": "code",
   "execution_count": 11,
   "metadata": {
    "collapsed": true
   },
   "outputs": [],
   "source": [
    "def initialize_network(data, num_hidden_nodes, num_output_nodes):\n",
    "    num_hidden_node_thetas = len(data[0])\n",
    "    num_output_node_thetas = num_hidden_nodes + 1\n",
    "    network = {'hidden_node_thetas': [], 'output_node_thetas': []}\n",
    "\n",
    "    for i in range(num_hidden_nodes):\n",
    "        hidden_node_thetas = [random.uniform(0, 1) for x in range(num_hidden_node_thetas)]\n",
    "        network['hidden_node_thetas'].append(hidden_node_thetas)\n",
    "\n",
    "    for i in range(num_output_nodes):\n",
    "        output_node_thetas = [random.uniform(0, 1) for x in range(num_output_node_thetas)]\n",
    "        network['output_node_thetas'].append(output_node_thetas)\n",
    "\n",
    "    return network"
   ]
  },
  {
   "cell_type": "markdown",
   "metadata": {},
   "source": [
    "&nbsp;\n",
    "\n",
    "**Dot Product**\n",
    "\n",
    "This function calculates the dot product of a list of thetas and a list of xs.  The dot product of two vectors a and b is a⋅b = a1b1 + a2b2 + a3b3 +...+ anbn.  This is used to calculate y hat.\n",
    " "
   ]
  },
  {
   "cell_type": "code",
   "execution_count": 12,
   "metadata": {
    "collapsed": true
   },
   "outputs": [],
   "source": [
    "def dot_product(thetas, xs):\n",
    "    z = 0.0\n",
    "\n",
    "    for i in range(len(thetas)):\n",
    "        z += thetas[i] * xs[i]\n",
    "\n",
    "    return z"
   ]
  },
  {
   "cell_type": "markdown",
   "metadata": {},
   "source": [
    "&nbsp;\n",
    "\n",
    "**Calculate y hat**\n",
    "\n",
    "This function calculates y hat given a list of thetas and a list of xs.  The formula for y hat is:\n",
    "$$\\hat{y} = \\frac{1}{1+e^{-\\theta_0}}$$"
   ]
  },
  {
   "cell_type": "code",
   "execution_count": 13,
   "metadata": {
    "collapsed": true
   },
   "outputs": [],
   "source": [
    "def calculate_yhat(thetas, xs):\n",
    "    z = dot_product(thetas, xs)\n",
    "    yhat = 1.0 / (1.0 + math.e ** (-z))\n",
    "\n",
    "    return yhat"
   ]
  },
  {
   "cell_type": "markdown",
   "metadata": {},
   "source": [
    "&nbsp;\n",
    "\n",
    "**Add Bias**\n",
    "\n",
    "Given a list, this function adds a bias (1) to the front of the list.  This is used to add biases to the hidden nodes and output nodes in the execution of the neural network."
   ]
  },
  {
   "cell_type": "code",
   "execution_count": 14,
   "metadata": {
    "collapsed": true
   },
   "outputs": [],
   "source": [
    "def add_bias(xs):\n",
    "    xs_with_bias = copy.deepcopy(xs)\n",
    "    xs_with_bias.insert(0, 1.0)\n",
    "\n",
    "    return xs_with_bias"
   ]
  },
  {
   "cell_type": "markdown",
   "metadata": {},
   "source": [
    "&nbsp;\n",
    "\n",
    "**Calculate Hidden Node Outputs**\n",
    "\n",
    "Given the network and a set of input nodes, this function calculates the output of each of the hidden nodes.  The list of outputs is returned and then stored in the network dictionary with key 'hidden_node_outputs'.  First, a bias is added to the input node list, then for each set of hidden node thetas, yhat is calculated with those thetas and the input nodes with bias."
   ]
  },
  {
   "cell_type": "code",
   "execution_count": 15,
   "metadata": {
    "collapsed": true
   },
   "outputs": [],
   "source": [
    "def calculate_hidden_node_outputs(network, input_nodes):\n",
    "    hidden_node_outputs = []\n",
    "    input_nodes_with_bias = add_bias(input_nodes[:len(input_nodes) - 1])\n",
    "\n",
    "    for hidden_node_thetas in network['hidden_node_thetas']:\n",
    "        hidden_node_output = calculate_yhat(hidden_node_thetas, input_nodes_with_bias)\n",
    "        hidden_node_outputs.append(hidden_node_output)\n",
    "\n",
    "    return hidden_node_outputs"
   ]
  },
  {
   "cell_type": "markdown",
   "metadata": {},
   "source": [
    "&nbsp;\n",
    "\n",
    "**Calculate Output Node Outputs**\n",
    "\n",
    "Given the network, this function calculates the output of each of the output nodes.  The list of outputs is returned and then stored in the network dictionary with key 'output_node_outputs'. First, a bias is added to the list of hidden node outputs, then for each set of output node thetas, yhat is calculated with those thetas and the hidden nodes with bias."
   ]
  },
  {
   "cell_type": "code",
   "execution_count": 16,
   "metadata": {
    "collapsed": true
   },
   "outputs": [],
   "source": [
    "def calculate_output_node_outputs(network):\n",
    "    output_node_outputs = []\n",
    "    hidden_node_outputs_with_bias = add_bias(network['hidden_node_outputs'])\n",
    "\n",
    "    for output_node_thetas in network['output_node_thetas']:\n",
    "        output_node_output = calculate_yhat(output_node_thetas, hidden_node_outputs_with_bias)\n",
    "        output_node_outputs.append(output_node_output)\n",
    "\n",
    "    return output_node_outputs"
   ]
  },
  {
   "cell_type": "markdown",
   "metadata": {},
   "source": [
    "&nbsp;\n",
    "\n",
    "**Calculate Delta-O**\n",
    "\n",
    "Given y and yhat, this function calculates delta_o using the formula yhat \\* (1.0 - yhat) \\* (y - yhat)."
   ]
  },
  {
   "cell_type": "code",
   "execution_count": 17,
   "metadata": {
    "collapsed": true
   },
   "outputs": [],
   "source": [
    "def calculate_delta_o(y, yhat):\n",
    "    delta_o = yhat * (1.0 - yhat) * (y - yhat)\n",
    "\n",
    "    return delta_o"
   ]
  },
  {
   "cell_type": "markdown",
   "metadata": {},
   "source": [
    "&nbsp;\n",
    "\n",
    "**Calculate Delta-Os**\n",
    "\n",
    "Given a network and the actual output values of the current point in the data set, this function calculates delta_o.  For each of the actual output values, it gets the corresponding output node outputs (yhats) and uses the calculate_delta_o function on the y and yhat values.  The delta_os are returned and stored in the network dictionary with key 'delta_os'."
   ]
  },
  {
   "cell_type": "code",
   "execution_count": 18,
   "metadata": {
    "collapsed": true
   },
   "outputs": [],
   "source": [
    "def calculate_delta_os(network, ys):\n",
    "    delta_os = []\n",
    "\n",
    "    for i in range(len(ys)):\n",
    "        yhat = network['output_node_outputs'][i]\n",
    "        y = ys[i]\n",
    "\n",
    "        delta_o = calculate_delta_o(y, yhat)\n",
    "        delta_os.append(delta_o)\n",
    "\n",
    "    return delta_os"
   ]
  },
  {
   "cell_type": "markdown",
   "metadata": {},
   "source": [
    "&nbsp;\n",
    "\n",
    "**Calculate Delta-H**\n",
    "\n",
    "Given yhat, thetas, and delta_os, this function calculates delta_o."
   ]
  },
  {
   "cell_type": "code",
   "execution_count": 19,
   "metadata": {
    "collapsed": true
   },
   "outputs": [],
   "source": [
    "def calculate_delta_h(yhat, thetas, delta_os):\n",
    "    delta_h = yhat * (1 - yhat)\n",
    "\n",
    "    summation = 0.0\n",
    "    for i in range(len(thetas)):\n",
    "        theta = thetas[i]\n",
    "        delta_o = delta_os[i]\n",
    "        summation += (theta * delta_o)\n",
    "\n",
    "    delta_h = delta_h * summation\n",
    "\n",
    "    return delta_h"
   ]
  },
  {
   "cell_type": "markdown",
   "metadata": {},
   "source": [
    "&nbsp;\n",
    "\n",
    "**Calculate Delta-Hs**\n",
    "\n",
    "Given the network, this function calculates the delta h values for the network.  It uses the previously calculated delta os, the thetas of the output nodes that it is connected to, and yhat that is the output of each of the hidden nodes.  Each of those parameters are passed to the calculate_delta_h function.  The delta hs are returned and then stored in the network dictionary with key 'delta_hs'."
   ]
  },
  {
   "cell_type": "code",
   "execution_count": 20,
   "metadata": {
    "collapsed": true
   },
   "outputs": [],
   "source": [
    "def calculate_delta_hs(network):\n",
    "    delta_hs = []\n",
    "    delta_os = network['delta_os']\n",
    "\n",
    "    for i in range(len(network['hidden_node_thetas'])):\n",
    "        thetas = []\n",
    "        for output_node_thetas in network['output_node_thetas']:\n",
    "            thetas.append(output_node_thetas[i + 1])\n",
    "\n",
    "        yhat = network['hidden_node_outputs'][i]\n",
    "        delta_h = calculate_delta_h(yhat, thetas, delta_os)\n",
    "        delta_hs.append(delta_h)\n",
    "\n",
    "    return delta_hs"
   ]
  },
  {
   "cell_type": "markdown",
   "metadata": {},
   "source": [
    "&nbsp;\n",
    "\n",
    "**Update Output Node Thetas**\n",
    "\n",
    "Given the network and some alpha, this function updates each of the thetas for the output nodes.  It gets the delta_o for each output node, adds a bias to the hidden node outputs, then for each theta updates that theta with formula theta = theta + alpha * delta_o * hidden_node_y"
   ]
  },
  {
   "cell_type": "code",
   "execution_count": 21,
   "metadata": {
    "collapsed": true
   },
   "outputs": [],
   "source": [
    "def update_output_node_thetas(network, alpha):\n",
    "    for i in range(len(network['output_node_thetas'])):\n",
    "        thetas = network['output_node_thetas'][i]\n",
    "        delta_o = network['delta_os'][i]\n",
    "\n",
    "        hidden_node_outputs_with_bias = add_bias(network['hidden_node_outputs'])\n",
    "        for j in range(len(thetas)):\n",
    "            hidden_node_y = hidden_node_outputs_with_bias[j]\n",
    "            thetas[j] = thetas[j] + alpha * delta_o * hidden_node_y"
   ]
  },
  {
   "cell_type": "markdown",
   "metadata": {},
   "source": [
    "&nbsp;\n",
    "\n",
    "**Update Hidden Node Thetas**\n",
    "\n",
    "Given the network, some alpha, and a set of input nodes, this function udpates all the hidden node thetas of the network.  It adds a bias to the input nodes, then for each set of thetas, gets the corresponding delta_h, and updates each theta with formula theta = theta + alpha * delta_h * xi where xi is the corresponding input node value."
   ]
  },
  {
   "cell_type": "code",
   "execution_count": 22,
   "metadata": {
    "collapsed": true
   },
   "outputs": [],
   "source": [
    "def update_hidden_node_thetas(network, alpha, input_nodes):\n",
    "    input_nodes_with_bias = add_bias(input_nodes[:len(input_nodes) - 1])  # use only input node xs, without the y\n",
    "\n",
    "    for i in range(len(network['hidden_node_thetas'])):\n",
    "        thetas = network['hidden_node_thetas'][i]\n",
    "        delta_h = network['delta_hs'][i]\n",
    "\n",
    "        for j in range(len(thetas)):\n",
    "            xi = input_nodes_with_bias[j]\n",
    "            thetas[j] = thetas[j] + alpha * delta_h * xi"
   ]
  },
  {
   "cell_type": "markdown",
   "metadata": {},
   "source": [
    "&nbsp;\n",
    "\n",
    "**Calculate Individual Error**\n",
    "\n",
    "Given ys and yhats, this function calculates a single error point that is part of a summation of errors used as a stopping point for the learning algorithm.  This is the logistic regression error formula."
   ]
  },
  {
   "cell_type": "code",
   "execution_count": 23,
   "metadata": {
    "collapsed": true
   },
   "outputs": [],
   "source": [
    "def calculate_individual_error(ys, yhats):\n",
    "    error_summation = 0\n",
    "    for i in range(len(ys)):\n",
    "        y = ys[i]\n",
    "        yhat = yhats[i]\n",
    "\n",
    "        if yhat == 0 and (1 - yhat) == 0:\n",
    "            pass\n",
    "\n",
    "        elif yhat == 0:\n",
    "            error_summation += ((1 - y) * math.log(1 - yhat))\n",
    "\n",
    "        elif (1 - yhat) == 0:\n",
    "            error_summation += (y * math.log(yhat))\n",
    "\n",
    "        else:\n",
    "            error_summation += (y * math.log(yhat) + (1 - y) * math.log(1 - yhat))\n",
    "\n",
    "    return error_summation"
   ]
  },
  {
   "cell_type": "markdown",
   "metadata": {},
   "source": [
    "&nbsp;\n",
    "\n",
    "**Calculate Error**\n",
    "\n",
    "Given the input data, the network, and some alpha, this function calculates the error for the network which is used as a stopping point for the learning algorithm.  It does one iteration over the training data, calculates the errors, sums them, then sums over all the data to get the total error of the data set."
   ]
  },
  {
   "cell_type": "code",
   "execution_count": 24,
   "metadata": {
    "collapsed": true
   },
   "outputs": [],
   "source": [
    "def calculate_error(data, network, alpha):\n",
    "    error = 0\n",
    "    test_network = {}\n",
    "    test_network['hidden_node_thetas'] = copy.deepcopy(network['hidden_node_thetas'])\n",
    "    test_network['output_node_thetas'] = copy.deepcopy(network['output_node_thetas'])\n",
    "\n",
    "    for input_nodes in data:\n",
    "        test_network['hidden_node_outputs'] = calculate_hidden_node_outputs(network, input_nodes)\n",
    "        test_network['output_node_outputs'] = calculate_output_node_outputs(network)\n",
    "\n",
    "        ys = input_nodes[-1]\n",
    "        yhats = test_network['output_node_outputs']\n",
    "        \n",
    "        error += calculate_individual_error(ys, yhats)\n",
    "            \n",
    "        test_network['delta_os'] = calculate_delta_os(network, ys)\n",
    "        test_network['delta_hs'] = calculate_delta_hs(test_network)  # TODO check this\n",
    "\n",
    "        update_output_node_thetas(test_network, alpha)\n",
    "        update_hidden_node_thetas(test_network, alpha, input_nodes)\n",
    "\n",
    "    return -1/(error / len(data))"
   ]
  },
  {
   "cell_type": "markdown",
   "metadata": {},
   "source": [
    "&nbsp;\n",
    "\n",
    "**Get Labeled Data Results**\n",
    "\n",
    "This function is used in apply model to get results for labeled data.  Given a list of actual values and predicted values, it creates a List of List of Tuples of the actual value (0 or 1) and the predicted value (0 or 1)."
   ]
  },
  {
   "cell_type": "code",
   "execution_count": 25,
   "metadata": {
    "collapsed": true
   },
   "outputs": [],
   "source": [
    "def get_labeled_data_results(actuals, predictions):\n",
    "    result = []\n",
    "    max_prediction_index = predictions.index(max(predictions))\n",
    "\n",
    "    for i in range(len(predictions)):\n",
    "        actual = actuals[i]\n",
    "        if i != max_prediction_index:\n",
    "            prediction = 0.0\n",
    "            result.append((actual, prediction))\n",
    "\n",
    "        else:\n",
    "            prediction = 1.0\n",
    "            result.append((actual, prediction))\n",
    "\n",
    "    return result"
   ]
  },
  {
   "cell_type": "markdown",
   "metadata": {},
   "source": [
    "&nbsp;\n",
    "\n",
    "**Get Unlabeled Data Results**\n",
    "\n",
    "This function is used in apply model to get results for unlabeled data.  Given a list of output node outputs, it returns predictions as a List of Tuples of the inferred value (0 or 1) and the actual probability."
   ]
  },
  {
   "cell_type": "code",
   "execution_count": 26,
   "metadata": {
    "collapsed": true
   },
   "outputs": [],
   "source": [
    "def get_unlabeled_data_results(predictions):\n",
    "    result = []\n",
    "    max_prediction_index = predictions.index(max(predictions))\n",
    "\n",
    "    for i in range(len(predictions)):\n",
    "        prediction = predictions[i]\n",
    "        if i != max_prediction_index:\n",
    "            result.append((0, 1 - prediction))\n",
    "\n",
    "        else:\n",
    "            result.append((1, prediction))\n",
    "\n",
    "    return result"
   ]
  },
  {
   "cell_type": "markdown",
   "metadata": {},
   "source": [
    "&nbsp;\n",
    "\n",
    "**Calculate Validation Curve Error**\n",
    "\n",
    "Given results from applying the model this function calculates the error rate that will be plotted on the validation curves."
   ]
  },
  {
   "cell_type": "code",
   "execution_count": 27,
   "metadata": {
    "collapsed": true
   },
   "outputs": [],
   "source": [
    "def calculate_validation_curve_error(results):\n",
    "    n = 0.0\n",
    "    errors = 0.0\n",
    "    not_errors = 0.0\n",
    "    for result in results:\n",
    "        for point in results:\n",
    "            error = False\n",
    "            for pair in point:\n",
    "                if pair[0] != pair[1]:\n",
    "                    error = True\n",
    "            if error:\n",
    "                errors += 1.0\n",
    "\n",
    "            else:\n",
    "                not_errors += 1.0\n",
    "            n += 1.0\n",
    "\n",
    "    error_rate = errors / n\n",
    "    return error_rate"
   ]
  },
  {
   "cell_type": "markdown",
   "metadata": {},
   "source": [
    "---\n",
    "\n",
    "\n",
    "## Main Functions"
   ]
  },
  {
   "cell_type": "markdown",
   "metadata": {},
   "source": [
    "Use `generate_data` to generate 10 blurred \"hills\" examples with balanced (same number of) \"non hills\" examples to see that the function is working."
   ]
  },
  {
   "cell_type": "code",
   "execution_count": 28,
   "metadata": {
    "collapsed": false
   },
   "outputs": [
    {
     "data": {
      "text/html": [
       "<table><tr><td>0.08</td><td>0.15</td><td>0.09</td><td>0.19</td><td>0.03</td><td>0.01</td><td>0.91</td><td>0.15</td><td>0.0</td><td>1.0</td><td>0.62</td><td>0.85</td><td>1.0</td><td>0.94</td><td>0.94</td><td>1.0</td><td>[1.0, 0.0, 0.0, 0.0]</td></tr><tr><td>0.11</td><td>0.08</td><td>0.11</td><td>0.12</td><td>0.14</td><td>1.0</td><td>0.13</td><td>0.0</td><td>1.0</td><td>0.85</td><td>0.96</td><td>0.0</td><td>0.92</td><td>1.0</td><td>0.72</td><td>0.88</td><td>[1.0, 0.0, 0.0, 0.0]</td></tr><tr><td>0.13</td><td>0.11</td><td>0.14</td><td>0.07</td><td>0.91</td><td>0.08</td><td>0.11</td><td>0.08</td><td>1.0</td><td>0.87</td><td>0.09</td><td>0.05</td><td>0.79</td><td>0.8</td><td>0.81</td><td>0.06</td><td>[1.0, 0.0, 0.0, 0.0]</td></tr><tr><td>0.1</td><td>0.17</td><td>0.12</td><td>0.13</td><td>0.13</td><td>0.12</td><td>0.18</td><td>0.82</td><td>0.18</td><td>0.14</td><td>1.0</td><td>0.92</td><td>0.08</td><td>0.85</td><td>0.8</td><td>1.0</td><td>[1.0, 0.0, 0.0, 0.0]</td></tr><tr><td>0.13</td><td>0.15</td><td>0.15</td><td>0.1</td><td>0.14</td><td>0.14</td><td>0.92</td><td>0.13</td><td>0.18</td><td>0.72</td><td>0.7</td><td>0.94</td><td>0.87</td><td>0.98</td><td>0.75</td><td>0.88</td><td>[1.0, 0.0, 0.0, 0.0]</td></tr><tr><td>0.18</td><td>0.12</td><td>0.09</td><td>0.08</td><td>0.1</td><td>0.96</td><td>0.0</td><td>0.12</td><td>0.9</td><td>0.97</td><td>0.93</td><td>0.08</td><td>0.8</td><td>0.81</td><td>0.83</td><td>0.79</td><td>[1.0, 0.0, 0.0, 0.0]</td></tr><tr><td>0.11</td><td>0.07</td><td>0.13</td><td>0.09</td><td>0.83</td><td>0.1</td><td>0.09</td><td>0.08</td><td>0.74</td><td>0.86</td><td>0.05</td><td>0.07</td><td>0.97</td><td>0.87</td><td>0.84</td><td>0.04</td><td>[1.0, 0.0, 0.0, 0.0]</td></tr><tr><td>0.03</td><td>0.11</td><td>0.06</td><td>0.1</td><td>0.08</td><td>0.15</td><td>0.1</td><td>1.0</td><td>0.15</td><td>0.12</td><td>0.83</td><td>1.0</td><td>0.11</td><td>0.9</td><td>0.76</td><td>0.89</td><td>[1.0, 0.0, 0.0, 0.0]</td></tr><tr><td>0.08</td><td>0.11</td><td>0.01</td><td>0.08</td><td>0.08</td><td>0.13</td><td>0.99</td><td>0.11</td><td>0.17</td><td>0.94</td><td>0.87</td><td>0.83</td><td>0.77</td><td>0.99</td><td>1.0</td><td>1.0</td><td>[1.0, 0.0, 0.0, 0.0]</td></tr><tr><td>0.1</td><td>0.07</td><td>0.17</td><td>0.2</td><td>0.08</td><td>0.94</td><td>0.17</td><td>0.11</td><td>0.85</td><td>0.84</td><td>0.88</td><td>0.14</td><td>0.92</td><td>0.78</td><td>0.93</td><td>1.0</td><td>[1.0, 0.0, 0.0, 0.0]</td></tr><tr><td>0.25</td><td>0.03</td><td>0.06</td><td>0.09</td><td>0.11</td><td>0.08</td><td>0.1</td><td>0.14</td><td>1.0</td><td>0.15</td><td>0.81</td><td>0.0</td><td>1.0</td><td>1.0</td><td>0.97</td><td>0.7</td><td>[0.0, 1.0, 0.0, 0.0]</td></tr><tr><td>0.11</td><td>0.17</td><td>0.0</td><td>0.01</td><td>0.08</td><td>0.04</td><td>0.13</td><td>0.14</td><td>0.08</td><td>0.87</td><td>0.13</td><td>0.93</td><td>0.86</td><td>1.0</td><td>0.9</td><td>0.75</td><td>[0.0, 1.0, 0.0, 0.0]</td></tr><tr><td>0.08</td><td>0.04</td><td>0.04</td><td>0.13</td><td>0.12</td><td>0.11</td><td>0.13</td><td>0.1</td><td>0.75</td><td>0.07</td><td>0.85</td><td>0.03</td><td>0.8</td><td>1.0</td><td>0.82</td><td>0.84</td><td>[0.0, 1.0, 0.0, 0.0]</td></tr><tr><td>0.16</td><td>0.13</td><td>0.07</td><td>0.06</td><td>0.16</td><td>0.03</td><td>0.08</td><td>0.07</td><td>0.09</td><td>0.88</td><td>0.24</td><td>0.76</td><td>0.75</td><td>0.88</td><td>0.98</td><td>0.87</td><td>[0.0, 1.0, 0.0, 0.0]</td></tr><tr><td>0.12</td><td>0.09</td><td>0.09</td><td>0.11</td><td>0.09</td><td>0.06</td><td>0.07</td><td>0.08</td><td>0.94</td><td>0.12</td><td>0.91</td><td>0.01</td><td>0.92</td><td>0.86</td><td>0.75</td><td>0.92</td><td>[0.0, 1.0, 0.0, 0.0]</td></tr><tr><td>0.11</td><td>0.12</td><td>0.05</td><td>0.08</td><td>0.1</td><td>0.18</td><td>0.07</td><td>0.18</td><td>0.13</td><td>0.89</td><td>0.08</td><td>0.8</td><td>0.85</td><td>0.99</td><td>0.73</td><td>0.85</td><td>[0.0, 1.0, 0.0, 0.0]</td></tr><tr><td>0.1</td><td>0.08</td><td>0.09</td><td>0.22</td><td>0.08</td><td>0.07</td><td>0.08</td><td>0.05</td><td>0.7</td><td>0.03</td><td>0.99</td><td>0.15</td><td>0.82</td><td>0.94</td><td>0.88</td><td>1.0</td><td>[0.0, 1.0, 0.0, 0.0]</td></tr><tr><td>0.13</td><td>0.13</td><td>0.06</td><td>0.08</td><td>0.17</td><td>0.03</td><td>0.18</td><td>0.06</td><td>0.17</td><td>1.0</td><td>0.11</td><td>0.83</td><td>0.88</td><td>0.88</td><td>0.98</td><td>0.88</td><td>[0.0, 1.0, 0.0, 0.0]</td></tr><tr><td>0.01</td><td>0.01</td><td>0.06</td><td>0.0</td><td>0.1</td><td>0.12</td><td>0.05</td><td>0.13</td><td>1.0</td><td>0.1</td><td>0.89</td><td>0.1</td><td>0.86</td><td>0.86</td><td>0.71</td><td>0.82</td><td>[0.0, 1.0, 0.0, 0.0]</td></tr><tr><td>0.12</td><td>0.0</td><td>0.08</td><td>0.07</td><td>0.04</td><td>0.04</td><td>0.14</td><td>0.11</td><td>0.09</td><td>0.85</td><td>0.16</td><td>0.89</td><td>0.98</td><td>0.91</td><td>0.86</td><td>1.0</td><td>[0.0, 1.0, 0.0, 0.0]</td></tr><tr><td>0.13</td><td>0.92</td><td>0.08</td><td>0.07</td><td>0.96</td><td>0.81</td><td>0.9</td><td>0.14</td><td>0.82</td><td>0.88</td><td>0.98</td><td>0.96</td><td>0.13</td><td>0.81</td><td>0.06</td><td>0.08</td><td>[0.0, 0.0, 1.0, 0.0]</td></tr><tr><td>0.09</td><td>0.06</td><td>0.83</td><td>0.0</td><td>0.13</td><td>1.0</td><td>0.92</td><td>0.96</td><td>0.96</td><td>0.86</td><td>0.91</td><td>0.95</td><td>0.19</td><td>0.08</td><td>1.0</td><td>0.13</td><td>[0.0, 0.0, 1.0, 0.0]</td></tr><tr><td>0.88</td><td>0.07</td><td>0.12</td><td>0.11</td><td>0.81</td><td>0.99</td><td>0.04</td><td>0.07</td><td>0.92</td><td>0.93</td><td>0.95</td><td>0.17</td><td>0.95</td><td>0.13</td><td>0.16</td><td>0.14</td><td>[0.0, 0.0, 1.0, 0.0]</td></tr><tr><td>0.14</td><td>0.1</td><td>0.04</td><td>0.8</td><td>0.07</td><td>0.08</td><td>0.87</td><td>0.93</td><td>0.04</td><td>0.75</td><td>0.97</td><td>1.0</td><td>0.14</td><td>0.09</td><td>0.11</td><td>0.82</td><td>[0.0, 0.0, 1.0, 0.0]</td></tr><tr><td>0.01</td><td>0.88</td><td>0.11</td><td>0.14</td><td>0.91</td><td>0.87</td><td>0.92</td><td>0.1</td><td>0.91</td><td>1.0</td><td>0.8</td><td>0.98</td><td>0.15</td><td>0.9</td><td>0.05</td><td>0.11</td><td>[0.0, 0.0, 1.0, 0.0]</td></tr><tr><td>0.14</td><td>0.07</td><td>0.81</td><td>0.07</td><td>0.16</td><td>0.78</td><td>0.87</td><td>0.92</td><td>0.98</td><td>0.81</td><td>0.86</td><td>0.85</td><td>0.05</td><td>0.1</td><td>0.82</td><td>0.12</td><td>[0.0, 0.0, 1.0, 0.0]</td></tr><tr><td>0.86</td><td>0.18</td><td>0.02</td><td>0.15</td><td>0.98</td><td>0.91</td><td>0.12</td><td>0.09</td><td>0.91</td><td>0.96</td><td>0.86</td><td>0.07</td><td>0.91</td><td>0.15</td><td>0.13</td><td>0.12</td><td>[0.0, 0.0, 1.0, 0.0]</td></tr><tr><td>0.12</td><td>0.15</td><td>0.06</td><td>0.83</td><td>0.16</td><td>0.06</td><td>0.74</td><td>0.96</td><td>0.1</td><td>0.67</td><td>0.73</td><td>0.9</td><td>0.04</td><td>0.18</td><td>0.07</td><td>0.84</td><td>[0.0, 0.0, 1.0, 0.0]</td></tr><tr><td>0.08</td><td>0.77</td><td>0.1</td><td>0.11</td><td>0.88</td><td>0.68</td><td>0.9</td><td>0.1</td><td>1.0</td><td>1.0</td><td>0.97</td><td>0.92</td><td>0.09</td><td>0.66</td><td>0.14</td><td>0.05</td><td>[0.0, 0.0, 1.0, 0.0]</td></tr><tr><td>0.11</td><td>0.1</td><td>1.0</td><td>0.14</td><td>0.2</td><td>0.84</td><td>0.88</td><td>0.72</td><td>0.83</td><td>1.0</td><td>0.98</td><td>0.98</td><td>0.11</td><td>0.13</td><td>1.0</td><td>0.15</td><td>[0.0, 0.0, 1.0, 0.0]</td></tr><tr><td>0.14</td><td>0.09</td><td>0.11</td><td>0.07</td><td>0.11</td><td>0.14</td><td>0.11</td><td>0.14</td><td>0.16</td><td>0.09</td><td>0.18</td><td>0.09</td><td>0.93</td><td>0.94</td><td>0.96</td><td>1.0</td><td>[0.0, 0.0, 0.0, 1.0]</td></tr><tr><td>0.16</td><td>0.07</td><td>0.05</td><td>0.16</td><td>0.11</td><td>0.06</td><td>0.04</td><td>0.11</td><td>0.04</td><td>0.25</td><td>0.13</td><td>0.18</td><td>1.0</td><td>0.81</td><td>0.85</td><td>0.95</td><td>[0.0, 0.0, 0.0, 1.0]</td></tr><tr><td>0.06</td><td>0.07</td><td>0.12</td><td>0.03</td><td>0.07</td><td>0.09</td><td>0.1</td><td>0.08</td><td>0.11</td><td>0.06</td><td>0.14</td><td>0.15</td><td>1.0</td><td>0.9</td><td>0.96</td><td>0.94</td><td>[0.0, 0.0, 0.0, 1.0]</td></tr><tr><td>0.07</td><td>0.11</td><td>0.15</td><td>0.08</td><td>0.21</td><td>0.09</td><td>0.1</td><td>0.09</td><td>0.02</td><td>0.1</td><td>0.07</td><td>0.11</td><td>1.0</td><td>0.78</td><td>0.73</td><td>1.0</td><td>[0.0, 0.0, 0.0, 1.0]</td></tr><tr><td>0.06</td><td>0.12</td><td>0.15</td><td>0.08</td><td>0.12</td><td>0.16</td><td>0.17</td><td>0.1</td><td>0.15</td><td>0.14</td><td>0.22</td><td>0.07</td><td>0.91</td><td>0.86</td><td>0.98</td><td>0.8</td><td>[0.0, 0.0, 0.0, 1.0]</td></tr><tr><td>0.14</td><td>0.11</td><td>0.01</td><td>0.13</td><td>0.1</td><td>0.05</td><td>0.18</td><td>0.17</td><td>0.06</td><td>0.05</td><td>0.09</td><td>0.04</td><td>0.71</td><td>0.91</td><td>0.87</td><td>0.77</td><td>[0.0, 0.0, 0.0, 1.0]</td></tr><tr><td>0.1</td><td>0.08</td><td>0.17</td><td>0.04</td><td>0.07</td><td>0.04</td><td>0.11</td><td>0.12</td><td>0.16</td><td>0.1</td><td>0.09</td><td>0.14</td><td>0.94</td><td>0.89</td><td>1.0</td><td>0.98</td><td>[0.0, 0.0, 0.0, 1.0]</td></tr><tr><td>0.15</td><td>0.19</td><td>0.12</td><td>0.04</td><td>0.02</td><td>0.09</td><td>0.1</td><td>0.15</td><td>0.03</td><td>0.16</td><td>0.13</td><td>0.14</td><td>0.84</td><td>0.76</td><td>0.98</td><td>0.93</td><td>[0.0, 0.0, 0.0, 1.0]</td></tr><tr><td>0.13</td><td>0.11</td><td>0.15</td><td>0.12</td><td>0.11</td><td>0.13</td><td>0.1</td><td>0.06</td><td>0.07</td><td>0.1</td><td>0.1</td><td>0.19</td><td>0.92</td><td>0.68</td><td>1.0</td><td>0.89</td><td>[0.0, 0.0, 0.0, 1.0]</td></tr><tr><td>0.14</td><td>0.11</td><td>0.14</td><td>0.04</td><td>0.07</td><td>0.08</td><td>0.08</td><td>0.16</td><td>0.1</td><td>0.08</td><td>0.07</td><td>0.1</td><td>0.91</td><td>0.84</td><td>0.95</td><td>0.87</td><td>[0.0, 0.0, 0.0, 1.0]</td></tr></table>"
      ],
      "text/plain": [
       "<IPython.core.display.HTML object>"
      ]
     },
     "metadata": {},
     "output_type": "display_data"
    }
   ],
   "source": [
    "def generate_data(data, n):\n",
    "    data_out = []\n",
    "\n",
    "    generate_labeled_data(data, n, \"hills\", 0, data_out)\n",
    "    generate_labeled_data(data, n, \"swamp\", 1, data_out)\n",
    "    generate_labeled_data(data, n, \"forest\", 2, data_out)\n",
    "    generate_labeled_data(data, n, \"plains\", 3, data_out)\n",
    "\n",
    "    return data_out\n",
    "\n",
    "results = generate_data( clean_data, 10)\n",
    "print_html_table(results)"
   ]
  },
  {
   "cell_type": "markdown",
   "metadata": {},
   "source": [
    "Use `learn_model` to learn a ANN model for classifying sensor images as hills, swamps, plains or forest. Use your `generate_data` function to generate a training set with 100 examples for each. **Set Verbose to True**"
   ]
  },
  {
   "cell_type": "code",
   "execution_count": 29,
   "metadata": {
    "collapsed": false,
    "scrolled": false
   },
   "outputs": [
    {
     "name": "stdout",
     "output_type": "stream",
     "text": [
      "error:  0.185409198028\n",
      "error:  0.140283939409\n"
     ]
    }
   ],
   "source": [
    "def learn_model(data, num_hidden_nodes, verbose=False):\n",
    "    num_output_nodes = 4\n",
    "    network = initialize_network(data, num_hidden_nodes, num_output_nodes)\n",
    "    epsilon = 0.0000001\n",
    "    alpha = 0.01 \n",
    "    previous_error = 0.0\n",
    "    current_error = float('-inf')\n",
    "    iteration = 0\n",
    "\n",
    "    while iteration < 2000 and abs(current_error - previous_error) > epsilon:\n",
    "        iteration += 1\n",
    "        for input_nodes in data:\n",
    "            network['hidden_node_outputs'] = calculate_hidden_node_outputs(network, input_nodes)\n",
    "            network['output_node_outputs'] = calculate_output_node_outputs(network)\n",
    "            ys = input_nodes[-1]\n",
    "            network['delta_os'] = calculate_delta_os(network, ys)\n",
    "            network['delta_hs'] = calculate_delta_hs(network)  # TODO check this\n",
    "            update_output_node_thetas(network, alpha)\n",
    "            update_hidden_node_thetas(network, alpha, input_nodes)\n",
    "\n",
    "        if verbose and iteration % 1000 == 0:\n",
    "            print 'error: ', current_error\n",
    "\n",
    "        previous_error = current_error\n",
    "        current_error = calculate_error(data, network, alpha)\n",
    "\n",
    "    return (network['hidden_node_thetas'], network['output_node_thetas'])\n",
    "\n",
    "\n",
    "train_data = generate_data( clean_data, 100)\n",
    "model = learn_model( train_data, 2, True)"
   ]
  },
  {
   "cell_type": "markdown",
   "metadata": {},
   "source": [
    "Use `generate_data` to generate 100 blurred examples of each terrain and use this as your test data. Print out the first 10 results, one per line."
   ]
  },
  {
   "cell_type": "code",
   "execution_count": 30,
   "metadata": {
    "collapsed": false
   },
   "outputs": [
    {
     "data": {
      "text/html": [
       "<table><tr><td>(1, 0.8229191368798939)</td><td>(0, 0.6602124560868198)</td><td>(0, 0.9630292379894502)</td><td>(0, 0.9999834745728557)</td></tr><tr><td>(1, 0.852119227020676)</td><td>(0, 0.4494304561493072)</td><td>(0, 0.9944810913849106)</td><td>(0, 0.9999423080412306)</td></tr><tr><td>(1, 0.8075452411629097)</td><td>(0, 0.6880365448664769)</td><td>(0, 0.9551187539385213)</td><td>(0, 0.9999844553679436)</td></tr><tr><td>(1, 0.8062533943328248)</td><td>(0, 0.6674768266293218)</td><td>(0, 0.9645601032160652)</td><td>(0, 0.9999812001105143)</td></tr><tr><td>(1, 0.7829445842689303)</td><td>(0, 0.7321325171596513)</td><td>(0, 0.9364926438344491)</td><td>(0, 0.9999864965291412)</td></tr><tr><td>(1, 0.8438722981194693)</td><td>(0, 0.6217369127032693)</td><td>(0, 0.9709250341728851)</td><td>(0, 0.9999825774133146)</td></tr><tr><td>(1, 0.7434876732256591)</td><td>(0, 0.7551270777527644)</td><td>(0, 0.9331901945601968)</td><td>(0, 0.9999843028040473)</td></tr><tr><td>(1, 0.7154421898655017)</td><td>(0, 0.7945614567950315)</td><td>(0, 0.9028724404989925)</td><td>(0, 0.9999868709168954)</td></tr><tr><td>(1, 0.6585311916561959)</td><td>(0, 0.8504052309263483)</td><td>(0, 0.8268928836245577)</td><td>(0, 0.9999899129960471)</td></tr><tr><td>(1, 0.8570488427289558)</td><td>(0, 0.5665379658714594)</td><td>(0, 0.9814071524984489)</td><td>(0, 0.9999776305606026)</td></tr></table>"
      ],
      "text/plain": [
       "<IPython.core.display.HTML object>"
      ]
     },
     "metadata": {},
     "output_type": "display_data"
    }
   ],
   "source": [
    "test_data = generate_data( clean_data, 100)\n",
    "\n",
    "def apply_model(model, test_data, labeled=False):\n",
    "    network = {}\n",
    "    results = []\n",
    "    network['hidden_node_thetas'] = model[0]\n",
    "    network['output_node_thetas'] = model[1]\n",
    "\n",
    "    for input_nodes in test_data:\n",
    "        network['hidden_node_outputs'] = calculate_hidden_node_outputs(network, input_nodes)\n",
    "        network['output_node_outputs'] = calculate_output_node_outputs(network)\n",
    "\n",
    "        if labeled:\n",
    "            actuals = input_nodes[-1]\n",
    "            predictions = network['output_node_outputs']\n",
    "            result = get_labeled_data_results(actuals, predictions)\n",
    "            results.append(result)\n",
    "\n",
    "        else:\n",
    "            predictions = network['output_node_outputs']\n",
    "            result = get_unlabeled_data_results(predictions)\n",
    "            results.append(result)\n",
    "\n",
    "    return results\n",
    "\n",
    "results = apply_model( model, test_data)\n",
    "print_html_table(results[:10])"
   ]
  },
  {
   "cell_type": "markdown",
   "metadata": {},
   "source": [
    "Now that you're pretty sure your algorithm works (the error rate during training is going down, and you can evaluate `apply_model` results for its error rate, learn validation curves:"
   ]
  },
  {
   "cell_type": "code",
   "execution_count": 31,
   "metadata": {
    "collapsed": false
   },
   "outputs": [
    {
     "data": {
      "image/png": "[encoded data removed]",
      "text/plain": [
       "<matplotlib.figure.Figure at 0x10e52c8d0>"
      ]
     },
     "metadata": {},
     "output_type": "display_data"
    }
   ],
   "source": [
    "def generate_validation_curves(clean_data):\n",
    "    train = generate_data(clean_data, 100)\n",
    "    test = generate_data(clean_data, 100)\n",
    "    train_error_values = []\n",
    "    test_error_values = []\n",
    "    hidden_nodes = [2, 4, 8]\n",
    "    for n in hidden_nodes:\n",
    "        model = learn_model(train, n)  # verbose is False now please!\n",
    "        train_results = apply_model(model, train, True)\n",
    "        test_results = apply_model(model, test, True)\n",
    "\n",
    "        train_error_values.append(calculate_validation_curve_error(train_results))\n",
    "        test_error_values.append(calculate_validation_curve_error(test_results))\n",
    "\n",
    "    plt.plot(hidden_nodes, train_error_values)\n",
    "    plt.plot(hidden_nodes, test_error_values)\n",
    "    plt.show()\n",
    "\n",
    "generate_validation_curves(clean_data)"
   ]
  },
  {
   "cell_type": "markdown",
   "metadata": {},
   "source": [
    "which number of hidden nodes is best? **8**"
   ]
  }
 ],
 "metadata": {
  "kernelspec": {
   "display_name": "Python 2",
   "language": "python",
   "name": "python2"
  },
  "language_info": {
   "codemirror_mode": {
    "name": "ipython",
    "version": 2
   },
   "file_extension": ".py",
   "mimetype": "text/x-python",
   "name": "python",
   "nbconvert_exporter": "python",
   "pygments_lexer": "ipython2",
   "version": "2.7.13"
  }
 },
 "nbformat": 4,
 "nbformat_minor": 1
}
